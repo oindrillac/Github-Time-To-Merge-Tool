{
 "cells": [
  {
   "cell_type": "markdown",
   "id": "6a8d0182",
   "metadata": {
    "tags": []
   },
   "source": [
    "# Feature engineering on extracted Pull Requests data\n",
    "\n",
    "\n",
    "## What we did previously\n",
    "\n",
    "In the previous step, we collected data from a Github repository of choice and store them on S3 storage\n",
    "\n",
    "## In this step\n",
    "\n",
    "In this notebook we will walk through how to start analyzing the PR data collected from a Github repository.\n",
    "\n",
    "We explore the various fields in the PR dataset and the features that we can derive from them in order to frame an a Machine Learning where we predict the time taken to merge a PR."
   ]
  },
  {
   "cell_type": "code",
   "execution_count": 1,
   "id": "dfe11a56",
   "metadata": {
    "execution": {
     "iopub.execute_input": "2022-11-18T20:10:05.958920Z",
     "iopub.status.busy": "2022-11-18T20:10:05.958510Z",
     "iopub.status.idle": "2022-11-18T20:10:07.268496Z",
     "shell.execute_reply": "2022-11-18T20:10:07.267961Z"
    }
   },
   "outputs": [],
   "source": [
    "import os\n",
    "import re\n",
    "import gzip\n",
    "import json\n",
    "import boto3\n",
    "import pathlib\n",
    "import datetime\n",
    "from tqdm import tqdm\n",
    "from io import BytesIO\n",
    "from pathlib import Path\n",
    "from functools import partial\n",
    "from collections import Counter\n",
    "from github import Github\n",
    "\n",
    "import numpy as np\n",
    "import pandas as pd\n",
    "\n",
    "import matplotlib.pyplot as plt\n",
    "import seaborn as sns\n",
    "from wordcloud import STOPWORDS\n",
    "\n",
    "from sklearn.feature_selection import SelectKBest\n",
    "from sklearn.feature_selection import chi2\n",
    "from sklearn.feature_selection import mutual_info_classif, f_classif\n",
    "\n",
    "from dotenv import load_dotenv, find_dotenv\n",
    "import ceph_comm"
   ]
  },
  {
   "cell_type": "code",
   "execution_count": 2,
   "id": "9476e951",
   "metadata": {
    "execution": {
     "iopub.execute_input": "2022-11-18T20:10:07.271060Z",
     "iopub.status.busy": "2022-11-18T20:10:07.270793Z",
     "iopub.status.idle": "2022-11-18T20:10:07.280329Z",
     "shell.execute_reply": "2022-11-18T20:10:07.279875Z"
    }
   },
   "outputs": [
    {
     "data": {
      "text/plain": [
       "True"
      ]
     },
     "execution_count": 2,
     "metadata": {},
     "output_type": "execute_result"
    }
   ],
   "source": [
    "sns.set(rc={\"figure.figsize\": (20, 10)})\n",
    "load_dotenv(find_dotenv(), override=True)"
   ]
  },
  {
   "cell_type": "code",
   "execution_count": 3,
   "id": "9bc3a2c6",
   "metadata": {
    "execution": {
     "iopub.execute_input": "2022-11-18T20:10:07.282413Z",
     "iopub.status.busy": "2022-11-18T20:10:07.282052Z",
     "iopub.status.idle": "2022-11-18T20:10:07.286119Z",
     "shell.execute_reply": "2022-11-18T20:10:07.285690Z"
    }
   },
   "outputs": [],
   "source": [
    "## CEPH Bucket variables\n",
    "## Create a .env file on your local with the correct configs,\n",
    "\n",
    "ORG = os.getenv(\"GITHUB_ORG\")\n",
    "REPO = os.getenv(\"GITHUB_REPO\")\n",
    "\n",
    "## S3 bucket credentials\n",
    "s3_endpoint_url = os.getenv(\"S3_ENDPOINT_URL\")\n",
    "s3_access_key = os.getenv(\"S3_ACCESS_KEY\")\n",
    "s3_secret_key = os.getenv(\"S3_SECRET_KEY\")\n",
    "s3_bucket = os.getenv(\"S3_BUCKET\")\n",
    "\n",
    "REMOTE = os.getenv(\"REMOTE\")\n",
    "\n",
    "s3_input_data_path = os.getenv(\"CEPH_BUCKET_PREFIX\")\n",
    "\n",
    "RAW_DATA_PATH = os.path.join(s3_input_data_path, ORG, REPO)\n",
    "TOKEN = os.getenv(\"GITHUB_ACCESS_TOKEN\")"
   ]
  },
  {
   "cell_type": "code",
   "execution_count": 4,
   "id": "38f32d2b-22dc-419b-b76a-ce41e35ef58e",
   "metadata": {
    "execution": {
     "iopub.execute_input": "2022-11-18T20:10:07.288196Z",
     "iopub.status.busy": "2022-11-18T20:10:07.287835Z",
     "iopub.status.idle": "2022-11-18T20:10:24.969781Z",
     "shell.execute_reply": "2022-11-18T20:10:24.969233Z"
    }
   },
   "outputs": [],
   "source": [
    "# Collect PRs and combine them\n",
    "cc = ceph_comm.CephCommunication(s3_endpoint_url, s3_access_key, s3_secret_key, s3_bucket)\n",
    "\n",
    "# how many files of the given extension were changed in PR\n",
    "CLOSED_PR_IDS_FILENAME = os.path.join(ORG + REPO + \"CLOSED_PR_IDS.parquet\")\n",
    "CLOSED_PRS_KEY = os.path.join(s3_input_data_path, ORG, REPO, \"closed_prs\")\n",
    "PR_ID_DF = cc.read_from_ceph(CLOSED_PRS_KEY, CLOSED_PR_IDS_FILENAME)\n",
    "pr_ids = list(PR_ID_DF['closed_pr_ids'])\n",
    "\n",
    "REPO_PATH = os.path.join(s3_input_data_path, ORG, REPO)\n",
    "\n",
    "appended_prs = []\n",
    "for pr_id in pr_ids:\n",
    "    PR_PATH = os.path.join(REPO_PATH, \"PRs/\"+ str(pr_id) + \".json\")\n",
    "    pr = cc.get_json_from_ceph(PR_PATH)\n",
    "    appended_prs.append(pr)\n",
    "\n",
    "appended_prs = pd.concat(appended_prs)"
   ]
  },
  {
   "cell_type": "code",
   "execution_count": 5,
   "id": "115b9040-4b29-4445-b34a-3c1183707464",
   "metadata": {
    "execution": {
     "iopub.execute_input": "2022-11-18T20:10:24.972280Z",
     "iopub.status.busy": "2022-11-18T20:10:24.972112Z",
     "iopub.status.idle": "2022-11-18T20:10:24.989233Z",
     "shell.execute_reply": "2022-11-18T20:10:24.988745Z"
    }
   },
   "outputs": [
    {
     "data": {
      "text/html": [
       "<div>\n",
       "<style scoped>\n",
       "    .dataframe tbody tr th:only-of-type {\n",
       "        vertical-align: middle;\n",
       "    }\n",
       "\n",
       "    .dataframe tbody tr th {\n",
       "        vertical-align: top;\n",
       "    }\n",
       "\n",
       "    .dataframe thead th {\n",
       "        text-align: right;\n",
       "    }\n",
       "</style>\n",
       "<table border=\"1\" class=\"dataframe\">\n",
       "  <thead>\n",
       "    <tr style=\"text-align: right;\">\n",
       "      <th></th>\n",
       "      <th>title</th>\n",
       "      <th>body</th>\n",
       "      <th>size</th>\n",
       "      <th>created_by</th>\n",
       "      <th>created_at</th>\n",
       "      <th>closed_at</th>\n",
       "      <th>closed_by</th>\n",
       "      <th>merged_at</th>\n",
       "      <th>merged_by</th>\n",
       "      <th>commits_number</th>\n",
       "      <th>changed_files_number</th>\n",
       "      <th>interactions</th>\n",
       "      <th>reviews</th>\n",
       "      <th>labels</th>\n",
       "      <th>commits</th>\n",
       "      <th>changed_files</th>\n",
       "      <th>first_review_at</th>\n",
       "      <th>first_approve_at</th>\n",
       "    </tr>\n",
       "  </thead>\n",
       "  <tbody>\n",
       "    <tr>\n",
       "      <th>0</th>\n",
       "      <td>Add slides for workshop at DevConf US 22</td>\n",
       "      <td>## Related Issues and Dependencies\\r\\n\\r\\n…\\r\\...</td>\n",
       "      <td>XS</td>\n",
       "      <td>aakankshaduggal</td>\n",
       "      <td>1660679517</td>\n",
       "      <td>1660685334</td>\n",
       "      <td>sesheta</td>\n",
       "      <td>1660685334</td>\n",
       "      <td>sesheta</td>\n",
       "      <td>1</td>\n",
       "      <td>3</td>\n",
       "      <td>{'oindrillac': 16, 'aakankshaduggal': 9, 'sesh...</td>\n",
       "      <td>{'1074771058': {'author': 'oindrillac', 'words...</td>\n",
       "      <td>[approved, size/XS, lgtm]</td>\n",
       "      <td>[8d2809ea22f0f6118e29b7b381a014489818d3ac]</td>\n",
       "      <td>[docs/intro_to_workshop_devconf22.pdf, docs/wo...</td>\n",
       "      <td>1660683600</td>\n",
       "      <td>1660683600</td>\n",
       "    </tr>\n",
       "    <tr>\n",
       "      <th>0</th>\n",
       "      <td>Added new bitwarden link</td>\n",
       "      <td>None</td>\n",
       "      <td>XS</td>\n",
       "      <td>suppathak</td>\n",
       "      <td>1660054828</td>\n",
       "      <td>1660055162</td>\n",
       "      <td>aakankshaduggal</td>\n",
       "      <td>1660055162</td>\n",
       "      <td>aakankshaduggal</td>\n",
       "      <td>1</td>\n",
       "      <td>1</td>\n",
       "      <td>{'aakankshaduggal': 11, 'sesheta': 65}</td>\n",
       "      <td>{'1066819103': {'author': 'aakankshaduggal', '...</td>\n",
       "      <td>[approved, size/XS, lgtm]</td>\n",
       "      <td>[7fd8e441ec8fd8a533dcdfbb6a1affbfd4c515dd]</td>\n",
       "      <td>[docs/workshop/onboarding.md]</td>\n",
       "      <td>1660054928</td>\n",
       "      <td>1660054928</td>\n",
       "    </tr>\n",
       "    <tr>\n",
       "      <th>0</th>\n",
       "      <td>Added workshop introduction slides</td>\n",
       "      <td>## Related Issues\\r\\n\\r\\nCloses #511</td>\n",
       "      <td>XS</td>\n",
       "      <td>suppathak</td>\n",
       "      <td>1659357267</td>\n",
       "      <td>1659359101</td>\n",
       "      <td>sesheta</td>\n",
       "      <td>1659359101</td>\n",
       "      <td>sesheta</td>\n",
       "      <td>1</td>\n",
       "      <td>1</td>\n",
       "      <td>{'sesheta': 65}</td>\n",
       "      <td>{'1057235912': {'author': 'aakankshaduggal', '...</td>\n",
       "      <td>[approved, size/XS, lgtm]</td>\n",
       "      <td>[75d3f000fb51006fb3686c5ea7b45e6aae363a86]</td>\n",
       "      <td>[docs/workshop/Workshop_Introduction.pdf]</td>\n",
       "      <td>1659357910</td>\n",
       "      <td>None</td>\n",
       "    </tr>\n",
       "    <tr>\n",
       "      <th>0</th>\n",
       "      <td>Add slides for Openinfra foundation collaboration</td>\n",
       "      <td>## Related Issues and Dependencies\\r\\n\\r\\n#575...</td>\n",
       "      <td>XS</td>\n",
       "      <td>aakankshaduggal</td>\n",
       "      <td>1659038947</td>\n",
       "      <td>1659100551</td>\n",
       "      <td>sesheta</td>\n",
       "      <td>1659100551</td>\n",
       "      <td>sesheta</td>\n",
       "      <td>1</td>\n",
       "      <td>1</td>\n",
       "      <td>{'MichaelClifford': 7, 'sesheta': 65}</td>\n",
       "      <td>{}</td>\n",
       "      <td>[approved, size/XS]</td>\n",
       "      <td>[9626b65ef55b636b2cb2f73cfbec1314beae3373]</td>\n",
       "      <td>[docs/aiops_for_community_health.pdf]</td>\n",
       "      <td>None</td>\n",
       "      <td>None</td>\n",
       "    </tr>\n",
       "    <tr>\n",
       "      <th>0</th>\n",
       "      <td>added parameter to pipeline</td>\n",
       "      <td>Added `S3_ENDPOINT_URL` parameter to first ste...</td>\n",
       "      <td>XS</td>\n",
       "      <td>oindrillac</td>\n",
       "      <td>1658991194</td>\n",
       "      <td>1659008574</td>\n",
       "      <td>sesheta</td>\n",
       "      <td>1659008574</td>\n",
       "      <td>sesheta</td>\n",
       "      <td>1</td>\n",
       "      <td>1</td>\n",
       "      <td>{'sesheta': 65}</td>\n",
       "      <td>{'1053927212': {'author': 'aakankshaduggal', '...</td>\n",
       "      <td>[approved, size/XS, lgtm]</td>\n",
       "      <td>[487b4e3800e5ae65b08ec230e8be0e4ea7b14c20]</td>\n",
       "      <td>[notebooks/time-to-merge-prediction/workshop/e...</td>\n",
       "      <td>1659007763</td>\n",
       "      <td>None</td>\n",
       "    </tr>\n",
       "  </tbody>\n",
       "</table>\n",
       "</div>"
      ],
      "text/plain": [
       "                                               title  \\\n",
       "0           Add slides for workshop at DevConf US 22   \n",
       "0                           Added new bitwarden link   \n",
       "0                 Added workshop introduction slides   \n",
       "0  Add slides for Openinfra foundation collaboration   \n",
       "0                        added parameter to pipeline   \n",
       "\n",
       "                                                body size       created_by  \\\n",
       "0  ## Related Issues and Dependencies\\r\\n\\r\\n…\\r\\...   XS  aakankshaduggal   \n",
       "0                                               None   XS        suppathak   \n",
       "0              ## Related Issues\\r\\n\\r\\nCloses #511    XS        suppathak   \n",
       "0  ## Related Issues and Dependencies\\r\\n\\r\\n#575...   XS  aakankshaduggal   \n",
       "0  Added `S3_ENDPOINT_URL` parameter to first ste...   XS       oindrillac   \n",
       "\n",
       "   created_at   closed_at        closed_by   merged_at        merged_by  \\\n",
       "0  1660679517  1660685334          sesheta  1660685334          sesheta   \n",
       "0  1660054828  1660055162  aakankshaduggal  1660055162  aakankshaduggal   \n",
       "0  1659357267  1659359101          sesheta  1659359101          sesheta   \n",
       "0  1659038947  1659100551          sesheta  1659100551          sesheta   \n",
       "0  1658991194  1659008574          sesheta  1659008574          sesheta   \n",
       "\n",
       "   commits_number  changed_files_number  \\\n",
       "0               1                     3   \n",
       "0               1                     1   \n",
       "0               1                     1   \n",
       "0               1                     1   \n",
       "0               1                     1   \n",
       "\n",
       "                                        interactions  \\\n",
       "0  {'oindrillac': 16, 'aakankshaduggal': 9, 'sesh...   \n",
       "0             {'aakankshaduggal': 11, 'sesheta': 65}   \n",
       "0                                    {'sesheta': 65}   \n",
       "0              {'MichaelClifford': 7, 'sesheta': 65}   \n",
       "0                                    {'sesheta': 65}   \n",
       "\n",
       "                                             reviews  \\\n",
       "0  {'1074771058': {'author': 'oindrillac', 'words...   \n",
       "0  {'1066819103': {'author': 'aakankshaduggal', '...   \n",
       "0  {'1057235912': {'author': 'aakankshaduggal', '...   \n",
       "0                                                 {}   \n",
       "0  {'1053927212': {'author': 'aakankshaduggal', '...   \n",
       "\n",
       "                      labels                                     commits  \\\n",
       "0  [approved, size/XS, lgtm]  [8d2809ea22f0f6118e29b7b381a014489818d3ac]   \n",
       "0  [approved, size/XS, lgtm]  [7fd8e441ec8fd8a533dcdfbb6a1affbfd4c515dd]   \n",
       "0  [approved, size/XS, lgtm]  [75d3f000fb51006fb3686c5ea7b45e6aae363a86]   \n",
       "0        [approved, size/XS]  [9626b65ef55b636b2cb2f73cfbec1314beae3373]   \n",
       "0  [approved, size/XS, lgtm]  [487b4e3800e5ae65b08ec230e8be0e4ea7b14c20]   \n",
       "\n",
       "                                       changed_files first_review_at  \\\n",
       "0  [docs/intro_to_workshop_devconf22.pdf, docs/wo...      1660683600   \n",
       "0                      [docs/workshop/onboarding.md]      1660054928   \n",
       "0          [docs/workshop/Workshop_Introduction.pdf]      1659357910   \n",
       "0              [docs/aiops_for_community_health.pdf]            None   \n",
       "0  [notebooks/time-to-merge-prediction/workshop/e...      1659007763   \n",
       "\n",
       "  first_approve_at  \n",
       "0       1660683600  \n",
       "0       1660054928  \n",
       "0             None  \n",
       "0             None  \n",
       "0             None  "
      ]
     },
     "execution_count": 5,
     "metadata": {},
     "output_type": "execute_result"
    }
   ],
   "source": [
    "appended_prs.head()"
   ]
  },
  {
   "cell_type": "code",
   "execution_count": 6,
   "id": "d02d7136-2bb4-4ec8-903c-315afb22c524",
   "metadata": {
    "execution": {
     "iopub.execute_input": "2022-11-18T20:10:24.991393Z",
     "iopub.status.busy": "2022-11-18T20:10:24.991237Z",
     "iopub.status.idle": "2022-11-18T20:10:25.373731Z",
     "shell.execute_reply": "2022-11-18T20:10:25.373214Z"
    }
   },
   "outputs": [
    {
     "data": {
      "text/plain": [
       "{'ResponseMetadata': {'RequestId': 'lamxr9ts-7qr0en-mr3',\n",
       "  'HostId': 'lamxr9ts-7qr0en-mr3',\n",
       "  'HTTPStatusCode': 200,\n",
       "  'HTTPHeaders': {'x-amz-request-id': 'lamxr9ts-7qr0en-mr3',\n",
       "   'x-amz-id-2': 'lamxr9ts-7qr0en-mr3',\n",
       "   'access-control-allow-origin': '*',\n",
       "   'access-control-allow-credentials': 'true',\n",
       "   'access-control-allow-methods': 'GET,POST,PUT,DELETE,OPTIONS',\n",
       "   'access-control-allow-headers': 'Content-Type,Content-MD5,Authorization,X-Amz-User-Agent,X-Amz-Date,ETag,X-Amz-Content-Sha256',\n",
       "   'access-control-expose-headers': 'ETag,X-Amz-Version-Id',\n",
       "   'etag': '\"6ba47dce636f84399bc487a224bfd5d5\"',\n",
       "   'date': 'Fri, 18 Nov 2022 20:10:25 GMT',\n",
       "   'keep-alive': 'timeout=5',\n",
       "   'content-length': '0',\n",
       "   'set-cookie': '1a4aa612fe797ac8466d7ee00e5520d5=a26d7dd2bae782e2ad6181b7887b5ff1; path=/; HttpOnly; Secure; SameSite=None'},\n",
       "  'RetryAttempts': 0},\n",
       " 'ETag': '\"6ba47dce636f84399bc487a224bfd5d5\"'}"
      ]
     },
     "execution_count": 6,
     "metadata": {},
     "output_type": "execute_result"
    }
   ],
   "source": [
    "cc.upload_to_ceph_as_json(appended_prs, RAW_DATA_PATH, \"PullRequest.json\")"
   ]
  },
  {
   "cell_type": "code",
   "execution_count": 7,
   "id": "4d1b0d9f",
   "metadata": {
    "execution": {
     "iopub.execute_input": "2022-11-18T20:10:25.375933Z",
     "iopub.status.busy": "2022-11-18T20:10:25.375766Z",
     "iopub.status.idle": "2022-11-18T20:10:25.662545Z",
     "shell.execute_reply": "2022-11-18T20:10:25.661981Z"
    }
   },
   "outputs": [
    {
     "name": "stdout",
     "output_type": "stream",
     "text": [
      "getting dataset from ceph\n"
     ]
    }
   ],
   "source": [
    "print(\"getting dataset from ceph\")\n",
    "pr_df = cc.get_json_from_ceph(os.path.join(RAW_DATA_PATH, \"PullRequest.json\"))"
   ]
  },
  {
   "cell_type": "code",
   "execution_count": 8,
   "id": "70c24185-4fbf-4287-98fd-c8d721ef71fa",
   "metadata": {
    "execution": {
     "iopub.execute_input": "2022-11-18T20:10:25.665275Z",
     "iopub.status.busy": "2022-11-18T20:10:25.664875Z",
     "iopub.status.idle": "2022-11-18T20:10:25.683735Z",
     "shell.execute_reply": "2022-11-18T20:10:25.683266Z"
    }
   },
   "outputs": [
    {
     "data": {
      "text/html": [
       "<div>\n",
       "<style scoped>\n",
       "    .dataframe tbody tr th:only-of-type {\n",
       "        vertical-align: middle;\n",
       "    }\n",
       "\n",
       "    .dataframe tbody tr th {\n",
       "        vertical-align: top;\n",
       "    }\n",
       "\n",
       "    .dataframe thead th {\n",
       "        text-align: right;\n",
       "    }\n",
       "</style>\n",
       "<table border=\"1\" class=\"dataframe\">\n",
       "  <thead>\n",
       "    <tr style=\"text-align: right;\">\n",
       "      <th></th>\n",
       "      <th>title</th>\n",
       "      <th>body</th>\n",
       "      <th>size</th>\n",
       "      <th>created_by</th>\n",
       "      <th>created_at</th>\n",
       "      <th>closed_at</th>\n",
       "      <th>closed_by</th>\n",
       "      <th>merged_at</th>\n",
       "      <th>merged_by</th>\n",
       "      <th>commits_number</th>\n",
       "      <th>changed_files_number</th>\n",
       "      <th>interactions</th>\n",
       "      <th>reviews</th>\n",
       "      <th>labels</th>\n",
       "      <th>commits</th>\n",
       "      <th>changed_files</th>\n",
       "      <th>first_review_at</th>\n",
       "      <th>first_approve_at</th>\n",
       "    </tr>\n",
       "  </thead>\n",
       "  <tbody>\n",
       "    <tr>\n",
       "      <th>0</th>\n",
       "      <td>Add slides for workshop at DevConf US 22</td>\n",
       "      <td>## Related Issues and Dependencies\\r\\n\\r\\n…\\r\\...</td>\n",
       "      <td>XS</td>\n",
       "      <td>aakankshaduggal</td>\n",
       "      <td>1660679517</td>\n",
       "      <td>1660685334</td>\n",
       "      <td>sesheta</td>\n",
       "      <td>1.660685e+09</td>\n",
       "      <td>sesheta</td>\n",
       "      <td>1</td>\n",
       "      <td>3</td>\n",
       "      <td>{'oindrillac': 16, 'aakankshaduggal': 9, 'sesh...</td>\n",
       "      <td>{'1074771058': {'author': 'oindrillac', 'words...</td>\n",
       "      <td>[approved, size/XS, lgtm]</td>\n",
       "      <td>[8d2809ea22f0f6118e29b7b381a014489818d3ac]</td>\n",
       "      <td>[docs/intro_to_workshop_devconf22.pdf, docs/wo...</td>\n",
       "      <td>1.660684e+09</td>\n",
       "      <td>1.660684e+09</td>\n",
       "    </tr>\n",
       "    <tr>\n",
       "      <th>1</th>\n",
       "      <td>Added new bitwarden link</td>\n",
       "      <td>None</td>\n",
       "      <td>XS</td>\n",
       "      <td>suppathak</td>\n",
       "      <td>1660054828</td>\n",
       "      <td>1660055162</td>\n",
       "      <td>aakankshaduggal</td>\n",
       "      <td>1.660055e+09</td>\n",
       "      <td>aakankshaduggal</td>\n",
       "      <td>1</td>\n",
       "      <td>1</td>\n",
       "      <td>{'aakankshaduggal': 11, 'sesheta': 65}</td>\n",
       "      <td>{'1066819103': {'author': 'aakankshaduggal', '...</td>\n",
       "      <td>[approved, size/XS, lgtm]</td>\n",
       "      <td>[7fd8e441ec8fd8a533dcdfbb6a1affbfd4c515dd]</td>\n",
       "      <td>[docs/workshop/onboarding.md]</td>\n",
       "      <td>1.660055e+09</td>\n",
       "      <td>1.660055e+09</td>\n",
       "    </tr>\n",
       "    <tr>\n",
       "      <th>2</th>\n",
       "      <td>Added workshop introduction slides</td>\n",
       "      <td>## Related Issues\\r\\n\\r\\nCloses #511</td>\n",
       "      <td>XS</td>\n",
       "      <td>suppathak</td>\n",
       "      <td>1659357267</td>\n",
       "      <td>1659359101</td>\n",
       "      <td>sesheta</td>\n",
       "      <td>1.659359e+09</td>\n",
       "      <td>sesheta</td>\n",
       "      <td>1</td>\n",
       "      <td>1</td>\n",
       "      <td>{'sesheta': 65}</td>\n",
       "      <td>{'1057235912': {'author': 'aakankshaduggal', '...</td>\n",
       "      <td>[approved, size/XS, lgtm]</td>\n",
       "      <td>[75d3f000fb51006fb3686c5ea7b45e6aae363a86]</td>\n",
       "      <td>[docs/workshop/Workshop_Introduction.pdf]</td>\n",
       "      <td>1.659358e+09</td>\n",
       "      <td>NaN</td>\n",
       "    </tr>\n",
       "    <tr>\n",
       "      <th>3</th>\n",
       "      <td>Add slides for Openinfra foundation collaboration</td>\n",
       "      <td>## Related Issues and Dependencies\\r\\n\\r\\n#575...</td>\n",
       "      <td>XS</td>\n",
       "      <td>aakankshaduggal</td>\n",
       "      <td>1659038947</td>\n",
       "      <td>1659100551</td>\n",
       "      <td>sesheta</td>\n",
       "      <td>1.659101e+09</td>\n",
       "      <td>sesheta</td>\n",
       "      <td>1</td>\n",
       "      <td>1</td>\n",
       "      <td>{'MichaelClifford': 7, 'sesheta': 65}</td>\n",
       "      <td>{}</td>\n",
       "      <td>[approved, size/XS]</td>\n",
       "      <td>[9626b65ef55b636b2cb2f73cfbec1314beae3373]</td>\n",
       "      <td>[docs/aiops_for_community_health.pdf]</td>\n",
       "      <td>NaN</td>\n",
       "      <td>NaN</td>\n",
       "    </tr>\n",
       "    <tr>\n",
       "      <th>4</th>\n",
       "      <td>added parameter to pipeline</td>\n",
       "      <td>Added `S3_ENDPOINT_URL` parameter to first ste...</td>\n",
       "      <td>XS</td>\n",
       "      <td>oindrillac</td>\n",
       "      <td>1658991194</td>\n",
       "      <td>1659008574</td>\n",
       "      <td>sesheta</td>\n",
       "      <td>1.659009e+09</td>\n",
       "      <td>sesheta</td>\n",
       "      <td>1</td>\n",
       "      <td>1</td>\n",
       "      <td>{'sesheta': 65}</td>\n",
       "      <td>{'1053927212': {'author': 'aakankshaduggal', '...</td>\n",
       "      <td>[approved, size/XS, lgtm]</td>\n",
       "      <td>[487b4e3800e5ae65b08ec230e8be0e4ea7b14c20]</td>\n",
       "      <td>[notebooks/time-to-merge-prediction/workshop/e...</td>\n",
       "      <td>1.659008e+09</td>\n",
       "      <td>NaN</td>\n",
       "    </tr>\n",
       "  </tbody>\n",
       "</table>\n",
       "</div>"
      ],
      "text/plain": [
       "                                               title  \\\n",
       "0           Add slides for workshop at DevConf US 22   \n",
       "1                           Added new bitwarden link   \n",
       "2                 Added workshop introduction slides   \n",
       "3  Add slides for Openinfra foundation collaboration   \n",
       "4                        added parameter to pipeline   \n",
       "\n",
       "                                                body size       created_by  \\\n",
       "0  ## Related Issues and Dependencies\\r\\n\\r\\n…\\r\\...   XS  aakankshaduggal   \n",
       "1                                               None   XS        suppathak   \n",
       "2              ## Related Issues\\r\\n\\r\\nCloses #511    XS        suppathak   \n",
       "3  ## Related Issues and Dependencies\\r\\n\\r\\n#575...   XS  aakankshaduggal   \n",
       "4  Added `S3_ENDPOINT_URL` parameter to first ste...   XS       oindrillac   \n",
       "\n",
       "   created_at   closed_at        closed_by     merged_at        merged_by  \\\n",
       "0  1660679517  1660685334          sesheta  1.660685e+09          sesheta   \n",
       "1  1660054828  1660055162  aakankshaduggal  1.660055e+09  aakankshaduggal   \n",
       "2  1659357267  1659359101          sesheta  1.659359e+09          sesheta   \n",
       "3  1659038947  1659100551          sesheta  1.659101e+09          sesheta   \n",
       "4  1658991194  1659008574          sesheta  1.659009e+09          sesheta   \n",
       "\n",
       "   commits_number  changed_files_number  \\\n",
       "0               1                     3   \n",
       "1               1                     1   \n",
       "2               1                     1   \n",
       "3               1                     1   \n",
       "4               1                     1   \n",
       "\n",
       "                                        interactions  \\\n",
       "0  {'oindrillac': 16, 'aakankshaduggal': 9, 'sesh...   \n",
       "1             {'aakankshaduggal': 11, 'sesheta': 65}   \n",
       "2                                    {'sesheta': 65}   \n",
       "3              {'MichaelClifford': 7, 'sesheta': 65}   \n",
       "4                                    {'sesheta': 65}   \n",
       "\n",
       "                                             reviews  \\\n",
       "0  {'1074771058': {'author': 'oindrillac', 'words...   \n",
       "1  {'1066819103': {'author': 'aakankshaduggal', '...   \n",
       "2  {'1057235912': {'author': 'aakankshaduggal', '...   \n",
       "3                                                 {}   \n",
       "4  {'1053927212': {'author': 'aakankshaduggal', '...   \n",
       "\n",
       "                      labels                                     commits  \\\n",
       "0  [approved, size/XS, lgtm]  [8d2809ea22f0f6118e29b7b381a014489818d3ac]   \n",
       "1  [approved, size/XS, lgtm]  [7fd8e441ec8fd8a533dcdfbb6a1affbfd4c515dd]   \n",
       "2  [approved, size/XS, lgtm]  [75d3f000fb51006fb3686c5ea7b45e6aae363a86]   \n",
       "3        [approved, size/XS]  [9626b65ef55b636b2cb2f73cfbec1314beae3373]   \n",
       "4  [approved, size/XS, lgtm]  [487b4e3800e5ae65b08ec230e8be0e4ea7b14c20]   \n",
       "\n",
       "                                       changed_files  first_review_at  \\\n",
       "0  [docs/intro_to_workshop_devconf22.pdf, docs/wo...     1.660684e+09   \n",
       "1                      [docs/workshop/onboarding.md]     1.660055e+09   \n",
       "2          [docs/workshop/Workshop_Introduction.pdf]     1.659358e+09   \n",
       "3              [docs/aiops_for_community_health.pdf]              NaN   \n",
       "4  [notebooks/time-to-merge-prediction/workshop/e...     1.659008e+09   \n",
       "\n",
       "   first_approve_at  \n",
       "0      1.660684e+09  \n",
       "1      1.660055e+09  \n",
       "2               NaN  \n",
       "3               NaN  \n",
       "4               NaN  "
      ]
     },
     "execution_count": 8,
     "metadata": {},
     "output_type": "execute_result"
    }
   ],
   "source": [
    "pr_df.head()"
   ]
  },
  {
   "cell_type": "code",
   "execution_count": 9,
   "id": "13dc895b",
   "metadata": {
    "execution": {
     "iopub.execute_input": "2022-11-18T20:10:25.685800Z",
     "iopub.status.busy": "2022-11-18T20:10:25.685645Z",
     "iopub.status.idle": "2022-11-18T20:10:25.690278Z",
     "shell.execute_reply": "2022-11-18T20:10:25.689810Z"
    }
   },
   "outputs": [
    {
     "data": {
      "text/plain": [
       "(245, 18)"
      ]
     },
     "execution_count": 9,
     "metadata": {},
     "output_type": "execute_result"
    }
   ],
   "source": [
    "pr_df.shape"
   ]
  },
  {
   "cell_type": "markdown",
   "id": "c472ffbd",
   "metadata": {},
   "source": [
    "## Feature engineering\n",
    "\n",
    "In the next section we will do some basic feature engineering and correlation analyis on our dataset to see if anything interesting jumps out at us. "
   ]
  },
  {
   "cell_type": "markdown",
   "id": "4ed68d9a",
   "metadata": {},
   "source": [
    "**Time to Merge**\n",
    "\n",
    "We will derive a new feature called `time_to_merge` which will be the difference between the `created_at` and `merged_at` fields. "
   ]
  },
  {
   "cell_type": "code",
   "execution_count": 10,
   "id": "d67035e7",
   "metadata": {
    "execution": {
     "iopub.execute_input": "2022-11-18T20:10:25.692359Z",
     "iopub.status.busy": "2022-11-18T20:10:25.692209Z",
     "iopub.status.idle": "2022-11-18T20:10:25.696310Z",
     "shell.execute_reply": "2022-11-18T20:10:25.695868Z"
    }
   },
   "outputs": [],
   "source": [
    "# derive time_to_merege\n",
    "pr_df[\"time_to_merge\"] = pr_df[\"merged_at\"] - pr_df[\"created_at\"]\n",
    "pr_df[\"time_to_merge\"] = pr_df[\"time_to_merge\"].astype(\"float\")\n",
    "# NOTE: we cant fill NA with 0 because that would imply the PR got merged instantaneously"
   ]
  },
  {
   "cell_type": "code",
   "execution_count": 11,
   "id": "fddf9750-49f5-4997-8280-e94e1e778ad9",
   "metadata": {
    "execution": {
     "iopub.execute_input": "2022-11-18T20:10:25.698584Z",
     "iopub.status.busy": "2022-11-18T20:10:25.698232Z",
     "iopub.status.idle": "2022-11-18T20:10:25.703760Z",
     "shell.execute_reply": "2022-11-18T20:10:25.703347Z"
    }
   },
   "outputs": [
    {
     "data": {
      "text/plain": [
       "0        5817.0\n",
       "1         334.0\n",
       "2        1834.0\n",
       "3       61604.0\n",
       "4       17380.0\n",
       "         ...   \n",
       "240    757448.0\n",
       "241     48415.0\n",
       "242    426198.0\n",
       "243     80593.0\n",
       "244    705281.0\n",
       "Name: time_to_merge, Length: 245, dtype: float64"
      ]
     },
     "execution_count": 11,
     "metadata": {},
     "output_type": "execute_result"
    }
   ],
   "source": [
    "pr_df[\"time_to_merge\"]"
   ]
  },
  {
   "cell_type": "markdown",
   "id": "939d196e",
   "metadata": {},
   "source": [
    "Let's look at the distribution of the time to merge column. This can help us determine what the setup for ML problems such as [#236](https://github.com/aicoe-aiops/ocp-ci-analysis/issues/236) could be like. That is, should the time to merge problem be framed as a regression or classification problem.\n",
    "\n",
    "First, lets try to determine what the granularity of the output values should be, in case of a regression setup. That is, should the model predict time to merge in number of seconds, number of hours, number of days, or some other chunk of time."
   ]
  },
  {
   "cell_type": "code",
   "execution_count": 12,
   "id": "b8cc628b",
   "metadata": {
    "execution": {
     "iopub.execute_input": "2022-11-18T20:10:25.706165Z",
     "iopub.status.busy": "2022-11-18T20:10:25.705818Z",
     "iopub.status.idle": "2022-11-18T20:10:25.712842Z",
     "shell.execute_reply": "2022-11-18T20:10:25.712422Z"
    },
    "tags": []
   },
   "outputs": [
    {
     "data": {
      "text/plain": [
       "1.0      0.564854\n",
       "2.0      0.083682\n",
       "3.0      0.050209\n",
       "5.0      0.041841\n",
       "6.0      0.033473\n",
       "7.0      0.033473\n",
       "4.0      0.029289\n",
       "9.0      0.029289\n",
       "13.0     0.016736\n",
       "16.0     0.012552\n",
       "18.0     0.008368\n",
       "28.0     0.008368\n",
       "17.0     0.008368\n",
       "23.0     0.008368\n",
       "15.0     0.008368\n",
       "29.0     0.004184\n",
       "12.0     0.004184\n",
       "26.0     0.004184\n",
       "98.0     0.004184\n",
       "21.0     0.004184\n",
       "75.0     0.004184\n",
       "39.0     0.004184\n",
       "80.0     0.004184\n",
       "31.0     0.004184\n",
       "10.0     0.004184\n",
       "14.0     0.004184\n",
       "25.0     0.004184\n",
       "11.0     0.004184\n",
       "104.0    0.004184\n",
       "52.0     0.004184\n",
       "Name: time_to_merge, dtype: float64"
      ]
     },
     "execution_count": 12,
     "metadata": {},
     "output_type": "execute_result"
    }
   ],
   "source": [
    "# what does the distribution of values look like if we choose days as the granularity\n",
    "ttm_days = np.ceil(pr_df.time_to_merge / (60 * 60 * 24))\n",
    "\n",
    "# value counts - to how many PRs have value 1, 2, 3, etc. for days to merge\n",
    "vc = ttm_days.value_counts()\n",
    "\n",
    "# normalized value counts (i.e. percent of PRs instead of raw number)\n",
    "nvc = vc / vc.sum()\n",
    "nvc"
   ]
  },
  {
   "cell_type": "code",
   "execution_count": 13,
   "id": "192aeb22",
   "metadata": {
    "execution": {
     "iopub.execute_input": "2022-11-18T20:10:25.715695Z",
     "iopub.status.busy": "2022-11-18T20:10:25.714864Z",
     "iopub.status.idle": "2022-11-18T20:10:25.721689Z",
     "shell.execute_reply": "2022-11-18T20:10:25.721259Z"
    },
    "tags": []
   },
   "outputs": [
    {
     "data": {
      "text/plain": [
       "1.0      0.330544\n",
       "7.0      0.062762\n",
       "8.0      0.062762\n",
       "2.0      0.041841\n",
       "6.0      0.029289\n",
       "           ...   \n",
       "248.0    0.004184\n",
       "634.0    0.004184\n",
       "103.0    0.004184\n",
       "226.0    0.004184\n",
       "66.0     0.004184\n",
       "Name: time_to_merge, Length: 74, dtype: float64"
      ]
     },
     "execution_count": 13,
     "metadata": {},
     "output_type": "execute_result"
    }
   ],
   "source": [
    "# what if we chose some intermediate value e.g. 3 hours as the granularity?\n",
    "ttm_3hours = np.ceil(pr_df.time_to_merge / (60 * 60 * 3))\n",
    "\n",
    "# value counts - to how many PRs have value 1, 2, 3, etc. for num. 3-hours to merge\n",
    "vc = ttm_3hours.value_counts()\n",
    "\n",
    "# normalized value counts (i.e. percent of PRs instead of raw number)\n",
    "nvc = vc / vc.sum()\n",
    "nvc"
   ]
  },
  {
   "cell_type": "code",
   "execution_count": 14,
   "id": "44e09f11",
   "metadata": {
    "execution": {
     "iopub.execute_input": "2022-11-18T20:10:25.724009Z",
     "iopub.status.busy": "2022-11-18T20:10:25.723639Z",
     "iopub.status.idle": "2022-11-18T20:10:25.730231Z",
     "shell.execute_reply": "2022-11-18T20:10:25.729814Z"
    },
    "tags": []
   },
   "outputs": [
    {
     "data": {
      "text/plain": [
       "1.0      0.188285\n",
       "2.0      0.108787\n",
       "19.0     0.037657\n",
       "3.0      0.033473\n",
       "22.0     0.020921\n",
       "           ...   \n",
       "917.0    0.004184\n",
       "666.0    0.004184\n",
       "594.0    0.004184\n",
       "28.0     0.004184\n",
       "196.0    0.004184\n",
       "Name: time_to_merge, Length: 108, dtype: float64"
      ]
     },
     "execution_count": 14,
     "metadata": {},
     "output_type": "execute_result"
    }
   ],
   "source": [
    "# what if we chose hours as the granularity?\n",
    "ttm_hours = np.ceil(pr_df.time_to_merge / (60 * 60))\n",
    "\n",
    "# value counts - to how many PRs have value 1, 2, 3, etc. for hours to merge\n",
    "vc = ttm_hours.value_counts()\n",
    "\n",
    "# normalized value counts (i.e. percent of PRs instead of raw number)\n",
    "nvc = vc / vc.sum()\n",
    "nvc"
   ]
  },
  {
   "cell_type": "markdown",
   "id": "fb8e316b",
   "metadata": {},
   "source": [
    "Now, lets try to determine, if we were to set this up as a classification problem, what the output classes should be. In the following cell, we'll try to split the time-to-merge values into 10 equally populated buckets."
   ]
  },
  {
   "cell_type": "code",
   "execution_count": 15,
   "id": "0ca35bc5",
   "metadata": {
    "execution": {
     "iopub.execute_input": "2022-11-18T20:10:25.732830Z",
     "iopub.status.busy": "2022-11-18T20:10:25.732602Z",
     "iopub.status.idle": "2022-11-18T20:10:25.738840Z",
     "shell.execute_reply": "2022-11-18T20:10:25.738429Z"
    }
   },
   "outputs": [
    {
     "data": {
      "text/plain": [
       "0.0      0.033333\n",
       "0.1      0.394444\n",
       "0.2      1.115667\n",
       "0.3      2.057556\n",
       "0.4     13.611722\n",
       "0.5     20.228333\n",
       "0.6     28.207556\n",
       "0.7     72.831944\n",
       "0.8    140.449556\n",
       "0.9    325.138444\n",
       "Name: time_to_merge, dtype: float64"
      ]
     },
     "execution_count": 15,
     "metadata": {},
     "output_type": "execute_result"
    }
   ],
   "source": [
    "# lets look at what the 10th, 20th, 30th etc percentiles are, to see what the bin boundaries (in terms of hours)\n",
    "# would be if we were to split the data in 10 equally populated bins\n",
    "n_buckets = 10\n",
    "\n",
    "quantiles = pr_df.time_to_merge.quantile(q=np.arange(0, 1 + 1e-100, 1 / n_buckets))\n",
    "quantiles / 3600"
   ]
  },
  {
   "cell_type": "code",
   "execution_count": 16,
   "id": "7b36d5d4-ec27-4a59-b63f-515830da1ae9",
   "metadata": {
    "execution": {
     "iopub.execute_input": "2022-11-18T20:10:25.741078Z",
     "iopub.status.busy": "2022-11-18T20:10:25.740853Z",
     "iopub.status.idle": "2022-11-18T20:10:25.743974Z",
     "shell.execute_reply": "2022-11-18T20:10:25.743554Z"
    }
   },
   "outputs": [],
   "source": [
    "intervals = quantiles"
   ]
  },
  {
   "cell_type": "code",
   "execution_count": 17,
   "id": "acc2bfd4",
   "metadata": {
    "execution": {
     "iopub.execute_input": "2022-11-18T20:10:25.746693Z",
     "iopub.status.busy": "2022-11-18T20:10:25.745872Z",
     "iopub.status.idle": "2022-11-18T20:10:25.751612Z",
     "shell.execute_reply": "2022-11-18T20:10:25.751198Z"
    }
   },
   "outputs": [
    {
     "data": {
      "text/plain": [
       "0.0           NaN\n",
       "0.1      0.361111\n",
       "0.2      0.721222\n",
       "0.3      0.941889\n",
       "0.4     11.554167\n",
       "0.5      6.616611\n",
       "0.6      7.979222\n",
       "0.7     44.624389\n",
       "0.8     67.617611\n",
       "0.9    184.688889\n",
       "Name: time_to_merge, dtype: float64"
      ]
     },
     "execution_count": 17,
     "metadata": {},
     "output_type": "execute_result"
    }
   ],
   "source": [
    "# gaps between the buckets (i.e. size of each bucket) in hours\n",
    "(quantiles - quantiles.shift()) / 3600"
   ]
  },
  {
   "cell_type": "markdown",
   "id": "7111b3d8",
   "metadata": {},
   "source": [
    "If we want to frame our ML problem as a classification problem, we can use the above buckets to define the classes."
   ]
  },
  {
   "cell_type": "markdown",
   "id": "21dc2dcf",
   "metadata": {},
   "source": [
    "**Body**\n",
    "\n",
    "Here, we will derive a feature called `body_size` which will simply be the number of words in the body of the PR. We can use this numerical value to describe the body of the PR."
   ]
  },
  {
   "cell_type": "code",
   "execution_count": 18,
   "id": "212f8a44",
   "metadata": {
    "execution": {
     "iopub.execute_input": "2022-11-18T20:10:25.754582Z",
     "iopub.status.busy": "2022-11-18T20:10:25.753734Z",
     "iopub.status.idle": "2022-11-18T20:10:25.758946Z",
     "shell.execute_reply": "2022-11-18T20:10:25.758533Z"
    }
   },
   "outputs": [],
   "source": [
    "# derive body_size\n",
    "pr_df[\"body_size\"] = pr_df[\"body\"].fillna(\"\").apply(lambda x: len(x.split()))"
   ]
  },
  {
   "cell_type": "code",
   "execution_count": 19,
   "id": "c62d9484",
   "metadata": {
    "execution": {
     "iopub.execute_input": "2022-11-18T20:10:25.761233Z",
     "iopub.status.busy": "2022-11-18T20:10:25.760911Z",
     "iopub.status.idle": "2022-11-18T20:10:25.766060Z",
     "shell.execute_reply": "2022-11-18T20:10:25.765641Z"
    }
   },
   "outputs": [
    {
     "data": {
      "text/plain": [
       "0      57\n",
       "1       0\n",
       "2       5\n",
       "3      56\n",
       "4      21\n",
       "       ..\n",
       "240    57\n",
       "241    46\n",
       "242    39\n",
       "243    69\n",
       "244    28\n",
       "Name: body_size, Length: 245, dtype: int64"
      ]
     },
     "execution_count": 19,
     "metadata": {},
     "output_type": "execute_result"
    }
   ],
   "source": [
    "pr_df[\"body_size\"]"
   ]
  },
  {
   "cell_type": "markdown",
   "id": "9916fd09",
   "metadata": {},
   "source": [
    "**Size**\n",
    "\n",
    "We can attempt to convert the categorical size label generated by GitHub, which summarizes the size of the changes made to the code base, to a numerical value. "
   ]
  },
  {
   "cell_type": "code",
   "execution_count": 20,
   "id": "cbc553ee-3e0b-45ed-83f6-02ae860bef85",
   "metadata": {
    "execution": {
     "iopub.execute_input": "2022-11-18T20:10:25.768343Z",
     "iopub.status.busy": "2022-11-18T20:10:25.767976Z",
     "iopub.status.idle": "2022-11-18T20:10:25.771238Z",
     "shell.execute_reply": "2022-11-18T20:10:25.770790Z"
    }
   },
   "outputs": [
    {
     "data": {
      "text/plain": [
       "{'L', 'M', 'NaN', 'S', 'XL', 'XS', 'XXL'}"
      ]
     },
     "execution_count": 20,
     "metadata": {},
     "output_type": "execute_result"
    }
   ],
   "source": [
    "set(pr_df['size'])"
   ]
  },
  {
   "cell_type": "code",
   "execution_count": 21,
   "id": "709b4cf9",
   "metadata": {
    "execution": {
     "iopub.execute_input": "2022-11-18T20:10:25.773136Z",
     "iopub.status.busy": "2022-11-18T20:10:25.772983Z",
     "iopub.status.idle": "2022-11-18T20:10:25.777824Z",
     "shell.execute_reply": "2022-11-18T20:10:25.777416Z"
    }
   },
   "outputs": [],
   "source": [
    "convert_size = {\"size\": {\"NaN\": 0, \"XS\": 0, \"S\": 1, \"M\": 2, \"L\": 3, \"XL\": 4, \"XXL\": 5}}\n",
    "pr_df = pr_df.replace(convert_size)"
   ]
  },
  {
   "cell_type": "markdown",
   "id": "0b803d48",
   "metadata": {},
   "source": [
    "**Title**\n",
    "\n",
    "Lets try to see if the PR title text can be used to extract any useful information regarding the PR."
   ]
  },
  {
   "cell_type": "code",
   "execution_count": 22,
   "id": "020f050a",
   "metadata": {
    "execution": {
     "iopub.execute_input": "2022-11-18T20:10:25.779885Z",
     "iopub.status.busy": "2022-11-18T20:10:25.779731Z",
     "iopub.status.idle": "2022-11-18T20:10:25.787005Z",
     "shell.execute_reply": "2022-11-18T20:10:25.786581Z"
    }
   },
   "outputs": [
    {
     "data": {
      "text/plain": [
       "0               add slides for workshop at devconf us 22\n",
       "1                               added new bitwarden link\n",
       "2                     added workshop introduction slides\n",
       "3      add slides for openinfra foundation collaboration\n",
       "4                            added parameter to pipeline\n",
       "                             ...                        \n",
       "240                         initial eda on testgrid data\n",
       "241                   wip  eda notebook on sippy ci data\n",
       "242    add url of job runs where failures occur toget...\n",
       "243               update notebook for better readability\n",
       "244                                 initial eda notebook\n",
       "Name: title, Length: 245, dtype: object"
      ]
     },
     "execution_count": 22,
     "metadata": {},
     "output_type": "execute_result"
    }
   ],
   "source": [
    "# first lets preprocess the text available in the titles\n",
    "\n",
    "# convert to lowercase\n",
    "preproc_titles = pr_df[\"title\"].str.lower()\n",
    "\n",
    "# remove punctuations and symbols like : ; , # ( ) [ ] etc\n",
    "preproc_titles = preproc_titles.str.replace(r'[`#-.?!,:;\\/()\\[\\]\"\\']', \" \", regex=True)\n",
    "\n",
    "# remove hash-like strings i.e. 25+ char long strings containing 0-9 or a-f\n",
    "preproc_titles = preproc_titles.str.replace(r\"[0-9a-f]{25,}\", \" \", regex=True)\n",
    "\n",
    "preproc_titles"
   ]
  },
  {
   "cell_type": "code",
   "execution_count": 23,
   "id": "2ecc397e",
   "metadata": {
    "execution": {
     "iopub.execute_input": "2022-11-18T20:10:25.788933Z",
     "iopub.status.busy": "2022-11-18T20:10:25.788781Z",
     "iopub.status.idle": "2022-11-18T20:10:25.795649Z",
     "shell.execute_reply": "2022-11-18T20:10:25.795234Z"
    }
   },
   "outputs": [],
   "source": [
    "# what are the most commonly appearing words in the titles\n",
    "\n",
    "# combin all titles and split into words\n",
    "words = preproc_titles.str.cat(sep=\" \").split()\n",
    "\n",
    "# remove stopwords and numbers (e.g. bugzilla ids)\n",
    "words = [w for w in words if w not in set(STOPWORDS) and not w.isnumeric()]\n",
    "\n",
    "# word frequencies\n",
    "unique_words, counts = np.unique(words, return_counts=True)\n",
    "vc = pd.Series(counts, index=unique_words).sort_values(ascending=False)"
   ]
  },
  {
   "cell_type": "markdown",
   "id": "c52f211c",
   "metadata": {},
   "source": [
    "From the above graph, we can see that titles often contain some keywords that can hint towards the type of changes being made in the PR. We will create a feature which is a vector indicating how many times each word appeared in the title. This way, even if a less prominent word is more correlated with time_to_merge, we will be able to capture that relationship."
   ]
  },
  {
   "cell_type": "code",
   "execution_count": 24,
   "id": "65279268",
   "metadata": {
    "execution": {
     "iopub.execute_input": "2022-11-18T20:10:25.797616Z",
     "iopub.status.busy": "2022-11-18T20:10:25.797464Z",
     "iopub.status.idle": "2022-11-18T20:10:27.985111Z",
     "shell.execute_reply": "2022-11-18T20:10:27.984613Z"
    }
   },
   "outputs": [
    {
     "name": "stderr",
     "output_type": "stream",
     "text": [
      "  0%|          | 0/456 [00:00<?, ?it/s]/tmp/ipykernel_142/4191214648.py:3: PerformanceWarning: DataFrame is highly fragmented.  This is usually the result of calling `frame.insert` many times, which has poor performance.  Consider joining all columns at once using pd.concat(axis=1) instead. To get a de-fragmented frame, use `newframe = frame.copy()`\n",
      "  pr_df[f\"title_wordcount_{word}\"] = preproc_titles.apply(\n",
      " 21%|██▏       | 97/456 [00:00<00:00, 517.43it/s]/tmp/ipykernel_142/4191214648.py:3: PerformanceWarning: DataFrame is highly fragmented.  This is usually the result of calling `frame.insert` many times, which has poor performance.  Consider joining all columns at once using pd.concat(axis=1) instead. To get a de-fragmented frame, use `newframe = frame.copy()`\n",
      "  pr_df[f\"title_wordcount_{word}\"] = preproc_titles.apply(\n",
      "/tmp/ipykernel_142/4191214648.py:3: PerformanceWarning: DataFrame is highly fragmented.  This is usually the result of calling `frame.insert` many times, which has poor performance.  Consider joining all columns at once using pd.concat(axis=1) instead. To get a de-fragmented frame, use `newframe = frame.copy()`\n",
      "  pr_df[f\"title_wordcount_{word}\"] = preproc_titles.apply(\n",
      "/tmp/ipykernel_142/4191214648.py:3: PerformanceWarning: DataFrame is highly fragmented.  This is usually the result of calling `frame.insert` many times, which has poor performance.  Consider joining all columns at once using pd.concat(axis=1) instead. To get a de-fragmented frame, use `newframe = frame.copy()`\n",
      "  pr_df[f\"title_wordcount_{word}\"] = preproc_titles.apply(\n",
      "/tmp/ipykernel_142/4191214648.py:3: PerformanceWarning: DataFrame is highly fragmented.  This is usually the result of calling `frame.insert` many times, which has poor performance.  Consider joining all columns at once using pd.concat(axis=1) instead. To get a de-fragmented frame, use `newframe = frame.copy()`\n",
      "  pr_df[f\"title_wordcount_{word}\"] = preproc_titles.apply(\n",
      "/tmp/ipykernel_142/4191214648.py:3: PerformanceWarning: DataFrame is highly fragmented.  This is usually the result of calling `frame.insert` many times, which has poor performance.  Consider joining all columns at once using pd.concat(axis=1) instead. To get a de-fragmented frame, use `newframe = frame.copy()`\n",
      "  pr_df[f\"title_wordcount_{word}\"] = preproc_titles.apply(\n",
      "/tmp/ipykernel_142/4191214648.py:3: PerformanceWarning: DataFrame is highly fragmented.  This is usually the result of calling `frame.insert` many times, which has poor performance.  Consider joining all columns at once using pd.concat(axis=1) instead. To get a de-fragmented frame, use `newframe = frame.copy()`\n",
      "  pr_df[f\"title_wordcount_{word}\"] = preproc_titles.apply(\n",
      "/tmp/ipykernel_142/4191214648.py:3: PerformanceWarning: DataFrame is highly fragmented.  This is usually the result of calling `frame.insert` many times, which has poor performance.  Consider joining all columns at once using pd.concat(axis=1) instead. To get a de-fragmented frame, use `newframe = frame.copy()`\n",
      "  pr_df[f\"title_wordcount_{word}\"] = preproc_titles.apply(\n",
      "/tmp/ipykernel_142/4191214648.py:3: PerformanceWarning: DataFrame is highly fragmented.  This is usually the result of calling `frame.insert` many times, which has poor performance.  Consider joining all columns at once using pd.concat(axis=1) instead. To get a de-fragmented frame, use `newframe = frame.copy()`\n",
      "  pr_df[f\"title_wordcount_{word}\"] = preproc_titles.apply(\n",
      "/tmp/ipykernel_142/4191214648.py:3: PerformanceWarning: DataFrame is highly fragmented.  This is usually the result of calling `frame.insert` many times, which has poor performance.  Consider joining all columns at once using pd.concat(axis=1) instead. To get a de-fragmented frame, use `newframe = frame.copy()`\n",
      "  pr_df[f\"title_wordcount_{word}\"] = preproc_titles.apply(\n",
      "/tmp/ipykernel_142/4191214648.py:3: PerformanceWarning: DataFrame is highly fragmented.  This is usually the result of calling `frame.insert` many times, which has poor performance.  Consider joining all columns at once using pd.concat(axis=1) instead. To get a de-fragmented frame, use `newframe = frame.copy()`\n",
      "  pr_df[f\"title_wordcount_{word}\"] = preproc_titles.apply(\n",
      "/tmp/ipykernel_142/4191214648.py:3: PerformanceWarning: DataFrame is highly fragmented.  This is usually the result of calling `frame.insert` many times, which has poor performance.  Consider joining all columns at once using pd.concat(axis=1) instead. To get a de-fragmented frame, use `newframe = frame.copy()`\n",
      "  pr_df[f\"title_wordcount_{word}\"] = preproc_titles.apply(\n",
      "/tmp/ipykernel_142/4191214648.py:3: PerformanceWarning: DataFrame is highly fragmented.  This is usually the result of calling `frame.insert` many times, which has poor performance.  Consider joining all columns at once using pd.concat(axis=1) instead. To get a de-fragmented frame, use `newframe = frame.copy()`\n",
      "  pr_df[f\"title_wordcount_{word}\"] = preproc_titles.apply(\n",
      "/tmp/ipykernel_142/4191214648.py:3: PerformanceWarning: DataFrame is highly fragmented.  This is usually the result of calling `frame.insert` many times, which has poor performance.  Consider joining all columns at once using pd.concat(axis=1) instead. To get a de-fragmented frame, use `newframe = frame.copy()`\n",
      "  pr_df[f\"title_wordcount_{word}\"] = preproc_titles.apply(\n",
      "/tmp/ipykernel_142/4191214648.py:3: PerformanceWarning: DataFrame is highly fragmented.  This is usually the result of calling `frame.insert` many times, which has poor performance.  Consider joining all columns at once using pd.concat(axis=1) instead. To get a de-fragmented frame, use `newframe = frame.copy()`\n",
      "  pr_df[f\"title_wordcount_{word}\"] = preproc_titles.apply(\n",
      "/tmp/ipykernel_142/4191214648.py:3: PerformanceWarning: DataFrame is highly fragmented.  This is usually the result of calling `frame.insert` many times, which has poor performance.  Consider joining all columns at once using pd.concat(axis=1) instead. To get a de-fragmented frame, use `newframe = frame.copy()`\n",
      "  pr_df[f\"title_wordcount_{word}\"] = preproc_titles.apply(\n",
      "/tmp/ipykernel_142/4191214648.py:3: PerformanceWarning: DataFrame is highly fragmented.  This is usually the result of calling `frame.insert` many times, which has poor performance.  Consider joining all columns at once using pd.concat(axis=1) instead. To get a de-fragmented frame, use `newframe = frame.copy()`\n",
      "  pr_df[f\"title_wordcount_{word}\"] = preproc_titles.apply(\n",
      "/tmp/ipykernel_142/4191214648.py:3: PerformanceWarning: DataFrame is highly fragmented.  This is usually the result of calling `frame.insert` many times, which has poor performance.  Consider joining all columns at once using pd.concat(axis=1) instead. To get a de-fragmented frame, use `newframe = frame.copy()`\n",
      "  pr_df[f\"title_wordcount_{word}\"] = preproc_titles.apply(\n",
      "/tmp/ipykernel_142/4191214648.py:3: PerformanceWarning: DataFrame is highly fragmented.  This is usually the result of calling `frame.insert` many times, which has poor performance.  Consider joining all columns at once using pd.concat(axis=1) instead. To get a de-fragmented frame, use `newframe = frame.copy()`\n",
      "  pr_df[f\"title_wordcount_{word}\"] = preproc_titles.apply(\n",
      "/tmp/ipykernel_142/4191214648.py:3: PerformanceWarning: DataFrame is highly fragmented.  This is usually the result of calling `frame.insert` many times, which has poor performance.  Consider joining all columns at once using pd.concat(axis=1) instead. To get a de-fragmented frame, use `newframe = frame.copy()`\n",
      "  pr_df[f\"title_wordcount_{word}\"] = preproc_titles.apply(\n",
      "/tmp/ipykernel_142/4191214648.py:3: PerformanceWarning: DataFrame is highly fragmented.  This is usually the result of calling `frame.insert` many times, which has poor performance.  Consider joining all columns at once using pd.concat(axis=1) instead. To get a de-fragmented frame, use `newframe = frame.copy()`\n",
      "  pr_df[f\"title_wordcount_{word}\"] = preproc_titles.apply(\n",
      "/tmp/ipykernel_142/4191214648.py:3: PerformanceWarning: DataFrame is highly fragmented.  This is usually the result of calling `frame.insert` many times, which has poor performance.  Consider joining all columns at once using pd.concat(axis=1) instead. To get a de-fragmented frame, use `newframe = frame.copy()`\n",
      "  pr_df[f\"title_wordcount_{word}\"] = preproc_titles.apply(\n",
      "/tmp/ipykernel_142/4191214648.py:3: PerformanceWarning: DataFrame is highly fragmented.  This is usually the result of calling `frame.insert` many times, which has poor performance.  Consider joining all columns at once using pd.concat(axis=1) instead. To get a de-fragmented frame, use `newframe = frame.copy()`\n",
      "  pr_df[f\"title_wordcount_{word}\"] = preproc_titles.apply(\n",
      "/tmp/ipykernel_142/4191214648.py:3: PerformanceWarning: DataFrame is highly fragmented.  This is usually the result of calling `frame.insert` many times, which has poor performance.  Consider joining all columns at once using pd.concat(axis=1) instead. To get a de-fragmented frame, use `newframe = frame.copy()`\n",
      "  pr_df[f\"title_wordcount_{word}\"] = preproc_titles.apply(\n",
      "/tmp/ipykernel_142/4191214648.py:3: PerformanceWarning: DataFrame is highly fragmented.  This is usually the result of calling `frame.insert` many times, which has poor performance.  Consider joining all columns at once using pd.concat(axis=1) instead. To get a de-fragmented frame, use `newframe = frame.copy()`\n",
      "  pr_df[f\"title_wordcount_{word}\"] = preproc_titles.apply(\n",
      "/tmp/ipykernel_142/4191214648.py:3: PerformanceWarning: DataFrame is highly fragmented.  This is usually the result of calling `frame.insert` many times, which has poor performance.  Consider joining all columns at once using pd.concat(axis=1) instead. To get a de-fragmented frame, use `newframe = frame.copy()`\n",
      "  pr_df[f\"title_wordcount_{word}\"] = preproc_titles.apply(\n",
      "/tmp/ipykernel_142/4191214648.py:3: PerformanceWarning: DataFrame is highly fragmented.  This is usually the result of calling `frame.insert` many times, which has poor performance.  Consider joining all columns at once using pd.concat(axis=1) instead. To get a de-fragmented frame, use `newframe = frame.copy()`\n",
      "  pr_df[f\"title_wordcount_{word}\"] = preproc_titles.apply(\n",
      "/tmp/ipykernel_142/4191214648.py:3: PerformanceWarning: DataFrame is highly fragmented.  This is usually the result of calling `frame.insert` many times, which has poor performance.  Consider joining all columns at once using pd.concat(axis=1) instead. To get a de-fragmented frame, use `newframe = frame.copy()`\n",
      "  pr_df[f\"title_wordcount_{word}\"] = preproc_titles.apply(\n",
      "/tmp/ipykernel_142/4191214648.py:3: PerformanceWarning: DataFrame is highly fragmented.  This is usually the result of calling `frame.insert` many times, which has poor performance.  Consider joining all columns at once using pd.concat(axis=1) instead. To get a de-fragmented frame, use `newframe = frame.copy()`\n",
      "  pr_df[f\"title_wordcount_{word}\"] = preproc_titles.apply(\n",
      "/tmp/ipykernel_142/4191214648.py:3: PerformanceWarning: DataFrame is highly fragmented.  This is usually the result of calling `frame.insert` many times, which has poor performance.  Consider joining all columns at once using pd.concat(axis=1) instead. To get a de-fragmented frame, use `newframe = frame.copy()`\n",
      "  pr_df[f\"title_wordcount_{word}\"] = preproc_titles.apply(\n",
      "/tmp/ipykernel_142/4191214648.py:3: PerformanceWarning: DataFrame is highly fragmented.  This is usually the result of calling `frame.insert` many times, which has poor performance.  Consider joining all columns at once using pd.concat(axis=1) instead. To get a de-fragmented frame, use `newframe = frame.copy()`\n",
      "  pr_df[f\"title_wordcount_{word}\"] = preproc_titles.apply(\n",
      "/tmp/ipykernel_142/4191214648.py:3: PerformanceWarning: DataFrame is highly fragmented.  This is usually the result of calling `frame.insert` many times, which has poor performance.  Consider joining all columns at once using pd.concat(axis=1) instead. To get a de-fragmented frame, use `newframe = frame.copy()`\n",
      "  pr_df[f\"title_wordcount_{word}\"] = preproc_titles.apply(\n",
      "/tmp/ipykernel_142/4191214648.py:3: PerformanceWarning: DataFrame is highly fragmented.  This is usually the result of calling `frame.insert` many times, which has poor performance.  Consider joining all columns at once using pd.concat(axis=1) instead. To get a de-fragmented frame, use `newframe = frame.copy()`\n",
      "  pr_df[f\"title_wordcount_{word}\"] = preproc_titles.apply(\n",
      "/tmp/ipykernel_142/4191214648.py:3: PerformanceWarning: DataFrame is highly fragmented.  This is usually the result of calling `frame.insert` many times, which has poor performance.  Consider joining all columns at once using pd.concat(axis=1) instead. To get a de-fragmented frame, use `newframe = frame.copy()`\n",
      "  pr_df[f\"title_wordcount_{word}\"] = preproc_titles.apply(\n",
      "/tmp/ipykernel_142/4191214648.py:3: PerformanceWarning: DataFrame is highly fragmented.  This is usually the result of calling `frame.insert` many times, which has poor performance.  Consider joining all columns at once using pd.concat(axis=1) instead. To get a de-fragmented frame, use `newframe = frame.copy()`\n",
      "  pr_df[f\"title_wordcount_{word}\"] = preproc_titles.apply(\n",
      "/tmp/ipykernel_142/4191214648.py:3: PerformanceWarning: DataFrame is highly fragmented.  This is usually the result of calling `frame.insert` many times, which has poor performance.  Consider joining all columns at once using pd.concat(axis=1) instead. To get a de-fragmented frame, use `newframe = frame.copy()`\n",
      "  pr_df[f\"title_wordcount_{word}\"] = preproc_titles.apply(\n",
      "/tmp/ipykernel_142/4191214648.py:3: PerformanceWarning: DataFrame is highly fragmented.  This is usually the result of calling `frame.insert` many times, which has poor performance.  Consider joining all columns at once using pd.concat(axis=1) instead. To get a de-fragmented frame, use `newframe = frame.copy()`\n",
      "  pr_df[f\"title_wordcount_{word}\"] = preproc_titles.apply(\n",
      "/tmp/ipykernel_142/4191214648.py:3: PerformanceWarning: DataFrame is highly fragmented.  This is usually the result of calling `frame.insert` many times, which has poor performance.  Consider joining all columns at once using pd.concat(axis=1) instead. To get a de-fragmented frame, use `newframe = frame.copy()`\n",
      "  pr_df[f\"title_wordcount_{word}\"] = preproc_titles.apply(\n",
      "/tmp/ipykernel_142/4191214648.py:3: PerformanceWarning: DataFrame is highly fragmented.  This is usually the result of calling `frame.insert` many times, which has poor performance.  Consider joining all columns at once using pd.concat(axis=1) instead. To get a de-fragmented frame, use `newframe = frame.copy()`\n",
      "  pr_df[f\"title_wordcount_{word}\"] = preproc_titles.apply(\n",
      "/tmp/ipykernel_142/4191214648.py:3: PerformanceWarning: DataFrame is highly fragmented.  This is usually the result of calling `frame.insert` many times, which has poor performance.  Consider joining all columns at once using pd.concat(axis=1) instead. To get a de-fragmented frame, use `newframe = frame.copy()`\n",
      "  pr_df[f\"title_wordcount_{word}\"] = preproc_titles.apply(\n",
      "/tmp/ipykernel_142/4191214648.py:3: PerformanceWarning: DataFrame is highly fragmented.  This is usually the result of calling `frame.insert` many times, which has poor performance.  Consider joining all columns at once using pd.concat(axis=1) instead. To get a de-fragmented frame, use `newframe = frame.copy()`\n",
      "  pr_df[f\"title_wordcount_{word}\"] = preproc_titles.apply(\n",
      "/tmp/ipykernel_142/4191214648.py:3: PerformanceWarning: DataFrame is highly fragmented.  This is usually the result of calling `frame.insert` many times, which has poor performance.  Consider joining all columns at once using pd.concat(axis=1) instead. To get a de-fragmented frame, use `newframe = frame.copy()`\n",
      "  pr_df[f\"title_wordcount_{word}\"] = preproc_titles.apply(\n",
      "/tmp/ipykernel_142/4191214648.py:3: PerformanceWarning: DataFrame is highly fragmented.  This is usually the result of calling `frame.insert` many times, which has poor performance.  Consider joining all columns at once using pd.concat(axis=1) instead. To get a de-fragmented frame, use `newframe = frame.copy()`\n",
      "  pr_df[f\"title_wordcount_{word}\"] = preproc_titles.apply(\n",
      "/tmp/ipykernel_142/4191214648.py:3: PerformanceWarning: DataFrame is highly fragmented.  This is usually the result of calling `frame.insert` many times, which has poor performance.  Consider joining all columns at once using pd.concat(axis=1) instead. To get a de-fragmented frame, use `newframe = frame.copy()`\n",
      "  pr_df[f\"title_wordcount_{word}\"] = preproc_titles.apply(\n",
      "/tmp/ipykernel_142/4191214648.py:3: PerformanceWarning: DataFrame is highly fragmented.  This is usually the result of calling `frame.insert` many times, which has poor performance.  Consider joining all columns at once using pd.concat(axis=1) instead. To get a de-fragmented frame, use `newframe = frame.copy()`\n",
      "  pr_df[f\"title_wordcount_{word}\"] = preproc_titles.apply(\n",
      "/tmp/ipykernel_142/4191214648.py:3: PerformanceWarning: DataFrame is highly fragmented.  This is usually the result of calling `frame.insert` many times, which has poor performance.  Consider joining all columns at once using pd.concat(axis=1) instead. To get a de-fragmented frame, use `newframe = frame.copy()`\n",
      "  pr_df[f\"title_wordcount_{word}\"] = preproc_titles.apply(\n",
      "/tmp/ipykernel_142/4191214648.py:3: PerformanceWarning: DataFrame is highly fragmented.  This is usually the result of calling `frame.insert` many times, which has poor performance.  Consider joining all columns at once using pd.concat(axis=1) instead. To get a de-fragmented frame, use `newframe = frame.copy()`\n",
      "  pr_df[f\"title_wordcount_{word}\"] = preproc_titles.apply(\n",
      "/tmp/ipykernel_142/4191214648.py:3: PerformanceWarning: DataFrame is highly fragmented.  This is usually the result of calling `frame.insert` many times, which has poor performance.  Consider joining all columns at once using pd.concat(axis=1) instead. To get a de-fragmented frame, use `newframe = frame.copy()`\n",
      "  pr_df[f\"title_wordcount_{word}\"] = preproc_titles.apply(\n",
      "/tmp/ipykernel_142/4191214648.py:3: PerformanceWarning: DataFrame is highly fragmented.  This is usually the result of calling `frame.insert` many times, which has poor performance.  Consider joining all columns at once using pd.concat(axis=1) instead. To get a de-fragmented frame, use `newframe = frame.copy()`\n",
      "  pr_df[f\"title_wordcount_{word}\"] = preproc_titles.apply(\n",
      "/tmp/ipykernel_142/4191214648.py:3: PerformanceWarning: DataFrame is highly fragmented.  This is usually the result of calling `frame.insert` many times, which has poor performance.  Consider joining all columns at once using pd.concat(axis=1) instead. To get a de-fragmented frame, use `newframe = frame.copy()`\n",
      "  pr_df[f\"title_wordcount_{word}\"] = preproc_titles.apply(\n",
      "/tmp/ipykernel_142/4191214648.py:3: PerformanceWarning: DataFrame is highly fragmented.  This is usually the result of calling `frame.insert` many times, which has poor performance.  Consider joining all columns at once using pd.concat(axis=1) instead. To get a de-fragmented frame, use `newframe = frame.copy()`\n",
      "  pr_df[f\"title_wordcount_{word}\"] = preproc_titles.apply(\n",
      "/tmp/ipykernel_142/4191214648.py:3: PerformanceWarning: DataFrame is highly fragmented.  This is usually the result of calling `frame.insert` many times, which has poor performance.  Consider joining all columns at once using pd.concat(axis=1) instead. To get a de-fragmented frame, use `newframe = frame.copy()`\n",
      "  pr_df[f\"title_wordcount_{word}\"] = preproc_titles.apply(\n",
      "/tmp/ipykernel_142/4191214648.py:3: PerformanceWarning: DataFrame is highly fragmented.  This is usually the result of calling `frame.insert` many times, which has poor performance.  Consider joining all columns at once using pd.concat(axis=1) instead. To get a de-fragmented frame, use `newframe = frame.copy()`\n",
      "  pr_df[f\"title_wordcount_{word}\"] = preproc_titles.apply(\n",
      " 33%|███▎      | 149/456 [00:00<00:01, 288.43it/s]/tmp/ipykernel_142/4191214648.py:3: PerformanceWarning: DataFrame is highly fragmented.  This is usually the result of calling `frame.insert` many times, which has poor performance.  Consider joining all columns at once using pd.concat(axis=1) instead. To get a de-fragmented frame, use `newframe = frame.copy()`\n",
      "  pr_df[f\"title_wordcount_{word}\"] = preproc_titles.apply(\n",
      "/tmp/ipykernel_142/4191214648.py:3: PerformanceWarning: DataFrame is highly fragmented.  This is usually the result of calling `frame.insert` many times, which has poor performance.  Consider joining all columns at once using pd.concat(axis=1) instead. To get a de-fragmented frame, use `newframe = frame.copy()`\n",
      "  pr_df[f\"title_wordcount_{word}\"] = preproc_titles.apply(\n",
      "/tmp/ipykernel_142/4191214648.py:3: PerformanceWarning: DataFrame is highly fragmented.  This is usually the result of calling `frame.insert` many times, which has poor performance.  Consider joining all columns at once using pd.concat(axis=1) instead. To get a de-fragmented frame, use `newframe = frame.copy()`\n",
      "  pr_df[f\"title_wordcount_{word}\"] = preproc_titles.apply(\n",
      "/tmp/ipykernel_142/4191214648.py:3: PerformanceWarning: DataFrame is highly fragmented.  This is usually the result of calling `frame.insert` many times, which has poor performance.  Consider joining all columns at once using pd.concat(axis=1) instead. To get a de-fragmented frame, use `newframe = frame.copy()`\n",
      "  pr_df[f\"title_wordcount_{word}\"] = preproc_titles.apply(\n",
      "/tmp/ipykernel_142/4191214648.py:3: PerformanceWarning: DataFrame is highly fragmented.  This is usually the result of calling `frame.insert` many times, which has poor performance.  Consider joining all columns at once using pd.concat(axis=1) instead. To get a de-fragmented frame, use `newframe = frame.copy()`\n",
      "  pr_df[f\"title_wordcount_{word}\"] = preproc_titles.apply(\n",
      "/tmp/ipykernel_142/4191214648.py:3: PerformanceWarning: DataFrame is highly fragmented.  This is usually the result of calling `frame.insert` many times, which has poor performance.  Consider joining all columns at once using pd.concat(axis=1) instead. To get a de-fragmented frame, use `newframe = frame.copy()`\n",
      "  pr_df[f\"title_wordcount_{word}\"] = preproc_titles.apply(\n",
      "/tmp/ipykernel_142/4191214648.py:3: PerformanceWarning: DataFrame is highly fragmented.  This is usually the result of calling `frame.insert` many times, which has poor performance.  Consider joining all columns at once using pd.concat(axis=1) instead. To get a de-fragmented frame, use `newframe = frame.copy()`\n",
      "  pr_df[f\"title_wordcount_{word}\"] = preproc_titles.apply(\n",
      "/tmp/ipykernel_142/4191214648.py:3: PerformanceWarning: DataFrame is highly fragmented.  This is usually the result of calling `frame.insert` many times, which has poor performance.  Consider joining all columns at once using pd.concat(axis=1) instead. To get a de-fragmented frame, use `newframe = frame.copy()`\n",
      "  pr_df[f\"title_wordcount_{word}\"] = preproc_titles.apply(\n",
      "/tmp/ipykernel_142/4191214648.py:3: PerformanceWarning: DataFrame is highly fragmented.  This is usually the result of calling `frame.insert` many times, which has poor performance.  Consider joining all columns at once using pd.concat(axis=1) instead. To get a de-fragmented frame, use `newframe = frame.copy()`\n",
      "  pr_df[f\"title_wordcount_{word}\"] = preproc_titles.apply(\n",
      "/tmp/ipykernel_142/4191214648.py:3: PerformanceWarning: DataFrame is highly fragmented.  This is usually the result of calling `frame.insert` many times, which has poor performance.  Consider joining all columns at once using pd.concat(axis=1) instead. To get a de-fragmented frame, use `newframe = frame.copy()`\n",
      "  pr_df[f\"title_wordcount_{word}\"] = preproc_titles.apply(\n",
      "/tmp/ipykernel_142/4191214648.py:3: PerformanceWarning: DataFrame is highly fragmented.  This is usually the result of calling `frame.insert` many times, which has poor performance.  Consider joining all columns at once using pd.concat(axis=1) instead. To get a de-fragmented frame, use `newframe = frame.copy()`\n",
      "  pr_df[f\"title_wordcount_{word}\"] = preproc_titles.apply(\n",
      "/tmp/ipykernel_142/4191214648.py:3: PerformanceWarning: DataFrame is highly fragmented.  This is usually the result of calling `frame.insert` many times, which has poor performance.  Consider joining all columns at once using pd.concat(axis=1) instead. To get a de-fragmented frame, use `newframe = frame.copy()`\n",
      "  pr_df[f\"title_wordcount_{word}\"] = preproc_titles.apply(\n",
      "/tmp/ipykernel_142/4191214648.py:3: PerformanceWarning: DataFrame is highly fragmented.  This is usually the result of calling `frame.insert` many times, which has poor performance.  Consider joining all columns at once using pd.concat(axis=1) instead. To get a de-fragmented frame, use `newframe = frame.copy()`\n",
      "  pr_df[f\"title_wordcount_{word}\"] = preproc_titles.apply(\n",
      "/tmp/ipykernel_142/4191214648.py:3: PerformanceWarning: DataFrame is highly fragmented.  This is usually the result of calling `frame.insert` many times, which has poor performance.  Consider joining all columns at once using pd.concat(axis=1) instead. To get a de-fragmented frame, use `newframe = frame.copy()`\n",
      "  pr_df[f\"title_wordcount_{word}\"] = preproc_titles.apply(\n",
      "/tmp/ipykernel_142/4191214648.py:3: PerformanceWarning: DataFrame is highly fragmented.  This is usually the result of calling `frame.insert` many times, which has poor performance.  Consider joining all columns at once using pd.concat(axis=1) instead. To get a de-fragmented frame, use `newframe = frame.copy()`\n",
      "  pr_df[f\"title_wordcount_{word}\"] = preproc_titles.apply(\n",
      "/tmp/ipykernel_142/4191214648.py:3: PerformanceWarning: DataFrame is highly fragmented.  This is usually the result of calling `frame.insert` many times, which has poor performance.  Consider joining all columns at once using pd.concat(axis=1) instead. To get a de-fragmented frame, use `newframe = frame.copy()`\n",
      "  pr_df[f\"title_wordcount_{word}\"] = preproc_titles.apply(\n",
      "/tmp/ipykernel_142/4191214648.py:3: PerformanceWarning: DataFrame is highly fragmented.  This is usually the result of calling `frame.insert` many times, which has poor performance.  Consider joining all columns at once using pd.concat(axis=1) instead. To get a de-fragmented frame, use `newframe = frame.copy()`\n",
      "  pr_df[f\"title_wordcount_{word}\"] = preproc_titles.apply(\n",
      "/tmp/ipykernel_142/4191214648.py:3: PerformanceWarning: DataFrame is highly fragmented.  This is usually the result of calling `frame.insert` many times, which has poor performance.  Consider joining all columns at once using pd.concat(axis=1) instead. To get a de-fragmented frame, use `newframe = frame.copy()`\n",
      "  pr_df[f\"title_wordcount_{word}\"] = preproc_titles.apply(\n",
      "/tmp/ipykernel_142/4191214648.py:3: PerformanceWarning: DataFrame is highly fragmented.  This is usually the result of calling `frame.insert` many times, which has poor performance.  Consider joining all columns at once using pd.concat(axis=1) instead. To get a de-fragmented frame, use `newframe = frame.copy()`\n",
      "  pr_df[f\"title_wordcount_{word}\"] = preproc_titles.apply(\n",
      "/tmp/ipykernel_142/4191214648.py:3: PerformanceWarning: DataFrame is highly fragmented.  This is usually the result of calling `frame.insert` many times, which has poor performance.  Consider joining all columns at once using pd.concat(axis=1) instead. To get a de-fragmented frame, use `newframe = frame.copy()`\n",
      "  pr_df[f\"title_wordcount_{word}\"] = preproc_titles.apply(\n",
      "/tmp/ipykernel_142/4191214648.py:3: PerformanceWarning: DataFrame is highly fragmented.  This is usually the result of calling `frame.insert` many times, which has poor performance.  Consider joining all columns at once using pd.concat(axis=1) instead. To get a de-fragmented frame, use `newframe = frame.copy()`\n",
      "  pr_df[f\"title_wordcount_{word}\"] = preproc_titles.apply(\n",
      "/tmp/ipykernel_142/4191214648.py:3: PerformanceWarning: DataFrame is highly fragmented.  This is usually the result of calling `frame.insert` many times, which has poor performance.  Consider joining all columns at once using pd.concat(axis=1) instead. To get a de-fragmented frame, use `newframe = frame.copy()`\n",
      "  pr_df[f\"title_wordcount_{word}\"] = preproc_titles.apply(\n",
      "/tmp/ipykernel_142/4191214648.py:3: PerformanceWarning: DataFrame is highly fragmented.  This is usually the result of calling `frame.insert` many times, which has poor performance.  Consider joining all columns at once using pd.concat(axis=1) instead. To get a de-fragmented frame, use `newframe = frame.copy()`\n",
      "  pr_df[f\"title_wordcount_{word}\"] = preproc_titles.apply(\n",
      "/tmp/ipykernel_142/4191214648.py:3: PerformanceWarning: DataFrame is highly fragmented.  This is usually the result of calling `frame.insert` many times, which has poor performance.  Consider joining all columns at once using pd.concat(axis=1) instead. To get a de-fragmented frame, use `newframe = frame.copy()`\n",
      "  pr_df[f\"title_wordcount_{word}\"] = preproc_titles.apply(\n",
      "/tmp/ipykernel_142/4191214648.py:3: PerformanceWarning: DataFrame is highly fragmented.  This is usually the result of calling `frame.insert` many times, which has poor performance.  Consider joining all columns at once using pd.concat(axis=1) instead. To get a de-fragmented frame, use `newframe = frame.copy()`\n",
      "  pr_df[f\"title_wordcount_{word}\"] = preproc_titles.apply(\n",
      "/tmp/ipykernel_142/4191214648.py:3: PerformanceWarning: DataFrame is highly fragmented.  This is usually the result of calling `frame.insert` many times, which has poor performance.  Consider joining all columns at once using pd.concat(axis=1) instead. To get a de-fragmented frame, use `newframe = frame.copy()`\n",
      "  pr_df[f\"title_wordcount_{word}\"] = preproc_titles.apply(\n",
      "/tmp/ipykernel_142/4191214648.py:3: PerformanceWarning: DataFrame is highly fragmented.  This is usually the result of calling `frame.insert` many times, which has poor performance.  Consider joining all columns at once using pd.concat(axis=1) instead. To get a de-fragmented frame, use `newframe = frame.copy()`\n",
      "  pr_df[f\"title_wordcount_{word}\"] = preproc_titles.apply(\n",
      "/tmp/ipykernel_142/4191214648.py:3: PerformanceWarning: DataFrame is highly fragmented.  This is usually the result of calling `frame.insert` many times, which has poor performance.  Consider joining all columns at once using pd.concat(axis=1) instead. To get a de-fragmented frame, use `newframe = frame.copy()`\n",
      "  pr_df[f\"title_wordcount_{word}\"] = preproc_titles.apply(\n",
      "/tmp/ipykernel_142/4191214648.py:3: PerformanceWarning: DataFrame is highly fragmented.  This is usually the result of calling `frame.insert` many times, which has poor performance.  Consider joining all columns at once using pd.concat(axis=1) instead. To get a de-fragmented frame, use `newframe = frame.copy()`\n",
      "  pr_df[f\"title_wordcount_{word}\"] = preproc_titles.apply(\n",
      "/tmp/ipykernel_142/4191214648.py:3: PerformanceWarning: DataFrame is highly fragmented.  This is usually the result of calling `frame.insert` many times, which has poor performance.  Consider joining all columns at once using pd.concat(axis=1) instead. To get a de-fragmented frame, use `newframe = frame.copy()`\n",
      "  pr_df[f\"title_wordcount_{word}\"] = preproc_titles.apply(\n",
      "/tmp/ipykernel_142/4191214648.py:3: PerformanceWarning: DataFrame is highly fragmented.  This is usually the result of calling `frame.insert` many times, which has poor performance.  Consider joining all columns at once using pd.concat(axis=1) instead. To get a de-fragmented frame, use `newframe = frame.copy()`\n",
      "  pr_df[f\"title_wordcount_{word}\"] = preproc_titles.apply(\n",
      "/tmp/ipykernel_142/4191214648.py:3: PerformanceWarning: DataFrame is highly fragmented.  This is usually the result of calling `frame.insert` many times, which has poor performance.  Consider joining all columns at once using pd.concat(axis=1) instead. To get a de-fragmented frame, use `newframe = frame.copy()`\n",
      "  pr_df[f\"title_wordcount_{word}\"] = preproc_titles.apply(\n",
      "/tmp/ipykernel_142/4191214648.py:3: PerformanceWarning: DataFrame is highly fragmented.  This is usually the result of calling `frame.insert` many times, which has poor performance.  Consider joining all columns at once using pd.concat(axis=1) instead. To get a de-fragmented frame, use `newframe = frame.copy()`\n",
      "  pr_df[f\"title_wordcount_{word}\"] = preproc_titles.apply(\n",
      " 40%|███▉      | 182/456 [00:00<00:01, 250.85it/s]/tmp/ipykernel_142/4191214648.py:3: PerformanceWarning: DataFrame is highly fragmented.  This is usually the result of calling `frame.insert` many times, which has poor performance.  Consider joining all columns at once using pd.concat(axis=1) instead. To get a de-fragmented frame, use `newframe = frame.copy()`\n",
      "  pr_df[f\"title_wordcount_{word}\"] = preproc_titles.apply(\n",
      "/tmp/ipykernel_142/4191214648.py:3: PerformanceWarning: DataFrame is highly fragmented.  This is usually the result of calling `frame.insert` many times, which has poor performance.  Consider joining all columns at once using pd.concat(axis=1) instead. To get a de-fragmented frame, use `newframe = frame.copy()`\n",
      "  pr_df[f\"title_wordcount_{word}\"] = preproc_titles.apply(\n",
      "/tmp/ipykernel_142/4191214648.py:3: PerformanceWarning: DataFrame is highly fragmented.  This is usually the result of calling `frame.insert` many times, which has poor performance.  Consider joining all columns at once using pd.concat(axis=1) instead. To get a de-fragmented frame, use `newframe = frame.copy()`\n",
      "  pr_df[f\"title_wordcount_{word}\"] = preproc_titles.apply(\n",
      "/tmp/ipykernel_142/4191214648.py:3: PerformanceWarning: DataFrame is highly fragmented.  This is usually the result of calling `frame.insert` many times, which has poor performance.  Consider joining all columns at once using pd.concat(axis=1) instead. To get a de-fragmented frame, use `newframe = frame.copy()`\n",
      "  pr_df[f\"title_wordcount_{word}\"] = preproc_titles.apply(\n",
      "/tmp/ipykernel_142/4191214648.py:3: PerformanceWarning: DataFrame is highly fragmented.  This is usually the result of calling `frame.insert` many times, which has poor performance.  Consider joining all columns at once using pd.concat(axis=1) instead. To get a de-fragmented frame, use `newframe = frame.copy()`\n",
      "  pr_df[f\"title_wordcount_{word}\"] = preproc_titles.apply(\n",
      "/tmp/ipykernel_142/4191214648.py:3: PerformanceWarning: DataFrame is highly fragmented.  This is usually the result of calling `frame.insert` many times, which has poor performance.  Consider joining all columns at once using pd.concat(axis=1) instead. To get a de-fragmented frame, use `newframe = frame.copy()`\n",
      "  pr_df[f\"title_wordcount_{word}\"] = preproc_titles.apply(\n",
      "/tmp/ipykernel_142/4191214648.py:3: PerformanceWarning: DataFrame is highly fragmented.  This is usually the result of calling `frame.insert` many times, which has poor performance.  Consider joining all columns at once using pd.concat(axis=1) instead. To get a de-fragmented frame, use `newframe = frame.copy()`\n",
      "  pr_df[f\"title_wordcount_{word}\"] = preproc_titles.apply(\n",
      "/tmp/ipykernel_142/4191214648.py:3: PerformanceWarning: DataFrame is highly fragmented.  This is usually the result of calling `frame.insert` many times, which has poor performance.  Consider joining all columns at once using pd.concat(axis=1) instead. To get a de-fragmented frame, use `newframe = frame.copy()`\n",
      "  pr_df[f\"title_wordcount_{word}\"] = preproc_titles.apply(\n",
      "/tmp/ipykernel_142/4191214648.py:3: PerformanceWarning: DataFrame is highly fragmented.  This is usually the result of calling `frame.insert` many times, which has poor performance.  Consider joining all columns at once using pd.concat(axis=1) instead. To get a de-fragmented frame, use `newframe = frame.copy()`\n",
      "  pr_df[f\"title_wordcount_{word}\"] = preproc_titles.apply(\n",
      "/tmp/ipykernel_142/4191214648.py:3: PerformanceWarning: DataFrame is highly fragmented.  This is usually the result of calling `frame.insert` many times, which has poor performance.  Consider joining all columns at once using pd.concat(axis=1) instead. To get a de-fragmented frame, use `newframe = frame.copy()`\n",
      "  pr_df[f\"title_wordcount_{word}\"] = preproc_titles.apply(\n",
      "/tmp/ipykernel_142/4191214648.py:3: PerformanceWarning: DataFrame is highly fragmented.  This is usually the result of calling `frame.insert` many times, which has poor performance.  Consider joining all columns at once using pd.concat(axis=1) instead. To get a de-fragmented frame, use `newframe = frame.copy()`\n",
      "  pr_df[f\"title_wordcount_{word}\"] = preproc_titles.apply(\n",
      "/tmp/ipykernel_142/4191214648.py:3: PerformanceWarning: DataFrame is highly fragmented.  This is usually the result of calling `frame.insert` many times, which has poor performance.  Consider joining all columns at once using pd.concat(axis=1) instead. To get a de-fragmented frame, use `newframe = frame.copy()`\n",
      "  pr_df[f\"title_wordcount_{word}\"] = preproc_titles.apply(\n",
      "/tmp/ipykernel_142/4191214648.py:3: PerformanceWarning: DataFrame is highly fragmented.  This is usually the result of calling `frame.insert` many times, which has poor performance.  Consider joining all columns at once using pd.concat(axis=1) instead. To get a de-fragmented frame, use `newframe = frame.copy()`\n",
      "  pr_df[f\"title_wordcount_{word}\"] = preproc_titles.apply(\n",
      "/tmp/ipykernel_142/4191214648.py:3: PerformanceWarning: DataFrame is highly fragmented.  This is usually the result of calling `frame.insert` many times, which has poor performance.  Consider joining all columns at once using pd.concat(axis=1) instead. To get a de-fragmented frame, use `newframe = frame.copy()`\n",
      "  pr_df[f\"title_wordcount_{word}\"] = preproc_titles.apply(\n",
      "/tmp/ipykernel_142/4191214648.py:3: PerformanceWarning: DataFrame is highly fragmented.  This is usually the result of calling `frame.insert` many times, which has poor performance.  Consider joining all columns at once using pd.concat(axis=1) instead. To get a de-fragmented frame, use `newframe = frame.copy()`\n",
      "  pr_df[f\"title_wordcount_{word}\"] = preproc_titles.apply(\n",
      "/tmp/ipykernel_142/4191214648.py:3: PerformanceWarning: DataFrame is highly fragmented.  This is usually the result of calling `frame.insert` many times, which has poor performance.  Consider joining all columns at once using pd.concat(axis=1) instead. To get a de-fragmented frame, use `newframe = frame.copy()`\n",
      "  pr_df[f\"title_wordcount_{word}\"] = preproc_titles.apply(\n",
      "/tmp/ipykernel_142/4191214648.py:3: PerformanceWarning: DataFrame is highly fragmented.  This is usually the result of calling `frame.insert` many times, which has poor performance.  Consider joining all columns at once using pd.concat(axis=1) instead. To get a de-fragmented frame, use `newframe = frame.copy()`\n",
      "  pr_df[f\"title_wordcount_{word}\"] = preproc_titles.apply(\n",
      "/tmp/ipykernel_142/4191214648.py:3: PerformanceWarning: DataFrame is highly fragmented.  This is usually the result of calling `frame.insert` many times, which has poor performance.  Consider joining all columns at once using pd.concat(axis=1) instead. To get a de-fragmented frame, use `newframe = frame.copy()`\n",
      "  pr_df[f\"title_wordcount_{word}\"] = preproc_titles.apply(\n",
      "/tmp/ipykernel_142/4191214648.py:3: PerformanceWarning: DataFrame is highly fragmented.  This is usually the result of calling `frame.insert` many times, which has poor performance.  Consider joining all columns at once using pd.concat(axis=1) instead. To get a de-fragmented frame, use `newframe = frame.copy()`\n",
      "  pr_df[f\"title_wordcount_{word}\"] = preproc_titles.apply(\n",
      "/tmp/ipykernel_142/4191214648.py:3: PerformanceWarning: DataFrame is highly fragmented.  This is usually the result of calling `frame.insert` many times, which has poor performance.  Consider joining all columns at once using pd.concat(axis=1) instead. To get a de-fragmented frame, use `newframe = frame.copy()`\n",
      "  pr_df[f\"title_wordcount_{word}\"] = preproc_titles.apply(\n",
      "/tmp/ipykernel_142/4191214648.py:3: PerformanceWarning: DataFrame is highly fragmented.  This is usually the result of calling `frame.insert` many times, which has poor performance.  Consider joining all columns at once using pd.concat(axis=1) instead. To get a de-fragmented frame, use `newframe = frame.copy()`\n",
      "  pr_df[f\"title_wordcount_{word}\"] = preproc_titles.apply(\n",
      "/tmp/ipykernel_142/4191214648.py:3: PerformanceWarning: DataFrame is highly fragmented.  This is usually the result of calling `frame.insert` many times, which has poor performance.  Consider joining all columns at once using pd.concat(axis=1) instead. To get a de-fragmented frame, use `newframe = frame.copy()`\n",
      "  pr_df[f\"title_wordcount_{word}\"] = preproc_titles.apply(\n",
      "/tmp/ipykernel_142/4191214648.py:3: PerformanceWarning: DataFrame is highly fragmented.  This is usually the result of calling `frame.insert` many times, which has poor performance.  Consider joining all columns at once using pd.concat(axis=1) instead. To get a de-fragmented frame, use `newframe = frame.copy()`\n",
      "  pr_df[f\"title_wordcount_{word}\"] = preproc_titles.apply(\n",
      "/tmp/ipykernel_142/4191214648.py:3: PerformanceWarning: DataFrame is highly fragmented.  This is usually the result of calling `frame.insert` many times, which has poor performance.  Consider joining all columns at once using pd.concat(axis=1) instead. To get a de-fragmented frame, use `newframe = frame.copy()`\n",
      "  pr_df[f\"title_wordcount_{word}\"] = preproc_titles.apply(\n",
      "/tmp/ipykernel_142/4191214648.py:3: PerformanceWarning: DataFrame is highly fragmented.  This is usually the result of calling `frame.insert` many times, which has poor performance.  Consider joining all columns at once using pd.concat(axis=1) instead. To get a de-fragmented frame, use `newframe = frame.copy()`\n",
      "  pr_df[f\"title_wordcount_{word}\"] = preproc_titles.apply(\n",
      "/tmp/ipykernel_142/4191214648.py:3: PerformanceWarning: DataFrame is highly fragmented.  This is usually the result of calling `frame.insert` many times, which has poor performance.  Consider joining all columns at once using pd.concat(axis=1) instead. To get a de-fragmented frame, use `newframe = frame.copy()`\n",
      "  pr_df[f\"title_wordcount_{word}\"] = preproc_titles.apply(\n",
      "/tmp/ipykernel_142/4191214648.py:3: PerformanceWarning: DataFrame is highly fragmented.  This is usually the result of calling `frame.insert` many times, which has poor performance.  Consider joining all columns at once using pd.concat(axis=1) instead. To get a de-fragmented frame, use `newframe = frame.copy()`\n",
      "  pr_df[f\"title_wordcount_{word}\"] = preproc_titles.apply(\n",
      " 46%|████▌     | 209/456 [00:00<00:01, 231.76it/s]/tmp/ipykernel_142/4191214648.py:3: PerformanceWarning: DataFrame is highly fragmented.  This is usually the result of calling `frame.insert` many times, which has poor performance.  Consider joining all columns at once using pd.concat(axis=1) instead. To get a de-fragmented frame, use `newframe = frame.copy()`\n",
      "  pr_df[f\"title_wordcount_{word}\"] = preproc_titles.apply(\n",
      "/tmp/ipykernel_142/4191214648.py:3: PerformanceWarning: DataFrame is highly fragmented.  This is usually the result of calling `frame.insert` many times, which has poor performance.  Consider joining all columns at once using pd.concat(axis=1) instead. To get a de-fragmented frame, use `newframe = frame.copy()`\n",
      "  pr_df[f\"title_wordcount_{word}\"] = preproc_titles.apply(\n",
      "/tmp/ipykernel_142/4191214648.py:3: PerformanceWarning: DataFrame is highly fragmented.  This is usually the result of calling `frame.insert` many times, which has poor performance.  Consider joining all columns at once using pd.concat(axis=1) instead. To get a de-fragmented frame, use `newframe = frame.copy()`\n",
      "  pr_df[f\"title_wordcount_{word}\"] = preproc_titles.apply(\n",
      "/tmp/ipykernel_142/4191214648.py:3: PerformanceWarning: DataFrame is highly fragmented.  This is usually the result of calling `frame.insert` many times, which has poor performance.  Consider joining all columns at once using pd.concat(axis=1) instead. To get a de-fragmented frame, use `newframe = frame.copy()`\n",
      "  pr_df[f\"title_wordcount_{word}\"] = preproc_titles.apply(\n",
      "/tmp/ipykernel_142/4191214648.py:3: PerformanceWarning: DataFrame is highly fragmented.  This is usually the result of calling `frame.insert` many times, which has poor performance.  Consider joining all columns at once using pd.concat(axis=1) instead. To get a de-fragmented frame, use `newframe = frame.copy()`\n",
      "  pr_df[f\"title_wordcount_{word}\"] = preproc_titles.apply(\n",
      "/tmp/ipykernel_142/4191214648.py:3: PerformanceWarning: DataFrame is highly fragmented.  This is usually the result of calling `frame.insert` many times, which has poor performance.  Consider joining all columns at once using pd.concat(axis=1) instead. To get a de-fragmented frame, use `newframe = frame.copy()`\n",
      "  pr_df[f\"title_wordcount_{word}\"] = preproc_titles.apply(\n",
      "/tmp/ipykernel_142/4191214648.py:3: PerformanceWarning: DataFrame is highly fragmented.  This is usually the result of calling `frame.insert` many times, which has poor performance.  Consider joining all columns at once using pd.concat(axis=1) instead. To get a de-fragmented frame, use `newframe = frame.copy()`\n",
      "  pr_df[f\"title_wordcount_{word}\"] = preproc_titles.apply(\n",
      "/tmp/ipykernel_142/4191214648.py:3: PerformanceWarning: DataFrame is highly fragmented.  This is usually the result of calling `frame.insert` many times, which has poor performance.  Consider joining all columns at once using pd.concat(axis=1) instead. To get a de-fragmented frame, use `newframe = frame.copy()`\n",
      "  pr_df[f\"title_wordcount_{word}\"] = preproc_titles.apply(\n",
      "/tmp/ipykernel_142/4191214648.py:3: PerformanceWarning: DataFrame is highly fragmented.  This is usually the result of calling `frame.insert` many times, which has poor performance.  Consider joining all columns at once using pd.concat(axis=1) instead. To get a de-fragmented frame, use `newframe = frame.copy()`\n",
      "  pr_df[f\"title_wordcount_{word}\"] = preproc_titles.apply(\n",
      "/tmp/ipykernel_142/4191214648.py:3: PerformanceWarning: DataFrame is highly fragmented.  This is usually the result of calling `frame.insert` many times, which has poor performance.  Consider joining all columns at once using pd.concat(axis=1) instead. To get a de-fragmented frame, use `newframe = frame.copy()`\n",
      "  pr_df[f\"title_wordcount_{word}\"] = preproc_titles.apply(\n",
      "/tmp/ipykernel_142/4191214648.py:3: PerformanceWarning: DataFrame is highly fragmented.  This is usually the result of calling `frame.insert` many times, which has poor performance.  Consider joining all columns at once using pd.concat(axis=1) instead. To get a de-fragmented frame, use `newframe = frame.copy()`\n",
      "  pr_df[f\"title_wordcount_{word}\"] = preproc_titles.apply(\n",
      "/tmp/ipykernel_142/4191214648.py:3: PerformanceWarning: DataFrame is highly fragmented.  This is usually the result of calling `frame.insert` many times, which has poor performance.  Consider joining all columns at once using pd.concat(axis=1) instead. To get a de-fragmented frame, use `newframe = frame.copy()`\n",
      "  pr_df[f\"title_wordcount_{word}\"] = preproc_titles.apply(\n",
      "/tmp/ipykernel_142/4191214648.py:3: PerformanceWarning: DataFrame is highly fragmented.  This is usually the result of calling `frame.insert` many times, which has poor performance.  Consider joining all columns at once using pd.concat(axis=1) instead. To get a de-fragmented frame, use `newframe = frame.copy()`\n",
      "  pr_df[f\"title_wordcount_{word}\"] = preproc_titles.apply(\n",
      "/tmp/ipykernel_142/4191214648.py:3: PerformanceWarning: DataFrame is highly fragmented.  This is usually the result of calling `frame.insert` many times, which has poor performance.  Consider joining all columns at once using pd.concat(axis=1) instead. To get a de-fragmented frame, use `newframe = frame.copy()`\n",
      "  pr_df[f\"title_wordcount_{word}\"] = preproc_titles.apply(\n",
      "/tmp/ipykernel_142/4191214648.py:3: PerformanceWarning: DataFrame is highly fragmented.  This is usually the result of calling `frame.insert` many times, which has poor performance.  Consider joining all columns at once using pd.concat(axis=1) instead. To get a de-fragmented frame, use `newframe = frame.copy()`\n",
      "  pr_df[f\"title_wordcount_{word}\"] = preproc_titles.apply(\n",
      "/tmp/ipykernel_142/4191214648.py:3: PerformanceWarning: DataFrame is highly fragmented.  This is usually the result of calling `frame.insert` many times, which has poor performance.  Consider joining all columns at once using pd.concat(axis=1) instead. To get a de-fragmented frame, use `newframe = frame.copy()`\n",
      "  pr_df[f\"title_wordcount_{word}\"] = preproc_titles.apply(\n",
      "/tmp/ipykernel_142/4191214648.py:3: PerformanceWarning: DataFrame is highly fragmented.  This is usually the result of calling `frame.insert` many times, which has poor performance.  Consider joining all columns at once using pd.concat(axis=1) instead. To get a de-fragmented frame, use `newframe = frame.copy()`\n",
      "  pr_df[f\"title_wordcount_{word}\"] = preproc_titles.apply(\n",
      "/tmp/ipykernel_142/4191214648.py:3: PerformanceWarning: DataFrame is highly fragmented.  This is usually the result of calling `frame.insert` many times, which has poor performance.  Consider joining all columns at once using pd.concat(axis=1) instead. To get a de-fragmented frame, use `newframe = frame.copy()`\n",
      "  pr_df[f\"title_wordcount_{word}\"] = preproc_titles.apply(\n",
      "/tmp/ipykernel_142/4191214648.py:3: PerformanceWarning: DataFrame is highly fragmented.  This is usually the result of calling `frame.insert` many times, which has poor performance.  Consider joining all columns at once using pd.concat(axis=1) instead. To get a de-fragmented frame, use `newframe = frame.copy()`\n",
      "  pr_df[f\"title_wordcount_{word}\"] = preproc_titles.apply(\n",
      "/tmp/ipykernel_142/4191214648.py:3: PerformanceWarning: DataFrame is highly fragmented.  This is usually the result of calling `frame.insert` many times, which has poor performance.  Consider joining all columns at once using pd.concat(axis=1) instead. To get a de-fragmented frame, use `newframe = frame.copy()`\n",
      "  pr_df[f\"title_wordcount_{word}\"] = preproc_titles.apply(\n",
      "/tmp/ipykernel_142/4191214648.py:3: PerformanceWarning: DataFrame is highly fragmented.  This is usually the result of calling `frame.insert` many times, which has poor performance.  Consider joining all columns at once using pd.concat(axis=1) instead. To get a de-fragmented frame, use `newframe = frame.copy()`\n",
      "  pr_df[f\"title_wordcount_{word}\"] = preproc_titles.apply(\n",
      "/tmp/ipykernel_142/4191214648.py:3: PerformanceWarning: DataFrame is highly fragmented.  This is usually the result of calling `frame.insert` many times, which has poor performance.  Consider joining all columns at once using pd.concat(axis=1) instead. To get a de-fragmented frame, use `newframe = frame.copy()`\n",
      "  pr_df[f\"title_wordcount_{word}\"] = preproc_titles.apply(\n",
      "/tmp/ipykernel_142/4191214648.py:3: PerformanceWarning: DataFrame is highly fragmented.  This is usually the result of calling `frame.insert` many times, which has poor performance.  Consider joining all columns at once using pd.concat(axis=1) instead. To get a de-fragmented frame, use `newframe = frame.copy()`\n",
      "  pr_df[f\"title_wordcount_{word}\"] = preproc_titles.apply(\n",
      "/tmp/ipykernel_142/4191214648.py:3: PerformanceWarning: DataFrame is highly fragmented.  This is usually the result of calling `frame.insert` many times, which has poor performance.  Consider joining all columns at once using pd.concat(axis=1) instead. To get a de-fragmented frame, use `newframe = frame.copy()`\n",
      "  pr_df[f\"title_wordcount_{word}\"] = preproc_titles.apply(\n",
      " 51%|█████     | 233/456 [00:00<00:01, 217.88it/s]/tmp/ipykernel_142/4191214648.py:3: PerformanceWarning: DataFrame is highly fragmented.  This is usually the result of calling `frame.insert` many times, which has poor performance.  Consider joining all columns at once using pd.concat(axis=1) instead. To get a de-fragmented frame, use `newframe = frame.copy()`\n",
      "  pr_df[f\"title_wordcount_{word}\"] = preproc_titles.apply(\n",
      "/tmp/ipykernel_142/4191214648.py:3: PerformanceWarning: DataFrame is highly fragmented.  This is usually the result of calling `frame.insert` many times, which has poor performance.  Consider joining all columns at once using pd.concat(axis=1) instead. To get a de-fragmented frame, use `newframe = frame.copy()`\n",
      "  pr_df[f\"title_wordcount_{word}\"] = preproc_titles.apply(\n",
      "/tmp/ipykernel_142/4191214648.py:3: PerformanceWarning: DataFrame is highly fragmented.  This is usually the result of calling `frame.insert` many times, which has poor performance.  Consider joining all columns at once using pd.concat(axis=1) instead. To get a de-fragmented frame, use `newframe = frame.copy()`\n",
      "  pr_df[f\"title_wordcount_{word}\"] = preproc_titles.apply(\n",
      "/tmp/ipykernel_142/4191214648.py:3: PerformanceWarning: DataFrame is highly fragmented.  This is usually the result of calling `frame.insert` many times, which has poor performance.  Consider joining all columns at once using pd.concat(axis=1) instead. To get a de-fragmented frame, use `newframe = frame.copy()`\n",
      "  pr_df[f\"title_wordcount_{word}\"] = preproc_titles.apply(\n",
      "/tmp/ipykernel_142/4191214648.py:3: PerformanceWarning: DataFrame is highly fragmented.  This is usually the result of calling `frame.insert` many times, which has poor performance.  Consider joining all columns at once using pd.concat(axis=1) instead. To get a de-fragmented frame, use `newframe = frame.copy()`\n",
      "  pr_df[f\"title_wordcount_{word}\"] = preproc_titles.apply(\n",
      "/tmp/ipykernel_142/4191214648.py:3: PerformanceWarning: DataFrame is highly fragmented.  This is usually the result of calling `frame.insert` many times, which has poor performance.  Consider joining all columns at once using pd.concat(axis=1) instead. To get a de-fragmented frame, use `newframe = frame.copy()`\n",
      "  pr_df[f\"title_wordcount_{word}\"] = preproc_titles.apply(\n",
      "/tmp/ipykernel_142/4191214648.py:3: PerformanceWarning: DataFrame is highly fragmented.  This is usually the result of calling `frame.insert` many times, which has poor performance.  Consider joining all columns at once using pd.concat(axis=1) instead. To get a de-fragmented frame, use `newframe = frame.copy()`\n",
      "  pr_df[f\"title_wordcount_{word}\"] = preproc_titles.apply(\n",
      "/tmp/ipykernel_142/4191214648.py:3: PerformanceWarning: DataFrame is highly fragmented.  This is usually the result of calling `frame.insert` many times, which has poor performance.  Consider joining all columns at once using pd.concat(axis=1) instead. To get a de-fragmented frame, use `newframe = frame.copy()`\n",
      "  pr_df[f\"title_wordcount_{word}\"] = preproc_titles.apply(\n",
      "/tmp/ipykernel_142/4191214648.py:3: PerformanceWarning: DataFrame is highly fragmented.  This is usually the result of calling `frame.insert` many times, which has poor performance.  Consider joining all columns at once using pd.concat(axis=1) instead. To get a de-fragmented frame, use `newframe = frame.copy()`\n",
      "  pr_df[f\"title_wordcount_{word}\"] = preproc_titles.apply(\n",
      "/tmp/ipykernel_142/4191214648.py:3: PerformanceWarning: DataFrame is highly fragmented.  This is usually the result of calling `frame.insert` many times, which has poor performance.  Consider joining all columns at once using pd.concat(axis=1) instead. To get a de-fragmented frame, use `newframe = frame.copy()`\n",
      "  pr_df[f\"title_wordcount_{word}\"] = preproc_titles.apply(\n",
      "/tmp/ipykernel_142/4191214648.py:3: PerformanceWarning: DataFrame is highly fragmented.  This is usually the result of calling `frame.insert` many times, which has poor performance.  Consider joining all columns at once using pd.concat(axis=1) instead. To get a de-fragmented frame, use `newframe = frame.copy()`\n",
      "  pr_df[f\"title_wordcount_{word}\"] = preproc_titles.apply(\n",
      "/tmp/ipykernel_142/4191214648.py:3: PerformanceWarning: DataFrame is highly fragmented.  This is usually the result of calling `frame.insert` many times, which has poor performance.  Consider joining all columns at once using pd.concat(axis=1) instead. To get a de-fragmented frame, use `newframe = frame.copy()`\n",
      "  pr_df[f\"title_wordcount_{word}\"] = preproc_titles.apply(\n",
      "/tmp/ipykernel_142/4191214648.py:3: PerformanceWarning: DataFrame is highly fragmented.  This is usually the result of calling `frame.insert` many times, which has poor performance.  Consider joining all columns at once using pd.concat(axis=1) instead. To get a de-fragmented frame, use `newframe = frame.copy()`\n",
      "  pr_df[f\"title_wordcount_{word}\"] = preproc_titles.apply(\n",
      "/tmp/ipykernel_142/4191214648.py:3: PerformanceWarning: DataFrame is highly fragmented.  This is usually the result of calling `frame.insert` many times, which has poor performance.  Consider joining all columns at once using pd.concat(axis=1) instead. To get a de-fragmented frame, use `newframe = frame.copy()`\n",
      "  pr_df[f\"title_wordcount_{word}\"] = preproc_titles.apply(\n",
      "/tmp/ipykernel_142/4191214648.py:3: PerformanceWarning: DataFrame is highly fragmented.  This is usually the result of calling `frame.insert` many times, which has poor performance.  Consider joining all columns at once using pd.concat(axis=1) instead. To get a de-fragmented frame, use `newframe = frame.copy()`\n",
      "  pr_df[f\"title_wordcount_{word}\"] = preproc_titles.apply(\n",
      "/tmp/ipykernel_142/4191214648.py:3: PerformanceWarning: DataFrame is highly fragmented.  This is usually the result of calling `frame.insert` many times, which has poor performance.  Consider joining all columns at once using pd.concat(axis=1) instead. To get a de-fragmented frame, use `newframe = frame.copy()`\n",
      "  pr_df[f\"title_wordcount_{word}\"] = preproc_titles.apply(\n",
      "/tmp/ipykernel_142/4191214648.py:3: PerformanceWarning: DataFrame is highly fragmented.  This is usually the result of calling `frame.insert` many times, which has poor performance.  Consider joining all columns at once using pd.concat(axis=1) instead. To get a de-fragmented frame, use `newframe = frame.copy()`\n",
      "  pr_df[f\"title_wordcount_{word}\"] = preproc_titles.apply(\n",
      "/tmp/ipykernel_142/4191214648.py:3: PerformanceWarning: DataFrame is highly fragmented.  This is usually the result of calling `frame.insert` many times, which has poor performance.  Consider joining all columns at once using pd.concat(axis=1) instead. To get a de-fragmented frame, use `newframe = frame.copy()`\n",
      "  pr_df[f\"title_wordcount_{word}\"] = preproc_titles.apply(\n",
      "/tmp/ipykernel_142/4191214648.py:3: PerformanceWarning: DataFrame is highly fragmented.  This is usually the result of calling `frame.insert` many times, which has poor performance.  Consider joining all columns at once using pd.concat(axis=1) instead. To get a de-fragmented frame, use `newframe = frame.copy()`\n",
      "  pr_df[f\"title_wordcount_{word}\"] = preproc_titles.apply(\n",
      "/tmp/ipykernel_142/4191214648.py:3: PerformanceWarning: DataFrame is highly fragmented.  This is usually the result of calling `frame.insert` many times, which has poor performance.  Consider joining all columns at once using pd.concat(axis=1) instead. To get a de-fragmented frame, use `newframe = frame.copy()`\n",
      "  pr_df[f\"title_wordcount_{word}\"] = preproc_titles.apply(\n",
      "/tmp/ipykernel_142/4191214648.py:3: PerformanceWarning: DataFrame is highly fragmented.  This is usually the result of calling `frame.insert` many times, which has poor performance.  Consider joining all columns at once using pd.concat(axis=1) instead. To get a de-fragmented frame, use `newframe = frame.copy()`\n",
      "  pr_df[f\"title_wordcount_{word}\"] = preproc_titles.apply(\n",
      "/tmp/ipykernel_142/4191214648.py:3: PerformanceWarning: DataFrame is highly fragmented.  This is usually the result of calling `frame.insert` many times, which has poor performance.  Consider joining all columns at once using pd.concat(axis=1) instead. To get a de-fragmented frame, use `newframe = frame.copy()`\n",
      "  pr_df[f\"title_wordcount_{word}\"] = preproc_titles.apply(\n",
      " 56%|█████▌    | 255/456 [00:01<00:00, 208.90it/s]/tmp/ipykernel_142/4191214648.py:3: PerformanceWarning: DataFrame is highly fragmented.  This is usually the result of calling `frame.insert` many times, which has poor performance.  Consider joining all columns at once using pd.concat(axis=1) instead. To get a de-fragmented frame, use `newframe = frame.copy()`\n",
      "  pr_df[f\"title_wordcount_{word}\"] = preproc_titles.apply(\n",
      "/tmp/ipykernel_142/4191214648.py:3: PerformanceWarning: DataFrame is highly fragmented.  This is usually the result of calling `frame.insert` many times, which has poor performance.  Consider joining all columns at once using pd.concat(axis=1) instead. To get a de-fragmented frame, use `newframe = frame.copy()`\n",
      "  pr_df[f\"title_wordcount_{word}\"] = preproc_titles.apply(\n",
      "/tmp/ipykernel_142/4191214648.py:3: PerformanceWarning: DataFrame is highly fragmented.  This is usually the result of calling `frame.insert` many times, which has poor performance.  Consider joining all columns at once using pd.concat(axis=1) instead. To get a de-fragmented frame, use `newframe = frame.copy()`\n",
      "  pr_df[f\"title_wordcount_{word}\"] = preproc_titles.apply(\n",
      "/tmp/ipykernel_142/4191214648.py:3: PerformanceWarning: DataFrame is highly fragmented.  This is usually the result of calling `frame.insert` many times, which has poor performance.  Consider joining all columns at once using pd.concat(axis=1) instead. To get a de-fragmented frame, use `newframe = frame.copy()`\n",
      "  pr_df[f\"title_wordcount_{word}\"] = preproc_titles.apply(\n",
      "/tmp/ipykernel_142/4191214648.py:3: PerformanceWarning: DataFrame is highly fragmented.  This is usually the result of calling `frame.insert` many times, which has poor performance.  Consider joining all columns at once using pd.concat(axis=1) instead. To get a de-fragmented frame, use `newframe = frame.copy()`\n",
      "  pr_df[f\"title_wordcount_{word}\"] = preproc_titles.apply(\n",
      "/tmp/ipykernel_142/4191214648.py:3: PerformanceWarning: DataFrame is highly fragmented.  This is usually the result of calling `frame.insert` many times, which has poor performance.  Consider joining all columns at once using pd.concat(axis=1) instead. To get a de-fragmented frame, use `newframe = frame.copy()`\n",
      "  pr_df[f\"title_wordcount_{word}\"] = preproc_titles.apply(\n",
      "/tmp/ipykernel_142/4191214648.py:3: PerformanceWarning: DataFrame is highly fragmented.  This is usually the result of calling `frame.insert` many times, which has poor performance.  Consider joining all columns at once using pd.concat(axis=1) instead. To get a de-fragmented frame, use `newframe = frame.copy()`\n",
      "  pr_df[f\"title_wordcount_{word}\"] = preproc_titles.apply(\n",
      "/tmp/ipykernel_142/4191214648.py:3: PerformanceWarning: DataFrame is highly fragmented.  This is usually the result of calling `frame.insert` many times, which has poor performance.  Consider joining all columns at once using pd.concat(axis=1) instead. To get a de-fragmented frame, use `newframe = frame.copy()`\n",
      "  pr_df[f\"title_wordcount_{word}\"] = preproc_titles.apply(\n",
      "/tmp/ipykernel_142/4191214648.py:3: PerformanceWarning: DataFrame is highly fragmented.  This is usually the result of calling `frame.insert` many times, which has poor performance.  Consider joining all columns at once using pd.concat(axis=1) instead. To get a de-fragmented frame, use `newframe = frame.copy()`\n",
      "  pr_df[f\"title_wordcount_{word}\"] = preproc_titles.apply(\n",
      "/tmp/ipykernel_142/4191214648.py:3: PerformanceWarning: DataFrame is highly fragmented.  This is usually the result of calling `frame.insert` many times, which has poor performance.  Consider joining all columns at once using pd.concat(axis=1) instead. To get a de-fragmented frame, use `newframe = frame.copy()`\n",
      "  pr_df[f\"title_wordcount_{word}\"] = preproc_titles.apply(\n",
      "/tmp/ipykernel_142/4191214648.py:3: PerformanceWarning: DataFrame is highly fragmented.  This is usually the result of calling `frame.insert` many times, which has poor performance.  Consider joining all columns at once using pd.concat(axis=1) instead. To get a de-fragmented frame, use `newframe = frame.copy()`\n",
      "  pr_df[f\"title_wordcount_{word}\"] = preproc_titles.apply(\n",
      "/tmp/ipykernel_142/4191214648.py:3: PerformanceWarning: DataFrame is highly fragmented.  This is usually the result of calling `frame.insert` many times, which has poor performance.  Consider joining all columns at once using pd.concat(axis=1) instead. To get a de-fragmented frame, use `newframe = frame.copy()`\n",
      "  pr_df[f\"title_wordcount_{word}\"] = preproc_titles.apply(\n",
      "/tmp/ipykernel_142/4191214648.py:3: PerformanceWarning: DataFrame is highly fragmented.  This is usually the result of calling `frame.insert` many times, which has poor performance.  Consider joining all columns at once using pd.concat(axis=1) instead. To get a de-fragmented frame, use `newframe = frame.copy()`\n",
      "  pr_df[f\"title_wordcount_{word}\"] = preproc_titles.apply(\n",
      "/tmp/ipykernel_142/4191214648.py:3: PerformanceWarning: DataFrame is highly fragmented.  This is usually the result of calling `frame.insert` many times, which has poor performance.  Consider joining all columns at once using pd.concat(axis=1) instead. To get a de-fragmented frame, use `newframe = frame.copy()`\n",
      "  pr_df[f\"title_wordcount_{word}\"] = preproc_titles.apply(\n",
      "/tmp/ipykernel_142/4191214648.py:3: PerformanceWarning: DataFrame is highly fragmented.  This is usually the result of calling `frame.insert` many times, which has poor performance.  Consider joining all columns at once using pd.concat(axis=1) instead. To get a de-fragmented frame, use `newframe = frame.copy()`\n",
      "  pr_df[f\"title_wordcount_{word}\"] = preproc_titles.apply(\n",
      "/tmp/ipykernel_142/4191214648.py:3: PerformanceWarning: DataFrame is highly fragmented.  This is usually the result of calling `frame.insert` many times, which has poor performance.  Consider joining all columns at once using pd.concat(axis=1) instead. To get a de-fragmented frame, use `newframe = frame.copy()`\n",
      "  pr_df[f\"title_wordcount_{word}\"] = preproc_titles.apply(\n",
      "/tmp/ipykernel_142/4191214648.py:3: PerformanceWarning: DataFrame is highly fragmented.  This is usually the result of calling `frame.insert` many times, which has poor performance.  Consider joining all columns at once using pd.concat(axis=1) instead. To get a de-fragmented frame, use `newframe = frame.copy()`\n",
      "  pr_df[f\"title_wordcount_{word}\"] = preproc_titles.apply(\n",
      "/tmp/ipykernel_142/4191214648.py:3: PerformanceWarning: DataFrame is highly fragmented.  This is usually the result of calling `frame.insert` many times, which has poor performance.  Consider joining all columns at once using pd.concat(axis=1) instead. To get a de-fragmented frame, use `newframe = frame.copy()`\n",
      "  pr_df[f\"title_wordcount_{word}\"] = preproc_titles.apply(\n",
      "/tmp/ipykernel_142/4191214648.py:3: PerformanceWarning: DataFrame is highly fragmented.  This is usually the result of calling `frame.insert` many times, which has poor performance.  Consider joining all columns at once using pd.concat(axis=1) instead. To get a de-fragmented frame, use `newframe = frame.copy()`\n",
      "  pr_df[f\"title_wordcount_{word}\"] = preproc_titles.apply(\n",
      "/tmp/ipykernel_142/4191214648.py:3: PerformanceWarning: DataFrame is highly fragmented.  This is usually the result of calling `frame.insert` many times, which has poor performance.  Consider joining all columns at once using pd.concat(axis=1) instead. To get a de-fragmented frame, use `newframe = frame.copy()`\n",
      "  pr_df[f\"title_wordcount_{word}\"] = preproc_titles.apply(\n",
      "/tmp/ipykernel_142/4191214648.py:3: PerformanceWarning: DataFrame is highly fragmented.  This is usually the result of calling `frame.insert` many times, which has poor performance.  Consider joining all columns at once using pd.concat(axis=1) instead. To get a de-fragmented frame, use `newframe = frame.copy()`\n",
      "  pr_df[f\"title_wordcount_{word}\"] = preproc_titles.apply(\n",
      " 61%|██████    | 276/456 [00:01<00:00, 203.03it/s]/tmp/ipykernel_142/4191214648.py:3: PerformanceWarning: DataFrame is highly fragmented.  This is usually the result of calling `frame.insert` many times, which has poor performance.  Consider joining all columns at once using pd.concat(axis=1) instead. To get a de-fragmented frame, use `newframe = frame.copy()`\n",
      "  pr_df[f\"title_wordcount_{word}\"] = preproc_titles.apply(\n",
      "/tmp/ipykernel_142/4191214648.py:3: PerformanceWarning: DataFrame is highly fragmented.  This is usually the result of calling `frame.insert` many times, which has poor performance.  Consider joining all columns at once using pd.concat(axis=1) instead. To get a de-fragmented frame, use `newframe = frame.copy()`\n",
      "  pr_df[f\"title_wordcount_{word}\"] = preproc_titles.apply(\n",
      "/tmp/ipykernel_142/4191214648.py:3: PerformanceWarning: DataFrame is highly fragmented.  This is usually the result of calling `frame.insert` many times, which has poor performance.  Consider joining all columns at once using pd.concat(axis=1) instead. To get a de-fragmented frame, use `newframe = frame.copy()`\n",
      "  pr_df[f\"title_wordcount_{word}\"] = preproc_titles.apply(\n",
      "/tmp/ipykernel_142/4191214648.py:3: PerformanceWarning: DataFrame is highly fragmented.  This is usually the result of calling `frame.insert` many times, which has poor performance.  Consider joining all columns at once using pd.concat(axis=1) instead. To get a de-fragmented frame, use `newframe = frame.copy()`\n",
      "  pr_df[f\"title_wordcount_{word}\"] = preproc_titles.apply(\n",
      "/tmp/ipykernel_142/4191214648.py:3: PerformanceWarning: DataFrame is highly fragmented.  This is usually the result of calling `frame.insert` many times, which has poor performance.  Consider joining all columns at once using pd.concat(axis=1) instead. To get a de-fragmented frame, use `newframe = frame.copy()`\n",
      "  pr_df[f\"title_wordcount_{word}\"] = preproc_titles.apply(\n",
      "/tmp/ipykernel_142/4191214648.py:3: PerformanceWarning: DataFrame is highly fragmented.  This is usually the result of calling `frame.insert` many times, which has poor performance.  Consider joining all columns at once using pd.concat(axis=1) instead. To get a de-fragmented frame, use `newframe = frame.copy()`\n",
      "  pr_df[f\"title_wordcount_{word}\"] = preproc_titles.apply(\n",
      "/tmp/ipykernel_142/4191214648.py:3: PerformanceWarning: DataFrame is highly fragmented.  This is usually the result of calling `frame.insert` many times, which has poor performance.  Consider joining all columns at once using pd.concat(axis=1) instead. To get a de-fragmented frame, use `newframe = frame.copy()`\n",
      "  pr_df[f\"title_wordcount_{word}\"] = preproc_titles.apply(\n",
      "/tmp/ipykernel_142/4191214648.py:3: PerformanceWarning: DataFrame is highly fragmented.  This is usually the result of calling `frame.insert` many times, which has poor performance.  Consider joining all columns at once using pd.concat(axis=1) instead. To get a de-fragmented frame, use `newframe = frame.copy()`\n",
      "  pr_df[f\"title_wordcount_{word}\"] = preproc_titles.apply(\n",
      "/tmp/ipykernel_142/4191214648.py:3: PerformanceWarning: DataFrame is highly fragmented.  This is usually the result of calling `frame.insert` many times, which has poor performance.  Consider joining all columns at once using pd.concat(axis=1) instead. To get a de-fragmented frame, use `newframe = frame.copy()`\n",
      "  pr_df[f\"title_wordcount_{word}\"] = preproc_titles.apply(\n",
      "/tmp/ipykernel_142/4191214648.py:3: PerformanceWarning: DataFrame is highly fragmented.  This is usually the result of calling `frame.insert` many times, which has poor performance.  Consider joining all columns at once using pd.concat(axis=1) instead. To get a de-fragmented frame, use `newframe = frame.copy()`\n",
      "  pr_df[f\"title_wordcount_{word}\"] = preproc_titles.apply(\n",
      "/tmp/ipykernel_142/4191214648.py:3: PerformanceWarning: DataFrame is highly fragmented.  This is usually the result of calling `frame.insert` many times, which has poor performance.  Consider joining all columns at once using pd.concat(axis=1) instead. To get a de-fragmented frame, use `newframe = frame.copy()`\n",
      "  pr_df[f\"title_wordcount_{word}\"] = preproc_titles.apply(\n",
      "/tmp/ipykernel_142/4191214648.py:3: PerformanceWarning: DataFrame is highly fragmented.  This is usually the result of calling `frame.insert` many times, which has poor performance.  Consider joining all columns at once using pd.concat(axis=1) instead. To get a de-fragmented frame, use `newframe = frame.copy()`\n",
      "  pr_df[f\"title_wordcount_{word}\"] = preproc_titles.apply(\n",
      "/tmp/ipykernel_142/4191214648.py:3: PerformanceWarning: DataFrame is highly fragmented.  This is usually the result of calling `frame.insert` many times, which has poor performance.  Consider joining all columns at once using pd.concat(axis=1) instead. To get a de-fragmented frame, use `newframe = frame.copy()`\n",
      "  pr_df[f\"title_wordcount_{word}\"] = preproc_titles.apply(\n",
      "/tmp/ipykernel_142/4191214648.py:3: PerformanceWarning: DataFrame is highly fragmented.  This is usually the result of calling `frame.insert` many times, which has poor performance.  Consider joining all columns at once using pd.concat(axis=1) instead. To get a de-fragmented frame, use `newframe = frame.copy()`\n",
      "  pr_df[f\"title_wordcount_{word}\"] = preproc_titles.apply(\n",
      "/tmp/ipykernel_142/4191214648.py:3: PerformanceWarning: DataFrame is highly fragmented.  This is usually the result of calling `frame.insert` many times, which has poor performance.  Consider joining all columns at once using pd.concat(axis=1) instead. To get a de-fragmented frame, use `newframe = frame.copy()`\n",
      "  pr_df[f\"title_wordcount_{word}\"] = preproc_titles.apply(\n",
      "/tmp/ipykernel_142/4191214648.py:3: PerformanceWarning: DataFrame is highly fragmented.  This is usually the result of calling `frame.insert` many times, which has poor performance.  Consider joining all columns at once using pd.concat(axis=1) instead. To get a de-fragmented frame, use `newframe = frame.copy()`\n",
      "  pr_df[f\"title_wordcount_{word}\"] = preproc_titles.apply(\n",
      "/tmp/ipykernel_142/4191214648.py:3: PerformanceWarning: DataFrame is highly fragmented.  This is usually the result of calling `frame.insert` many times, which has poor performance.  Consider joining all columns at once using pd.concat(axis=1) instead. To get a de-fragmented frame, use `newframe = frame.copy()`\n",
      "  pr_df[f\"title_wordcount_{word}\"] = preproc_titles.apply(\n",
      "/tmp/ipykernel_142/4191214648.py:3: PerformanceWarning: DataFrame is highly fragmented.  This is usually the result of calling `frame.insert` many times, which has poor performance.  Consider joining all columns at once using pd.concat(axis=1) instead. To get a de-fragmented frame, use `newframe = frame.copy()`\n",
      "  pr_df[f\"title_wordcount_{word}\"] = preproc_titles.apply(\n",
      "/tmp/ipykernel_142/4191214648.py:3: PerformanceWarning: DataFrame is highly fragmented.  This is usually the result of calling `frame.insert` many times, which has poor performance.  Consider joining all columns at once using pd.concat(axis=1) instead. To get a de-fragmented frame, use `newframe = frame.copy()`\n",
      "  pr_df[f\"title_wordcount_{word}\"] = preproc_titles.apply(\n",
      "/tmp/ipykernel_142/4191214648.py:3: PerformanceWarning: DataFrame is highly fragmented.  This is usually the result of calling `frame.insert` many times, which has poor performance.  Consider joining all columns at once using pd.concat(axis=1) instead. To get a de-fragmented frame, use `newframe = frame.copy()`\n",
      "  pr_df[f\"title_wordcount_{word}\"] = preproc_titles.apply(\n",
      " 65%|██████▍   | 296/456 [00:01<00:00, 189.11it/s]/tmp/ipykernel_142/4191214648.py:3: PerformanceWarning: DataFrame is highly fragmented.  This is usually the result of calling `frame.insert` many times, which has poor performance.  Consider joining all columns at once using pd.concat(axis=1) instead. To get a de-fragmented frame, use `newframe = frame.copy()`\n",
      "  pr_df[f\"title_wordcount_{word}\"] = preproc_titles.apply(\n",
      "/tmp/ipykernel_142/4191214648.py:3: PerformanceWarning: DataFrame is highly fragmented.  This is usually the result of calling `frame.insert` many times, which has poor performance.  Consider joining all columns at once using pd.concat(axis=1) instead. To get a de-fragmented frame, use `newframe = frame.copy()`\n",
      "  pr_df[f\"title_wordcount_{word}\"] = preproc_titles.apply(\n",
      "/tmp/ipykernel_142/4191214648.py:3: PerformanceWarning: DataFrame is highly fragmented.  This is usually the result of calling `frame.insert` many times, which has poor performance.  Consider joining all columns at once using pd.concat(axis=1) instead. To get a de-fragmented frame, use `newframe = frame.copy()`\n",
      "  pr_df[f\"title_wordcount_{word}\"] = preproc_titles.apply(\n",
      "/tmp/ipykernel_142/4191214648.py:3: PerformanceWarning: DataFrame is highly fragmented.  This is usually the result of calling `frame.insert` many times, which has poor performance.  Consider joining all columns at once using pd.concat(axis=1) instead. To get a de-fragmented frame, use `newframe = frame.copy()`\n",
      "  pr_df[f\"title_wordcount_{word}\"] = preproc_titles.apply(\n",
      "/tmp/ipykernel_142/4191214648.py:3: PerformanceWarning: DataFrame is highly fragmented.  This is usually the result of calling `frame.insert` many times, which has poor performance.  Consider joining all columns at once using pd.concat(axis=1) instead. To get a de-fragmented frame, use `newframe = frame.copy()`\n",
      "  pr_df[f\"title_wordcount_{word}\"] = preproc_titles.apply(\n",
      "/tmp/ipykernel_142/4191214648.py:3: PerformanceWarning: DataFrame is highly fragmented.  This is usually the result of calling `frame.insert` many times, which has poor performance.  Consider joining all columns at once using pd.concat(axis=1) instead. To get a de-fragmented frame, use `newframe = frame.copy()`\n",
      "  pr_df[f\"title_wordcount_{word}\"] = preproc_titles.apply(\n",
      "/tmp/ipykernel_142/4191214648.py:3: PerformanceWarning: DataFrame is highly fragmented.  This is usually the result of calling `frame.insert` many times, which has poor performance.  Consider joining all columns at once using pd.concat(axis=1) instead. To get a de-fragmented frame, use `newframe = frame.copy()`\n",
      "  pr_df[f\"title_wordcount_{word}\"] = preproc_titles.apply(\n",
      "/tmp/ipykernel_142/4191214648.py:3: PerformanceWarning: DataFrame is highly fragmented.  This is usually the result of calling `frame.insert` many times, which has poor performance.  Consider joining all columns at once using pd.concat(axis=1) instead. To get a de-fragmented frame, use `newframe = frame.copy()`\n",
      "  pr_df[f\"title_wordcount_{word}\"] = preproc_titles.apply(\n",
      "/tmp/ipykernel_142/4191214648.py:3: PerformanceWarning: DataFrame is highly fragmented.  This is usually the result of calling `frame.insert` many times, which has poor performance.  Consider joining all columns at once using pd.concat(axis=1) instead. To get a de-fragmented frame, use `newframe = frame.copy()`\n",
      "  pr_df[f\"title_wordcount_{word}\"] = preproc_titles.apply(\n",
      "/tmp/ipykernel_142/4191214648.py:3: PerformanceWarning: DataFrame is highly fragmented.  This is usually the result of calling `frame.insert` many times, which has poor performance.  Consider joining all columns at once using pd.concat(axis=1) instead. To get a de-fragmented frame, use `newframe = frame.copy()`\n",
      "  pr_df[f\"title_wordcount_{word}\"] = preproc_titles.apply(\n",
      "/tmp/ipykernel_142/4191214648.py:3: PerformanceWarning: DataFrame is highly fragmented.  This is usually the result of calling `frame.insert` many times, which has poor performance.  Consider joining all columns at once using pd.concat(axis=1) instead. To get a de-fragmented frame, use `newframe = frame.copy()`\n",
      "  pr_df[f\"title_wordcount_{word}\"] = preproc_titles.apply(\n",
      "/tmp/ipykernel_142/4191214648.py:3: PerformanceWarning: DataFrame is highly fragmented.  This is usually the result of calling `frame.insert` many times, which has poor performance.  Consider joining all columns at once using pd.concat(axis=1) instead. To get a de-fragmented frame, use `newframe = frame.copy()`\n",
      "  pr_df[f\"title_wordcount_{word}\"] = preproc_titles.apply(\n",
      "/tmp/ipykernel_142/4191214648.py:3: PerformanceWarning: DataFrame is highly fragmented.  This is usually the result of calling `frame.insert` many times, which has poor performance.  Consider joining all columns at once using pd.concat(axis=1) instead. To get a de-fragmented frame, use `newframe = frame.copy()`\n",
      "  pr_df[f\"title_wordcount_{word}\"] = preproc_titles.apply(\n",
      "/tmp/ipykernel_142/4191214648.py:3: PerformanceWarning: DataFrame is highly fragmented.  This is usually the result of calling `frame.insert` many times, which has poor performance.  Consider joining all columns at once using pd.concat(axis=1) instead. To get a de-fragmented frame, use `newframe = frame.copy()`\n",
      "  pr_df[f\"title_wordcount_{word}\"] = preproc_titles.apply(\n",
      "/tmp/ipykernel_142/4191214648.py:3: PerformanceWarning: DataFrame is highly fragmented.  This is usually the result of calling `frame.insert` many times, which has poor performance.  Consider joining all columns at once using pd.concat(axis=1) instead. To get a de-fragmented frame, use `newframe = frame.copy()`\n",
      "  pr_df[f\"title_wordcount_{word}\"] = preproc_titles.apply(\n",
      "/tmp/ipykernel_142/4191214648.py:3: PerformanceWarning: DataFrame is highly fragmented.  This is usually the result of calling `frame.insert` many times, which has poor performance.  Consider joining all columns at once using pd.concat(axis=1) instead. To get a de-fragmented frame, use `newframe = frame.copy()`\n",
      "  pr_df[f\"title_wordcount_{word}\"] = preproc_titles.apply(\n",
      "/tmp/ipykernel_142/4191214648.py:3: PerformanceWarning: DataFrame is highly fragmented.  This is usually the result of calling `frame.insert` many times, which has poor performance.  Consider joining all columns at once using pd.concat(axis=1) instead. To get a de-fragmented frame, use `newframe = frame.copy()`\n",
      "  pr_df[f\"title_wordcount_{word}\"] = preproc_titles.apply(\n",
      "/tmp/ipykernel_142/4191214648.py:3: PerformanceWarning: DataFrame is highly fragmented.  This is usually the result of calling `frame.insert` many times, which has poor performance.  Consider joining all columns at once using pd.concat(axis=1) instead. To get a de-fragmented frame, use `newframe = frame.copy()`\n",
      "  pr_df[f\"title_wordcount_{word}\"] = preproc_titles.apply(\n",
      "/tmp/ipykernel_142/4191214648.py:3: PerformanceWarning: DataFrame is highly fragmented.  This is usually the result of calling `frame.insert` many times, which has poor performance.  Consider joining all columns at once using pd.concat(axis=1) instead. To get a de-fragmented frame, use `newframe = frame.copy()`\n",
      "  pr_df[f\"title_wordcount_{word}\"] = preproc_titles.apply(\n",
      " 69%|██████▉   | 315/456 [00:01<00:00, 188.54it/s]/tmp/ipykernel_142/4191214648.py:3: PerformanceWarning: DataFrame is highly fragmented.  This is usually the result of calling `frame.insert` many times, which has poor performance.  Consider joining all columns at once using pd.concat(axis=1) instead. To get a de-fragmented frame, use `newframe = frame.copy()`\n",
      "  pr_df[f\"title_wordcount_{word}\"] = preproc_titles.apply(\n",
      "/tmp/ipykernel_142/4191214648.py:3: PerformanceWarning: DataFrame is highly fragmented.  This is usually the result of calling `frame.insert` many times, which has poor performance.  Consider joining all columns at once using pd.concat(axis=1) instead. To get a de-fragmented frame, use `newframe = frame.copy()`\n",
      "  pr_df[f\"title_wordcount_{word}\"] = preproc_titles.apply(\n",
      "/tmp/ipykernel_142/4191214648.py:3: PerformanceWarning: DataFrame is highly fragmented.  This is usually the result of calling `frame.insert` many times, which has poor performance.  Consider joining all columns at once using pd.concat(axis=1) instead. To get a de-fragmented frame, use `newframe = frame.copy()`\n",
      "  pr_df[f\"title_wordcount_{word}\"] = preproc_titles.apply(\n",
      "/tmp/ipykernel_142/4191214648.py:3: PerformanceWarning: DataFrame is highly fragmented.  This is usually the result of calling `frame.insert` many times, which has poor performance.  Consider joining all columns at once using pd.concat(axis=1) instead. To get a de-fragmented frame, use `newframe = frame.copy()`\n",
      "  pr_df[f\"title_wordcount_{word}\"] = preproc_titles.apply(\n",
      "/tmp/ipykernel_142/4191214648.py:3: PerformanceWarning: DataFrame is highly fragmented.  This is usually the result of calling `frame.insert` many times, which has poor performance.  Consider joining all columns at once using pd.concat(axis=1) instead. To get a de-fragmented frame, use `newframe = frame.copy()`\n",
      "  pr_df[f\"title_wordcount_{word}\"] = preproc_titles.apply(\n",
      "/tmp/ipykernel_142/4191214648.py:3: PerformanceWarning: DataFrame is highly fragmented.  This is usually the result of calling `frame.insert` many times, which has poor performance.  Consider joining all columns at once using pd.concat(axis=1) instead. To get a de-fragmented frame, use `newframe = frame.copy()`\n",
      "  pr_df[f\"title_wordcount_{word}\"] = preproc_titles.apply(\n",
      "/tmp/ipykernel_142/4191214648.py:3: PerformanceWarning: DataFrame is highly fragmented.  This is usually the result of calling `frame.insert` many times, which has poor performance.  Consider joining all columns at once using pd.concat(axis=1) instead. To get a de-fragmented frame, use `newframe = frame.copy()`\n",
      "  pr_df[f\"title_wordcount_{word}\"] = preproc_titles.apply(\n",
      "/tmp/ipykernel_142/4191214648.py:3: PerformanceWarning: DataFrame is highly fragmented.  This is usually the result of calling `frame.insert` many times, which has poor performance.  Consider joining all columns at once using pd.concat(axis=1) instead. To get a de-fragmented frame, use `newframe = frame.copy()`\n",
      "  pr_df[f\"title_wordcount_{word}\"] = preproc_titles.apply(\n",
      "/tmp/ipykernel_142/4191214648.py:3: PerformanceWarning: DataFrame is highly fragmented.  This is usually the result of calling `frame.insert` many times, which has poor performance.  Consider joining all columns at once using pd.concat(axis=1) instead. To get a de-fragmented frame, use `newframe = frame.copy()`\n",
      "  pr_df[f\"title_wordcount_{word}\"] = preproc_titles.apply(\n",
      "/tmp/ipykernel_142/4191214648.py:3: PerformanceWarning: DataFrame is highly fragmented.  This is usually the result of calling `frame.insert` many times, which has poor performance.  Consider joining all columns at once using pd.concat(axis=1) instead. To get a de-fragmented frame, use `newframe = frame.copy()`\n",
      "  pr_df[f\"title_wordcount_{word}\"] = preproc_titles.apply(\n",
      "/tmp/ipykernel_142/4191214648.py:3: PerformanceWarning: DataFrame is highly fragmented.  This is usually the result of calling `frame.insert` many times, which has poor performance.  Consider joining all columns at once using pd.concat(axis=1) instead. To get a de-fragmented frame, use `newframe = frame.copy()`\n",
      "  pr_df[f\"title_wordcount_{word}\"] = preproc_titles.apply(\n",
      "/tmp/ipykernel_142/4191214648.py:3: PerformanceWarning: DataFrame is highly fragmented.  This is usually the result of calling `frame.insert` many times, which has poor performance.  Consider joining all columns at once using pd.concat(axis=1) instead. To get a de-fragmented frame, use `newframe = frame.copy()`\n",
      "  pr_df[f\"title_wordcount_{word}\"] = preproc_titles.apply(\n",
      "/tmp/ipykernel_142/4191214648.py:3: PerformanceWarning: DataFrame is highly fragmented.  This is usually the result of calling `frame.insert` many times, which has poor performance.  Consider joining all columns at once using pd.concat(axis=1) instead. To get a de-fragmented frame, use `newframe = frame.copy()`\n",
      "  pr_df[f\"title_wordcount_{word}\"] = preproc_titles.apply(\n",
      "/tmp/ipykernel_142/4191214648.py:3: PerformanceWarning: DataFrame is highly fragmented.  This is usually the result of calling `frame.insert` many times, which has poor performance.  Consider joining all columns at once using pd.concat(axis=1) instead. To get a de-fragmented frame, use `newframe = frame.copy()`\n",
      "  pr_df[f\"title_wordcount_{word}\"] = preproc_titles.apply(\n",
      "/tmp/ipykernel_142/4191214648.py:3: PerformanceWarning: DataFrame is highly fragmented.  This is usually the result of calling `frame.insert` many times, which has poor performance.  Consider joining all columns at once using pd.concat(axis=1) instead. To get a de-fragmented frame, use `newframe = frame.copy()`\n",
      "  pr_df[f\"title_wordcount_{word}\"] = preproc_titles.apply(\n",
      "/tmp/ipykernel_142/4191214648.py:3: PerformanceWarning: DataFrame is highly fragmented.  This is usually the result of calling `frame.insert` many times, which has poor performance.  Consider joining all columns at once using pd.concat(axis=1) instead. To get a de-fragmented frame, use `newframe = frame.copy()`\n",
      "  pr_df[f\"title_wordcount_{word}\"] = preproc_titles.apply(\n",
      "/tmp/ipykernel_142/4191214648.py:3: PerformanceWarning: DataFrame is highly fragmented.  This is usually the result of calling `frame.insert` many times, which has poor performance.  Consider joining all columns at once using pd.concat(axis=1) instead. To get a de-fragmented frame, use `newframe = frame.copy()`\n",
      "  pr_df[f\"title_wordcount_{word}\"] = preproc_titles.apply(\n",
      "/tmp/ipykernel_142/4191214648.py:3: PerformanceWarning: DataFrame is highly fragmented.  This is usually the result of calling `frame.insert` many times, which has poor performance.  Consider joining all columns at once using pd.concat(axis=1) instead. To get a de-fragmented frame, use `newframe = frame.copy()`\n",
      "  pr_df[f\"title_wordcount_{word}\"] = preproc_titles.apply(\n",
      "/tmp/ipykernel_142/4191214648.py:3: PerformanceWarning: DataFrame is highly fragmented.  This is usually the result of calling `frame.insert` many times, which has poor performance.  Consider joining all columns at once using pd.concat(axis=1) instead. To get a de-fragmented frame, use `newframe = frame.copy()`\n",
      "  pr_df[f\"title_wordcount_{word}\"] = preproc_titles.apply(\n",
      " 73%|███████▎  | 334/456 [00:01<00:00, 187.15it/s]/tmp/ipykernel_142/4191214648.py:3: PerformanceWarning: DataFrame is highly fragmented.  This is usually the result of calling `frame.insert` many times, which has poor performance.  Consider joining all columns at once using pd.concat(axis=1) instead. To get a de-fragmented frame, use `newframe = frame.copy()`\n",
      "  pr_df[f\"title_wordcount_{word}\"] = preproc_titles.apply(\n",
      "/tmp/ipykernel_142/4191214648.py:3: PerformanceWarning: DataFrame is highly fragmented.  This is usually the result of calling `frame.insert` many times, which has poor performance.  Consider joining all columns at once using pd.concat(axis=1) instead. To get a de-fragmented frame, use `newframe = frame.copy()`\n",
      "  pr_df[f\"title_wordcount_{word}\"] = preproc_titles.apply(\n",
      "/tmp/ipykernel_142/4191214648.py:3: PerformanceWarning: DataFrame is highly fragmented.  This is usually the result of calling `frame.insert` many times, which has poor performance.  Consider joining all columns at once using pd.concat(axis=1) instead. To get a de-fragmented frame, use `newframe = frame.copy()`\n",
      "  pr_df[f\"title_wordcount_{word}\"] = preproc_titles.apply(\n",
      "/tmp/ipykernel_142/4191214648.py:3: PerformanceWarning: DataFrame is highly fragmented.  This is usually the result of calling `frame.insert` many times, which has poor performance.  Consider joining all columns at once using pd.concat(axis=1) instead. To get a de-fragmented frame, use `newframe = frame.copy()`\n",
      "  pr_df[f\"title_wordcount_{word}\"] = preproc_titles.apply(\n",
      "/tmp/ipykernel_142/4191214648.py:3: PerformanceWarning: DataFrame is highly fragmented.  This is usually the result of calling `frame.insert` many times, which has poor performance.  Consider joining all columns at once using pd.concat(axis=1) instead. To get a de-fragmented frame, use `newframe = frame.copy()`\n",
      "  pr_df[f\"title_wordcount_{word}\"] = preproc_titles.apply(\n",
      "/tmp/ipykernel_142/4191214648.py:3: PerformanceWarning: DataFrame is highly fragmented.  This is usually the result of calling `frame.insert` many times, which has poor performance.  Consider joining all columns at once using pd.concat(axis=1) instead. To get a de-fragmented frame, use `newframe = frame.copy()`\n",
      "  pr_df[f\"title_wordcount_{word}\"] = preproc_titles.apply(\n",
      "/tmp/ipykernel_142/4191214648.py:3: PerformanceWarning: DataFrame is highly fragmented.  This is usually the result of calling `frame.insert` many times, which has poor performance.  Consider joining all columns at once using pd.concat(axis=1) instead. To get a de-fragmented frame, use `newframe = frame.copy()`\n",
      "  pr_df[f\"title_wordcount_{word}\"] = preproc_titles.apply(\n",
      "/tmp/ipykernel_142/4191214648.py:3: PerformanceWarning: DataFrame is highly fragmented.  This is usually the result of calling `frame.insert` many times, which has poor performance.  Consider joining all columns at once using pd.concat(axis=1) instead. To get a de-fragmented frame, use `newframe = frame.copy()`\n",
      "  pr_df[f\"title_wordcount_{word}\"] = preproc_titles.apply(\n",
      "/tmp/ipykernel_142/4191214648.py:3: PerformanceWarning: DataFrame is highly fragmented.  This is usually the result of calling `frame.insert` many times, which has poor performance.  Consider joining all columns at once using pd.concat(axis=1) instead. To get a de-fragmented frame, use `newframe = frame.copy()`\n",
      "  pr_df[f\"title_wordcount_{word}\"] = preproc_titles.apply(\n",
      "/tmp/ipykernel_142/4191214648.py:3: PerformanceWarning: DataFrame is highly fragmented.  This is usually the result of calling `frame.insert` many times, which has poor performance.  Consider joining all columns at once using pd.concat(axis=1) instead. To get a de-fragmented frame, use `newframe = frame.copy()`\n",
      "  pr_df[f\"title_wordcount_{word}\"] = preproc_titles.apply(\n",
      "/tmp/ipykernel_142/4191214648.py:3: PerformanceWarning: DataFrame is highly fragmented.  This is usually the result of calling `frame.insert` many times, which has poor performance.  Consider joining all columns at once using pd.concat(axis=1) instead. To get a de-fragmented frame, use `newframe = frame.copy()`\n",
      "  pr_df[f\"title_wordcount_{word}\"] = preproc_titles.apply(\n",
      "/tmp/ipykernel_142/4191214648.py:3: PerformanceWarning: DataFrame is highly fragmented.  This is usually the result of calling `frame.insert` many times, which has poor performance.  Consider joining all columns at once using pd.concat(axis=1) instead. To get a de-fragmented frame, use `newframe = frame.copy()`\n",
      "  pr_df[f\"title_wordcount_{word}\"] = preproc_titles.apply(\n",
      "/tmp/ipykernel_142/4191214648.py:3: PerformanceWarning: DataFrame is highly fragmented.  This is usually the result of calling `frame.insert` many times, which has poor performance.  Consider joining all columns at once using pd.concat(axis=1) instead. To get a de-fragmented frame, use `newframe = frame.copy()`\n",
      "  pr_df[f\"title_wordcount_{word}\"] = preproc_titles.apply(\n",
      "/tmp/ipykernel_142/4191214648.py:3: PerformanceWarning: DataFrame is highly fragmented.  This is usually the result of calling `frame.insert` many times, which has poor performance.  Consider joining all columns at once using pd.concat(axis=1) instead. To get a de-fragmented frame, use `newframe = frame.copy()`\n",
      "  pr_df[f\"title_wordcount_{word}\"] = preproc_titles.apply(\n",
      "/tmp/ipykernel_142/4191214648.py:3: PerformanceWarning: DataFrame is highly fragmented.  This is usually the result of calling `frame.insert` many times, which has poor performance.  Consider joining all columns at once using pd.concat(axis=1) instead. To get a de-fragmented frame, use `newframe = frame.copy()`\n",
      "  pr_df[f\"title_wordcount_{word}\"] = preproc_titles.apply(\n",
      "/tmp/ipykernel_142/4191214648.py:3: PerformanceWarning: DataFrame is highly fragmented.  This is usually the result of calling `frame.insert` many times, which has poor performance.  Consider joining all columns at once using pd.concat(axis=1) instead. To get a de-fragmented frame, use `newframe = frame.copy()`\n",
      "  pr_df[f\"title_wordcount_{word}\"] = preproc_titles.apply(\n",
      "/tmp/ipykernel_142/4191214648.py:3: PerformanceWarning: DataFrame is highly fragmented.  This is usually the result of calling `frame.insert` many times, which has poor performance.  Consider joining all columns at once using pd.concat(axis=1) instead. To get a de-fragmented frame, use `newframe = frame.copy()`\n",
      "  pr_df[f\"title_wordcount_{word}\"] = preproc_titles.apply(\n",
      "/tmp/ipykernel_142/4191214648.py:3: PerformanceWarning: DataFrame is highly fragmented.  This is usually the result of calling `frame.insert` many times, which has poor performance.  Consider joining all columns at once using pd.concat(axis=1) instead. To get a de-fragmented frame, use `newframe = frame.copy()`\n",
      "  pr_df[f\"title_wordcount_{word}\"] = preproc_titles.apply(\n",
      "/tmp/ipykernel_142/4191214648.py:3: PerformanceWarning: DataFrame is highly fragmented.  This is usually the result of calling `frame.insert` many times, which has poor performance.  Consider joining all columns at once using pd.concat(axis=1) instead. To get a de-fragmented frame, use `newframe = frame.copy()`\n",
      "  pr_df[f\"title_wordcount_{word}\"] = preproc_titles.apply(\n",
      " 77%|███████▋  | 353/456 [00:01<00:00, 186.67it/s]/tmp/ipykernel_142/4191214648.py:3: PerformanceWarning: DataFrame is highly fragmented.  This is usually the result of calling `frame.insert` many times, which has poor performance.  Consider joining all columns at once using pd.concat(axis=1) instead. To get a de-fragmented frame, use `newframe = frame.copy()`\n",
      "  pr_df[f\"title_wordcount_{word}\"] = preproc_titles.apply(\n",
      "/tmp/ipykernel_142/4191214648.py:3: PerformanceWarning: DataFrame is highly fragmented.  This is usually the result of calling `frame.insert` many times, which has poor performance.  Consider joining all columns at once using pd.concat(axis=1) instead. To get a de-fragmented frame, use `newframe = frame.copy()`\n",
      "  pr_df[f\"title_wordcount_{word}\"] = preproc_titles.apply(\n",
      "/tmp/ipykernel_142/4191214648.py:3: PerformanceWarning: DataFrame is highly fragmented.  This is usually the result of calling `frame.insert` many times, which has poor performance.  Consider joining all columns at once using pd.concat(axis=1) instead. To get a de-fragmented frame, use `newframe = frame.copy()`\n",
      "  pr_df[f\"title_wordcount_{word}\"] = preproc_titles.apply(\n",
      "/tmp/ipykernel_142/4191214648.py:3: PerformanceWarning: DataFrame is highly fragmented.  This is usually the result of calling `frame.insert` many times, which has poor performance.  Consider joining all columns at once using pd.concat(axis=1) instead. To get a de-fragmented frame, use `newframe = frame.copy()`\n",
      "  pr_df[f\"title_wordcount_{word}\"] = preproc_titles.apply(\n",
      "/tmp/ipykernel_142/4191214648.py:3: PerformanceWarning: DataFrame is highly fragmented.  This is usually the result of calling `frame.insert` many times, which has poor performance.  Consider joining all columns at once using pd.concat(axis=1) instead. To get a de-fragmented frame, use `newframe = frame.copy()`\n",
      "  pr_df[f\"title_wordcount_{word}\"] = preproc_titles.apply(\n",
      "/tmp/ipykernel_142/4191214648.py:3: PerformanceWarning: DataFrame is highly fragmented.  This is usually the result of calling `frame.insert` many times, which has poor performance.  Consider joining all columns at once using pd.concat(axis=1) instead. To get a de-fragmented frame, use `newframe = frame.copy()`\n",
      "  pr_df[f\"title_wordcount_{word}\"] = preproc_titles.apply(\n",
      "/tmp/ipykernel_142/4191214648.py:3: PerformanceWarning: DataFrame is highly fragmented.  This is usually the result of calling `frame.insert` many times, which has poor performance.  Consider joining all columns at once using pd.concat(axis=1) instead. To get a de-fragmented frame, use `newframe = frame.copy()`\n",
      "  pr_df[f\"title_wordcount_{word}\"] = preproc_titles.apply(\n",
      "/tmp/ipykernel_142/4191214648.py:3: PerformanceWarning: DataFrame is highly fragmented.  This is usually the result of calling `frame.insert` many times, which has poor performance.  Consider joining all columns at once using pd.concat(axis=1) instead. To get a de-fragmented frame, use `newframe = frame.copy()`\n",
      "  pr_df[f\"title_wordcount_{word}\"] = preproc_titles.apply(\n",
      "/tmp/ipykernel_142/4191214648.py:3: PerformanceWarning: DataFrame is highly fragmented.  This is usually the result of calling `frame.insert` many times, which has poor performance.  Consider joining all columns at once using pd.concat(axis=1) instead. To get a de-fragmented frame, use `newframe = frame.copy()`\n",
      "  pr_df[f\"title_wordcount_{word}\"] = preproc_titles.apply(\n",
      "/tmp/ipykernel_142/4191214648.py:3: PerformanceWarning: DataFrame is highly fragmented.  This is usually the result of calling `frame.insert` many times, which has poor performance.  Consider joining all columns at once using pd.concat(axis=1) instead. To get a de-fragmented frame, use `newframe = frame.copy()`\n",
      "  pr_df[f\"title_wordcount_{word}\"] = preproc_titles.apply(\n",
      "/tmp/ipykernel_142/4191214648.py:3: PerformanceWarning: DataFrame is highly fragmented.  This is usually the result of calling `frame.insert` many times, which has poor performance.  Consider joining all columns at once using pd.concat(axis=1) instead. To get a de-fragmented frame, use `newframe = frame.copy()`\n",
      "  pr_df[f\"title_wordcount_{word}\"] = preproc_titles.apply(\n",
      "/tmp/ipykernel_142/4191214648.py:3: PerformanceWarning: DataFrame is highly fragmented.  This is usually the result of calling `frame.insert` many times, which has poor performance.  Consider joining all columns at once using pd.concat(axis=1) instead. To get a de-fragmented frame, use `newframe = frame.copy()`\n",
      "  pr_df[f\"title_wordcount_{word}\"] = preproc_titles.apply(\n",
      "/tmp/ipykernel_142/4191214648.py:3: PerformanceWarning: DataFrame is highly fragmented.  This is usually the result of calling `frame.insert` many times, which has poor performance.  Consider joining all columns at once using pd.concat(axis=1) instead. To get a de-fragmented frame, use `newframe = frame.copy()`\n",
      "  pr_df[f\"title_wordcount_{word}\"] = preproc_titles.apply(\n",
      "/tmp/ipykernel_142/4191214648.py:3: PerformanceWarning: DataFrame is highly fragmented.  This is usually the result of calling `frame.insert` many times, which has poor performance.  Consider joining all columns at once using pd.concat(axis=1) instead. To get a de-fragmented frame, use `newframe = frame.copy()`\n",
      "  pr_df[f\"title_wordcount_{word}\"] = preproc_titles.apply(\n",
      "/tmp/ipykernel_142/4191214648.py:3: PerformanceWarning: DataFrame is highly fragmented.  This is usually the result of calling `frame.insert` many times, which has poor performance.  Consider joining all columns at once using pd.concat(axis=1) instead. To get a de-fragmented frame, use `newframe = frame.copy()`\n",
      "  pr_df[f\"title_wordcount_{word}\"] = preproc_titles.apply(\n",
      "/tmp/ipykernel_142/4191214648.py:3: PerformanceWarning: DataFrame is highly fragmented.  This is usually the result of calling `frame.insert` many times, which has poor performance.  Consider joining all columns at once using pd.concat(axis=1) instead. To get a de-fragmented frame, use `newframe = frame.copy()`\n",
      "  pr_df[f\"title_wordcount_{word}\"] = preproc_titles.apply(\n",
      "/tmp/ipykernel_142/4191214648.py:3: PerformanceWarning: DataFrame is highly fragmented.  This is usually the result of calling `frame.insert` many times, which has poor performance.  Consider joining all columns at once using pd.concat(axis=1) instead. To get a de-fragmented frame, use `newframe = frame.copy()`\n",
      "  pr_df[f\"title_wordcount_{word}\"] = preproc_titles.apply(\n",
      "/tmp/ipykernel_142/4191214648.py:3: PerformanceWarning: DataFrame is highly fragmented.  This is usually the result of calling `frame.insert` many times, which has poor performance.  Consider joining all columns at once using pd.concat(axis=1) instead. To get a de-fragmented frame, use `newframe = frame.copy()`\n",
      "  pr_df[f\"title_wordcount_{word}\"] = preproc_titles.apply(\n",
      "/tmp/ipykernel_142/4191214648.py:3: PerformanceWarning: DataFrame is highly fragmented.  This is usually the result of calling `frame.insert` many times, which has poor performance.  Consider joining all columns at once using pd.concat(axis=1) instead. To get a de-fragmented frame, use `newframe = frame.copy()`\n",
      "  pr_df[f\"title_wordcount_{word}\"] = preproc_titles.apply(\n",
      " 82%|████████▏ | 372/456 [00:01<00:00, 185.64it/s]/tmp/ipykernel_142/4191214648.py:3: PerformanceWarning: DataFrame is highly fragmented.  This is usually the result of calling `frame.insert` many times, which has poor performance.  Consider joining all columns at once using pd.concat(axis=1) instead. To get a de-fragmented frame, use `newframe = frame.copy()`\n",
      "  pr_df[f\"title_wordcount_{word}\"] = preproc_titles.apply(\n",
      "/tmp/ipykernel_142/4191214648.py:3: PerformanceWarning: DataFrame is highly fragmented.  This is usually the result of calling `frame.insert` many times, which has poor performance.  Consider joining all columns at once using pd.concat(axis=1) instead. To get a de-fragmented frame, use `newframe = frame.copy()`\n",
      "  pr_df[f\"title_wordcount_{word}\"] = preproc_titles.apply(\n",
      "/tmp/ipykernel_142/4191214648.py:3: PerformanceWarning: DataFrame is highly fragmented.  This is usually the result of calling `frame.insert` many times, which has poor performance.  Consider joining all columns at once using pd.concat(axis=1) instead. To get a de-fragmented frame, use `newframe = frame.copy()`\n",
      "  pr_df[f\"title_wordcount_{word}\"] = preproc_titles.apply(\n",
      "/tmp/ipykernel_142/4191214648.py:3: PerformanceWarning: DataFrame is highly fragmented.  This is usually the result of calling `frame.insert` many times, which has poor performance.  Consider joining all columns at once using pd.concat(axis=1) instead. To get a de-fragmented frame, use `newframe = frame.copy()`\n",
      "  pr_df[f\"title_wordcount_{word}\"] = preproc_titles.apply(\n",
      "/tmp/ipykernel_142/4191214648.py:3: PerformanceWarning: DataFrame is highly fragmented.  This is usually the result of calling `frame.insert` many times, which has poor performance.  Consider joining all columns at once using pd.concat(axis=1) instead. To get a de-fragmented frame, use `newframe = frame.copy()`\n",
      "  pr_df[f\"title_wordcount_{word}\"] = preproc_titles.apply(\n",
      "/tmp/ipykernel_142/4191214648.py:3: PerformanceWarning: DataFrame is highly fragmented.  This is usually the result of calling `frame.insert` many times, which has poor performance.  Consider joining all columns at once using pd.concat(axis=1) instead. To get a de-fragmented frame, use `newframe = frame.copy()`\n",
      "  pr_df[f\"title_wordcount_{word}\"] = preproc_titles.apply(\n",
      "/tmp/ipykernel_142/4191214648.py:3: PerformanceWarning: DataFrame is highly fragmented.  This is usually the result of calling `frame.insert` many times, which has poor performance.  Consider joining all columns at once using pd.concat(axis=1) instead. To get a de-fragmented frame, use `newframe = frame.copy()`\n",
      "  pr_df[f\"title_wordcount_{word}\"] = preproc_titles.apply(\n",
      "/tmp/ipykernel_142/4191214648.py:3: PerformanceWarning: DataFrame is highly fragmented.  This is usually the result of calling `frame.insert` many times, which has poor performance.  Consider joining all columns at once using pd.concat(axis=1) instead. To get a de-fragmented frame, use `newframe = frame.copy()`\n",
      "  pr_df[f\"title_wordcount_{word}\"] = preproc_titles.apply(\n",
      "/tmp/ipykernel_142/4191214648.py:3: PerformanceWarning: DataFrame is highly fragmented.  This is usually the result of calling `frame.insert` many times, which has poor performance.  Consider joining all columns at once using pd.concat(axis=1) instead. To get a de-fragmented frame, use `newframe = frame.copy()`\n",
      "  pr_df[f\"title_wordcount_{word}\"] = preproc_titles.apply(\n",
      "/tmp/ipykernel_142/4191214648.py:3: PerformanceWarning: DataFrame is highly fragmented.  This is usually the result of calling `frame.insert` many times, which has poor performance.  Consider joining all columns at once using pd.concat(axis=1) instead. To get a de-fragmented frame, use `newframe = frame.copy()`\n",
      "  pr_df[f\"title_wordcount_{word}\"] = preproc_titles.apply(\n",
      "/tmp/ipykernel_142/4191214648.py:3: PerformanceWarning: DataFrame is highly fragmented.  This is usually the result of calling `frame.insert` many times, which has poor performance.  Consider joining all columns at once using pd.concat(axis=1) instead. To get a de-fragmented frame, use `newframe = frame.copy()`\n",
      "  pr_df[f\"title_wordcount_{word}\"] = preproc_titles.apply(\n",
      "/tmp/ipykernel_142/4191214648.py:3: PerformanceWarning: DataFrame is highly fragmented.  This is usually the result of calling `frame.insert` many times, which has poor performance.  Consider joining all columns at once using pd.concat(axis=1) instead. To get a de-fragmented frame, use `newframe = frame.copy()`\n",
      "  pr_df[f\"title_wordcount_{word}\"] = preproc_titles.apply(\n",
      "/tmp/ipykernel_142/4191214648.py:3: PerformanceWarning: DataFrame is highly fragmented.  This is usually the result of calling `frame.insert` many times, which has poor performance.  Consider joining all columns at once using pd.concat(axis=1) instead. To get a de-fragmented frame, use `newframe = frame.copy()`\n",
      "  pr_df[f\"title_wordcount_{word}\"] = preproc_titles.apply(\n",
      "/tmp/ipykernel_142/4191214648.py:3: PerformanceWarning: DataFrame is highly fragmented.  This is usually the result of calling `frame.insert` many times, which has poor performance.  Consider joining all columns at once using pd.concat(axis=1) instead. To get a de-fragmented frame, use `newframe = frame.copy()`\n",
      "  pr_df[f\"title_wordcount_{word}\"] = preproc_titles.apply(\n",
      "/tmp/ipykernel_142/4191214648.py:3: PerformanceWarning: DataFrame is highly fragmented.  This is usually the result of calling `frame.insert` many times, which has poor performance.  Consider joining all columns at once using pd.concat(axis=1) instead. To get a de-fragmented frame, use `newframe = frame.copy()`\n",
      "  pr_df[f\"title_wordcount_{word}\"] = preproc_titles.apply(\n",
      "/tmp/ipykernel_142/4191214648.py:3: PerformanceWarning: DataFrame is highly fragmented.  This is usually the result of calling `frame.insert` many times, which has poor performance.  Consider joining all columns at once using pd.concat(axis=1) instead. To get a de-fragmented frame, use `newframe = frame.copy()`\n",
      "  pr_df[f\"title_wordcount_{word}\"] = preproc_titles.apply(\n",
      "/tmp/ipykernel_142/4191214648.py:3: PerformanceWarning: DataFrame is highly fragmented.  This is usually the result of calling `frame.insert` many times, which has poor performance.  Consider joining all columns at once using pd.concat(axis=1) instead. To get a de-fragmented frame, use `newframe = frame.copy()`\n",
      "  pr_df[f\"title_wordcount_{word}\"] = preproc_titles.apply(\n",
      "/tmp/ipykernel_142/4191214648.py:3: PerformanceWarning: DataFrame is highly fragmented.  This is usually the result of calling `frame.insert` many times, which has poor performance.  Consider joining all columns at once using pd.concat(axis=1) instead. To get a de-fragmented frame, use `newframe = frame.copy()`\n",
      "  pr_df[f\"title_wordcount_{word}\"] = preproc_titles.apply(\n",
      "/tmp/ipykernel_142/4191214648.py:3: PerformanceWarning: DataFrame is highly fragmented.  This is usually the result of calling `frame.insert` many times, which has poor performance.  Consider joining all columns at once using pd.concat(axis=1) instead. To get a de-fragmented frame, use `newframe = frame.copy()`\n",
      "  pr_df[f\"title_wordcount_{word}\"] = preproc_titles.apply(\n",
      " 86%|████████▌ | 391/456 [00:01<00:00, 182.97it/s]/tmp/ipykernel_142/4191214648.py:3: PerformanceWarning: DataFrame is highly fragmented.  This is usually the result of calling `frame.insert` many times, which has poor performance.  Consider joining all columns at once using pd.concat(axis=1) instead. To get a de-fragmented frame, use `newframe = frame.copy()`\n",
      "  pr_df[f\"title_wordcount_{word}\"] = preproc_titles.apply(\n",
      "/tmp/ipykernel_142/4191214648.py:3: PerformanceWarning: DataFrame is highly fragmented.  This is usually the result of calling `frame.insert` many times, which has poor performance.  Consider joining all columns at once using pd.concat(axis=1) instead. To get a de-fragmented frame, use `newframe = frame.copy()`\n",
      "  pr_df[f\"title_wordcount_{word}\"] = preproc_titles.apply(\n",
      "/tmp/ipykernel_142/4191214648.py:3: PerformanceWarning: DataFrame is highly fragmented.  This is usually the result of calling `frame.insert` many times, which has poor performance.  Consider joining all columns at once using pd.concat(axis=1) instead. To get a de-fragmented frame, use `newframe = frame.copy()`\n",
      "  pr_df[f\"title_wordcount_{word}\"] = preproc_titles.apply(\n",
      "/tmp/ipykernel_142/4191214648.py:3: PerformanceWarning: DataFrame is highly fragmented.  This is usually the result of calling `frame.insert` many times, which has poor performance.  Consider joining all columns at once using pd.concat(axis=1) instead. To get a de-fragmented frame, use `newframe = frame.copy()`\n",
      "  pr_df[f\"title_wordcount_{word}\"] = preproc_titles.apply(\n",
      "/tmp/ipykernel_142/4191214648.py:3: PerformanceWarning: DataFrame is highly fragmented.  This is usually the result of calling `frame.insert` many times, which has poor performance.  Consider joining all columns at once using pd.concat(axis=1) instead. To get a de-fragmented frame, use `newframe = frame.copy()`\n",
      "  pr_df[f\"title_wordcount_{word}\"] = preproc_titles.apply(\n",
      "/tmp/ipykernel_142/4191214648.py:3: PerformanceWarning: DataFrame is highly fragmented.  This is usually the result of calling `frame.insert` many times, which has poor performance.  Consider joining all columns at once using pd.concat(axis=1) instead. To get a de-fragmented frame, use `newframe = frame.copy()`\n",
      "  pr_df[f\"title_wordcount_{word}\"] = preproc_titles.apply(\n",
      "/tmp/ipykernel_142/4191214648.py:3: PerformanceWarning: DataFrame is highly fragmented.  This is usually the result of calling `frame.insert` many times, which has poor performance.  Consider joining all columns at once using pd.concat(axis=1) instead. To get a de-fragmented frame, use `newframe = frame.copy()`\n",
      "  pr_df[f\"title_wordcount_{word}\"] = preproc_titles.apply(\n",
      "/tmp/ipykernel_142/4191214648.py:3: PerformanceWarning: DataFrame is highly fragmented.  This is usually the result of calling `frame.insert` many times, which has poor performance.  Consider joining all columns at once using pd.concat(axis=1) instead. To get a de-fragmented frame, use `newframe = frame.copy()`\n",
      "  pr_df[f\"title_wordcount_{word}\"] = preproc_titles.apply(\n",
      "/tmp/ipykernel_142/4191214648.py:3: PerformanceWarning: DataFrame is highly fragmented.  This is usually the result of calling `frame.insert` many times, which has poor performance.  Consider joining all columns at once using pd.concat(axis=1) instead. To get a de-fragmented frame, use `newframe = frame.copy()`\n",
      "  pr_df[f\"title_wordcount_{word}\"] = preproc_titles.apply(\n",
      "/tmp/ipykernel_142/4191214648.py:3: PerformanceWarning: DataFrame is highly fragmented.  This is usually the result of calling `frame.insert` many times, which has poor performance.  Consider joining all columns at once using pd.concat(axis=1) instead. To get a de-fragmented frame, use `newframe = frame.copy()`\n",
      "  pr_df[f\"title_wordcount_{word}\"] = preproc_titles.apply(\n",
      "/tmp/ipykernel_142/4191214648.py:3: PerformanceWarning: DataFrame is highly fragmented.  This is usually the result of calling `frame.insert` many times, which has poor performance.  Consider joining all columns at once using pd.concat(axis=1) instead. To get a de-fragmented frame, use `newframe = frame.copy()`\n",
      "  pr_df[f\"title_wordcount_{word}\"] = preproc_titles.apply(\n",
      "/tmp/ipykernel_142/4191214648.py:3: PerformanceWarning: DataFrame is highly fragmented.  This is usually the result of calling `frame.insert` many times, which has poor performance.  Consider joining all columns at once using pd.concat(axis=1) instead. To get a de-fragmented frame, use `newframe = frame.copy()`\n",
      "  pr_df[f\"title_wordcount_{word}\"] = preproc_titles.apply(\n",
      "/tmp/ipykernel_142/4191214648.py:3: PerformanceWarning: DataFrame is highly fragmented.  This is usually the result of calling `frame.insert` many times, which has poor performance.  Consider joining all columns at once using pd.concat(axis=1) instead. To get a de-fragmented frame, use `newframe = frame.copy()`\n",
      "  pr_df[f\"title_wordcount_{word}\"] = preproc_titles.apply(\n",
      "/tmp/ipykernel_142/4191214648.py:3: PerformanceWarning: DataFrame is highly fragmented.  This is usually the result of calling `frame.insert` many times, which has poor performance.  Consider joining all columns at once using pd.concat(axis=1) instead. To get a de-fragmented frame, use `newframe = frame.copy()`\n",
      "  pr_df[f\"title_wordcount_{word}\"] = preproc_titles.apply(\n",
      "/tmp/ipykernel_142/4191214648.py:3: PerformanceWarning: DataFrame is highly fragmented.  This is usually the result of calling `frame.insert` many times, which has poor performance.  Consider joining all columns at once using pd.concat(axis=1) instead. To get a de-fragmented frame, use `newframe = frame.copy()`\n",
      "  pr_df[f\"title_wordcount_{word}\"] = preproc_titles.apply(\n",
      "/tmp/ipykernel_142/4191214648.py:3: PerformanceWarning: DataFrame is highly fragmented.  This is usually the result of calling `frame.insert` many times, which has poor performance.  Consider joining all columns at once using pd.concat(axis=1) instead. To get a de-fragmented frame, use `newframe = frame.copy()`\n",
      "  pr_df[f\"title_wordcount_{word}\"] = preproc_titles.apply(\n",
      "/tmp/ipykernel_142/4191214648.py:3: PerformanceWarning: DataFrame is highly fragmented.  This is usually the result of calling `frame.insert` many times, which has poor performance.  Consider joining all columns at once using pd.concat(axis=1) instead. To get a de-fragmented frame, use `newframe = frame.copy()`\n",
      "  pr_df[f\"title_wordcount_{word}\"] = preproc_titles.apply(\n",
      "/tmp/ipykernel_142/4191214648.py:3: PerformanceWarning: DataFrame is highly fragmented.  This is usually the result of calling `frame.insert` many times, which has poor performance.  Consider joining all columns at once using pd.concat(axis=1) instead. To get a de-fragmented frame, use `newframe = frame.copy()`\n",
      "  pr_df[f\"title_wordcount_{word}\"] = preproc_titles.apply(\n",
      "/tmp/ipykernel_142/4191214648.py:3: PerformanceWarning: DataFrame is highly fragmented.  This is usually the result of calling `frame.insert` many times, which has poor performance.  Consider joining all columns at once using pd.concat(axis=1) instead. To get a de-fragmented frame, use `newframe = frame.copy()`\n",
      "  pr_df[f\"title_wordcount_{word}\"] = preproc_titles.apply(\n",
      " 90%|████████▉ | 410/456 [00:01<00:00, 176.77it/s]/tmp/ipykernel_142/4191214648.py:3: PerformanceWarning: DataFrame is highly fragmented.  This is usually the result of calling `frame.insert` many times, which has poor performance.  Consider joining all columns at once using pd.concat(axis=1) instead. To get a de-fragmented frame, use `newframe = frame.copy()`\n",
      "  pr_df[f\"title_wordcount_{word}\"] = preproc_titles.apply(\n",
      "/tmp/ipykernel_142/4191214648.py:3: PerformanceWarning: DataFrame is highly fragmented.  This is usually the result of calling `frame.insert` many times, which has poor performance.  Consider joining all columns at once using pd.concat(axis=1) instead. To get a de-fragmented frame, use `newframe = frame.copy()`\n",
      "  pr_df[f\"title_wordcount_{word}\"] = preproc_titles.apply(\n",
      "/tmp/ipykernel_142/4191214648.py:3: PerformanceWarning: DataFrame is highly fragmented.  This is usually the result of calling `frame.insert` many times, which has poor performance.  Consider joining all columns at once using pd.concat(axis=1) instead. To get a de-fragmented frame, use `newframe = frame.copy()`\n",
      "  pr_df[f\"title_wordcount_{word}\"] = preproc_titles.apply(\n",
      "/tmp/ipykernel_142/4191214648.py:3: PerformanceWarning: DataFrame is highly fragmented.  This is usually the result of calling `frame.insert` many times, which has poor performance.  Consider joining all columns at once using pd.concat(axis=1) instead. To get a de-fragmented frame, use `newframe = frame.copy()`\n",
      "  pr_df[f\"title_wordcount_{word}\"] = preproc_titles.apply(\n",
      "/tmp/ipykernel_142/4191214648.py:3: PerformanceWarning: DataFrame is highly fragmented.  This is usually the result of calling `frame.insert` many times, which has poor performance.  Consider joining all columns at once using pd.concat(axis=1) instead. To get a de-fragmented frame, use `newframe = frame.copy()`\n",
      "  pr_df[f\"title_wordcount_{word}\"] = preproc_titles.apply(\n",
      "/tmp/ipykernel_142/4191214648.py:3: PerformanceWarning: DataFrame is highly fragmented.  This is usually the result of calling `frame.insert` many times, which has poor performance.  Consider joining all columns at once using pd.concat(axis=1) instead. To get a de-fragmented frame, use `newframe = frame.copy()`\n",
      "  pr_df[f\"title_wordcount_{word}\"] = preproc_titles.apply(\n",
      "/tmp/ipykernel_142/4191214648.py:3: PerformanceWarning: DataFrame is highly fragmented.  This is usually the result of calling `frame.insert` many times, which has poor performance.  Consider joining all columns at once using pd.concat(axis=1) instead. To get a de-fragmented frame, use `newframe = frame.copy()`\n",
      "  pr_df[f\"title_wordcount_{word}\"] = preproc_titles.apply(\n",
      "/tmp/ipykernel_142/4191214648.py:3: PerformanceWarning: DataFrame is highly fragmented.  This is usually the result of calling `frame.insert` many times, which has poor performance.  Consider joining all columns at once using pd.concat(axis=1) instead. To get a de-fragmented frame, use `newframe = frame.copy()`\n",
      "  pr_df[f\"title_wordcount_{word}\"] = preproc_titles.apply(\n",
      "/tmp/ipykernel_142/4191214648.py:3: PerformanceWarning: DataFrame is highly fragmented.  This is usually the result of calling `frame.insert` many times, which has poor performance.  Consider joining all columns at once using pd.concat(axis=1) instead. To get a de-fragmented frame, use `newframe = frame.copy()`\n",
      "  pr_df[f\"title_wordcount_{word}\"] = preproc_titles.apply(\n",
      "/tmp/ipykernel_142/4191214648.py:3: PerformanceWarning: DataFrame is highly fragmented.  This is usually the result of calling `frame.insert` many times, which has poor performance.  Consider joining all columns at once using pd.concat(axis=1) instead. To get a de-fragmented frame, use `newframe = frame.copy()`\n",
      "  pr_df[f\"title_wordcount_{word}\"] = preproc_titles.apply(\n",
      "/tmp/ipykernel_142/4191214648.py:3: PerformanceWarning: DataFrame is highly fragmented.  This is usually the result of calling `frame.insert` many times, which has poor performance.  Consider joining all columns at once using pd.concat(axis=1) instead. To get a de-fragmented frame, use `newframe = frame.copy()`\n",
      "  pr_df[f\"title_wordcount_{word}\"] = preproc_titles.apply(\n",
      "/tmp/ipykernel_142/4191214648.py:3: PerformanceWarning: DataFrame is highly fragmented.  This is usually the result of calling `frame.insert` many times, which has poor performance.  Consider joining all columns at once using pd.concat(axis=1) instead. To get a de-fragmented frame, use `newframe = frame.copy()`\n",
      "  pr_df[f\"title_wordcount_{word}\"] = preproc_titles.apply(\n",
      "/tmp/ipykernel_142/4191214648.py:3: PerformanceWarning: DataFrame is highly fragmented.  This is usually the result of calling `frame.insert` many times, which has poor performance.  Consider joining all columns at once using pd.concat(axis=1) instead. To get a de-fragmented frame, use `newframe = frame.copy()`\n",
      "  pr_df[f\"title_wordcount_{word}\"] = preproc_titles.apply(\n",
      "/tmp/ipykernel_142/4191214648.py:3: PerformanceWarning: DataFrame is highly fragmented.  This is usually the result of calling `frame.insert` many times, which has poor performance.  Consider joining all columns at once using pd.concat(axis=1) instead. To get a de-fragmented frame, use `newframe = frame.copy()`\n",
      "  pr_df[f\"title_wordcount_{word}\"] = preproc_titles.apply(\n",
      "/tmp/ipykernel_142/4191214648.py:3: PerformanceWarning: DataFrame is highly fragmented.  This is usually the result of calling `frame.insert` many times, which has poor performance.  Consider joining all columns at once using pd.concat(axis=1) instead. To get a de-fragmented frame, use `newframe = frame.copy()`\n",
      "  pr_df[f\"title_wordcount_{word}\"] = preproc_titles.apply(\n",
      "/tmp/ipykernel_142/4191214648.py:3: PerformanceWarning: DataFrame is highly fragmented.  This is usually the result of calling `frame.insert` many times, which has poor performance.  Consider joining all columns at once using pd.concat(axis=1) instead. To get a de-fragmented frame, use `newframe = frame.copy()`\n",
      "  pr_df[f\"title_wordcount_{word}\"] = preproc_titles.apply(\n",
      "/tmp/ipykernel_142/4191214648.py:3: PerformanceWarning: DataFrame is highly fragmented.  This is usually the result of calling `frame.insert` many times, which has poor performance.  Consider joining all columns at once using pd.concat(axis=1) instead. To get a de-fragmented frame, use `newframe = frame.copy()`\n",
      "  pr_df[f\"title_wordcount_{word}\"] = preproc_titles.apply(\n",
      "/tmp/ipykernel_142/4191214648.py:3: PerformanceWarning: DataFrame is highly fragmented.  This is usually the result of calling `frame.insert` many times, which has poor performance.  Consider joining all columns at once using pd.concat(axis=1) instead. To get a de-fragmented frame, use `newframe = frame.copy()`\n",
      "  pr_df[f\"title_wordcount_{word}\"] = preproc_titles.apply(\n",
      " 94%|█████████▍| 428/456 [00:02<00:00, 174.80it/s]/tmp/ipykernel_142/4191214648.py:3: PerformanceWarning: DataFrame is highly fragmented.  This is usually the result of calling `frame.insert` many times, which has poor performance.  Consider joining all columns at once using pd.concat(axis=1) instead. To get a de-fragmented frame, use `newframe = frame.copy()`\n",
      "  pr_df[f\"title_wordcount_{word}\"] = preproc_titles.apply(\n",
      "/tmp/ipykernel_142/4191214648.py:3: PerformanceWarning: DataFrame is highly fragmented.  This is usually the result of calling `frame.insert` many times, which has poor performance.  Consider joining all columns at once using pd.concat(axis=1) instead. To get a de-fragmented frame, use `newframe = frame.copy()`\n",
      "  pr_df[f\"title_wordcount_{word}\"] = preproc_titles.apply(\n",
      "/tmp/ipykernel_142/4191214648.py:3: PerformanceWarning: DataFrame is highly fragmented.  This is usually the result of calling `frame.insert` many times, which has poor performance.  Consider joining all columns at once using pd.concat(axis=1) instead. To get a de-fragmented frame, use `newframe = frame.copy()`\n",
      "  pr_df[f\"title_wordcount_{word}\"] = preproc_titles.apply(\n",
      "/tmp/ipykernel_142/4191214648.py:3: PerformanceWarning: DataFrame is highly fragmented.  This is usually the result of calling `frame.insert` many times, which has poor performance.  Consider joining all columns at once using pd.concat(axis=1) instead. To get a de-fragmented frame, use `newframe = frame.copy()`\n",
      "  pr_df[f\"title_wordcount_{word}\"] = preproc_titles.apply(\n",
      "/tmp/ipykernel_142/4191214648.py:3: PerformanceWarning: DataFrame is highly fragmented.  This is usually the result of calling `frame.insert` many times, which has poor performance.  Consider joining all columns at once using pd.concat(axis=1) instead. To get a de-fragmented frame, use `newframe = frame.copy()`\n",
      "  pr_df[f\"title_wordcount_{word}\"] = preproc_titles.apply(\n",
      "/tmp/ipykernel_142/4191214648.py:3: PerformanceWarning: DataFrame is highly fragmented.  This is usually the result of calling `frame.insert` many times, which has poor performance.  Consider joining all columns at once using pd.concat(axis=1) instead. To get a de-fragmented frame, use `newframe = frame.copy()`\n",
      "  pr_df[f\"title_wordcount_{word}\"] = preproc_titles.apply(\n",
      "/tmp/ipykernel_142/4191214648.py:3: PerformanceWarning: DataFrame is highly fragmented.  This is usually the result of calling `frame.insert` many times, which has poor performance.  Consider joining all columns at once using pd.concat(axis=1) instead. To get a de-fragmented frame, use `newframe = frame.copy()`\n",
      "  pr_df[f\"title_wordcount_{word}\"] = preproc_titles.apply(\n",
      "/tmp/ipykernel_142/4191214648.py:3: PerformanceWarning: DataFrame is highly fragmented.  This is usually the result of calling `frame.insert` many times, which has poor performance.  Consider joining all columns at once using pd.concat(axis=1) instead. To get a de-fragmented frame, use `newframe = frame.copy()`\n",
      "  pr_df[f\"title_wordcount_{word}\"] = preproc_titles.apply(\n",
      "/tmp/ipykernel_142/4191214648.py:3: PerformanceWarning: DataFrame is highly fragmented.  This is usually the result of calling `frame.insert` many times, which has poor performance.  Consider joining all columns at once using pd.concat(axis=1) instead. To get a de-fragmented frame, use `newframe = frame.copy()`\n",
      "  pr_df[f\"title_wordcount_{word}\"] = preproc_titles.apply(\n",
      "/tmp/ipykernel_142/4191214648.py:3: PerformanceWarning: DataFrame is highly fragmented.  This is usually the result of calling `frame.insert` many times, which has poor performance.  Consider joining all columns at once using pd.concat(axis=1) instead. To get a de-fragmented frame, use `newframe = frame.copy()`\n",
      "  pr_df[f\"title_wordcount_{word}\"] = preproc_titles.apply(\n",
      "/tmp/ipykernel_142/4191214648.py:3: PerformanceWarning: DataFrame is highly fragmented.  This is usually the result of calling `frame.insert` many times, which has poor performance.  Consider joining all columns at once using pd.concat(axis=1) instead. To get a de-fragmented frame, use `newframe = frame.copy()`\n",
      "  pr_df[f\"title_wordcount_{word}\"] = preproc_titles.apply(\n",
      "/tmp/ipykernel_142/4191214648.py:3: PerformanceWarning: DataFrame is highly fragmented.  This is usually the result of calling `frame.insert` many times, which has poor performance.  Consider joining all columns at once using pd.concat(axis=1) instead. To get a de-fragmented frame, use `newframe = frame.copy()`\n",
      "  pr_df[f\"title_wordcount_{word}\"] = preproc_titles.apply(\n",
      "/tmp/ipykernel_142/4191214648.py:3: PerformanceWarning: DataFrame is highly fragmented.  This is usually the result of calling `frame.insert` many times, which has poor performance.  Consider joining all columns at once using pd.concat(axis=1) instead. To get a de-fragmented frame, use `newframe = frame.copy()`\n",
      "  pr_df[f\"title_wordcount_{word}\"] = preproc_titles.apply(\n",
      "/tmp/ipykernel_142/4191214648.py:3: PerformanceWarning: DataFrame is highly fragmented.  This is usually the result of calling `frame.insert` many times, which has poor performance.  Consider joining all columns at once using pd.concat(axis=1) instead. To get a de-fragmented frame, use `newframe = frame.copy()`\n",
      "  pr_df[f\"title_wordcount_{word}\"] = preproc_titles.apply(\n",
      "/tmp/ipykernel_142/4191214648.py:3: PerformanceWarning: DataFrame is highly fragmented.  This is usually the result of calling `frame.insert` many times, which has poor performance.  Consider joining all columns at once using pd.concat(axis=1) instead. To get a de-fragmented frame, use `newframe = frame.copy()`\n",
      "  pr_df[f\"title_wordcount_{word}\"] = preproc_titles.apply(\n",
      "/tmp/ipykernel_142/4191214648.py:3: PerformanceWarning: DataFrame is highly fragmented.  This is usually the result of calling `frame.insert` many times, which has poor performance.  Consider joining all columns at once using pd.concat(axis=1) instead. To get a de-fragmented frame, use `newframe = frame.copy()`\n",
      "  pr_df[f\"title_wordcount_{word}\"] = preproc_titles.apply(\n",
      "/tmp/ipykernel_142/4191214648.py:3: PerformanceWarning: DataFrame is highly fragmented.  This is usually the result of calling `frame.insert` many times, which has poor performance.  Consider joining all columns at once using pd.concat(axis=1) instead. To get a de-fragmented frame, use `newframe = frame.copy()`\n",
      "  pr_df[f\"title_wordcount_{word}\"] = preproc_titles.apply(\n",
      "/tmp/ipykernel_142/4191214648.py:3: PerformanceWarning: DataFrame is highly fragmented.  This is usually the result of calling `frame.insert` many times, which has poor performance.  Consider joining all columns at once using pd.concat(axis=1) instead. To get a de-fragmented frame, use `newframe = frame.copy()`\n",
      "  pr_df[f\"title_wordcount_{word}\"] = preproc_titles.apply(\n",
      " 98%|█████████▊| 446/456 [00:02<00:00, 173.64it/s]/tmp/ipykernel_142/4191214648.py:3: PerformanceWarning: DataFrame is highly fragmented.  This is usually the result of calling `frame.insert` many times, which has poor performance.  Consider joining all columns at once using pd.concat(axis=1) instead. To get a de-fragmented frame, use `newframe = frame.copy()`\n",
      "  pr_df[f\"title_wordcount_{word}\"] = preproc_titles.apply(\n",
      "/tmp/ipykernel_142/4191214648.py:3: PerformanceWarning: DataFrame is highly fragmented.  This is usually the result of calling `frame.insert` many times, which has poor performance.  Consider joining all columns at once using pd.concat(axis=1) instead. To get a de-fragmented frame, use `newframe = frame.copy()`\n",
      "  pr_df[f\"title_wordcount_{word}\"] = preproc_titles.apply(\n",
      "/tmp/ipykernel_142/4191214648.py:3: PerformanceWarning: DataFrame is highly fragmented.  This is usually the result of calling `frame.insert` many times, which has poor performance.  Consider joining all columns at once using pd.concat(axis=1) instead. To get a de-fragmented frame, use `newframe = frame.copy()`\n",
      "  pr_df[f\"title_wordcount_{word}\"] = preproc_titles.apply(\n",
      "/tmp/ipykernel_142/4191214648.py:3: PerformanceWarning: DataFrame is highly fragmented.  This is usually the result of calling `frame.insert` many times, which has poor performance.  Consider joining all columns at once using pd.concat(axis=1) instead. To get a de-fragmented frame, use `newframe = frame.copy()`\n",
      "  pr_df[f\"title_wordcount_{word}\"] = preproc_titles.apply(\n",
      "/tmp/ipykernel_142/4191214648.py:3: PerformanceWarning: DataFrame is highly fragmented.  This is usually the result of calling `frame.insert` many times, which has poor performance.  Consider joining all columns at once using pd.concat(axis=1) instead. To get a de-fragmented frame, use `newframe = frame.copy()`\n",
      "  pr_df[f\"title_wordcount_{word}\"] = preproc_titles.apply(\n",
      "/tmp/ipykernel_142/4191214648.py:3: PerformanceWarning: DataFrame is highly fragmented.  This is usually the result of calling `frame.insert` many times, which has poor performance.  Consider joining all columns at once using pd.concat(axis=1) instead. To get a de-fragmented frame, use `newframe = frame.copy()`\n",
      "  pr_df[f\"title_wordcount_{word}\"] = preproc_titles.apply(\n",
      "/tmp/ipykernel_142/4191214648.py:3: PerformanceWarning: DataFrame is highly fragmented.  This is usually the result of calling `frame.insert` many times, which has poor performance.  Consider joining all columns at once using pd.concat(axis=1) instead. To get a de-fragmented frame, use `newframe = frame.copy()`\n",
      "  pr_df[f\"title_wordcount_{word}\"] = preproc_titles.apply(\n",
      "/tmp/ipykernel_142/4191214648.py:3: PerformanceWarning: DataFrame is highly fragmented.  This is usually the result of calling `frame.insert` many times, which has poor performance.  Consider joining all columns at once using pd.concat(axis=1) instead. To get a de-fragmented frame, use `newframe = frame.copy()`\n",
      "  pr_df[f\"title_wordcount_{word}\"] = preproc_titles.apply(\n",
      "/tmp/ipykernel_142/4191214648.py:3: PerformanceWarning: DataFrame is highly fragmented.  This is usually the result of calling `frame.insert` many times, which has poor performance.  Consider joining all columns at once using pd.concat(axis=1) instead. To get a de-fragmented frame, use `newframe = frame.copy()`\n",
      "  pr_df[f\"title_wordcount_{word}\"] = preproc_titles.apply(\n",
      "/tmp/ipykernel_142/4191214648.py:3: PerformanceWarning: DataFrame is highly fragmented.  This is usually the result of calling `frame.insert` many times, which has poor performance.  Consider joining all columns at once using pd.concat(axis=1) instead. To get a de-fragmented frame, use `newframe = frame.copy()`\n",
      "  pr_df[f\"title_wordcount_{word}\"] = preproc_titles.apply(\n",
      "100%|██████████| 456/456 [00:02<00:00, 208.99it/s]\n"
     ]
    }
   ],
   "source": [
    "# add word count columns\n",
    "for word in tqdm(unique_words):\n",
    "    pr_df[f\"title_wordcount_{word}\"] = preproc_titles.apply(\n",
    "        lambda x: x.split().count(word)\n",
    "    )"
   ]
  },
  {
   "cell_type": "code",
   "execution_count": 25,
   "id": "41cf9f16",
   "metadata": {
    "execution": {
     "iopub.execute_input": "2022-11-18T20:10:27.987651Z",
     "iopub.status.busy": "2022-11-18T20:10:27.987404Z",
     "iopub.status.idle": "2022-11-18T20:10:27.997863Z",
     "shell.execute_reply": "2022-11-18T20:10:27.997397Z"
    }
   },
   "outputs": [],
   "source": [
    "# collapse the high dim vector into one column\n",
    "wordcount_columns = [c for c in pr_df.columns if \"wordcount\" in c]\n",
    "pr_df[\"title_word_counts_vec\"] = pr_df[wordcount_columns].apply(\n",
    "    lambda x: x.tolist(), axis=1\n",
    ")\n",
    "\n",
    "# drop the individual wordcount columns\n",
    "pr_df = pr_df.drop(columns=wordcount_columns)"
   ]
  },
  {
   "cell_type": "markdown",
   "id": "06f46edc",
   "metadata": {},
   "source": [
    "**Created At**\n",
    "\n",
    "This column can give us information on when the PR was created. Using the `created_at` field, we can derive other features like `time_of_day`, `day_of_week`, `day_of_month`, `month_in_year` each of which can be categorical features that can be useful to our analysis."
   ]
  },
  {
   "cell_type": "code",
   "execution_count": 26,
   "id": "b6db783b",
   "metadata": {
    "execution": {
     "iopub.execute_input": "2022-11-18T20:10:28.000379Z",
     "iopub.status.busy": "2022-11-18T20:10:28.000011Z",
     "iopub.status.idle": "2022-11-18T20:10:28.008170Z",
     "shell.execute_reply": "2022-11-18T20:10:28.007739Z"
    }
   },
   "outputs": [],
   "source": [
    "# convert to datetime object\n",
    "pr_df[\"created_at_datetime\"] = (\n",
    "    pr_df[\"created_at\"].fillna(\"\").apply(lambda x: datetime.datetime.fromtimestamp(x))\n",
    ")\n",
    "# get day as categorical variable\n",
    "pr_df[\"created_at_day\"] = pr_df[\"created_at_datetime\"].apply(lambda x: x.day)\n",
    "\n",
    "# get month as categorical variable\n",
    "pr_df[\"created_at_month\"] = pr_df[\"created_at_datetime\"].apply(lambda x: x.month)\n",
    "\n",
    "# get weekday as categorical variable\n",
    "pr_df[\"created_at_weekday\"] = pr_df[\"created_at_datetime\"].apply(lambda x: x.weekday())\n",
    "\n",
    "# get hour of day as categorical variable\n",
    "pr_df[\"created_at_hour\"] = pr_df[\"created_at_datetime\"].apply(lambda x: x.hour)"
   ]
  },
  {
   "cell_type": "code",
   "execution_count": 27,
   "id": "f6cb1704",
   "metadata": {
    "execution": {
     "iopub.execute_input": "2022-11-18T20:10:28.010227Z",
     "iopub.status.busy": "2022-11-18T20:10:28.010065Z",
     "iopub.status.idle": "2022-11-18T20:10:28.023860Z",
     "shell.execute_reply": "2022-11-18T20:10:28.023410Z"
    }
   },
   "outputs": [
    {
     "data": {
      "text/html": [
       "<div>\n",
       "<style scoped>\n",
       "    .dataframe tbody tr th:only-of-type {\n",
       "        vertical-align: middle;\n",
       "    }\n",
       "\n",
       "    .dataframe tbody tr th {\n",
       "        vertical-align: top;\n",
       "    }\n",
       "\n",
       "    .dataframe thead th {\n",
       "        text-align: right;\n",
       "    }\n",
       "</style>\n",
       "<table border=\"1\" class=\"dataframe\">\n",
       "  <thead>\n",
       "    <tr style=\"text-align: right;\">\n",
       "      <th></th>\n",
       "      <th>title</th>\n",
       "      <th>body</th>\n",
       "      <th>size</th>\n",
       "      <th>created_by</th>\n",
       "      <th>created_at</th>\n",
       "      <th>closed_at</th>\n",
       "      <th>closed_by</th>\n",
       "      <th>merged_at</th>\n",
       "      <th>merged_by</th>\n",
       "      <th>commits_number</th>\n",
       "      <th>...</th>\n",
       "      <th>first_review_at</th>\n",
       "      <th>first_approve_at</th>\n",
       "      <th>time_to_merge</th>\n",
       "      <th>body_size</th>\n",
       "      <th>title_word_counts_vec</th>\n",
       "      <th>created_at_datetime</th>\n",
       "      <th>created_at_day</th>\n",
       "      <th>created_at_month</th>\n",
       "      <th>created_at_weekday</th>\n",
       "      <th>created_at_hour</th>\n",
       "    </tr>\n",
       "  </thead>\n",
       "  <tbody>\n",
       "    <tr>\n",
       "      <th>0</th>\n",
       "      <td>Add slides for workshop at DevConf US 22</td>\n",
       "      <td>## Related Issues and Dependencies\\r\\n\\r\\n…\\r\\...</td>\n",
       "      <td>0</td>\n",
       "      <td>aakankshaduggal</td>\n",
       "      <td>1660679517</td>\n",
       "      <td>1660685334</td>\n",
       "      <td>sesheta</td>\n",
       "      <td>1.660685e+09</td>\n",
       "      <td>sesheta</td>\n",
       "      <td>1</td>\n",
       "      <td>...</td>\n",
       "      <td>1.660684e+09</td>\n",
       "      <td>1.660684e+09</td>\n",
       "      <td>5817.0</td>\n",
       "      <td>57</td>\n",
       "      <td>[0, 0, 0, 0, 0, 0, 0, 1, 0, 0, 0, 0, 0, 0, 0, ...</td>\n",
       "      <td>2022-08-16 19:51:57</td>\n",
       "      <td>16</td>\n",
       "      <td>8</td>\n",
       "      <td>1</td>\n",
       "      <td>19</td>\n",
       "    </tr>\n",
       "    <tr>\n",
       "      <th>1</th>\n",
       "      <td>Added new bitwarden link</td>\n",
       "      <td>None</td>\n",
       "      <td>0</td>\n",
       "      <td>suppathak</td>\n",
       "      <td>1660054828</td>\n",
       "      <td>1660055162</td>\n",
       "      <td>aakankshaduggal</td>\n",
       "      <td>1.660055e+09</td>\n",
       "      <td>aakankshaduggal</td>\n",
       "      <td>1</td>\n",
       "      <td>...</td>\n",
       "      <td>1.660055e+09</td>\n",
       "      <td>1.660055e+09</td>\n",
       "      <td>334.0</td>\n",
       "      <td>0</td>\n",
       "      <td>[0, 0, 0, 0, 0, 0, 0, 0, 1, 0, 0, 0, 0, 0, 0, ...</td>\n",
       "      <td>2022-08-09 14:20:28</td>\n",
       "      <td>9</td>\n",
       "      <td>8</td>\n",
       "      <td>1</td>\n",
       "      <td>14</td>\n",
       "    </tr>\n",
       "  </tbody>\n",
       "</table>\n",
       "<p>2 rows × 26 columns</p>\n",
       "</div>"
      ],
      "text/plain": [
       "                                      title  \\\n",
       "0  Add slides for workshop at DevConf US 22   \n",
       "1                  Added new bitwarden link   \n",
       "\n",
       "                                                body  size       created_by  \\\n",
       "0  ## Related Issues and Dependencies\\r\\n\\r\\n…\\r\\...     0  aakankshaduggal   \n",
       "1                                               None     0        suppathak   \n",
       "\n",
       "   created_at   closed_at        closed_by     merged_at        merged_by  \\\n",
       "0  1660679517  1660685334          sesheta  1.660685e+09          sesheta   \n",
       "1  1660054828  1660055162  aakankshaduggal  1.660055e+09  aakankshaduggal   \n",
       "\n",
       "   commits_number  ...  first_review_at first_approve_at time_to_merge  \\\n",
       "0               1  ...     1.660684e+09     1.660684e+09        5817.0   \n",
       "1               1  ...     1.660055e+09     1.660055e+09         334.0   \n",
       "\n",
       "  body_size                              title_word_counts_vec  \\\n",
       "0        57  [0, 0, 0, 0, 0, 0, 0, 1, 0, 0, 0, 0, 0, 0, 0, ...   \n",
       "1         0  [0, 0, 0, 0, 0, 0, 0, 0, 1, 0, 0, 0, 0, 0, 0, ...   \n",
       "\n",
       "  created_at_datetime  created_at_day  created_at_month  created_at_weekday  \\\n",
       "0 2022-08-16 19:51:57              16                 8                   1   \n",
       "1 2022-08-09 14:20:28               9                 8                   1   \n",
       "\n",
       "   created_at_hour  \n",
       "0               19  \n",
       "1               14  \n",
       "\n",
       "[2 rows x 26 columns]"
      ]
     },
     "execution_count": 27,
     "metadata": {},
     "output_type": "execute_result"
    }
   ],
   "source": [
    "pr_df.head(2)"
   ]
  },
  {
   "cell_type": "markdown",
   "id": "772ea2a9",
   "metadata": {},
   "source": [
    "**Changed Files Number**  \n",
    "Changed files is a numberical variable which captures the numer of files that were modified in the PR."
   ]
  },
  {
   "cell_type": "code",
   "execution_count": 28,
   "id": "b5687644",
   "metadata": {
    "execution": {
     "iopub.execute_input": "2022-11-18T20:10:28.026000Z",
     "iopub.status.busy": "2022-11-18T20:10:28.025838Z",
     "iopub.status.idle": "2022-11-18T20:10:28.031847Z",
     "shell.execute_reply": "2022-11-18T20:10:28.031392Z"
    }
   },
   "outputs": [
    {
     "data": {
      "text/plain": [
       "1       129\n",
       "2        36\n",
       "3        23\n",
       "4        22\n",
       "5         9\n",
       "7         5\n",
       "9         3\n",
       "8         3\n",
       "6         2\n",
       "13        2\n",
       "10        2\n",
       "15        2\n",
       "0         1\n",
       "12        1\n",
       "1427      1\n",
       "11        1\n",
       "86        1\n",
       "19        1\n",
       "38        1\n",
       "Name: changed_files_number, dtype: int64"
      ]
     },
     "execution_count": 28,
     "metadata": {},
     "output_type": "execute_result"
    }
   ],
   "source": [
    "# convert changed_files_number to int\n",
    "pr_df[\"changed_files_number\"] = pr_df[\"changed_files_number\"].astype(\"int\")\n",
    "\n",
    "pr_df.changed_files_number.value_counts()"
   ]
  },
  {
   "cell_type": "markdown",
   "id": "2ec4a803",
   "metadata": {},
   "source": [
    "`changed_files_number` has more variability than the `commits_number`. We can incorporate this as a numerical feature."
   ]
  },
  {
   "cell_type": "markdown",
   "id": "360ea47c",
   "metadata": {},
   "source": [
    "**Changed_files**\n",
    "\n",
    "`changed_files` is a list of the paths and filenames for every file changed by this PR. From `changed_files`, we know, for each PR, which file types were changed which can be encoded as a frequency vector. Also we know which directory the change is made in, so that can be encoded as a categorical variable."
   ]
  },
  {
   "cell_type": "code",
   "execution_count": 29,
   "id": "ea080575",
   "metadata": {
    "execution": {
     "iopub.execute_input": "2022-11-18T20:10:28.034021Z",
     "iopub.status.busy": "2022-11-18T20:10:28.033867Z",
     "iopub.status.idle": "2022-11-18T20:10:28.039961Z",
     "shell.execute_reply": "2022-11-18T20:10:28.039546Z"
    }
   },
   "outputs": [
    {
     "data": {
      "text/plain": [
       "0      [docs/intro_to_workshop_devconf22.pdf, docs/wo...\n",
       "1                          [docs/workshop/onboarding.md]\n",
       "2              [docs/workshop/Workshop_Introduction.pdf]\n",
       "3                  [docs/aiops_for_community_health.pdf]\n",
       "4      [notebooks/time-to-merge-prediction/workshop/e...\n",
       "                             ...                        \n",
       "240    [docs/assets/images/testgrid_0.png, notebooks/...\n",
       "241                                [notebooks/EDA.ipynb]\n",
       "242    [data/interim/correlation_sets.csv, notebooks/...\n",
       "243                        [notebooks/initial_EDA.ipynb]\n",
       "244                        [notebooks/initial_EDA.ipynb]\n",
       "Name: changed_files, Length: 245, dtype: object"
      ]
     },
     "execution_count": 29,
     "metadata": {},
     "output_type": "execute_result"
    }
   ],
   "source": [
    "pr_df.changed_files"
   ]
  },
  {
   "cell_type": "code",
   "execution_count": 30,
   "id": "ba70b93f",
   "metadata": {
    "execution": {
     "iopub.execute_input": "2022-11-18T20:10:28.041868Z",
     "iopub.status.busy": "2022-11-18T20:10:28.041709Z",
     "iopub.status.idle": "2022-11-18T20:10:28.046061Z",
     "shell.execute_reply": "2022-11-18T20:10:28.045609Z"
    }
   },
   "outputs": [],
   "source": [
    "def filetype(filepath):\n",
    "\n",
    "    # if standard file extension, return file extension\n",
    "    if pathlib.Path(filepath).suffix:\n",
    "        return pathlib.Path(filepath).suffix\n",
    "\n",
    "    else:\n",
    "        # if single file at the root of repo\n",
    "        if \"/\" not in filepath:\n",
    "            # if a file like README/Dockerfile etc\n",
    "            if \".\" not in filepath:\n",
    "                return filepath\n",
    "        # if file not at root\n",
    "        else:\n",
    "            # get file name\n",
    "            file = filepath.rsplit(\"/\", 1)[1]\n",
    "            if \".\" not in file:\n",
    "                return file\n",
    "            elif \".\" in file:\n",
    "                return \".\" + file.rsplit(\".\", 1)[1]"
   ]
  },
  {
   "cell_type": "code",
   "execution_count": 31,
   "id": "2e00c415",
   "metadata": {
    "execution": {
     "iopub.execute_input": "2022-11-18T20:10:28.047940Z",
     "iopub.status.busy": "2022-11-18T20:10:28.047789Z",
     "iopub.status.idle": "2022-11-18T20:10:28.050116Z",
     "shell.execute_reply": "2022-11-18T20:10:28.049642Z"
    }
   },
   "outputs": [],
   "source": [
    "# get list of all file types that were modified across all openshift origin PRs\n",
    "changed_files = list(pr_df[\"changed_files\"])"
   ]
  },
  {
   "cell_type": "code",
   "execution_count": 32,
   "id": "36a1dcda",
   "metadata": {
    "execution": {
     "iopub.execute_input": "2022-11-18T20:10:28.052090Z",
     "iopub.status.busy": "2022-11-18T20:10:28.051939Z",
     "iopub.status.idle": "2022-11-18T20:10:28.071969Z",
     "shell.execute_reply": "2022-11-18T20:10:28.071550Z"
    }
   },
   "outputs": [],
   "source": [
    "all_changed_files = [filetype(filepath) for pr in changed_files for filepath in pr]"
   ]
  },
  {
   "cell_type": "code",
   "execution_count": 33,
   "id": "d7de1e91",
   "metadata": {
    "execution": {
     "iopub.execute_input": "2022-11-18T20:10:28.073871Z",
     "iopub.status.busy": "2022-11-18T20:10:28.073715Z",
     "iopub.status.idle": "2022-11-18T20:10:28.076206Z",
     "shell.execute_reply": "2022-11-18T20:10:28.075740Z"
    }
   },
   "outputs": [],
   "source": [
    "count = Counter(all_changed_files)"
   ]
  },
  {
   "cell_type": "code",
   "execution_count": 34,
   "id": "17e5fd80",
   "metadata": {
    "execution": {
     "iopub.execute_input": "2022-11-18T20:10:28.078119Z",
     "iopub.status.busy": "2022-11-18T20:10:28.077962Z",
     "iopub.status.idle": "2022-11-18T20:10:28.080583Z",
     "shell.execute_reply": "2022-11-18T20:10:28.080128Z"
    }
   },
   "outputs": [],
   "source": [
    "# save 100 most commonly occuring file extensions across PRs\n",
    "top_fileextensions_freq = count.most_common(100)\n",
    "top_fileextensions = [ext[0] for ext in top_fileextensions_freq]"
   ]
  },
  {
   "cell_type": "code",
   "execution_count": 35,
   "id": "25a14da8",
   "metadata": {
    "execution": {
     "iopub.execute_input": "2022-11-18T20:10:28.082534Z",
     "iopub.status.busy": "2022-11-18T20:10:28.082386Z",
     "iopub.status.idle": "2022-11-18T20:10:28.085770Z",
     "shell.execute_reply": "2022-11-18T20:10:28.085307Z"
    }
   },
   "outputs": [
    {
     "data": {
      "text/plain": [
       "['.png',\n",
       " '.ipynb',\n",
       " '.html',\n",
       " '.md',\n",
       " '.po',\n",
       " '.py',\n",
       " '.doctree',\n",
       " '.yaml',\n",
       " '.js',\n",
       " '.lock',\n",
       " '.css',\n",
       " 'Pipfile',\n",
       " '.svg',\n",
       " '.pipeline',\n",
       " '.txt',\n",
       " '.yml',\n",
       " '.mdx',\n",
       " '.csv',\n",
       " 'environment',\n",
       " '.json',\n",
       " 'OWNERS',\n",
       " 'env_example_workshop',\n",
       " None,\n",
       " '.gz',\n",
       " '.pdf',\n",
       " '.eot',\n",
       " '.ttf',\n",
       " '.woff',\n",
       " '.woff2',\n",
       " '.rst',\n",
       " '.parquet',\n",
       " '.map',\n",
       " 'LICENSE',\n",
       " '.pickle',\n",
       " '.buildinfo',\n",
       " '.inv',\n",
       " '.sh',\n",
       " '.toml',\n",
       " 'CODEOWNERS',\n",
       " '.bat',\n",
       " '.ini']"
      ]
     },
     "execution_count": 35,
     "metadata": {},
     "output_type": "execute_result"
    }
   ],
   "source": [
    "top_fileextensions"
   ]
  },
  {
   "cell_type": "code",
   "execution_count": 36,
   "id": "ecd11700",
   "metadata": {
    "execution": {
     "iopub.execute_input": "2022-11-18T20:10:28.087995Z",
     "iopub.status.busy": "2022-11-18T20:10:28.087848Z",
     "iopub.status.idle": "2022-11-18T20:10:28.091169Z",
     "shell.execute_reply": "2022-11-18T20:10:28.090686Z"
    }
   },
   "outputs": [],
   "source": [
    "def file_type_freq(list_of_filepaths):\n",
    "    \"\"\"\n",
    "    For a given PR's list of changed files,\n",
    "    return a changed files frequency vector\n",
    "    ( a vector which holds the frequency of\n",
    "    changed files of the type  for every\n",
    "    file type in top_fileextensions )\n",
    "    \"\"\"\n",
    "\n",
    "    file_extensions = [filetype(f) for f in list_of_filepaths]\n",
    "    ext_dict = {key: 0 for key in top_fileextensions}\n",
    "    for f in file_extensions:\n",
    "        if f in ext_dict:\n",
    "            ext_dict[f] += 1\n",
    "\n",
    "    return list(ext_dict.values())"
   ]
  },
  {
   "cell_type": "code",
   "execution_count": 37,
   "id": "cc0b7906",
   "metadata": {
    "execution": {
     "iopub.execute_input": "2022-11-18T20:10:28.093067Z",
     "iopub.status.busy": "2022-11-18T20:10:28.092914Z",
     "iopub.status.idle": "2022-11-18T20:10:28.114712Z",
     "shell.execute_reply": "2022-11-18T20:10:28.114260Z"
    }
   },
   "outputs": [],
   "source": [
    "pr_df[\"changed_file_type_vec\"] = pr_df[\"changed_files\"].apply(\n",
    "    lambda x: file_type_freq(x)\n",
    ")"
   ]
  },
  {
   "cell_type": "code",
   "execution_count": 38,
   "id": "4fe7bb1d",
   "metadata": {
    "execution": {
     "iopub.execute_input": "2022-11-18T20:10:28.116708Z",
     "iopub.status.busy": "2022-11-18T20:10:28.116557Z",
     "iopub.status.idle": "2022-11-18T20:10:28.130010Z",
     "shell.execute_reply": "2022-11-18T20:10:28.129541Z"
    }
   },
   "outputs": [
    {
     "data": {
      "text/html": [
       "<div>\n",
       "<style scoped>\n",
       "    .dataframe tbody tr th:only-of-type {\n",
       "        vertical-align: middle;\n",
       "    }\n",
       "\n",
       "    .dataframe tbody tr th {\n",
       "        vertical-align: top;\n",
       "    }\n",
       "\n",
       "    .dataframe thead th {\n",
       "        text-align: right;\n",
       "    }\n",
       "</style>\n",
       "<table border=\"1\" class=\"dataframe\">\n",
       "  <thead>\n",
       "    <tr style=\"text-align: right;\">\n",
       "      <th></th>\n",
       "      <th>title</th>\n",
       "      <th>body</th>\n",
       "      <th>size</th>\n",
       "      <th>created_by</th>\n",
       "      <th>created_at</th>\n",
       "      <th>closed_at</th>\n",
       "      <th>closed_by</th>\n",
       "      <th>merged_at</th>\n",
       "      <th>merged_by</th>\n",
       "      <th>commits_number</th>\n",
       "      <th>...</th>\n",
       "      <th>first_approve_at</th>\n",
       "      <th>time_to_merge</th>\n",
       "      <th>body_size</th>\n",
       "      <th>title_word_counts_vec</th>\n",
       "      <th>created_at_datetime</th>\n",
       "      <th>created_at_day</th>\n",
       "      <th>created_at_month</th>\n",
       "      <th>created_at_weekday</th>\n",
       "      <th>created_at_hour</th>\n",
       "      <th>changed_file_type_vec</th>\n",
       "    </tr>\n",
       "  </thead>\n",
       "  <tbody>\n",
       "    <tr>\n",
       "      <th>0</th>\n",
       "      <td>Add slides for workshop at DevConf US 22</td>\n",
       "      <td>## Related Issues and Dependencies\\r\\n\\r\\n…\\r\\...</td>\n",
       "      <td>0</td>\n",
       "      <td>aakankshaduggal</td>\n",
       "      <td>1660679517</td>\n",
       "      <td>1660685334</td>\n",
       "      <td>sesheta</td>\n",
       "      <td>1.660685e+09</td>\n",
       "      <td>sesheta</td>\n",
       "      <td>1</td>\n",
       "      <td>...</td>\n",
       "      <td>1.660684e+09</td>\n",
       "      <td>5817.0</td>\n",
       "      <td>57</td>\n",
       "      <td>[0, 0, 0, 0, 0, 0, 0, 1, 0, 0, 0, 0, 0, 0, 0, ...</td>\n",
       "      <td>2022-08-16 19:51:57</td>\n",
       "      <td>16</td>\n",
       "      <td>8</td>\n",
       "      <td>1</td>\n",
       "      <td>19</td>\n",
       "      <td>[0, 0, 0, 2, 0, 0, 0, 0, 0, 0, 0, 0, 0, 0, 0, ...</td>\n",
       "    </tr>\n",
       "    <tr>\n",
       "      <th>1</th>\n",
       "      <td>Added new bitwarden link</td>\n",
       "      <td>None</td>\n",
       "      <td>0</td>\n",
       "      <td>suppathak</td>\n",
       "      <td>1660054828</td>\n",
       "      <td>1660055162</td>\n",
       "      <td>aakankshaduggal</td>\n",
       "      <td>1.660055e+09</td>\n",
       "      <td>aakankshaduggal</td>\n",
       "      <td>1</td>\n",
       "      <td>...</td>\n",
       "      <td>1.660055e+09</td>\n",
       "      <td>334.0</td>\n",
       "      <td>0</td>\n",
       "      <td>[0, 0, 0, 0, 0, 0, 0, 0, 1, 0, 0, 0, 0, 0, 0, ...</td>\n",
       "      <td>2022-08-09 14:20:28</td>\n",
       "      <td>9</td>\n",
       "      <td>8</td>\n",
       "      <td>1</td>\n",
       "      <td>14</td>\n",
       "      <td>[0, 0, 0, 1, 0, 0, 0, 0, 0, 0, 0, 0, 0, 0, 0, ...</td>\n",
       "    </tr>\n",
       "  </tbody>\n",
       "</table>\n",
       "<p>2 rows × 27 columns</p>\n",
       "</div>"
      ],
      "text/plain": [
       "                                      title  \\\n",
       "0  Add slides for workshop at DevConf US 22   \n",
       "1                  Added new bitwarden link   \n",
       "\n",
       "                                                body  size       created_by  \\\n",
       "0  ## Related Issues and Dependencies\\r\\n\\r\\n…\\r\\...     0  aakankshaduggal   \n",
       "1                                               None     0        suppathak   \n",
       "\n",
       "   created_at   closed_at        closed_by     merged_at        merged_by  \\\n",
       "0  1660679517  1660685334          sesheta  1.660685e+09          sesheta   \n",
       "1  1660054828  1660055162  aakankshaduggal  1.660055e+09  aakankshaduggal   \n",
       "\n",
       "   commits_number  ...  first_approve_at time_to_merge body_size  \\\n",
       "0               1  ...      1.660684e+09        5817.0        57   \n",
       "1               1  ...      1.660055e+09         334.0         0   \n",
       "\n",
       "                               title_word_counts_vec created_at_datetime  \\\n",
       "0  [0, 0, 0, 0, 0, 0, 0, 1, 0, 0, 0, 0, 0, 0, 0, ... 2022-08-16 19:51:57   \n",
       "1  [0, 0, 0, 0, 0, 0, 0, 0, 1, 0, 0, 0, 0, 0, 0, ... 2022-08-09 14:20:28   \n",
       "\n",
       "  created_at_day  created_at_month  created_at_weekday  created_at_hour  \\\n",
       "0             16                 8                   1               19   \n",
       "1              9                 8                   1               14   \n",
       "\n",
       "                               changed_file_type_vec  \n",
       "0  [0, 0, 0, 2, 0, 0, 0, 0, 0, 0, 0, 0, 0, 0, 0, ...  \n",
       "1  [0, 0, 0, 1, 0, 0, 0, 0, 0, 0, 0, 0, 0, 0, 0, ...  \n",
       "\n",
       "[2 rows x 27 columns]"
      ]
     },
     "execution_count": 38,
     "metadata": {},
     "output_type": "execute_result"
    }
   ],
   "source": [
    "pr_df.head(2)"
   ]
  },
  {
   "cell_type": "markdown",
   "id": "8102f95e-6175-4b46-99c1-66175f20325c",
   "metadata": {},
   "source": [
    "## Create PR trends dashboard"
   ]
  },
  {
   "cell_type": "markdown",
   "id": "5e502b7f-49c4-4024-aebc-3c9720a94209",
   "metadata": {},
   "source": [
    "## Infer dataframe columns as Features"
   ]
  },
  {
   "cell_type": "markdown",
   "id": "70443afd",
   "metadata": {},
   "source": [
    "We can see above that some PRs have 0 for all directory fields since the directory structure of the repo has changed over time and we are interested in only the latest directory structure."
   ]
  },
  {
   "cell_type": "code",
   "execution_count": 39,
   "id": "64e7a822",
   "metadata": {
    "execution": {
     "iopub.execute_input": "2022-11-18T20:10:28.132542Z",
     "iopub.status.busy": "2022-11-18T20:10:28.132390Z",
     "iopub.status.idle": "2022-11-18T20:10:28.135843Z",
     "shell.execute_reply": "2022-11-18T20:10:28.135365Z"
    }
   },
   "outputs": [],
   "source": [
    "# subset DataFrame to use as features\n",
    "feature_df = pr_df[\n",
    "    [\n",
    "        \"time_to_merge\",\n",
    "        \"changed_files_number\",\n",
    "        \"body_size\",\n",
    "        \"size\",\n",
    "        \"title_word_counts_vec\",\n",
    "        \"created_at_day\",\n",
    "        \"created_at_month\",\n",
    "        \"created_at_weekday\",\n",
    "        \"created_at_hour\",\n",
    "        \"commits_number\",\n",
    "        \"changed_file_type_vec\",\n",
    "    ]\n",
    "]"
   ]
  },
  {
   "cell_type": "markdown",
   "id": "0b08a241",
   "metadata": {},
   "source": [
    "### Add PR TTM Class Column \n",
    "\n",
    "Lets split up the time to merge values into 10 discrete bins (as discussed above) to use as our prediction classes."
   ]
  },
  {
   "cell_type": "code",
   "execution_count": 40,
   "id": "b1a5adc0-e8e2-4159-af36-a6fdc938de17",
   "metadata": {
    "execution": {
     "iopub.execute_input": "2022-11-18T20:10:28.137851Z",
     "iopub.status.busy": "2022-11-18T20:10:28.137617Z",
     "iopub.status.idle": "2022-11-18T20:10:28.141727Z",
     "shell.execute_reply": "2022-11-18T20:10:28.141256Z"
    }
   },
   "outputs": [
    {
     "data": {
      "text/plain": [
       "0.0        120.0\n",
       "0.1       1420.0\n",
       "0.2       4016.4\n",
       "0.3       7407.2\n",
       "0.4      49002.2\n",
       "0.5      72822.0\n",
       "0.6     101547.2\n",
       "0.7     262195.0\n",
       "0.8     505618.4\n",
       "0.9    1170498.4\n",
       "Name: time_to_merge, dtype: float64"
      ]
     },
     "execution_count": 40,
     "metadata": {},
     "output_type": "execute_result"
    }
   ],
   "source": [
    "intervals"
   ]
  },
  {
   "cell_type": "code",
   "execution_count": 41,
   "id": "ec16152d-0fb3-4775-913a-9e476382d713",
   "metadata": {
    "execution": {
     "iopub.execute_input": "2022-11-18T20:10:28.143929Z",
     "iopub.status.busy": "2022-11-18T20:10:28.143692Z",
     "iopub.status.idle": "2022-11-18T20:10:28.166091Z",
     "shell.execute_reply": "2022-11-18T20:10:28.165553Z"
    }
   },
   "outputs": [
    {
     "name": "stderr",
     "output_type": "stream",
     "text": [
      "/tmp/ipykernel_142/2436122750.py:9: SettingWithCopyWarning: \n",
      "A value is trying to be set on a copy of a slice from a DataFrame.\n",
      "Try using .loc[row_indexer,col_indexer] = value instead\n",
      "\n",
      "See the caveats in the documentation: https://pandas.pydata.org/pandas-docs/stable/user_guide/indexing.html#returning-a-view-versus-a-copy\n",
      "  feature_df[\"ttm_class\"] = (feature_df[\"time_to_merge\"]).apply(get_ttm_class)\n"
     ]
    },
    {
     "data": {
      "text/html": [
       "<div>\n",
       "<style scoped>\n",
       "    .dataframe tbody tr th:only-of-type {\n",
       "        vertical-align: middle;\n",
       "    }\n",
       "\n",
       "    .dataframe tbody tr th {\n",
       "        vertical-align: top;\n",
       "    }\n",
       "\n",
       "    .dataframe thead th {\n",
       "        text-align: right;\n",
       "    }\n",
       "</style>\n",
       "<table border=\"1\" class=\"dataframe\">\n",
       "  <thead>\n",
       "    <tr style=\"text-align: right;\">\n",
       "      <th></th>\n",
       "      <th>time_to_merge</th>\n",
       "      <th>changed_files_number</th>\n",
       "      <th>body_size</th>\n",
       "      <th>size</th>\n",
       "      <th>title_word_counts_vec</th>\n",
       "      <th>created_at_day</th>\n",
       "      <th>created_at_month</th>\n",
       "      <th>created_at_weekday</th>\n",
       "      <th>created_at_hour</th>\n",
       "      <th>commits_number</th>\n",
       "      <th>changed_file_type_vec</th>\n",
       "      <th>ttm_class</th>\n",
       "    </tr>\n",
       "  </thead>\n",
       "  <tbody>\n",
       "    <tr>\n",
       "      <th>0</th>\n",
       "      <td>5817.0</td>\n",
       "      <td>3</td>\n",
       "      <td>57</td>\n",
       "      <td>0</td>\n",
       "      <td>[0, 0, 0, 0, 0, 0, 0, 1, 0, 0, 0, 0, 0, 0, 0, ...</td>\n",
       "      <td>16</td>\n",
       "      <td>8</td>\n",
       "      <td>1</td>\n",
       "      <td>19</td>\n",
       "      <td>1</td>\n",
       "      <td>[0, 0, 0, 2, 0, 0, 0, 0, 0, 0, 0, 0, 0, 0, 0, ...</td>\n",
       "      <td>2</td>\n",
       "    </tr>\n",
       "    <tr>\n",
       "      <th>1</th>\n",
       "      <td>334.0</td>\n",
       "      <td>1</td>\n",
       "      <td>0</td>\n",
       "      <td>0</td>\n",
       "      <td>[0, 0, 0, 0, 0, 0, 0, 0, 1, 0, 0, 0, 0, 0, 0, ...</td>\n",
       "      <td>9</td>\n",
       "      <td>8</td>\n",
       "      <td>1</td>\n",
       "      <td>14</td>\n",
       "      <td>1</td>\n",
       "      <td>[0, 0, 0, 1, 0, 0, 0, 0, 0, 0, 0, 0, 0, 0, 0, ...</td>\n",
       "      <td>0</td>\n",
       "    </tr>\n",
       "    <tr>\n",
       "      <th>2</th>\n",
       "      <td>1834.0</td>\n",
       "      <td>1</td>\n",
       "      <td>5</td>\n",
       "      <td>0</td>\n",
       "      <td>[0, 0, 0, 0, 0, 0, 0, 0, 1, 0, 0, 0, 0, 0, 0, ...</td>\n",
       "      <td>1</td>\n",
       "      <td>8</td>\n",
       "      <td>0</td>\n",
       "      <td>12</td>\n",
       "      <td>1</td>\n",
       "      <td>[0, 0, 0, 0, 0, 0, 0, 0, 0, 0, 0, 0, 0, 0, 0, ...</td>\n",
       "      <td>1</td>\n",
       "    </tr>\n",
       "    <tr>\n",
       "      <th>3</th>\n",
       "      <td>61604.0</td>\n",
       "      <td>1</td>\n",
       "      <td>56</td>\n",
       "      <td>0</td>\n",
       "      <td>[0, 0, 0, 0, 0, 0, 0, 1, 0, 0, 0, 0, 0, 0, 0, ...</td>\n",
       "      <td>28</td>\n",
       "      <td>7</td>\n",
       "      <td>3</td>\n",
       "      <td>20</td>\n",
       "      <td>1</td>\n",
       "      <td>[0, 0, 0, 0, 0, 0, 0, 0, 0, 0, 0, 0, 0, 0, 0, ...</td>\n",
       "      <td>4</td>\n",
       "    </tr>\n",
       "    <tr>\n",
       "      <th>4</th>\n",
       "      <td>17380.0</td>\n",
       "      <td>1</td>\n",
       "      <td>21</td>\n",
       "      <td>0</td>\n",
       "      <td>[0, 0, 0, 0, 0, 0, 0, 0, 1, 0, 0, 0, 0, 0, 0, ...</td>\n",
       "      <td>28</td>\n",
       "      <td>7</td>\n",
       "      <td>3</td>\n",
       "      <td>6</td>\n",
       "      <td>1</td>\n",
       "      <td>[0, 0, 0, 0, 0, 0, 0, 0, 0, 0, 0, 0, 0, 1, 0, ...</td>\n",
       "      <td>3</td>\n",
       "    </tr>\n",
       "  </tbody>\n",
       "</table>\n",
       "</div>"
      ],
      "text/plain": [
       "   time_to_merge  changed_files_number  body_size  size  \\\n",
       "0         5817.0                     3         57     0   \n",
       "1          334.0                     1          0     0   \n",
       "2         1834.0                     1          5     0   \n",
       "3        61604.0                     1         56     0   \n",
       "4        17380.0                     1         21     0   \n",
       "\n",
       "                               title_word_counts_vec  created_at_day  \\\n",
       "0  [0, 0, 0, 0, 0, 0, 0, 1, 0, 0, 0, 0, 0, 0, 0, ...              16   \n",
       "1  [0, 0, 0, 0, 0, 0, 0, 0, 1, 0, 0, 0, 0, 0, 0, ...               9   \n",
       "2  [0, 0, 0, 0, 0, 0, 0, 0, 1, 0, 0, 0, 0, 0, 0, ...               1   \n",
       "3  [0, 0, 0, 0, 0, 0, 0, 1, 0, 0, 0, 0, 0, 0, 0, ...              28   \n",
       "4  [0, 0, 0, 0, 0, 0, 0, 0, 1, 0, 0, 0, 0, 0, 0, ...              28   \n",
       "\n",
       "   created_at_month  created_at_weekday  created_at_hour  commits_number  \\\n",
       "0                 8                   1               19               1   \n",
       "1                 8                   1               14               1   \n",
       "2                 8                   0               12               1   \n",
       "3                 7                   3               20               1   \n",
       "4                 7                   3                6               1   \n",
       "\n",
       "                               changed_file_type_vec  ttm_class  \n",
       "0  [0, 0, 0, 2, 0, 0, 0, 0, 0, 0, 0, 0, 0, 0, 0, ...          2  \n",
       "1  [0, 0, 0, 1, 0, 0, 0, 0, 0, 0, 0, 0, 0, 0, 0, ...          0  \n",
       "2  [0, 0, 0, 0, 0, 0, 0, 0, 0, 0, 0, 0, 0, 0, 0, ...          1  \n",
       "3  [0, 0, 0, 0, 0, 0, 0, 0, 0, 0, 0, 0, 0, 0, 0, ...          4  \n",
       "4  [0, 0, 0, 0, 0, 0, 0, 0, 0, 0, 0, 0, 0, 1, 0, ...          3  "
      ]
     },
     "execution_count": 41,
     "metadata": {},
     "output_type": "execute_result"
    }
   ],
   "source": [
    "def get_ttm_class(ttm):\n",
    "\n",
    "    for rownum, (indx, val) in enumerate(intervals.iteritems()):\n",
    "        if ttm < val:\n",
    "            return rownum - 1\n",
    "    return 9\n",
    "\n",
    "\n",
    "feature_df[\"ttm_class\"] = (feature_df[\"time_to_merge\"]).apply(get_ttm_class)\n",
    "feature_df.head()"
   ]
  },
  {
   "cell_type": "markdown",
   "id": "04749f45",
   "metadata": {},
   "source": [
    "## Evaluating Feature Importances\n",
    "\n",
    "### Categorical Features\n",
    "\n",
    "First, lets try to determine what categorical featuers are powerful influencers for time to merge of a PR"
   ]
  },
  {
   "cell_type": "code",
   "execution_count": 42,
   "id": "e353c92b",
   "metadata": {
    "execution": {
     "iopub.execute_input": "2022-11-18T20:10:28.168537Z",
     "iopub.status.busy": "2022-11-18T20:10:28.168245Z",
     "iopub.status.idle": "2022-11-18T20:10:28.171288Z",
     "shell.execute_reply": "2022-11-18T20:10:28.170811Z"
    }
   },
   "outputs": [],
   "source": [
    "# feature selection helper function\n",
    "def select_features(x, y, func):\n",
    "    fs = SelectKBest(score_func=func, k=\"all\")\n",
    "    fs.fit(x, y)\n",
    "    x_fs = fs.transform(x)\n",
    "    return x_fs, fs\n",
    "\n",
    "\n",
    "selected_features = []"
   ]
  },
  {
   "cell_type": "code",
   "execution_count": 43,
   "id": "986b3424-0401-4c7a-8f28-a860b87e14ef",
   "metadata": {
    "execution": {
     "iopub.execute_input": "2022-11-18T20:10:28.173327Z",
     "iopub.status.busy": "2022-11-18T20:10:28.172969Z",
     "iopub.status.idle": "2022-11-18T20:10:28.175465Z",
     "shell.execute_reply": "2022-11-18T20:10:28.174996Z"
    }
   },
   "outputs": [],
   "source": [
    "cat_features = [\n",
    "    \"size\",\n",
    "    \"created_at_day\",\n",
    "    \"created_at_month\",\n",
    "    \"created_at_weekday\",\n",
    "    \"created_at_hour\",\n",
    "    \"ttm_class\",\n",
    "]"
   ]
  },
  {
   "cell_type": "code",
   "execution_count": 44,
   "id": "3e1d24a4",
   "metadata": {
    "execution": {
     "iopub.execute_input": "2022-11-18T20:10:28.177376Z",
     "iopub.status.busy": "2022-11-18T20:10:28.177147Z",
     "iopub.status.idle": "2022-11-18T20:10:28.184685Z",
     "shell.execute_reply": "2022-11-18T20:10:28.184209Z"
    }
   },
   "outputs": [
    {
     "data": {
      "text/html": [
       "<div>\n",
       "<style scoped>\n",
       "    .dataframe tbody tr th:only-of-type {\n",
       "        vertical-align: middle;\n",
       "    }\n",
       "\n",
       "    .dataframe tbody tr th {\n",
       "        vertical-align: top;\n",
       "    }\n",
       "\n",
       "    .dataframe thead th {\n",
       "        text-align: right;\n",
       "    }\n",
       "</style>\n",
       "<table border=\"1\" class=\"dataframe\">\n",
       "  <thead>\n",
       "    <tr style=\"text-align: right;\">\n",
       "      <th></th>\n",
       "      <th>size</th>\n",
       "      <th>created_at_day</th>\n",
       "      <th>created_at_month</th>\n",
       "      <th>created_at_weekday</th>\n",
       "      <th>created_at_hour</th>\n",
       "      <th>ttm_class</th>\n",
       "    </tr>\n",
       "  </thead>\n",
       "  <tbody>\n",
       "    <tr>\n",
       "      <th>0</th>\n",
       "      <td>0</td>\n",
       "      <td>16</td>\n",
       "      <td>8</td>\n",
       "      <td>1</td>\n",
       "      <td>19</td>\n",
       "      <td>2</td>\n",
       "    </tr>\n",
       "    <tr>\n",
       "      <th>1</th>\n",
       "      <td>0</td>\n",
       "      <td>9</td>\n",
       "      <td>8</td>\n",
       "      <td>1</td>\n",
       "      <td>14</td>\n",
       "      <td>0</td>\n",
       "    </tr>\n",
       "    <tr>\n",
       "      <th>2</th>\n",
       "      <td>0</td>\n",
       "      <td>1</td>\n",
       "      <td>8</td>\n",
       "      <td>0</td>\n",
       "      <td>12</td>\n",
       "      <td>1</td>\n",
       "    </tr>\n",
       "    <tr>\n",
       "      <th>3</th>\n",
       "      <td>0</td>\n",
       "      <td>28</td>\n",
       "      <td>7</td>\n",
       "      <td>3</td>\n",
       "      <td>20</td>\n",
       "      <td>4</td>\n",
       "    </tr>\n",
       "    <tr>\n",
       "      <th>4</th>\n",
       "      <td>0</td>\n",
       "      <td>28</td>\n",
       "      <td>7</td>\n",
       "      <td>3</td>\n",
       "      <td>6</td>\n",
       "      <td>3</td>\n",
       "    </tr>\n",
       "  </tbody>\n",
       "</table>\n",
       "</div>"
      ],
      "text/plain": [
       "   size  created_at_day  created_at_month  created_at_weekday  \\\n",
       "0     0              16                 8                   1   \n",
       "1     0               9                 8                   1   \n",
       "2     0               1                 8                   0   \n",
       "3     0              28                 7                   3   \n",
       "4     0              28                 7                   3   \n",
       "\n",
       "   created_at_hour  ttm_class  \n",
       "0               19          2  \n",
       "1               14          0  \n",
       "2               12          1  \n",
       "3               20          4  \n",
       "4                6          3  "
      ]
     },
     "execution_count": 44,
     "metadata": {},
     "output_type": "execute_result"
    }
   ],
   "source": [
    "cat_df = feature_df[cat_features]\n",
    "\n",
    "cat_df.head()"
   ]
  },
  {
   "cell_type": "code",
   "execution_count": 45,
   "id": "278e3073",
   "metadata": {
    "execution": {
     "iopub.execute_input": "2022-11-18T20:10:28.186693Z",
     "iopub.status.busy": "2022-11-18T20:10:28.186458Z",
     "iopub.status.idle": "2022-11-18T20:10:28.189558Z",
     "shell.execute_reply": "2022-11-18T20:10:28.189093Z"
    }
   },
   "outputs": [],
   "source": [
    "# split into input (x) and output (y) variables\n",
    "X_inp = cat_df.drop(columns=[\"ttm_class\"])\n",
    "y = cat_df[\"ttm_class\"]"
   ]
  },
  {
   "cell_type": "code",
   "execution_count": 46,
   "id": "2df4fb8d",
   "metadata": {
    "execution": {
     "iopub.execute_input": "2022-11-18T20:10:28.191693Z",
     "iopub.status.busy": "2022-11-18T20:10:28.191545Z",
     "iopub.status.idle": "2022-11-18T20:10:28.219425Z",
     "shell.execute_reply": "2022-11-18T20:10:28.218922Z"
    }
   },
   "outputs": [],
   "source": [
    "# rank using mutual_info_classif\n",
    "X_fs, fs = select_features(X_inp, y, mutual_info_classif)"
   ]
  },
  {
   "cell_type": "code",
   "execution_count": 47,
   "id": "418becb1",
   "metadata": {
    "execution": {
     "iopub.execute_input": "2022-11-18T20:10:28.221463Z",
     "iopub.status.busy": "2022-11-18T20:10:28.221306Z",
     "iopub.status.idle": "2022-11-18T20:10:28.224255Z",
     "shell.execute_reply": "2022-11-18T20:10:28.223788Z"
    }
   },
   "outputs": [
    {
     "name": "stdout",
     "output_type": "stream",
     "text": [
      "Feature size: 0.036471\n",
      "Feature created_at_day: 0.055111\n",
      "Feature created_at_month: 0.131241\n",
      "Feature created_at_weekday: 0.066010\n",
      "Feature created_at_hour: 0.075849\n"
     ]
    }
   ],
   "source": [
    "for i in range(len(fs.scores_)):\n",
    "    print(\"Feature %s: %f\" % (X_inp.columns[i], fs.scores_[i]))"
   ]
  },
  {
   "cell_type": "code",
   "execution_count": 48,
   "id": "b08ea157",
   "metadata": {
    "execution": {
     "iopub.execute_input": "2022-11-18T20:10:28.226632Z",
     "iopub.status.busy": "2022-11-18T20:10:28.226481Z",
     "iopub.status.idle": "2022-11-18T20:10:28.330256Z",
     "shell.execute_reply": "2022-11-18T20:10:28.329808Z"
    }
   },
   "outputs": [
    {
     "data": {
      "image/png": "[encoded data removed]",
      "text/plain": [
       "<Figure size 432x288 with 1 Axes>"
      ]
     },
     "metadata": {
      "needs_background": "light"
     },
     "output_type": "display_data"
    }
   ],
   "source": [
    "# visualize scores of all features\n",
    "sns.barplot(x=X_inp.columns, y=fs.scores_)\n",
    "plt.title(\"Feature importance scores for Mutual Information Statistic\")\n",
    "plt.xticks(rotation=60)\n",
    "plt.xlabel(\"Features\")\n",
    "plt.ylabel(\"Scores\")\n",
    "plt.show()"
   ]
  },
  {
   "cell_type": "code",
   "execution_count": 49,
   "id": "176c1d98",
   "metadata": {
    "execution": {
     "iopub.execute_input": "2022-11-18T20:10:28.332908Z",
     "iopub.status.busy": "2022-11-18T20:10:28.332047Z",
     "iopub.status.idle": "2022-11-18T20:10:28.335555Z",
     "shell.execute_reply": "2022-11-18T20:10:28.335167Z"
    }
   },
   "outputs": [],
   "source": [
    "# Lets get a list of the top 10 feature indices based on Mutual Info Stat feature scores\n",
    "top_mis = fs.scores_.argsort()[-10:][::-1]"
   ]
  },
  {
   "cell_type": "code",
   "execution_count": 50,
   "id": "c33dc4f2",
   "metadata": {
    "execution": {
     "iopub.execute_input": "2022-11-18T20:10:28.338292Z",
     "iopub.status.busy": "2022-11-18T20:10:28.337556Z",
     "iopub.status.idle": "2022-11-18T20:10:28.343359Z",
     "shell.execute_reply": "2022-11-18T20:10:28.342948Z"
    }
   },
   "outputs": [],
   "source": [
    "# rank using chi_sq\n",
    "X_fs, fs = select_features(X_inp, y, chi2)"
   ]
  },
  {
   "cell_type": "code",
   "execution_count": 51,
   "id": "313c6906",
   "metadata": {
    "execution": {
     "iopub.execute_input": "2022-11-18T20:10:28.346569Z",
     "iopub.status.busy": "2022-11-18T20:10:28.345850Z",
     "iopub.status.idle": "2022-11-18T20:10:28.350253Z",
     "shell.execute_reply": "2022-11-18T20:10:28.349873Z"
    }
   },
   "outputs": [
    {
     "name": "stdout",
     "output_type": "stream",
     "text": [
      "Feature size: 44.940844\n",
      "Feature created_at_day: 59.358280\n",
      "Feature created_at_month: 19.130221\n",
      "Feature created_at_weekday: 15.762780\n",
      "Feature created_at_hour: 22.374388\n"
     ]
    }
   ],
   "source": [
    "for i in range(len(fs.scores_)):\n",
    "    print(\"Feature %s: %f\" % (X_inp.columns[i], fs.scores_[i]))"
   ]
  },
  {
   "cell_type": "code",
   "execution_count": 52,
   "id": "460daed6",
   "metadata": {
    "execution": {
     "iopub.execute_input": "2022-11-18T20:10:28.353033Z",
     "iopub.status.busy": "2022-11-18T20:10:28.352279Z",
     "iopub.status.idle": "2022-11-18T20:10:28.447966Z",
     "shell.execute_reply": "2022-11-18T20:10:28.447516Z"
    }
   },
   "outputs": [
    {
     "data": {
      "image/png": "[encoded data removed]",
      "text/plain": [
       "<Figure size 432x288 with 1 Axes>"
      ]
     },
     "metadata": {
      "needs_background": "light"
     },
     "output_type": "display_data"
    }
   ],
   "source": [
    "# visualize scores of all features\n",
    "sns.barplot(x=X_inp.columns, y=fs.scores_)\n",
    "plt.title(\"Feature importance scores for Chi Squared\")\n",
    "plt.xticks(rotation=60)\n",
    "plt.xlabel(\"Features\")\n",
    "plt.ylabel(\"Scores\")\n",
    "plt.show()"
   ]
  },
  {
   "cell_type": "code",
   "execution_count": 53,
   "id": "9874b4b4",
   "metadata": {
    "execution": {
     "iopub.execute_input": "2022-11-18T20:10:28.451082Z",
     "iopub.status.busy": "2022-11-18T20:10:28.450335Z",
     "iopub.status.idle": "2022-11-18T20:10:28.453752Z",
     "shell.execute_reply": "2022-11-18T20:10:28.453364Z"
    }
   },
   "outputs": [],
   "source": [
    "# Lets get a list of the top 10 feature indices based on Chi Sq feature scores\n",
    "top_chi2 = fs.scores_.argsort()[-10:][::-1]"
   ]
  },
  {
   "cell_type": "markdown",
   "id": "5861b291",
   "metadata": {},
   "source": [
    "Let's get a Union of the top 10 features derived from features based on both scores of both Mutual Info Statistic and Chi Squared"
   ]
  },
  {
   "cell_type": "code",
   "execution_count": 54,
   "id": "fae59295",
   "metadata": {
    "execution": {
     "iopub.execute_input": "2022-11-18T20:10:28.456636Z",
     "iopub.status.busy": "2022-11-18T20:10:28.455911Z",
     "iopub.status.idle": "2022-11-18T20:10:28.461727Z",
     "shell.execute_reply": "2022-11-18T20:10:28.461296Z"
    }
   },
   "outputs": [
    {
     "name": "stdout",
     "output_type": "stream",
     "text": [
      "5\n"
     ]
    },
    {
     "data": {
      "text/plain": [
       "{0, 1, 2, 3, 4}"
      ]
     },
     "execution_count": 54,
     "metadata": {},
     "output_type": "execute_result"
    }
   ],
   "source": [
    "union = set(top_mis).union(set(top_chi2))\n",
    "print(len(union))\n",
    "union"
   ]
  },
  {
   "cell_type": "code",
   "execution_count": 55,
   "id": "4778b695-9ec8-4d9f-a1dd-26d749b43a95",
   "metadata": {
    "execution": {
     "iopub.execute_input": "2022-11-18T20:10:28.464492Z",
     "iopub.status.busy": "2022-11-18T20:10:28.463775Z",
     "iopub.status.idle": "2022-11-18T20:10:28.468483Z",
     "shell.execute_reply": "2022-11-18T20:10:28.468066Z"
    }
   },
   "outputs": [
    {
     "data": {
      "text/plain": [
       "['size',\n",
       " 'created_at_day',\n",
       " 'created_at_month',\n",
       " 'created_at_weekday',\n",
       " 'created_at_hour']"
      ]
     },
     "execution_count": 55,
     "metadata": {},
     "output_type": "execute_result"
    }
   ],
   "source": [
    "selected_cat_features = [cat_features[i] for i in union]\n",
    "selected_cat_features"
   ]
  },
  {
   "cell_type": "code",
   "execution_count": 56,
   "id": "5b0ce173",
   "metadata": {
    "execution": {
     "iopub.execute_input": "2022-11-18T20:10:28.471280Z",
     "iopub.status.busy": "2022-11-18T20:10:28.470555Z",
     "iopub.status.idle": "2022-11-18T20:10:28.473616Z",
     "shell.execute_reply": "2022-11-18T20:10:28.473227Z"
    }
   },
   "outputs": [],
   "source": [
    "# update list of features to keep for training\n",
    "selected_features += selected_cat_features"
   ]
  },
  {
   "cell_type": "markdown",
   "id": "33f4387d",
   "metadata": {},
   "source": [
    "### Numerical Features\n",
    "\n",
    "Now, lets try to determine what numerical featuers are powerful influencers for time to merge of a PR"
   ]
  },
  {
   "cell_type": "code",
   "execution_count": 57,
   "id": "29683916-4ef7-474a-80ac-11a5d210b6fa",
   "metadata": {
    "execution": {
     "iopub.execute_input": "2022-11-18T20:10:28.476456Z",
     "iopub.status.busy": "2022-11-18T20:10:28.475744Z",
     "iopub.status.idle": "2022-11-18T20:10:28.478896Z",
     "shell.execute_reply": "2022-11-18T20:10:28.478513Z"
    }
   },
   "outputs": [],
   "source": [
    "numerical_features = [\n",
    "    \"changed_files_number\",\n",
    "    \"body_size\",\n",
    "    \"commits_number\",\n",
    "    \"ttm_class\",\n",
    "]"
   ]
  },
  {
   "cell_type": "code",
   "execution_count": 58,
   "id": "b0d608dd",
   "metadata": {
    "execution": {
     "iopub.execute_input": "2022-11-18T20:10:28.481638Z",
     "iopub.status.busy": "2022-11-18T20:10:28.480931Z",
     "iopub.status.idle": "2022-11-18T20:10:28.489000Z",
     "shell.execute_reply": "2022-11-18T20:10:28.488488Z"
    }
   },
   "outputs": [
    {
     "data": {
      "text/html": [
       "<div>\n",
       "<style scoped>\n",
       "    .dataframe tbody tr th:only-of-type {\n",
       "        vertical-align: middle;\n",
       "    }\n",
       "\n",
       "    .dataframe tbody tr th {\n",
       "        vertical-align: top;\n",
       "    }\n",
       "\n",
       "    .dataframe thead th {\n",
       "        text-align: right;\n",
       "    }\n",
       "</style>\n",
       "<table border=\"1\" class=\"dataframe\">\n",
       "  <thead>\n",
       "    <tr style=\"text-align: right;\">\n",
       "      <th></th>\n",
       "      <th>changed_files_number</th>\n",
       "      <th>body_size</th>\n",
       "      <th>commits_number</th>\n",
       "      <th>ttm_class</th>\n",
       "    </tr>\n",
       "  </thead>\n",
       "  <tbody>\n",
       "    <tr>\n",
       "      <th>0</th>\n",
       "      <td>3</td>\n",
       "      <td>57</td>\n",
       "      <td>1</td>\n",
       "      <td>2</td>\n",
       "    </tr>\n",
       "    <tr>\n",
       "      <th>1</th>\n",
       "      <td>1</td>\n",
       "      <td>0</td>\n",
       "      <td>1</td>\n",
       "      <td>0</td>\n",
       "    </tr>\n",
       "    <tr>\n",
       "      <th>2</th>\n",
       "      <td>1</td>\n",
       "      <td>5</td>\n",
       "      <td>1</td>\n",
       "      <td>1</td>\n",
       "    </tr>\n",
       "    <tr>\n",
       "      <th>3</th>\n",
       "      <td>1</td>\n",
       "      <td>56</td>\n",
       "      <td>1</td>\n",
       "      <td>4</td>\n",
       "    </tr>\n",
       "    <tr>\n",
       "      <th>4</th>\n",
       "      <td>1</td>\n",
       "      <td>21</td>\n",
       "      <td>1</td>\n",
       "      <td>3</td>\n",
       "    </tr>\n",
       "  </tbody>\n",
       "</table>\n",
       "</div>"
      ],
      "text/plain": [
       "   changed_files_number  body_size  commits_number  ttm_class\n",
       "0                     3         57               1          2\n",
       "1                     1          0               1          0\n",
       "2                     1          5               1          1\n",
       "3                     1         56               1          4\n",
       "4                     1         21               1          3"
      ]
     },
     "execution_count": 58,
     "metadata": {},
     "output_type": "execute_result"
    }
   ],
   "source": [
    "numerical_df = feature_df[numerical_features]\n",
    "numerical_df.head()"
   ]
  },
  {
   "cell_type": "code",
   "execution_count": 59,
   "id": "9ff2919e",
   "metadata": {
    "execution": {
     "iopub.execute_input": "2022-11-18T20:10:28.491517Z",
     "iopub.status.busy": "2022-11-18T20:10:28.491143Z",
     "iopub.status.idle": "2022-11-18T20:10:28.495191Z",
     "shell.execute_reply": "2022-11-18T20:10:28.494742Z"
    }
   },
   "outputs": [],
   "source": [
    "# split into input features and target\n",
    "X_inp = numerical_df.drop(columns=[\"ttm_class\"])\n",
    "y = numerical_df[\"ttm_class\"]"
   ]
  },
  {
   "cell_type": "code",
   "execution_count": 60,
   "id": "cc733746",
   "metadata": {
    "execution": {
     "iopub.execute_input": "2022-11-18T20:10:28.498019Z",
     "iopub.status.busy": "2022-11-18T20:10:28.497198Z",
     "iopub.status.idle": "2022-11-18T20:10:28.595907Z",
     "shell.execute_reply": "2022-11-18T20:10:28.595473Z"
    },
    "tags": []
   },
   "outputs": [
    {
     "data": {
      "image/png": "[encoded data removed]",
      "text/plain": [
       "<Figure size 432x288 with 1 Axes>"
      ]
     },
     "metadata": {
      "needs_background": "light"
     },
     "output_type": "display_data"
    }
   ],
   "source": [
    "# create k best feature selector object based on mutual information\n",
    "numerical_feats_mi, k_best_selector_mi = select_features(\n",
    "    X_inp,\n",
    "    y,\n",
    "    partial(\n",
    "        mutual_info_classif,\n",
    "        discrete_features=False,\n",
    "        random_state=42,\n",
    "        n_neighbors=3,\n",
    "    ),\n",
    ")\n",
    "\n",
    "# visualize the MI scores of all features\n",
    "sns.barplot(x=X_inp.columns, y=k_best_selector_mi.scores_)\n",
    "plt.title(\"Feature importance based on Mutual Information\")\n",
    "plt.xticks(rotation=60)\n",
    "plt.xlabel(\"Features\")\n",
    "plt.ylabel(\"Scores\")\n",
    "plt.show()"
   ]
  },
  {
   "cell_type": "code",
   "execution_count": 61,
   "id": "7bdf2192",
   "metadata": {
    "execution": {
     "iopub.execute_input": "2022-11-18T20:10:28.599310Z",
     "iopub.status.busy": "2022-11-18T20:10:28.598259Z",
     "iopub.status.idle": "2022-11-18T20:10:28.719337Z",
     "shell.execute_reply": "2022-11-18T20:10:28.718851Z"
    }
   },
   "outputs": [
    {
     "data": {
      "image/png": "[encoded data removed]",
      "text/plain": [
       "<Figure size 432x288 with 2 Axes>"
      ]
     },
     "metadata": {
      "needs_background": "light"
     },
     "output_type": "display_data"
    }
   ],
   "source": [
    "# create k best feature selector object based on anova f statistic\n",
    "numerical_feats_f, k_best_selector_f = select_features(\n",
    "    X_inp,\n",
    "    y,\n",
    "    f_classif,\n",
    ")\n",
    "\n",
    "# visualize the f stat scores and pvalues of all features\n",
    "fig, axes = plt.subplots(2, 1, sharex=True)\n",
    "fig.suptitle(\"Feature importance based on ANOVA F stat\")\n",
    "sns.barplot(x=X_inp.columns, y=k_best_selector_f.scores_, ax=axes[0])\n",
    "sns.barplot(x=X_inp.columns, y=k_best_selector_f.pvalues_, ax=axes[1])\n",
    "plt.xticks(rotation=60)\n",
    "plt.xlabel(\"Features\")\n",
    "axes[0].set_ylabel(\"Scores\")\n",
    "axes[1].set_ylabel(\"p-values\")\n",
    "plt.show()"
   ]
  },
  {
   "cell_type": "code",
   "execution_count": 62,
   "id": "6134ddb1-994f-42ee-8a68-7111540b6481",
   "metadata": {
    "execution": {
     "iopub.execute_input": "2022-11-18T20:10:28.722494Z",
     "iopub.status.busy": "2022-11-18T20:10:28.721621Z",
     "iopub.status.idle": "2022-11-18T20:10:28.727254Z",
     "shell.execute_reply": "2022-11-18T20:10:28.726863Z"
    }
   },
   "outputs": [
    {
     "data": {
      "text/plain": [
       "{0, 1, 2}"
      ]
     },
     "execution_count": 62,
     "metadata": {},
     "output_type": "execute_result"
    }
   ],
   "source": [
    "top_mi = k_best_selector_mi.scores_.argsort()[-3:][::-1]\n",
    "top_anova = k_best_selector_f.scores_.argsort()[-3:][::-1]\n",
    "union = set(top_mi).union(set(top_anova))\n",
    "union"
   ]
  },
  {
   "cell_type": "code",
   "execution_count": 63,
   "id": "2d5a9368-bfaf-4348-b140-13e6d725f59c",
   "metadata": {
    "execution": {
     "iopub.execute_input": "2022-11-18T20:10:28.730091Z",
     "iopub.status.busy": "2022-11-18T20:10:28.729239Z",
     "iopub.status.idle": "2022-11-18T20:10:28.734039Z",
     "shell.execute_reply": "2022-11-18T20:10:28.733667Z"
    }
   },
   "outputs": [
    {
     "data": {
      "text/plain": [
       "['changed_files_number', 'body_size', 'commits_number']"
      ]
     },
     "execution_count": 63,
     "metadata": {},
     "output_type": "execute_result"
    }
   ],
   "source": [
    "selected_num_features = [numerical_features[i] for i in union]\n",
    "selected_num_features"
   ]
  },
  {
   "cell_type": "code",
   "execution_count": 64,
   "id": "cc984a01",
   "metadata": {
    "execution": {
     "iopub.execute_input": "2022-11-18T20:10:28.736883Z",
     "iopub.status.busy": "2022-11-18T20:10:28.736022Z",
     "iopub.status.idle": "2022-11-18T20:10:28.739275Z",
     "shell.execute_reply": "2022-11-18T20:10:28.738890Z"
    }
   },
   "outputs": [],
   "source": [
    "# update list of features to keep for training\n",
    "selected_features += selected_num_features"
   ]
  },
  {
   "cell_type": "markdown",
   "id": "11a86b36",
   "metadata": {},
   "source": [
    "### Count Vector Type Features\n",
    "\n",
    "Finally, lets determine the most important features from the count vector type columns."
   ]
  },
  {
   "cell_type": "code",
   "execution_count": 65,
   "id": "f07d0334",
   "metadata": {
    "execution": {
     "iopub.execute_input": "2022-11-18T20:10:28.742161Z",
     "iopub.status.busy": "2022-11-18T20:10:28.741324Z",
     "iopub.status.idle": "2022-11-18T20:10:28.747783Z",
     "shell.execute_reply": "2022-11-18T20:10:28.747345Z"
    },
    "scrolled": true
   },
   "outputs": [],
   "source": [
    "# explode the list column so that there is 1 column representing frequency of each file type\n",
    "filetype_df = pd.DataFrame(feature_df.changed_file_type_vec.to_list())\n",
    "filetype_df.index = feature_df.index\n",
    "filetype_df.columns = [f\"filetype_{f}\" for f in top_fileextensions]"
   ]
  },
  {
   "cell_type": "code",
   "execution_count": 66,
   "id": "35f93d4e",
   "metadata": {
    "execution": {
     "iopub.execute_input": "2022-11-18T20:10:28.750390Z",
     "iopub.status.busy": "2022-11-18T20:10:28.750161Z",
     "iopub.status.idle": "2022-11-18T20:10:28.763961Z",
     "shell.execute_reply": "2022-11-18T20:10:28.763522Z"
    }
   },
   "outputs": [
    {
     "data": {
      "text/plain": [
       "filetype_.lock                   0.194394\n",
       "filetype_.sh                     0.095987\n",
       "filetype_.parquet                0.079995\n",
       "filetype_.rst                    0.074111\n",
       "filetype_Pipfile                 0.069387\n",
       "filetype_.csv                    0.068447\n",
       "filetype_.gz                     0.061094\n",
       "filetype_environment             0.041052\n",
       "filetype_.ini                    0.008483\n",
       "filetype_.bat                    0.008483\n",
       "filetype_CODEOWNERS              0.008483\n",
       "filetype_.toml                   0.008483\n",
       "filetype_.txt                    0.007709\n",
       "filetype_.json                  -0.000509\n",
       "filetype_OWNERS                 -0.010468\n",
       "filetype_.pipeline              -0.011198\n",
       "filetype_.yml                   -0.016821\n",
       "filetype_.yaml                  -0.024417\n",
       "filetype_.mdx                   -0.027412\n",
       "filetype_env_example_workshop   -0.037959\n",
       "filetype_LICENSE                -0.049981\n",
       "filetype_.py                    -0.078367\n",
       "filetype_.pdf                   -0.086705\n",
       "filetype_None                   -0.092988\n",
       "filetype_.inv                   -0.100898\n",
       "filetype_.buildinfo             -0.100898\n",
       "filetype_.pickle                -0.100898\n",
       "filetype_.map                   -0.100898\n",
       "filetype_.doctree               -0.100898\n",
       "filetype_.po                    -0.100898\n",
       "filetype_.woff2                 -0.100898\n",
       "filetype_.woff                  -0.100898\n",
       "filetype_.ttf                   -0.100898\n",
       "filetype_.eot                   -0.100898\n",
       "filetype_.png                   -0.101536\n",
       "filetype_.svg                   -0.110481\n",
       "filetype_.ipynb                 -0.112444\n",
       "filetype_.css                   -0.123222\n",
       "filetype_.js                    -0.124580\n",
       "filetype_.html                  -0.128106\n",
       "filetype_.md                    -0.147578\n",
       "dtype: float64"
      ]
     },
     "execution_count": 66,
     "metadata": {},
     "output_type": "execute_result"
    }
   ],
   "source": [
    "# compute correlation with ttm\n",
    "corr = filetype_df.corrwith(feature_df[\"ttm_class\"])\n",
    "corr.sort_values(ascending=False)"
   ]
  },
  {
   "cell_type": "code",
   "execution_count": 67,
   "id": "d5ae2981",
   "metadata": {
    "execution": {
     "iopub.execute_input": "2022-11-18T20:10:28.766398Z",
     "iopub.status.busy": "2022-11-18T20:10:28.766046Z",
     "iopub.status.idle": "2022-11-18T20:10:28.771663Z",
     "shell.execute_reply": "2022-11-18T20:10:28.771252Z"
    }
   },
   "outputs": [
    {
     "data": {
      "text/plain": [
       "filetype_.png                   -0.101536\n",
       "filetype_.ipynb                 -0.112444\n",
       "filetype_.html                  -0.128106\n",
       "filetype_.md                    -0.147578\n",
       "filetype_.po                    -0.100898\n",
       "filetype_.py                    -0.078367\n",
       "filetype_.doctree               -0.100898\n",
       "filetype_.yaml                  -0.024417\n",
       "filetype_.js                    -0.124580\n",
       "filetype_.lock                   0.194394\n",
       "filetype_.css                   -0.123222\n",
       "filetype_Pipfile                 0.069387\n",
       "filetype_.svg                   -0.110481\n",
       "filetype_.pipeline              -0.011198\n",
       "filetype_.yml                   -0.016821\n",
       "filetype_.mdx                   -0.027412\n",
       "filetype_.csv                    0.068447\n",
       "filetype_environment             0.041052\n",
       "filetype_OWNERS                 -0.010468\n",
       "filetype_env_example_workshop   -0.037959\n",
       "filetype_None                   -0.092988\n",
       "filetype_.gz                     0.061094\n",
       "filetype_.pdf                   -0.086705\n",
       "filetype_.eot                   -0.100898\n",
       "filetype_.ttf                   -0.100898\n",
       "filetype_.woff                  -0.100898\n",
       "filetype_.woff2                 -0.100898\n",
       "filetype_.rst                    0.074111\n",
       "filetype_.parquet                0.079995\n",
       "filetype_.map                   -0.100898\n",
       "filetype_LICENSE                -0.049981\n",
       "filetype_.pickle                -0.100898\n",
       "filetype_.buildinfo             -0.100898\n",
       "filetype_.inv                   -0.100898\n",
       "filetype_.sh                     0.095987\n",
       "dtype: float64"
      ]
     },
     "execution_count": 67,
     "metadata": {},
     "output_type": "execute_result"
    }
   ],
   "source": [
    "corr[corr.abs() > 0.01]"
   ]
  },
  {
   "cell_type": "code",
   "execution_count": 68,
   "id": "9d5e19bd",
   "metadata": {
    "execution": {
     "iopub.execute_input": "2022-11-18T20:10:28.774499Z",
     "iopub.status.busy": "2022-11-18T20:10:28.773652Z",
     "iopub.status.idle": "2022-11-18T20:10:28.778056Z",
     "shell.execute_reply": "2022-11-18T20:10:28.777631Z"
    }
   },
   "outputs": [],
   "source": [
    "# update list of features to keep for training\n",
    "# take everything that has more than 0.01 correlation magnitude\n",
    "filetype_keep_cols = corr[corr.abs() > 0.01].index.tolist()\n",
    "selected_features += filetype_keep_cols\n",
    "\n",
    "# only keep the relevant columns now\n",
    "filetype_df = filetype_df[filetype_keep_cols]"
   ]
  },
  {
   "cell_type": "code",
   "execution_count": 69,
   "id": "2eab2fb8-ee9e-4a4e-9d2e-7629f9c56cb9",
   "metadata": {
    "execution": {
     "iopub.execute_input": "2022-11-18T20:10:28.780356Z",
     "iopub.status.busy": "2022-11-18T20:10:28.780011Z",
     "iopub.status.idle": "2022-11-18T20:10:28.784945Z",
     "shell.execute_reply": "2022-11-18T20:10:28.784536Z"
    }
   },
   "outputs": [
    {
     "data": {
      "text/plain": [
       "['.png',\n",
       " '.ipynb',\n",
       " '.html',\n",
       " '.md',\n",
       " '.po',\n",
       " '.py',\n",
       " '.doctree',\n",
       " '.yaml',\n",
       " '.js',\n",
       " '.lock',\n",
       " '.css',\n",
       " 'Pipfile',\n",
       " '.svg',\n",
       " '.pipeline',\n",
       " '.yml',\n",
       " '.mdx',\n",
       " '.csv',\n",
       " 'environment',\n",
       " 'OWNERS',\n",
       " 'env_example_workshop',\n",
       " 'None',\n",
       " '.gz',\n",
       " '.pdf',\n",
       " '.eot',\n",
       " '.ttf',\n",
       " '.woff',\n",
       " '.woff2',\n",
       " '.rst',\n",
       " '.parquet',\n",
       " '.map',\n",
       " 'LICENSE',\n",
       " '.pickle',\n",
       " '.buildinfo',\n",
       " '.inv',\n",
       " '.sh']"
      ]
     },
     "execution_count": 69,
     "metadata": {},
     "output_type": "execute_result"
    }
   ],
   "source": [
    "filetype_keep_cols = [i[9:] for i in filetype_keep_cols]\n",
    "filetype_keep_cols"
   ]
  },
  {
   "cell_type": "code",
   "execution_count": 70,
   "id": "2b2da9ab-de61-44f5-91f1-a897e8f7a962",
   "metadata": {
    "execution": {
     "iopub.execute_input": "2022-11-18T20:10:28.787246Z",
     "iopub.status.busy": "2022-11-18T20:10:28.786958Z",
     "iopub.status.idle": "2022-11-18T20:10:28.790365Z",
     "shell.execute_reply": "2022-11-18T20:10:28.789915Z"
    }
   },
   "outputs": [],
   "source": [
    "filetype_keep_cols_df = pd.DataFrame(filetype_keep_cols, columns=[\"filetype\"])"
   ]
  },
  {
   "cell_type": "code",
   "execution_count": 71,
   "id": "773682ad-cda8-42ec-9275-dc611004d913",
   "metadata": {
    "execution": {
     "iopub.execute_input": "2022-11-18T20:10:28.793299Z",
     "iopub.status.busy": "2022-11-18T20:10:28.792432Z",
     "iopub.status.idle": "2022-11-18T20:10:28.799036Z",
     "shell.execute_reply": "2022-11-18T20:10:28.798613Z"
    }
   },
   "outputs": [
    {
     "data": {
      "text/html": [
       "<div>\n",
       "<style scoped>\n",
       "    .dataframe tbody tr th:only-of-type {\n",
       "        vertical-align: middle;\n",
       "    }\n",
       "\n",
       "    .dataframe tbody tr th {\n",
       "        vertical-align: top;\n",
       "    }\n",
       "\n",
       "    .dataframe thead th {\n",
       "        text-align: right;\n",
       "    }\n",
       "</style>\n",
       "<table border=\"1\" class=\"dataframe\">\n",
       "  <thead>\n",
       "    <tr style=\"text-align: right;\">\n",
       "      <th></th>\n",
       "      <th>filetype</th>\n",
       "    </tr>\n",
       "  </thead>\n",
       "  <tbody>\n",
       "    <tr>\n",
       "      <th>0</th>\n",
       "      <td>.png</td>\n",
       "    </tr>\n",
       "    <tr>\n",
       "      <th>1</th>\n",
       "      <td>.ipynb</td>\n",
       "    </tr>\n",
       "    <tr>\n",
       "      <th>2</th>\n",
       "      <td>.html</td>\n",
       "    </tr>\n",
       "    <tr>\n",
       "      <th>3</th>\n",
       "      <td>.md</td>\n",
       "    </tr>\n",
       "    <tr>\n",
       "      <th>4</th>\n",
       "      <td>.po</td>\n",
       "    </tr>\n",
       "    <tr>\n",
       "      <th>5</th>\n",
       "      <td>.py</td>\n",
       "    </tr>\n",
       "    <tr>\n",
       "      <th>6</th>\n",
       "      <td>.doctree</td>\n",
       "    </tr>\n",
       "    <tr>\n",
       "      <th>7</th>\n",
       "      <td>.yaml</td>\n",
       "    </tr>\n",
       "    <tr>\n",
       "      <th>8</th>\n",
       "      <td>.js</td>\n",
       "    </tr>\n",
       "    <tr>\n",
       "      <th>9</th>\n",
       "      <td>.lock</td>\n",
       "    </tr>\n",
       "    <tr>\n",
       "      <th>10</th>\n",
       "      <td>.css</td>\n",
       "    </tr>\n",
       "    <tr>\n",
       "      <th>11</th>\n",
       "      <td>Pipfile</td>\n",
       "    </tr>\n",
       "    <tr>\n",
       "      <th>12</th>\n",
       "      <td>.svg</td>\n",
       "    </tr>\n",
       "    <tr>\n",
       "      <th>13</th>\n",
       "      <td>.pipeline</td>\n",
       "    </tr>\n",
       "    <tr>\n",
       "      <th>14</th>\n",
       "      <td>.yml</td>\n",
       "    </tr>\n",
       "    <tr>\n",
       "      <th>15</th>\n",
       "      <td>.mdx</td>\n",
       "    </tr>\n",
       "    <tr>\n",
       "      <th>16</th>\n",
       "      <td>.csv</td>\n",
       "    </tr>\n",
       "    <tr>\n",
       "      <th>17</th>\n",
       "      <td>environment</td>\n",
       "    </tr>\n",
       "    <tr>\n",
       "      <th>18</th>\n",
       "      <td>OWNERS</td>\n",
       "    </tr>\n",
       "    <tr>\n",
       "      <th>19</th>\n",
       "      <td>env_example_workshop</td>\n",
       "    </tr>\n",
       "    <tr>\n",
       "      <th>20</th>\n",
       "      <td>None</td>\n",
       "    </tr>\n",
       "    <tr>\n",
       "      <th>21</th>\n",
       "      <td>.gz</td>\n",
       "    </tr>\n",
       "    <tr>\n",
       "      <th>22</th>\n",
       "      <td>.pdf</td>\n",
       "    </tr>\n",
       "    <tr>\n",
       "      <th>23</th>\n",
       "      <td>.eot</td>\n",
       "    </tr>\n",
       "    <tr>\n",
       "      <th>24</th>\n",
       "      <td>.ttf</td>\n",
       "    </tr>\n",
       "    <tr>\n",
       "      <th>25</th>\n",
       "      <td>.woff</td>\n",
       "    </tr>\n",
       "    <tr>\n",
       "      <th>26</th>\n",
       "      <td>.woff2</td>\n",
       "    </tr>\n",
       "    <tr>\n",
       "      <th>27</th>\n",
       "      <td>.rst</td>\n",
       "    </tr>\n",
       "    <tr>\n",
       "      <th>28</th>\n",
       "      <td>.parquet</td>\n",
       "    </tr>\n",
       "    <tr>\n",
       "      <th>29</th>\n",
       "      <td>.map</td>\n",
       "    </tr>\n",
       "    <tr>\n",
       "      <th>30</th>\n",
       "      <td>LICENSE</td>\n",
       "    </tr>\n",
       "    <tr>\n",
       "      <th>31</th>\n",
       "      <td>.pickle</td>\n",
       "    </tr>\n",
       "    <tr>\n",
       "      <th>32</th>\n",
       "      <td>.buildinfo</td>\n",
       "    </tr>\n",
       "    <tr>\n",
       "      <th>33</th>\n",
       "      <td>.inv</td>\n",
       "    </tr>\n",
       "    <tr>\n",
       "      <th>34</th>\n",
       "      <td>.sh</td>\n",
       "    </tr>\n",
       "  </tbody>\n",
       "</table>\n",
       "</div>"
      ],
      "text/plain": [
       "                filetype\n",
       "0                   .png\n",
       "1                 .ipynb\n",
       "2                  .html\n",
       "3                    .md\n",
       "4                    .po\n",
       "5                    .py\n",
       "6               .doctree\n",
       "7                  .yaml\n",
       "8                    .js\n",
       "9                  .lock\n",
       "10                  .css\n",
       "11               Pipfile\n",
       "12                  .svg\n",
       "13             .pipeline\n",
       "14                  .yml\n",
       "15                  .mdx\n",
       "16                  .csv\n",
       "17           environment\n",
       "18                OWNERS\n",
       "19  env_example_workshop\n",
       "20                  None\n",
       "21                   .gz\n",
       "22                  .pdf\n",
       "23                  .eot\n",
       "24                  .ttf\n",
       "25                 .woff\n",
       "26                .woff2\n",
       "27                  .rst\n",
       "28              .parquet\n",
       "29                  .map\n",
       "30               LICENSE\n",
       "31               .pickle\n",
       "32            .buildinfo\n",
       "33                  .inv\n",
       "34                   .sh"
      ]
     },
     "execution_count": 71,
     "metadata": {},
     "output_type": "execute_result"
    }
   ],
   "source": [
    "filetype_keep_cols_df"
   ]
  },
  {
   "cell_type": "code",
   "execution_count": 72,
   "id": "7333e449-4e2a-42aa-b728-3f36d205ed1f",
   "metadata": {
    "execution": {
     "iopub.execute_input": "2022-11-18T20:10:28.801436Z",
     "iopub.status.busy": "2022-11-18T20:10:28.801093Z",
     "iopub.status.idle": "2022-11-18T20:10:28.958481Z",
     "shell.execute_reply": "2022-11-18T20:10:28.958032Z"
    }
   },
   "outputs": [
    {
     "data": {
      "text/plain": [
       "{'ResponseMetadata': {'RequestId': 'lamxrcrk-4k1dw5-2it',\n",
       "  'HostId': 'lamxrcrk-4k1dw5-2it',\n",
       "  'HTTPStatusCode': 200,\n",
       "  'HTTPHeaders': {'x-amz-request-id': 'lamxrcrk-4k1dw5-2it',\n",
       "   'x-amz-id-2': 'lamxrcrk-4k1dw5-2it',\n",
       "   'access-control-allow-origin': '*',\n",
       "   'access-control-allow-credentials': 'true',\n",
       "   'access-control-allow-methods': 'GET,POST,PUT,DELETE,OPTIONS',\n",
       "   'access-control-allow-headers': 'Content-Type,Content-MD5,Authorization,X-Amz-User-Agent,X-Amz-Date,ETag,X-Amz-Content-Sha256',\n",
       "   'access-control-expose-headers': 'ETag,X-Amz-Version-Id',\n",
       "   'etag': '\"60214a1c84c410739db1ba5301838194\"',\n",
       "   'date': 'Fri, 18 Nov 2022 20:10:28 GMT',\n",
       "   'keep-alive': 'timeout=5',\n",
       "   'content-length': '0',\n",
       "   'set-cookie': '1a4aa612fe797ac8466d7ee00e5520d5=a26d7dd2bae782e2ad6181b7887b5ff1; path=/; HttpOnly; Secure; SameSite=None'},\n",
       "  'RetryAttempts': 0},\n",
       " 'ETag': '\"60214a1c84c410739db1ba5301838194\"'}"
      ]
     },
     "execution_count": 72,
     "metadata": {},
     "output_type": "execute_result"
    }
   ],
   "source": [
    "FILETYPE_FEATURES_FILENAME = os.path.join(ORG + REPO + \"FILETYPE.parquet\")\n",
    "FILETYPE_FEATURES_KEY = os.path.join(s3_input_data_path, ORG, REPO, \"features\")\n",
    "cc.upload_to_ceph(\n",
    "    filetype_keep_cols_df, FILETYPE_FEATURES_KEY, FILETYPE_FEATURES_FILENAME\n",
    ")"
   ]
  },
  {
   "cell_type": "code",
   "execution_count": 73,
   "id": "618842b5",
   "metadata": {
    "execution": {
     "iopub.execute_input": "2022-11-18T20:10:28.961544Z",
     "iopub.status.busy": "2022-11-18T20:10:28.960653Z",
     "iopub.status.idle": "2022-11-18T20:10:28.991315Z",
     "shell.execute_reply": "2022-11-18T20:10:28.990879Z"
    }
   },
   "outputs": [],
   "source": [
    "# explode the list column so that there is 1 column representing frequency of each word\n",
    "title_wordcount_df = pd.DataFrame(feature_df.title_word_counts_vec.to_list())\n",
    "\n",
    "title_wordcount_df.index = feature_df.index\n",
    "title_wordcount_df.columns = [f\"title_wordcount_{w}\" for w in unique_words]"
   ]
  },
  {
   "cell_type": "code",
   "execution_count": 74,
   "id": "457f28ed",
   "metadata": {
    "execution": {
     "iopub.execute_input": "2022-11-18T20:10:28.993683Z",
     "iopub.status.busy": "2022-11-18T20:10:28.993452Z",
     "iopub.status.idle": "2022-11-18T20:10:29.073740Z",
     "shell.execute_reply": "2022-11-18T20:10:29.073289Z"
    },
    "scrolled": true
   },
   "outputs": [
    {
     "data": {
      "text/plain": [
       "title_wordcount_point        0.182159\n",
       "title_wordcount_stopping     0.182159\n",
       "title_wordcount_optimal      0.182159\n",
       "title_wordcount_automatic    0.181581\n",
       "title_wordcount_kebechet     0.165047\n",
       "                               ...   \n",
       "title_wordcount_fixes       -0.142984\n",
       "title_wordcount_broken      -0.150116\n",
       "title_wordcount_links       -0.156649\n",
       "title_wordcount_file        -0.168300\n",
       "title_wordcount_fix         -0.216325\n",
       "Length: 456, dtype: float64"
      ]
     },
     "execution_count": 74,
     "metadata": {},
     "output_type": "execute_result"
    }
   ],
   "source": [
    "# compute correlation with ttm\n",
    "corr = title_wordcount_df.corrwith(feature_df[\"ttm_class\"])\n",
    "corr = corr.dropna()\n",
    "corr.sort_values(ascending=False)"
   ]
  },
  {
   "cell_type": "code",
   "execution_count": 75,
   "id": "0f1495a6",
   "metadata": {
    "execution": {
     "iopub.execute_input": "2022-11-18T20:10:29.076224Z",
     "iopub.status.busy": "2022-11-18T20:10:29.075872Z",
     "iopub.status.idle": "2022-11-18T20:10:29.081659Z",
     "shell.execute_reply": "2022-11-18T20:10:29.081239Z"
    }
   },
   "outputs": [
    {
     "data": {
      "text/plain": [
       "title_wordcount_access       0.090846\n",
       "title_wordcount_across      -0.057146\n",
       "title_wordcount_add          0.074016\n",
       "title_wordcount_added       -0.057616\n",
       "title_wordcount_adds         0.058522\n",
       "                               ...   \n",
       "title_wordcount_wip          0.043022\n",
       "title_wordcount_workflows    0.095987\n",
       "title_wordcount_workshop    -0.086858\n",
       "title_wordcount_yaml        -0.142984\n",
       "title_wordcount_⬆️           0.052235\n",
       "Length: 274, dtype: float64"
      ]
     },
     "execution_count": 75,
     "metadata": {},
     "output_type": "execute_result"
    }
   ],
   "source": [
    "corr[corr.abs() > 0.04]"
   ]
  },
  {
   "cell_type": "code",
   "execution_count": 76,
   "id": "624b3504",
   "metadata": {
    "execution": {
     "iopub.execute_input": "2022-11-18T20:10:29.083927Z",
     "iopub.status.busy": "2022-11-18T20:10:29.083626Z",
     "iopub.status.idle": "2022-11-18T20:10:29.088308Z",
     "shell.execute_reply": "2022-11-18T20:10:29.087777Z"
    }
   },
   "outputs": [],
   "source": [
    "# update list of features to keep for training\n",
    "# take everything that has more than 0.01 correlation magnitude\n",
    "title_word_keep_cols = corr[corr.abs() > 0.04].index.tolist()\n",
    "selected_features += title_word_keep_cols\n",
    "\n",
    "title_wordcount_df = title_wordcount_df[title_word_keep_cols]"
   ]
  },
  {
   "cell_type": "code",
   "execution_count": 77,
   "id": "45cd6a78-361c-444f-8065-4127f2e29313",
   "metadata": {
    "execution": {
     "iopub.execute_input": "2022-11-18T20:10:29.090155Z",
     "iopub.status.busy": "2022-11-18T20:10:29.090001Z",
     "iopub.status.idle": "2022-11-18T20:10:29.097064Z",
     "shell.execute_reply": "2022-11-18T20:10:29.096656Z"
    }
   },
   "outputs": [
    {
     "data": {
      "text/plain": [
       "['access',\n",
       " 'across',\n",
       " 'add',\n",
       " 'added',\n",
       " 'adds',\n",
       " 'adjustments',\n",
       " 'aicoe',\n",
       " 'analysis',\n",
       " 'append',\n",
       " 'architecture',\n",
       " 'argo',\n",
       " 'attempt',\n",
       " 'automatic',\n",
       " 'base',\n",
       " 'beyond',\n",
       " 'bits',\n",
       " 'bitwarden',\n",
       " 'black',\n",
       " 'black_nb',\n",
       " 'bleach',\n",
       " 'broken',\n",
       " 'bs4',\n",
       " 'bugfix',\n",
       " 'bugzilla',\n",
       " 'build_pass_failure',\n",
       " 'bump',\n",
       " 'calculate',\n",
       " 'catch',\n",
       " 'cell',\n",
       " 'changed',\n",
       " 'changes',\n",
       " 'chapters',\n",
       " 'classification',\n",
       " 'classifier',\n",
       " 'classifiers',\n",
       " 'cleanup',\n",
       " 'clustering',\n",
       " 'code',\n",
       " 'colon',\n",
       " 'config',\n",
       " 'conflict',\n",
       " 'conflicts',\n",
       " 'content',\n",
       " 'correlation_failures',\n",
       " 'create',\n",
       " 'csv',\n",
       " 'custom',\n",
       " 'cutom',\n",
       " 'data',\n",
       " 'dependencies',\n",
       " 'depth',\n",
       " 'description',\n",
       " 'detection',\n",
       " 'dev',\n",
       " 'devconf',\n",
       " 'df',\n",
       " 'diagram',\n",
       " 'dir',\n",
       " 'directory',\n",
       " 'discrepancy',\n",
       " 'distribtion',\n",
       " 'distribution',\n",
       " 'docs',\n",
       " 'documentation',\n",
       " 'documented',\n",
       " 'due',\n",
       " 'duration',\n",
       " 'ec506',\n",
       " 'eda',\n",
       " 'edges',\n",
       " 'elyra',\n",
       " 'empty',\n",
       " 'encoding',\n",
       " 'endpoint',\n",
       " 'engg',\n",
       " 'engineering',\n",
       " 'env',\n",
       " 'environment',\n",
       " 'existing',\n",
       " 'exploration',\n",
       " 'extract',\n",
       " 'extraction',\n",
       " 'failing',\n",
       " 'failure',\n",
       " 'failure_type_classifier',\n",
       " 'feature',\n",
       " 'features',\n",
       " 'feedback',\n",
       " 'field',\n",
       " 'file',\n",
       " 'fix',\n",
       " 'fixed',\n",
       " 'fixes',\n",
       " 'fixing',\n",
       " 'flakes',\n",
       " 'flakey',\n",
       " 'follow',\n",
       " 'frequency',\n",
       " 'function',\n",
       " 'gcs',\n",
       " 'getting',\n",
       " 'git',\n",
       " 'gpl',\n",
       " 'grids',\n",
       " 'html',\n",
       " 'https',\n",
       " 'id',\n",
       " 'implementation',\n",
       " 'import',\n",
       " 'imports',\n",
       " 'index',\n",
       " 'inference',\n",
       " 'initial',\n",
       " 'insights',\n",
       " 'installation',\n",
       " 'integer',\n",
       " 'interactive',\n",
       " 'introduction',\n",
       " 'issue',\n",
       " 'issues',\n",
       " 'jobs',\n",
       " 'json',\n",
       " 'jupyter',\n",
       " 'jupyterbook',\n",
       " 'jupyterhub',\n",
       " 'karan',\n",
       " 'kebechet',\n",
       " 'kfp',\n",
       " 'kpi',\n",
       " 'kpis',\n",
       " 'kubernetes',\n",
       " 'label',\n",
       " 'license',\n",
       " 'limits',\n",
       " 'link',\n",
       " 'links',\n",
       " 'list',\n",
       " 'log',\n",
       " 'maintainers',\n",
       " 'make',\n",
       " 'manifests',\n",
       " 'markdown',\n",
       " 'match',\n",
       " 'md',\n",
       " 'mdx',\n",
       " 'metric',\n",
       " 'mi',\n",
       " 'missing',\n",
       " 'moc',\n",
       " 'mocjh',\n",
       " 'model',\n",
       " 'models',\n",
       " 'modified',\n",
       " 'modules',\n",
       " 'must',\n",
       " 'name',\n",
       " 'nan',\n",
       " 'new',\n",
       " 'non',\n",
       " 'note',\n",
       " 'notebook',\n",
       " 'notebooks',\n",
       " 'number',\n",
       " 'occur',\n",
       " 'oindrillac',\n",
       " 'op1st',\n",
       " 'openstack',\n",
       " 'optimal',\n",
       " 'origin',\n",
       " 'overall',\n",
       " 'pandas',\n",
       " 'paths',\n",
       " 'pct_fixed_each_ts',\n",
       " 'percent',\n",
       " 'percentage',\n",
       " 'persistent',\n",
       " 'persistent_failures_analysis',\n",
       " 'pillow',\n",
       " 'pipfile',\n",
       " 'pipfiles',\n",
       " 'point',\n",
       " 'polish',\n",
       " 'pre',\n",
       " 'predicting',\n",
       " 'prep',\n",
       " 'prescriptions',\n",
       " 'presenting',\n",
       " 'probability',\n",
       " 'process',\n",
       " 'processing',\n",
       " 'profiling',\n",
       " 'publishing',\n",
       " 'python',\n",
       " 'rate',\n",
       " 'raw',\n",
       " 'readme',\n",
       " 'ready',\n",
       " 'rebuild',\n",
       " 'reduce',\n",
       " 'relative',\n",
       " 'release',\n",
       " 'remove',\n",
       " 'render',\n",
       " 'replaced',\n",
       " 'reproducibility',\n",
       " 'required',\n",
       " 'requirement',\n",
       " 'resuable',\n",
       " 'reviewers',\n",
       " 'rhel',\n",
       " 'run',\n",
       " 'runtime',\n",
       " 's',\n",
       " 's2i',\n",
       " 'sample',\n",
       " 'scale19x',\n",
       " 'secret',\n",
       " 'section',\n",
       " 'seldon',\n",
       " 'server',\n",
       " 'service',\n",
       " 'short',\n",
       " 'sippydata',\n",
       " 'size',\n",
       " 'slides',\n",
       " 'small',\n",
       " 'solve',\n",
       " 'space',\n",
       " 'speed',\n",
       " 'src',\n",
       " 'status',\n",
       " 'step',\n",
       " 'steps',\n",
       " 'stopping',\n",
       " 'students',\n",
       " 'success',\n",
       " 'superset',\n",
       " 'table',\n",
       " 'tag',\n",
       " 'team',\n",
       " 'template',\n",
       " 'term',\n",
       " 'tesgrid',\n",
       " 'test',\n",
       " 'test_pass_failures',\n",
       " 'testgrid_flakiness_detection',\n",
       " 'tests',\n",
       " 'time',\n",
       " 'together',\n",
       " 'tool',\n",
       " 'training',\n",
       " 'transformers',\n",
       " 'trino',\n",
       " 'type',\n",
       " 'typo',\n",
       " 'updated',\n",
       " 'updates',\n",
       " 'upgrade',\n",
       " 'upload',\n",
       " 'us',\n",
       " 'use',\n",
       " 'used',\n",
       " 'using',\n",
       " 'values',\n",
       " 'variable',\n",
       " 'version',\n",
       " 'video',\n",
       " 'visualization',\n",
       " 'walkthrough',\n",
       " 'wip',\n",
       " 'workflows',\n",
       " 'workshop',\n",
       " 'yaml',\n",
       " '⬆️']"
      ]
     },
     "execution_count": 77,
     "metadata": {},
     "output_type": "execute_result"
    }
   ],
   "source": [
    "title_word_keep_cols = [i[16:] for i in title_word_keep_cols]\n",
    "title_word_keep_cols"
   ]
  },
  {
   "cell_type": "code",
   "execution_count": 78,
   "id": "8b937135-f983-4d6c-961e-f9c7158d108c",
   "metadata": {
    "execution": {
     "iopub.execute_input": "2022-11-18T20:10:29.098879Z",
     "iopub.status.busy": "2022-11-18T20:10:29.098727Z",
     "iopub.status.idle": "2022-11-18T20:10:29.102193Z",
     "shell.execute_reply": "2022-11-18T20:10:29.101781Z"
    }
   },
   "outputs": [],
   "source": [
    "title_word_keep_cols_df = pd.DataFrame(title_word_keep_cols, columns=[\"title\"])"
   ]
  },
  {
   "cell_type": "code",
   "execution_count": 79,
   "id": "63f382a4-5826-4d65-aa9f-5f3b56f1aad9",
   "metadata": {
    "execution": {
     "iopub.execute_input": "2022-11-18T20:10:29.104012Z",
     "iopub.status.busy": "2022-11-18T20:10:29.103863Z",
     "iopub.status.idle": "2022-11-18T20:10:29.109898Z",
     "shell.execute_reply": "2022-11-18T20:10:29.109467Z"
    }
   },
   "outputs": [
    {
     "data": {
      "text/html": [
       "<div>\n",
       "<style scoped>\n",
       "    .dataframe tbody tr th:only-of-type {\n",
       "        vertical-align: middle;\n",
       "    }\n",
       "\n",
       "    .dataframe tbody tr th {\n",
       "        vertical-align: top;\n",
       "    }\n",
       "\n",
       "    .dataframe thead th {\n",
       "        text-align: right;\n",
       "    }\n",
       "</style>\n",
       "<table border=\"1\" class=\"dataframe\">\n",
       "  <thead>\n",
       "    <tr style=\"text-align: right;\">\n",
       "      <th></th>\n",
       "      <th>title</th>\n",
       "    </tr>\n",
       "  </thead>\n",
       "  <tbody>\n",
       "    <tr>\n",
       "      <th>0</th>\n",
       "      <td>access</td>\n",
       "    </tr>\n",
       "    <tr>\n",
       "      <th>1</th>\n",
       "      <td>across</td>\n",
       "    </tr>\n",
       "    <tr>\n",
       "      <th>2</th>\n",
       "      <td>add</td>\n",
       "    </tr>\n",
       "    <tr>\n",
       "      <th>3</th>\n",
       "      <td>added</td>\n",
       "    </tr>\n",
       "    <tr>\n",
       "      <th>4</th>\n",
       "      <td>adds</td>\n",
       "    </tr>\n",
       "    <tr>\n",
       "      <th>...</th>\n",
       "      <td>...</td>\n",
       "    </tr>\n",
       "    <tr>\n",
       "      <th>269</th>\n",
       "      <td>wip</td>\n",
       "    </tr>\n",
       "    <tr>\n",
       "      <th>270</th>\n",
       "      <td>workflows</td>\n",
       "    </tr>\n",
       "    <tr>\n",
       "      <th>271</th>\n",
       "      <td>workshop</td>\n",
       "    </tr>\n",
       "    <tr>\n",
       "      <th>272</th>\n",
       "      <td>yaml</td>\n",
       "    </tr>\n",
       "    <tr>\n",
       "      <th>273</th>\n",
       "      <td>⬆️</td>\n",
       "    </tr>\n",
       "  </tbody>\n",
       "</table>\n",
       "<p>274 rows × 1 columns</p>\n",
       "</div>"
      ],
      "text/plain": [
       "         title\n",
       "0       access\n",
       "1       across\n",
       "2          add\n",
       "3        added\n",
       "4         adds\n",
       "..         ...\n",
       "269        wip\n",
       "270  workflows\n",
       "271   workshop\n",
       "272       yaml\n",
       "273         ⬆️\n",
       "\n",
       "[274 rows x 1 columns]"
      ]
     },
     "execution_count": 79,
     "metadata": {},
     "output_type": "execute_result"
    }
   ],
   "source": [
    "title_word_keep_cols_df"
   ]
  },
  {
   "cell_type": "code",
   "execution_count": 80,
   "id": "2c67ed79-0555-4f0d-9557-3e6d335baeac",
   "metadata": {
    "execution": {
     "iopub.execute_input": "2022-11-18T20:10:29.111821Z",
     "iopub.status.busy": "2022-11-18T20:10:29.111668Z",
     "iopub.status.idle": "2022-11-18T20:10:29.291627Z",
     "shell.execute_reply": "2022-11-18T20:10:29.291170Z"
    }
   },
   "outputs": [
    {
     "data": {
      "text/plain": [
       "{'ResponseMetadata': {'RequestId': 'lamxrd05-9o3x78-8hm',\n",
       "  'HostId': 'lamxrd05-9o3x78-8hm',\n",
       "  'HTTPStatusCode': 200,\n",
       "  'HTTPHeaders': {'x-amz-request-id': 'lamxrd05-9o3x78-8hm',\n",
       "   'x-amz-id-2': 'lamxrd05-9o3x78-8hm',\n",
       "   'access-control-allow-origin': '*',\n",
       "   'access-control-allow-credentials': 'true',\n",
       "   'access-control-allow-methods': 'GET,POST,PUT,DELETE,OPTIONS',\n",
       "   'access-control-allow-headers': 'Content-Type,Content-MD5,Authorization,X-Amz-User-Agent,X-Amz-Date,ETag,X-Amz-Content-Sha256',\n",
       "   'access-control-expose-headers': 'ETag,X-Amz-Version-Id',\n",
       "   'etag': '\"19e2e3b6fd0e764da7b80d876ed130be\"',\n",
       "   'date': 'Fri, 18 Nov 2022 20:10:29 GMT',\n",
       "   'keep-alive': 'timeout=5',\n",
       "   'content-length': '0',\n",
       "   'set-cookie': '1a4aa612fe797ac8466d7ee00e5520d5=a26d7dd2bae782e2ad6181b7887b5ff1; path=/; HttpOnly; Secure; SameSite=None'},\n",
       "  'RetryAttempts': 0},\n",
       " 'ETag': '\"19e2e3b6fd0e764da7b80d876ed130be\"'}"
      ]
     },
     "execution_count": 80,
     "metadata": {},
     "output_type": "execute_result"
    }
   ],
   "source": [
    "TITLE_FEATURES_FILENAME = os.path.join(ORG + REPO + \"titlewords.parquet\")\n",
    "TITLE_FEATURES_KEY = os.path.join(s3_input_data_path, ORG, REPO, \"features\")\n",
    "cc.upload_to_ceph(title_word_keep_cols_df, TITLE_FEATURES_KEY, TITLE_FEATURES_FILENAME)"
   ]
  },
  {
   "cell_type": "markdown",
   "id": "105e4b18",
   "metadata": {},
   "source": [
    "Using various feature importance scores such as chi-squared, mutual information statistic, correlation values, we have selected the most relevant features amongst all of our features. "
   ]
  },
  {
   "cell_type": "code",
   "execution_count": 81,
   "id": "4cdafdae",
   "metadata": {
    "execution": {
     "iopub.execute_input": "2022-11-18T20:10:29.294011Z",
     "iopub.status.busy": "2022-11-18T20:10:29.293605Z",
     "iopub.status.idle": "2022-11-18T20:10:29.300314Z",
     "shell.execute_reply": "2022-11-18T20:10:29.299852Z"
    },
    "tags": []
   },
   "outputs": [
    {
     "data": {
      "text/plain": [
       "['size',\n",
       " 'created_at_day',\n",
       " 'created_at_month',\n",
       " 'created_at_weekday',\n",
       " 'created_at_hour',\n",
       " 'changed_files_number',\n",
       " 'body_size',\n",
       " 'commits_number',\n",
       " 'filetype_.png',\n",
       " 'filetype_.ipynb',\n",
       " 'filetype_.html',\n",
       " 'filetype_.md',\n",
       " 'filetype_.po',\n",
       " 'filetype_.py',\n",
       " 'filetype_.doctree',\n",
       " 'filetype_.yaml',\n",
       " 'filetype_.js',\n",
       " 'filetype_.lock',\n",
       " 'filetype_.css',\n",
       " 'filetype_Pipfile',\n",
       " 'filetype_.svg',\n",
       " 'filetype_.pipeline',\n",
       " 'filetype_.yml',\n",
       " 'filetype_.mdx',\n",
       " 'filetype_.csv',\n",
       " 'filetype_environment',\n",
       " 'filetype_OWNERS',\n",
       " 'filetype_env_example_workshop',\n",
       " 'filetype_None',\n",
       " 'filetype_.gz',\n",
       " 'filetype_.pdf',\n",
       " 'filetype_.eot',\n",
       " 'filetype_.ttf',\n",
       " 'filetype_.woff',\n",
       " 'filetype_.woff2',\n",
       " 'filetype_.rst',\n",
       " 'filetype_.parquet',\n",
       " 'filetype_.map',\n",
       " 'filetype_LICENSE',\n",
       " 'filetype_.pickle',\n",
       " 'filetype_.buildinfo',\n",
       " 'filetype_.inv',\n",
       " 'filetype_.sh',\n",
       " 'title_wordcount_access',\n",
       " 'title_wordcount_across',\n",
       " 'title_wordcount_add',\n",
       " 'title_wordcount_added',\n",
       " 'title_wordcount_adds',\n",
       " 'title_wordcount_adjustments',\n",
       " 'title_wordcount_aicoe',\n",
       " 'title_wordcount_analysis',\n",
       " 'title_wordcount_append',\n",
       " 'title_wordcount_architecture',\n",
       " 'title_wordcount_argo',\n",
       " 'title_wordcount_attempt',\n",
       " 'title_wordcount_automatic',\n",
       " 'title_wordcount_base',\n",
       " 'title_wordcount_beyond',\n",
       " 'title_wordcount_bits',\n",
       " 'title_wordcount_bitwarden',\n",
       " 'title_wordcount_black',\n",
       " 'title_wordcount_black_nb',\n",
       " 'title_wordcount_bleach',\n",
       " 'title_wordcount_broken',\n",
       " 'title_wordcount_bs4',\n",
       " 'title_wordcount_bugfix',\n",
       " 'title_wordcount_bugzilla',\n",
       " 'title_wordcount_build_pass_failure',\n",
       " 'title_wordcount_bump',\n",
       " 'title_wordcount_calculate',\n",
       " 'title_wordcount_catch',\n",
       " 'title_wordcount_cell',\n",
       " 'title_wordcount_changed',\n",
       " 'title_wordcount_changes',\n",
       " 'title_wordcount_chapters',\n",
       " 'title_wordcount_classification',\n",
       " 'title_wordcount_classifier',\n",
       " 'title_wordcount_classifiers',\n",
       " 'title_wordcount_cleanup',\n",
       " 'title_wordcount_clustering',\n",
       " 'title_wordcount_code',\n",
       " 'title_wordcount_colon',\n",
       " 'title_wordcount_config',\n",
       " 'title_wordcount_conflict',\n",
       " 'title_wordcount_conflicts',\n",
       " 'title_wordcount_content',\n",
       " 'title_wordcount_correlation_failures',\n",
       " 'title_wordcount_create',\n",
       " 'title_wordcount_csv',\n",
       " 'title_wordcount_custom',\n",
       " 'title_wordcount_cutom',\n",
       " 'title_wordcount_data',\n",
       " 'title_wordcount_dependencies',\n",
       " 'title_wordcount_depth',\n",
       " 'title_wordcount_description',\n",
       " 'title_wordcount_detection',\n",
       " 'title_wordcount_dev',\n",
       " 'title_wordcount_devconf',\n",
       " 'title_wordcount_df',\n",
       " 'title_wordcount_diagram',\n",
       " 'title_wordcount_dir',\n",
       " 'title_wordcount_directory',\n",
       " 'title_wordcount_discrepancy',\n",
       " 'title_wordcount_distribtion',\n",
       " 'title_wordcount_distribution',\n",
       " 'title_wordcount_docs',\n",
       " 'title_wordcount_documentation',\n",
       " 'title_wordcount_documented',\n",
       " 'title_wordcount_due',\n",
       " 'title_wordcount_duration',\n",
       " 'title_wordcount_ec506',\n",
       " 'title_wordcount_eda',\n",
       " 'title_wordcount_edges',\n",
       " 'title_wordcount_elyra',\n",
       " 'title_wordcount_empty',\n",
       " 'title_wordcount_encoding',\n",
       " 'title_wordcount_endpoint',\n",
       " 'title_wordcount_engg',\n",
       " 'title_wordcount_engineering',\n",
       " 'title_wordcount_env',\n",
       " 'title_wordcount_environment',\n",
       " 'title_wordcount_existing',\n",
       " 'title_wordcount_exploration',\n",
       " 'title_wordcount_extract',\n",
       " 'title_wordcount_extraction',\n",
       " 'title_wordcount_failing',\n",
       " 'title_wordcount_failure',\n",
       " 'title_wordcount_failure_type_classifier',\n",
       " 'title_wordcount_feature',\n",
       " 'title_wordcount_features',\n",
       " 'title_wordcount_feedback',\n",
       " 'title_wordcount_field',\n",
       " 'title_wordcount_file',\n",
       " 'title_wordcount_fix',\n",
       " 'title_wordcount_fixed',\n",
       " 'title_wordcount_fixes',\n",
       " 'title_wordcount_fixing',\n",
       " 'title_wordcount_flakes',\n",
       " 'title_wordcount_flakey',\n",
       " 'title_wordcount_follow',\n",
       " 'title_wordcount_frequency',\n",
       " 'title_wordcount_function',\n",
       " 'title_wordcount_gcs',\n",
       " 'title_wordcount_getting',\n",
       " 'title_wordcount_git',\n",
       " 'title_wordcount_gpl',\n",
       " 'title_wordcount_grids',\n",
       " 'title_wordcount_html',\n",
       " 'title_wordcount_https',\n",
       " 'title_wordcount_id',\n",
       " 'title_wordcount_implementation',\n",
       " 'title_wordcount_import',\n",
       " 'title_wordcount_imports',\n",
       " 'title_wordcount_index',\n",
       " 'title_wordcount_inference',\n",
       " 'title_wordcount_initial',\n",
       " 'title_wordcount_insights',\n",
       " 'title_wordcount_installation',\n",
       " 'title_wordcount_integer',\n",
       " 'title_wordcount_interactive',\n",
       " 'title_wordcount_introduction',\n",
       " 'title_wordcount_issue',\n",
       " 'title_wordcount_issues',\n",
       " 'title_wordcount_jobs',\n",
       " 'title_wordcount_json',\n",
       " 'title_wordcount_jupyter',\n",
       " 'title_wordcount_jupyterbook',\n",
       " 'title_wordcount_jupyterhub',\n",
       " 'title_wordcount_karan',\n",
       " 'title_wordcount_kebechet',\n",
       " 'title_wordcount_kfp',\n",
       " 'title_wordcount_kpi',\n",
       " 'title_wordcount_kpis',\n",
       " 'title_wordcount_kubernetes',\n",
       " 'title_wordcount_label',\n",
       " 'title_wordcount_license',\n",
       " 'title_wordcount_limits',\n",
       " 'title_wordcount_link',\n",
       " 'title_wordcount_links',\n",
       " 'title_wordcount_list',\n",
       " 'title_wordcount_log',\n",
       " 'title_wordcount_maintainers',\n",
       " 'title_wordcount_make',\n",
       " 'title_wordcount_manifests',\n",
       " 'title_wordcount_markdown',\n",
       " 'title_wordcount_match',\n",
       " 'title_wordcount_md',\n",
       " 'title_wordcount_mdx',\n",
       " 'title_wordcount_metric',\n",
       " 'title_wordcount_mi',\n",
       " 'title_wordcount_missing',\n",
       " 'title_wordcount_moc',\n",
       " 'title_wordcount_mocjh',\n",
       " 'title_wordcount_model',\n",
       " 'title_wordcount_models',\n",
       " 'title_wordcount_modified',\n",
       " 'title_wordcount_modules',\n",
       " 'title_wordcount_must',\n",
       " 'title_wordcount_name',\n",
       " 'title_wordcount_nan',\n",
       " 'title_wordcount_new',\n",
       " 'title_wordcount_non',\n",
       " 'title_wordcount_note',\n",
       " 'title_wordcount_notebook',\n",
       " 'title_wordcount_notebooks',\n",
       " 'title_wordcount_number',\n",
       " 'title_wordcount_occur',\n",
       " 'title_wordcount_oindrillac',\n",
       " 'title_wordcount_op1st',\n",
       " 'title_wordcount_openstack',\n",
       " 'title_wordcount_optimal',\n",
       " 'title_wordcount_origin',\n",
       " 'title_wordcount_overall',\n",
       " 'title_wordcount_pandas',\n",
       " 'title_wordcount_paths',\n",
       " 'title_wordcount_pct_fixed_each_ts',\n",
       " 'title_wordcount_percent',\n",
       " 'title_wordcount_percentage',\n",
       " 'title_wordcount_persistent',\n",
       " 'title_wordcount_persistent_failures_analysis',\n",
       " 'title_wordcount_pillow',\n",
       " 'title_wordcount_pipfile',\n",
       " 'title_wordcount_pipfiles',\n",
       " 'title_wordcount_point',\n",
       " 'title_wordcount_polish',\n",
       " 'title_wordcount_pre',\n",
       " 'title_wordcount_predicting',\n",
       " 'title_wordcount_prep',\n",
       " 'title_wordcount_prescriptions',\n",
       " 'title_wordcount_presenting',\n",
       " 'title_wordcount_probability',\n",
       " 'title_wordcount_process',\n",
       " 'title_wordcount_processing',\n",
       " 'title_wordcount_profiling',\n",
       " 'title_wordcount_publishing',\n",
       " 'title_wordcount_python',\n",
       " 'title_wordcount_rate',\n",
       " 'title_wordcount_raw',\n",
       " 'title_wordcount_readme',\n",
       " 'title_wordcount_ready',\n",
       " 'title_wordcount_rebuild',\n",
       " 'title_wordcount_reduce',\n",
       " 'title_wordcount_relative',\n",
       " 'title_wordcount_release',\n",
       " 'title_wordcount_remove',\n",
       " 'title_wordcount_render',\n",
       " 'title_wordcount_replaced',\n",
       " 'title_wordcount_reproducibility',\n",
       " 'title_wordcount_required',\n",
       " 'title_wordcount_requirement',\n",
       " 'title_wordcount_resuable',\n",
       " 'title_wordcount_reviewers',\n",
       " 'title_wordcount_rhel',\n",
       " 'title_wordcount_run',\n",
       " 'title_wordcount_runtime',\n",
       " 'title_wordcount_s',\n",
       " 'title_wordcount_s2i',\n",
       " 'title_wordcount_sample',\n",
       " 'title_wordcount_scale19x',\n",
       " 'title_wordcount_secret',\n",
       " 'title_wordcount_section',\n",
       " 'title_wordcount_seldon',\n",
       " 'title_wordcount_server',\n",
       " 'title_wordcount_service',\n",
       " 'title_wordcount_short',\n",
       " 'title_wordcount_sippydata',\n",
       " 'title_wordcount_size',\n",
       " 'title_wordcount_slides',\n",
       " 'title_wordcount_small',\n",
       " 'title_wordcount_solve',\n",
       " 'title_wordcount_space',\n",
       " 'title_wordcount_speed',\n",
       " 'title_wordcount_src',\n",
       " 'title_wordcount_status',\n",
       " 'title_wordcount_step',\n",
       " 'title_wordcount_steps',\n",
       " 'title_wordcount_stopping',\n",
       " 'title_wordcount_students',\n",
       " 'title_wordcount_success',\n",
       " 'title_wordcount_superset',\n",
       " 'title_wordcount_table',\n",
       " 'title_wordcount_tag',\n",
       " 'title_wordcount_team',\n",
       " 'title_wordcount_template',\n",
       " 'title_wordcount_term',\n",
       " 'title_wordcount_tesgrid',\n",
       " 'title_wordcount_test',\n",
       " 'title_wordcount_test_pass_failures',\n",
       " 'title_wordcount_testgrid_flakiness_detection',\n",
       " 'title_wordcount_tests',\n",
       " 'title_wordcount_time',\n",
       " 'title_wordcount_together',\n",
       " 'title_wordcount_tool',\n",
       " 'title_wordcount_training',\n",
       " 'title_wordcount_transformers',\n",
       " 'title_wordcount_trino',\n",
       " 'title_wordcount_type',\n",
       " 'title_wordcount_typo',\n",
       " 'title_wordcount_updated',\n",
       " 'title_wordcount_updates',\n",
       " 'title_wordcount_upgrade',\n",
       " 'title_wordcount_upload',\n",
       " 'title_wordcount_us',\n",
       " 'title_wordcount_use',\n",
       " 'title_wordcount_used',\n",
       " 'title_wordcount_using',\n",
       " 'title_wordcount_values',\n",
       " 'title_wordcount_variable',\n",
       " 'title_wordcount_version',\n",
       " 'title_wordcount_video',\n",
       " 'title_wordcount_visualization',\n",
       " 'title_wordcount_walkthrough',\n",
       " 'title_wordcount_wip',\n",
       " 'title_wordcount_workflows',\n",
       " 'title_wordcount_workshop',\n",
       " 'title_wordcount_yaml',\n",
       " 'title_wordcount_⬆️']"
      ]
     },
     "execution_count": 81,
     "metadata": {},
     "output_type": "execute_result"
    }
   ],
   "source": [
    "selected_features"
   ]
  },
  {
   "cell_type": "markdown",
   "id": "ddda4924",
   "metadata": {},
   "source": [
    "## Save Feature Engineered Dataset"
   ]
  },
  {
   "cell_type": "code",
   "execution_count": 82,
   "id": "894941f7-9815-44af-867a-9e206502cd7a",
   "metadata": {
    "execution": {
     "iopub.execute_input": "2022-11-18T20:10:29.302387Z",
     "iopub.status.busy": "2022-11-18T20:10:29.302229Z",
     "iopub.status.idle": "2022-11-18T20:10:29.314554Z",
     "shell.execute_reply": "2022-11-18T20:10:29.314075Z"
    }
   },
   "outputs": [
    {
     "data": {
      "text/html": [
       "<div>\n",
       "<style scoped>\n",
       "    .dataframe tbody tr th:only-of-type {\n",
       "        vertical-align: middle;\n",
       "    }\n",
       "\n",
       "    .dataframe tbody tr th {\n",
       "        vertical-align: top;\n",
       "    }\n",
       "\n",
       "    .dataframe thead th {\n",
       "        text-align: right;\n",
       "    }\n",
       "</style>\n",
       "<table border=\"1\" class=\"dataframe\">\n",
       "  <thead>\n",
       "    <tr style=\"text-align: right;\">\n",
       "      <th></th>\n",
       "      <th>size</th>\n",
       "      <th>created_at_day</th>\n",
       "      <th>created_at_month</th>\n",
       "      <th>created_at_weekday</th>\n",
       "      <th>created_at_hour</th>\n",
       "      <th>changed_files_number</th>\n",
       "      <th>body_size</th>\n",
       "      <th>commits_number</th>\n",
       "      <th>filetype_.png</th>\n",
       "      <th>filetype_.ipynb</th>\n",
       "      <th>...</th>\n",
       "      <th>title_wordcount_video</th>\n",
       "      <th>title_wordcount_visualization</th>\n",
       "      <th>title_wordcount_walkthrough</th>\n",
       "      <th>title_wordcount_wip</th>\n",
       "      <th>title_wordcount_workflows</th>\n",
       "      <th>title_wordcount_workshop</th>\n",
       "      <th>title_wordcount_yaml</th>\n",
       "      <th>title_wordcount_⬆️</th>\n",
       "      <th>ttm_class</th>\n",
       "      <th>time_to_merge</th>\n",
       "    </tr>\n",
       "  </thead>\n",
       "  <tbody>\n",
       "    <tr>\n",
       "      <th>0</th>\n",
       "      <td>0</td>\n",
       "      <td>16</td>\n",
       "      <td>8</td>\n",
       "      <td>1</td>\n",
       "      <td>19</td>\n",
       "      <td>3</td>\n",
       "      <td>57</td>\n",
       "      <td>1</td>\n",
       "      <td>0</td>\n",
       "      <td>0</td>\n",
       "      <td>...</td>\n",
       "      <td>0</td>\n",
       "      <td>0</td>\n",
       "      <td>0</td>\n",
       "      <td>0</td>\n",
       "      <td>0</td>\n",
       "      <td>1</td>\n",
       "      <td>0</td>\n",
       "      <td>0</td>\n",
       "      <td>2</td>\n",
       "      <td>5817.0</td>\n",
       "    </tr>\n",
       "    <tr>\n",
       "      <th>1</th>\n",
       "      <td>0</td>\n",
       "      <td>9</td>\n",
       "      <td>8</td>\n",
       "      <td>1</td>\n",
       "      <td>14</td>\n",
       "      <td>1</td>\n",
       "      <td>0</td>\n",
       "      <td>1</td>\n",
       "      <td>0</td>\n",
       "      <td>0</td>\n",
       "      <td>...</td>\n",
       "      <td>0</td>\n",
       "      <td>0</td>\n",
       "      <td>0</td>\n",
       "      <td>0</td>\n",
       "      <td>0</td>\n",
       "      <td>0</td>\n",
       "      <td>0</td>\n",
       "      <td>0</td>\n",
       "      <td>0</td>\n",
       "      <td>334.0</td>\n",
       "    </tr>\n",
       "    <tr>\n",
       "      <th>2</th>\n",
       "      <td>0</td>\n",
       "      <td>1</td>\n",
       "      <td>8</td>\n",
       "      <td>0</td>\n",
       "      <td>12</td>\n",
       "      <td>1</td>\n",
       "      <td>5</td>\n",
       "      <td>1</td>\n",
       "      <td>0</td>\n",
       "      <td>0</td>\n",
       "      <td>...</td>\n",
       "      <td>0</td>\n",
       "      <td>0</td>\n",
       "      <td>0</td>\n",
       "      <td>0</td>\n",
       "      <td>0</td>\n",
       "      <td>1</td>\n",
       "      <td>0</td>\n",
       "      <td>0</td>\n",
       "      <td>1</td>\n",
       "      <td>1834.0</td>\n",
       "    </tr>\n",
       "    <tr>\n",
       "      <th>3</th>\n",
       "      <td>0</td>\n",
       "      <td>28</td>\n",
       "      <td>7</td>\n",
       "      <td>3</td>\n",
       "      <td>20</td>\n",
       "      <td>1</td>\n",
       "      <td>56</td>\n",
       "      <td>1</td>\n",
       "      <td>0</td>\n",
       "      <td>0</td>\n",
       "      <td>...</td>\n",
       "      <td>0</td>\n",
       "      <td>0</td>\n",
       "      <td>0</td>\n",
       "      <td>0</td>\n",
       "      <td>0</td>\n",
       "      <td>0</td>\n",
       "      <td>0</td>\n",
       "      <td>0</td>\n",
       "      <td>4</td>\n",
       "      <td>61604.0</td>\n",
       "    </tr>\n",
       "    <tr>\n",
       "      <th>4</th>\n",
       "      <td>0</td>\n",
       "      <td>28</td>\n",
       "      <td>7</td>\n",
       "      <td>3</td>\n",
       "      <td>6</td>\n",
       "      <td>1</td>\n",
       "      <td>21</td>\n",
       "      <td>1</td>\n",
       "      <td>0</td>\n",
       "      <td>0</td>\n",
       "      <td>...</td>\n",
       "      <td>0</td>\n",
       "      <td>0</td>\n",
       "      <td>0</td>\n",
       "      <td>0</td>\n",
       "      <td>0</td>\n",
       "      <td>0</td>\n",
       "      <td>0</td>\n",
       "      <td>0</td>\n",
       "      <td>3</td>\n",
       "      <td>17380.0</td>\n",
       "    </tr>\n",
       "  </tbody>\n",
       "</table>\n",
       "<p>5 rows × 319 columns</p>\n",
       "</div>"
      ],
      "text/plain": [
       "   size  created_at_day  created_at_month  created_at_weekday  \\\n",
       "0     0              16                 8                   1   \n",
       "1     0               9                 8                   1   \n",
       "2     0               1                 8                   0   \n",
       "3     0              28                 7                   3   \n",
       "4     0              28                 7                   3   \n",
       "\n",
       "   created_at_hour  changed_files_number  body_size  commits_number  \\\n",
       "0               19                     3         57               1   \n",
       "1               14                     1          0               1   \n",
       "2               12                     1          5               1   \n",
       "3               20                     1         56               1   \n",
       "4                6                     1         21               1   \n",
       "\n",
       "   filetype_.png  filetype_.ipynb  ...  title_wordcount_video  \\\n",
       "0              0                0  ...                      0   \n",
       "1              0                0  ...                      0   \n",
       "2              0                0  ...                      0   \n",
       "3              0                0  ...                      0   \n",
       "4              0                0  ...                      0   \n",
       "\n",
       "   title_wordcount_visualization  title_wordcount_walkthrough  \\\n",
       "0                              0                            0   \n",
       "1                              0                            0   \n",
       "2                              0                            0   \n",
       "3                              0                            0   \n",
       "4                              0                            0   \n",
       "\n",
       "   title_wordcount_wip  title_wordcount_workflows  title_wordcount_workshop  \\\n",
       "0                    0                          0                         1   \n",
       "1                    0                          0                         0   \n",
       "2                    0                          0                         1   \n",
       "3                    0                          0                         0   \n",
       "4                    0                          0                         0   \n",
       "\n",
       "   title_wordcount_yaml  title_wordcount_⬆️  ttm_class  time_to_merge  \n",
       "0                     0                   0          2         5817.0  \n",
       "1                     0                   0          0          334.0  \n",
       "2                     0                   0          1         1834.0  \n",
       "3                     0                   0          4        61604.0  \n",
       "4                     0                   0          3        17380.0  \n",
       "\n",
       "[5 rows x 319 columns]"
      ]
     },
     "execution_count": 82,
     "metadata": {},
     "output_type": "execute_result"
    }
   ],
   "source": [
    "# join all types of features\n",
    "ttm_dataset = pd.concat(\n",
    "    [feature_df, filetype_df, title_wordcount_df], axis=1, ignore_index=False\n",
    ")\n",
    "\n",
    "# keep only the selected features and the prediction label\n",
    "ttm_dataset = ttm_dataset[selected_features + [\"ttm_class\", \"time_to_merge\"]]\n",
    "\n",
    "ttm_dataset.head()"
   ]
  },
  {
   "cell_type": "code",
   "execution_count": 83,
   "id": "4fd9e422-eaf1-4c80-9375-5d71ac985171",
   "metadata": {
    "execution": {
     "iopub.execute_input": "2022-11-18T20:10:29.316661Z",
     "iopub.status.busy": "2022-11-18T20:10:29.316499Z",
     "iopub.status.idle": "2022-11-18T20:10:29.328747Z",
     "shell.execute_reply": "2022-11-18T20:10:29.328261Z"
    }
   },
   "outputs": [
    {
     "name": "stdout",
     "output_type": "stream",
     "text": [
      "<class 'pandas.core.frame.DataFrame'>\n",
      "RangeIndex: 245 entries, 0 to 244\n",
      "Columns: 319 entries, size to time_to_merge\n",
      "dtypes: float64(1), int64(318)\n",
      "memory usage: 610.7 KB\n"
     ]
    }
   ],
   "source": [
    "ttm_dataset.info()"
   ]
  },
  {
   "cell_type": "markdown",
   "id": "4a949795",
   "metadata": {},
   "source": [
    "## Save results to Ceph or locally\n",
    "\n",
    "Using the helper function to save the data frame in a parquet format on the Ceph bucket if we are running in automation, and locally if not."
   ]
  },
  {
   "cell_type": "code",
   "execution_count": 84,
   "id": "ecd03940-1b27-4472-ae97-469a4ad8a25a",
   "metadata": {
    "execution": {
     "iopub.execute_input": "2022-11-18T20:10:29.331260Z",
     "iopub.status.busy": "2022-11-18T20:10:29.331057Z",
     "iopub.status.idle": "2022-11-18T20:10:29.333504Z",
     "shell.execute_reply": "2022-11-18T20:10:29.333045Z"
    }
   },
   "outputs": [],
   "source": [
    "TTM_DATASET_PATH = os.path.join(s3_input_data_path, ORG, REPO)"
   ]
  },
  {
   "cell_type": "code",
   "execution_count": 85,
   "id": "adfdfb1b",
   "metadata": {
    "execution": {
     "iopub.execute_input": "2022-11-18T20:10:29.335423Z",
     "iopub.status.busy": "2022-11-18T20:10:29.335272Z",
     "iopub.status.idle": "2022-11-18T20:10:29.700679Z",
     "shell.execute_reply": "2022-11-18T20:10:29.700110Z"
    }
   },
   "outputs": [],
   "source": [
    "## Sanity check to see if the dataset is the same\n",
    "\n",
    "try:\n",
    "    cc.upload_to_ceph(\n",
    "        ttm_dataset,\n",
    "        TTM_DATASET_PATH,\n",
    "        \"ttm_feature_engineered_dataset.parquet\",\n",
    "    )\n",
    "except ValueError as ve:\n",
    "    print(ve)\n",
    "    print(\"Files already uploaded to S3\")"
   ]
  },
  {
   "cell_type": "markdown",
   "id": "165910c8",
   "metadata": {},
   "source": [
    "# Conclusion\n",
    "\n",
    "This notebook walked through how to access saved raw Pull Requests data from the previous data collection notebook and we engineered some possible features which can be used to predict time to merge of a PR. \n",
    "\n",
    "The features we engineered are as following:\n",
    "\n",
    "- time_to_merge: time taken to merge a PR in seconds, this is feature we will try to predict\n",
    "- changed_files_number: integer indicating the number of files changed, this is an available column\n",
    "- body_size: integer indicating the number of words in the body of the PR, derived from body\n",
    "- size: integer corresponding to a categorical label generated by GitHub which summarizes the size of the changes made to the code base \n",
    "- title_word_counts_vec: vector or list indicating how many times each word appeared in the title\n",
    "- created_at_day: categorical variable indicating the day of month the PR has been created, derived from created_at\n",
    "- created_at_month: categorical variable indicating the month of the year that the PR has been created, derived from created_at\n",
    "- created_at_weekday: categorical variable indicating the day of the week the PR has been created, derived from created_at\n",
    "- created_at_hour: categorical variable indicating the hour of the day the PR has been created, derived from created_at\n",
    "- commits_number: integer indicating the number of commits in the PR\n",
    "- changed_file_type_vec:  vector or list consisting of number of files changed for the top 100 most frequently occurring data types, derived from changed_files\n",
    "\n",
    "\n",
    "# Next Step\n",
    "\n",
    "In the next [notebook](./03_model_training.ipynb), we will train a classifier to predict time to merge of a PR using the features."
   ]
  }
 ],
 "metadata": {
  "kernelspec": {
   "display_name": "Python 3 (ipykernel)",
   "language": "python",
   "name": "python3"
  },
  "language_info": {
   "codemirror_mode": {
    "name": "ipython",
    "version": 3
   },
   "file_extension": ".py",
   "mimetype": "text/x-python",
   "name": "python",
   "nbconvert_exporter": "python",
   "pygments_lexer": "ipython3",
   "version": "3.8.8"
  }
 },
 "nbformat": 4,
 "nbformat_minor": 5
}
