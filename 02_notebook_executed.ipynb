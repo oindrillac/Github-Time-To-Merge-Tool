{
 "cells": [
  {
   "cell_type": "markdown",
   "id": "6a8d0182",
   "metadata": {
    "tags": []
   },
   "source": [
    "# Feature engineering on extracted Pull Requests data\n",
    "\n",
    "\n",
    "## What we did previously\n",
    "\n",
    "In the previous step, we collected data from a Github repository of choice and store them on S3 storage\n",
    "\n",
    "## In this step\n",
    "\n",
    "In this notebook we will walk through how to start analyzing the PR data collected from a Github repository.\n",
    "\n",
    "We explore the various fields in the PR dataset and the features that we can derive from them in order to frame an a Machine Learning where we predict the time taken to merge a PR."
   ]
  },
  {
   "cell_type": "code",
   "execution_count": 1,
   "id": "dfe11a56",
   "metadata": {
    "execution": {
     "iopub.execute_input": "2023-02-03T12:58:23.957521Z",
     "iopub.status.busy": "2023-02-03T12:58:23.956995Z",
     "iopub.status.idle": "2023-02-03T12:58:25.593693Z",
     "shell.execute_reply": "2023-02-03T12:58:25.592957Z"
    }
   },
   "outputs": [],
   "source": [
    "import os\n",
    "import re\n",
    "import gzip\n",
    "import json\n",
    "import boto3\n",
    "import pathlib\n",
    "import datetime\n",
    "from tqdm import tqdm\n",
    "from io import BytesIO\n",
    "from pathlib import Path\n",
    "from functools import partial\n",
    "from collections import Counter\n",
    "from github import Github\n",
    "\n",
    "import numpy as np\n",
    "import pandas as pd\n",
    "\n",
    "import matplotlib.pyplot as plt\n",
    "import seaborn as sns\n",
    "from wordcloud import STOPWORDS\n",
    "\n",
    "from sklearn.feature_selection import SelectKBest\n",
    "from sklearn.feature_selection import chi2\n",
    "from sklearn.feature_selection import mutual_info_classif, f_classif\n",
    "\n",
    "from dotenv import load_dotenv, find_dotenv\n",
    "import ceph_comm"
   ]
  },
  {
   "cell_type": "code",
   "execution_count": 2,
   "id": "9476e951",
   "metadata": {
    "execution": {
     "iopub.execute_input": "2023-02-03T12:58:25.597466Z",
     "iopub.status.busy": "2023-02-03T12:58:25.597089Z",
     "iopub.status.idle": "2023-02-03T12:58:25.610497Z",
     "shell.execute_reply": "2023-02-03T12:58:25.609560Z"
    }
   },
   "outputs": [
    {
     "data": {
      "text/plain": [
       "True"
      ]
     },
     "execution_count": 2,
     "metadata": {},
     "output_type": "execute_result"
    }
   ],
   "source": [
    "sns.set(rc={\"figure.figsize\": (20, 10)})\n",
    "load_dotenv(find_dotenv(), override=True)"
   ]
  },
  {
   "cell_type": "code",
   "execution_count": 3,
   "id": "9bc3a2c6",
   "metadata": {
    "execution": {
     "iopub.execute_input": "2023-02-03T12:58:25.613620Z",
     "iopub.status.busy": "2023-02-03T12:58:25.613202Z",
     "iopub.status.idle": "2023-02-03T12:58:25.617682Z",
     "shell.execute_reply": "2023-02-03T12:58:25.617053Z"
    }
   },
   "outputs": [],
   "source": [
    "## CEPH Bucket variables\n",
    "## Create a .env file on your local with the correct configs,\n",
    "\n",
    "ORG = os.getenv(\"GITHUB_ORG\")\n",
    "REPO = os.getenv(\"GITHUB_REPO\")\n",
    "\n",
    "## S3 bucket credentials\n",
    "s3_endpoint_url = os.getenv(\"S3_ENDPOINT_URL\")\n",
    "s3_access_key = os.getenv(\"S3_ACCESS_KEY\")\n",
    "s3_secret_key = os.getenv(\"S3_SECRET_KEY\")\n",
    "s3_bucket = os.getenv(\"S3_BUCKET\")\n",
    "\n",
    "REMOTE = os.getenv(\"REMOTE\")\n",
    "\n",
    "s3_input_data_path = os.getenv(\"CEPH_BUCKET_PREFIX\")\n",
    "\n",
    "RAW_DATA_PATH = os.path.join(s3_input_data_path, ORG, REPO)\n",
    "TOKEN = os.getenv(\"GITHUB_ACCESS_TOKEN\")"
   ]
  },
  {
   "cell_type": "code",
   "execution_count": 4,
   "id": "38f32d2b-22dc-419b-b76a-ce41e35ef58e",
   "metadata": {
    "execution": {
     "iopub.execute_input": "2023-02-03T12:58:25.620720Z",
     "iopub.status.busy": "2023-02-03T12:58:25.620378Z",
     "iopub.status.idle": "2023-02-03T12:58:32.022734Z",
     "shell.execute_reply": "2023-02-03T12:58:32.022044Z"
    }
   },
   "outputs": [],
   "source": [
    "# Collect PRs and combine them\n",
    "cc = ceph_comm.CephCommunication(s3_endpoint_url, s3_access_key, s3_secret_key, s3_bucket)\n",
    "\n",
    "# how many files of the given extension were changed in PR\n",
    "CLOSED_PR_IDS_FILENAME = os.path.join(ORG + REPO + \"CLOSED_PR_IDS.parquet\")\n",
    "CLOSED_PRS_KEY = os.path.join(s3_input_data_path, ORG, REPO, \"closed_prs\")\n",
    "PR_ID_DF = cc.read_from_ceph(CLOSED_PRS_KEY, CLOSED_PR_IDS_FILENAME)\n",
    "pr_ids = list(PR_ID_DF['closed_pr_ids'])\n",
    "\n",
    "REPO_PATH = os.path.join(s3_input_data_path, ORG, REPO)\n",
    "\n",
    "appended_prs = []\n",
    "for pr_id in pr_ids:\n",
    "    PR_PATH = os.path.join(REPO_PATH, \"PRs/\"+ str(pr_id) + \".json\")\n",
    "    pr = cc.get_json_from_ceph(PR_PATH)\n",
    "    appended_prs.append(pr)\n",
    "\n",
    "appended_prs = pd.concat(appended_prs)"
   ]
  },
  {
   "cell_type": "code",
   "execution_count": 5,
   "id": "115b9040-4b29-4445-b34a-3c1183707464",
   "metadata": {
    "execution": {
     "iopub.execute_input": "2023-02-03T12:58:32.026528Z",
     "iopub.status.busy": "2023-02-03T12:58:32.025897Z",
     "iopub.status.idle": "2023-02-03T12:58:32.049225Z",
     "shell.execute_reply": "2023-02-03T12:58:32.048557Z"
    }
   },
   "outputs": [
    {
     "data": {
      "text/html": [
       "<div>\n",
       "<style scoped>\n",
       "    .dataframe tbody tr th:only-of-type {\n",
       "        vertical-align: middle;\n",
       "    }\n",
       "\n",
       "    .dataframe tbody tr th {\n",
       "        vertical-align: top;\n",
       "    }\n",
       "\n",
       "    .dataframe thead th {\n",
       "        text-align: right;\n",
       "    }\n",
       "</style>\n",
       "<table border=\"1\" class=\"dataframe\">\n",
       "  <thead>\n",
       "    <tr style=\"text-align: right;\">\n",
       "      <th></th>\n",
       "      <th>title</th>\n",
       "      <th>body</th>\n",
       "      <th>size</th>\n",
       "      <th>created_by</th>\n",
       "      <th>created_at</th>\n",
       "      <th>closed_at</th>\n",
       "      <th>closed_by</th>\n",
       "      <th>merged_at</th>\n",
       "      <th>merged_by</th>\n",
       "      <th>commits_number</th>\n",
       "      <th>changed_files_number</th>\n",
       "      <th>interactions</th>\n",
       "      <th>reviews</th>\n",
       "      <th>labels</th>\n",
       "      <th>commits</th>\n",
       "      <th>changed_files</th>\n",
       "      <th>first_review_at</th>\n",
       "      <th>first_approve_at</th>\n",
       "    </tr>\n",
       "  </thead>\n",
       "  <tbody>\n",
       "    <tr>\n",
       "      <th>0</th>\n",
       "      <td>adding branding to action pre-publishing</td>\n",
       "      <td>SSIA</td>\n",
       "      <td>XS</td>\n",
       "      <td>oindrillac</td>\n",
       "      <td>1674847161</td>\n",
       "      <td>1675089540</td>\n",
       "      <td>oindrillac</td>\n",
       "      <td>1675089540</td>\n",
       "      <td>oindrillac</td>\n",
       "      <td>1</td>\n",
       "      <td>1</td>\n",
       "      <td>{}</td>\n",
       "      <td>{'1273400914': {'author': 'MichaelClifford', '...</td>\n",
       "      <td>[]</td>\n",
       "      <td>[e1fcc18715a07c020b7809b464255b2adf61e35c]</td>\n",
       "      <td>[action.yml]</td>\n",
       "      <td>1674850321</td>\n",
       "      <td>1674850321</td>\n",
       "    </tr>\n",
       "    <tr>\n",
       "      <th>0</th>\n",
       "      <td>formatted inference messaging</td>\n",
       "      <td>Formatted inference output. Modified messaging...</td>\n",
       "      <td>M</td>\n",
       "      <td>oindrillac</td>\n",
       "      <td>1674836929</td>\n",
       "      <td>1674845483</td>\n",
       "      <td>oindrillac</td>\n",
       "      <td>1674845483</td>\n",
       "      <td>oindrillac</td>\n",
       "      <td>1</td>\n",
       "      <td>1</td>\n",
       "      <td>{}</td>\n",
       "      <td>{'1273079367': {'author': 'aakankshaduggal', '...</td>\n",
       "      <td>[]</td>\n",
       "      <td>[21fd675b28af2d7e686bdfeede650455677218b1]</td>\n",
       "      <td>[04_model_inference.ipynb]</td>\n",
       "      <td>1674838912</td>\n",
       "      <td>1674838912</td>\n",
       "    </tr>\n",
       "    <tr>\n",
       "      <th>0</th>\n",
       "      <td>improve docs and error messaging</td>\n",
       "      <td>closes https://github.com/redhat-et/time-to-me...</td>\n",
       "      <td>L</td>\n",
       "      <td>oindrillac</td>\n",
       "      <td>1673550636</td>\n",
       "      <td>1674053061</td>\n",
       "      <td>aakankshaduggal</td>\n",
       "      <td>1674053061</td>\n",
       "      <td>aakankshaduggal</td>\n",
       "      <td>1</td>\n",
       "      <td>2</td>\n",
       "      <td>{'oindrillac': 8}</td>\n",
       "      <td>{'1250552206': {'author': 'MichaelClifford', '...</td>\n",
       "      <td>[]</td>\n",
       "      <td>[67236eac145fff66c5df062e0ad0ed1676b903e1]</td>\n",
       "      <td>[04_model_inference.ipynb, README.md]</td>\n",
       "      <td>1673893319</td>\n",
       "      <td>1673893319</td>\n",
       "    </tr>\n",
       "    <tr>\n",
       "      <th>0</th>\n",
       "      <td>refactored documentation</td>\n",
       "      <td>Made some edits to the Readme to make it easie...</td>\n",
       "      <td>M</td>\n",
       "      <td>oindrillac</td>\n",
       "      <td>1673379985</td>\n",
       "      <td>1673467957</td>\n",
       "      <td>MichaelClifford</td>\n",
       "      <td>1673467957</td>\n",
       "      <td>MichaelClifford</td>\n",
       "      <td>2</td>\n",
       "      <td>1</td>\n",
       "      <td>{'oindrillac': 9}</td>\n",
       "      <td>{'1242908107': {'author': 'MichaelClifford', '...</td>\n",
       "      <td>[]</td>\n",
       "      <td>[66f91d4e07435a6bfd5fbe4f0e91fabeb7f54573, 5e3...</td>\n",
       "      <td>[README.md]</td>\n",
       "      <td>1673382819</td>\n",
       "      <td>1673447636</td>\n",
       "    </tr>\n",
       "    <tr>\n",
       "      <th>0</th>\n",
       "      <td>Documentation Updates</td>\n",
       "      <td>Updated the steps for onboarding, yet to add t...</td>\n",
       "      <td>M</td>\n",
       "      <td>aakankshaduggal</td>\n",
       "      <td>1670528059</td>\n",
       "      <td>1670616860</td>\n",
       "      <td>oindrillac</td>\n",
       "      <td>1670616860</td>\n",
       "      <td>oindrillac</td>\n",
       "      <td>12</td>\n",
       "      <td>1</td>\n",
       "      <td>{'MichaelClifford': 19, 'aakankshaduggal': 36}</td>\n",
       "      <td>{'1211889831': {'author': 'oindrillac', 'words...</td>\n",
       "      <td>[]</td>\n",
       "      <td>[150c8b8e7bc5f090ed070ba76c243176b2be8f3e, a75...</td>\n",
       "      <td>[README.md]</td>\n",
       "      <td>1670602297</td>\n",
       "      <td>1670616837</td>\n",
       "    </tr>\n",
       "  </tbody>\n",
       "</table>\n",
       "</div>"
      ],
      "text/plain": [
       "                                      title  \\\n",
       "0  adding branding to action pre-publishing   \n",
       "0             formatted inference messaging   \n",
       "0          improve docs and error messaging   \n",
       "0                  refactored documentation   \n",
       "0                     Documentation Updates   \n",
       "\n",
       "                                                body size       created_by  \\\n",
       "0                                               SSIA   XS       oindrillac   \n",
       "0  Formatted inference output. Modified messaging...    M       oindrillac   \n",
       "0  closes https://github.com/redhat-et/time-to-me...    L       oindrillac   \n",
       "0  Made some edits to the Readme to make it easie...    M       oindrillac   \n",
       "0  Updated the steps for onboarding, yet to add t...    M  aakankshaduggal   \n",
       "\n",
       "   created_at   closed_at        closed_by   merged_at        merged_by  \\\n",
       "0  1674847161  1675089540       oindrillac  1675089540       oindrillac   \n",
       "0  1674836929  1674845483       oindrillac  1674845483       oindrillac   \n",
       "0  1673550636  1674053061  aakankshaduggal  1674053061  aakankshaduggal   \n",
       "0  1673379985  1673467957  MichaelClifford  1673467957  MichaelClifford   \n",
       "0  1670528059  1670616860       oindrillac  1670616860       oindrillac   \n",
       "\n",
       "   commits_number  changed_files_number  \\\n",
       "0               1                     1   \n",
       "0               1                     1   \n",
       "0               1                     2   \n",
       "0               2                     1   \n",
       "0              12                     1   \n",
       "\n",
       "                                     interactions  \\\n",
       "0                                              {}   \n",
       "0                                              {}   \n",
       "0                               {'oindrillac': 8}   \n",
       "0                               {'oindrillac': 9}   \n",
       "0  {'MichaelClifford': 19, 'aakankshaduggal': 36}   \n",
       "\n",
       "                                             reviews labels  \\\n",
       "0  {'1273400914': {'author': 'MichaelClifford', '...     []   \n",
       "0  {'1273079367': {'author': 'aakankshaduggal', '...     []   \n",
       "0  {'1250552206': {'author': 'MichaelClifford', '...     []   \n",
       "0  {'1242908107': {'author': 'MichaelClifford', '...     []   \n",
       "0  {'1211889831': {'author': 'oindrillac', 'words...     []   \n",
       "\n",
       "                                             commits  \\\n",
       "0         [e1fcc18715a07c020b7809b464255b2adf61e35c]   \n",
       "0         [21fd675b28af2d7e686bdfeede650455677218b1]   \n",
       "0         [67236eac145fff66c5df062e0ad0ed1676b903e1]   \n",
       "0  [66f91d4e07435a6bfd5fbe4f0e91fabeb7f54573, 5e3...   \n",
       "0  [150c8b8e7bc5f090ed070ba76c243176b2be8f3e, a75...   \n",
       "\n",
       "                           changed_files first_review_at first_approve_at  \n",
       "0                           [action.yml]      1674850321       1674850321  \n",
       "0             [04_model_inference.ipynb]      1674838912       1674838912  \n",
       "0  [04_model_inference.ipynb, README.md]      1673893319       1673893319  \n",
       "0                            [README.md]      1673382819       1673447636  \n",
       "0                            [README.md]      1670602297       1670616837  "
      ]
     },
     "execution_count": 5,
     "metadata": {},
     "output_type": "execute_result"
    }
   ],
   "source": [
    "appended_prs.head()"
   ]
  },
  {
   "cell_type": "code",
   "execution_count": 6,
   "id": "d02d7136-2bb4-4ec8-903c-315afb22c524",
   "metadata": {
    "execution": {
     "iopub.execute_input": "2023-02-03T12:58:32.052144Z",
     "iopub.status.busy": "2023-02-03T12:58:32.051732Z",
     "iopub.status.idle": "2023-02-03T12:58:32.956226Z",
     "shell.execute_reply": "2023-02-03T12:58:32.955590Z"
    }
   },
   "outputs": [
    {
     "data": {
      "text/plain": [
       "{'ResponseMetadata': {'RequestId': 'cf274fd9e60cefb4',\n",
       "  'HostId': 'aNwdm2WLJMkxmiTIbZMU10WQLN2IyITLC',\n",
       "  'HTTPStatusCode': 200,\n",
       "  'HTTPHeaders': {'x-amz-request-id': 'cf274fd9e60cefb4',\n",
       "   'x-amz-id-2': 'aNwdm2WLJMkxmiTIbZMU10WQLN2IyITLC',\n",
       "   'etag': '\"d7c91275068ff2b790607feb35066cc6\"',\n",
       "   'x-amz-version-id': '4_z578ffb122f12ad158d570212_f1017596229ded60e_d20230203_m125832_c000_v0001024_t0015_u01675429112105',\n",
       "   'cache-control': 'max-age=0, no-cache, no-store',\n",
       "   'content-length': '0',\n",
       "   'date': 'Fri, 03 Feb 2023 12:58:31 GMT'},\n",
       "  'RetryAttempts': 0},\n",
       " 'ETag': '\"d7c91275068ff2b790607feb35066cc6\"',\n",
       " 'VersionId': '4_z578ffb122f12ad158d570212_f1017596229ded60e_d20230203_m125832_c000_v0001024_t0015_u01675429112105'}"
      ]
     },
     "execution_count": 6,
     "metadata": {},
     "output_type": "execute_result"
    }
   ],
   "source": [
    "cc.upload_to_ceph_as_json(appended_prs, RAW_DATA_PATH, \"PullRequest.json\")"
   ]
  },
  {
   "cell_type": "code",
   "execution_count": 7,
   "id": "4d1b0d9f",
   "metadata": {
    "execution": {
     "iopub.execute_input": "2023-02-03T12:58:32.959927Z",
     "iopub.status.busy": "2023-02-03T12:58:32.959403Z",
     "iopub.status.idle": "2023-02-03T12:58:33.108245Z",
     "shell.execute_reply": "2023-02-03T12:58:33.107454Z"
    }
   },
   "outputs": [
    {
     "name": "stdout",
     "output_type": "stream",
     "text": [
      "getting dataset from ceph\n"
     ]
    }
   ],
   "source": [
    "print(\"getting dataset from ceph\")\n",
    "pr_df = cc.get_json_from_ceph(os.path.join(RAW_DATA_PATH, \"PullRequest.json\"))"
   ]
  },
  {
   "cell_type": "code",
   "execution_count": 8,
   "id": "70c24185-4fbf-4287-98fd-c8d721ef71fa",
   "metadata": {
    "execution": {
     "iopub.execute_input": "2023-02-03T12:58:33.111739Z",
     "iopub.status.busy": "2023-02-03T12:58:33.111103Z",
     "iopub.status.idle": "2023-02-03T12:58:33.135570Z",
     "shell.execute_reply": "2023-02-03T12:58:33.134999Z"
    }
   },
   "outputs": [
    {
     "data": {
      "text/html": [
       "<div>\n",
       "<style scoped>\n",
       "    .dataframe tbody tr th:only-of-type {\n",
       "        vertical-align: middle;\n",
       "    }\n",
       "\n",
       "    .dataframe tbody tr th {\n",
       "        vertical-align: top;\n",
       "    }\n",
       "\n",
       "    .dataframe thead th {\n",
       "        text-align: right;\n",
       "    }\n",
       "</style>\n",
       "<table border=\"1\" class=\"dataframe\">\n",
       "  <thead>\n",
       "    <tr style=\"text-align: right;\">\n",
       "      <th></th>\n",
       "      <th>title</th>\n",
       "      <th>body</th>\n",
       "      <th>size</th>\n",
       "      <th>created_by</th>\n",
       "      <th>created_at</th>\n",
       "      <th>closed_at</th>\n",
       "      <th>closed_by</th>\n",
       "      <th>merged_at</th>\n",
       "      <th>merged_by</th>\n",
       "      <th>commits_number</th>\n",
       "      <th>changed_files_number</th>\n",
       "      <th>interactions</th>\n",
       "      <th>reviews</th>\n",
       "      <th>labels</th>\n",
       "      <th>commits</th>\n",
       "      <th>changed_files</th>\n",
       "      <th>first_review_at</th>\n",
       "      <th>first_approve_at</th>\n",
       "    </tr>\n",
       "  </thead>\n",
       "  <tbody>\n",
       "    <tr>\n",
       "      <th>0</th>\n",
       "      <td>adding branding to action pre-publishing</td>\n",
       "      <td>SSIA</td>\n",
       "      <td>XS</td>\n",
       "      <td>oindrillac</td>\n",
       "      <td>1674847161</td>\n",
       "      <td>1675089540</td>\n",
       "      <td>oindrillac</td>\n",
       "      <td>1.675090e+09</td>\n",
       "      <td>oindrillac</td>\n",
       "      <td>1</td>\n",
       "      <td>1</td>\n",
       "      <td>{}</td>\n",
       "      <td>{'1273400914': {'author': 'MichaelClifford', '...</td>\n",
       "      <td>[]</td>\n",
       "      <td>[e1fcc18715a07c020b7809b464255b2adf61e35c]</td>\n",
       "      <td>[action.yml]</td>\n",
       "      <td>1.674850e+09</td>\n",
       "      <td>1.674850e+09</td>\n",
       "    </tr>\n",
       "    <tr>\n",
       "      <th>1</th>\n",
       "      <td>formatted inference messaging</td>\n",
       "      <td>Formatted inference output. Modified messaging...</td>\n",
       "      <td>M</td>\n",
       "      <td>oindrillac</td>\n",
       "      <td>1674836929</td>\n",
       "      <td>1674845483</td>\n",
       "      <td>oindrillac</td>\n",
       "      <td>1.674845e+09</td>\n",
       "      <td>oindrillac</td>\n",
       "      <td>1</td>\n",
       "      <td>1</td>\n",
       "      <td>{}</td>\n",
       "      <td>{'1273079367': {'author': 'aakankshaduggal', '...</td>\n",
       "      <td>[]</td>\n",
       "      <td>[21fd675b28af2d7e686bdfeede650455677218b1]</td>\n",
       "      <td>[04_model_inference.ipynb]</td>\n",
       "      <td>1.674839e+09</td>\n",
       "      <td>1.674839e+09</td>\n",
       "    </tr>\n",
       "    <tr>\n",
       "      <th>2</th>\n",
       "      <td>improve docs and error messaging</td>\n",
       "      <td>closes https://github.com/redhat-et/time-to-me...</td>\n",
       "      <td>L</td>\n",
       "      <td>oindrillac</td>\n",
       "      <td>1673550636</td>\n",
       "      <td>1674053061</td>\n",
       "      <td>aakankshaduggal</td>\n",
       "      <td>1.674053e+09</td>\n",
       "      <td>aakankshaduggal</td>\n",
       "      <td>1</td>\n",
       "      <td>2</td>\n",
       "      <td>{'oindrillac': 8}</td>\n",
       "      <td>{'1250552206': {'author': 'MichaelClifford', '...</td>\n",
       "      <td>[]</td>\n",
       "      <td>[67236eac145fff66c5df062e0ad0ed1676b903e1]</td>\n",
       "      <td>[04_model_inference.ipynb, README.md]</td>\n",
       "      <td>1.673893e+09</td>\n",
       "      <td>1.673893e+09</td>\n",
       "    </tr>\n",
       "    <tr>\n",
       "      <th>3</th>\n",
       "      <td>refactored documentation</td>\n",
       "      <td>Made some edits to the Readme to make it easie...</td>\n",
       "      <td>M</td>\n",
       "      <td>oindrillac</td>\n",
       "      <td>1673379985</td>\n",
       "      <td>1673467957</td>\n",
       "      <td>MichaelClifford</td>\n",
       "      <td>1.673468e+09</td>\n",
       "      <td>MichaelClifford</td>\n",
       "      <td>2</td>\n",
       "      <td>1</td>\n",
       "      <td>{'oindrillac': 9}</td>\n",
       "      <td>{'1242908107': {'author': 'MichaelClifford', '...</td>\n",
       "      <td>[]</td>\n",
       "      <td>[66f91d4e07435a6bfd5fbe4f0e91fabeb7f54573, 5e3...</td>\n",
       "      <td>[README.md]</td>\n",
       "      <td>1.673383e+09</td>\n",
       "      <td>1.673448e+09</td>\n",
       "    </tr>\n",
       "    <tr>\n",
       "      <th>4</th>\n",
       "      <td>Documentation Updates</td>\n",
       "      <td>Updated the steps for onboarding, yet to add t...</td>\n",
       "      <td>M</td>\n",
       "      <td>aakankshaduggal</td>\n",
       "      <td>1670528059</td>\n",
       "      <td>1670616860</td>\n",
       "      <td>oindrillac</td>\n",
       "      <td>1.670617e+09</td>\n",
       "      <td>oindrillac</td>\n",
       "      <td>12</td>\n",
       "      <td>1</td>\n",
       "      <td>{'MichaelClifford': 19, 'aakankshaduggal': 36}</td>\n",
       "      <td>{'1211889831': {'author': 'oindrillac', 'words...</td>\n",
       "      <td>[]</td>\n",
       "      <td>[150c8b8e7bc5f090ed070ba76c243176b2be8f3e, a75...</td>\n",
       "      <td>[README.md]</td>\n",
       "      <td>1.670602e+09</td>\n",
       "      <td>1.670617e+09</td>\n",
       "    </tr>\n",
       "  </tbody>\n",
       "</table>\n",
       "</div>"
      ],
      "text/plain": [
       "                                      title  \\\n",
       "0  adding branding to action pre-publishing   \n",
       "1             formatted inference messaging   \n",
       "2          improve docs and error messaging   \n",
       "3                  refactored documentation   \n",
       "4                     Documentation Updates   \n",
       "\n",
       "                                                body size       created_by  \\\n",
       "0                                               SSIA   XS       oindrillac   \n",
       "1  Formatted inference output. Modified messaging...    M       oindrillac   \n",
       "2  closes https://github.com/redhat-et/time-to-me...    L       oindrillac   \n",
       "3  Made some edits to the Readme to make it easie...    M       oindrillac   \n",
       "4  Updated the steps for onboarding, yet to add t...    M  aakankshaduggal   \n",
       "\n",
       "   created_at   closed_at        closed_by     merged_at        merged_by  \\\n",
       "0  1674847161  1675089540       oindrillac  1.675090e+09       oindrillac   \n",
       "1  1674836929  1674845483       oindrillac  1.674845e+09       oindrillac   \n",
       "2  1673550636  1674053061  aakankshaduggal  1.674053e+09  aakankshaduggal   \n",
       "3  1673379985  1673467957  MichaelClifford  1.673468e+09  MichaelClifford   \n",
       "4  1670528059  1670616860       oindrillac  1.670617e+09       oindrillac   \n",
       "\n",
       "   commits_number  changed_files_number  \\\n",
       "0               1                     1   \n",
       "1               1                     1   \n",
       "2               1                     2   \n",
       "3               2                     1   \n",
       "4              12                     1   \n",
       "\n",
       "                                     interactions  \\\n",
       "0                                              {}   \n",
       "1                                              {}   \n",
       "2                               {'oindrillac': 8}   \n",
       "3                               {'oindrillac': 9}   \n",
       "4  {'MichaelClifford': 19, 'aakankshaduggal': 36}   \n",
       "\n",
       "                                             reviews labels  \\\n",
       "0  {'1273400914': {'author': 'MichaelClifford', '...     []   \n",
       "1  {'1273079367': {'author': 'aakankshaduggal', '...     []   \n",
       "2  {'1250552206': {'author': 'MichaelClifford', '...     []   \n",
       "3  {'1242908107': {'author': 'MichaelClifford', '...     []   \n",
       "4  {'1211889831': {'author': 'oindrillac', 'words...     []   \n",
       "\n",
       "                                             commits  \\\n",
       "0         [e1fcc18715a07c020b7809b464255b2adf61e35c]   \n",
       "1         [21fd675b28af2d7e686bdfeede650455677218b1]   \n",
       "2         [67236eac145fff66c5df062e0ad0ed1676b903e1]   \n",
       "3  [66f91d4e07435a6bfd5fbe4f0e91fabeb7f54573, 5e3...   \n",
       "4  [150c8b8e7bc5f090ed070ba76c243176b2be8f3e, a75...   \n",
       "\n",
       "                           changed_files  first_review_at  first_approve_at  \n",
       "0                           [action.yml]     1.674850e+09      1.674850e+09  \n",
       "1             [04_model_inference.ipynb]     1.674839e+09      1.674839e+09  \n",
       "2  [04_model_inference.ipynb, README.md]     1.673893e+09      1.673893e+09  \n",
       "3                            [README.md]     1.673383e+09      1.673448e+09  \n",
       "4                            [README.md]     1.670602e+09      1.670617e+09  "
      ]
     },
     "execution_count": 8,
     "metadata": {},
     "output_type": "execute_result"
    }
   ],
   "source": [
    "pr_df.head()"
   ]
  },
  {
   "cell_type": "code",
   "execution_count": 9,
   "id": "13dc895b",
   "metadata": {
    "execution": {
     "iopub.execute_input": "2023-02-03T12:58:33.138563Z",
     "iopub.status.busy": "2023-02-03T12:58:33.138039Z",
     "iopub.status.idle": "2023-02-03T12:58:33.144298Z",
     "shell.execute_reply": "2023-02-03T12:58:33.143718Z"
    }
   },
   "outputs": [
    {
     "data": {
      "text/plain": [
       "(32, 18)"
      ]
     },
     "execution_count": 9,
     "metadata": {},
     "output_type": "execute_result"
    }
   ],
   "source": [
    "pr_df.shape"
   ]
  },
  {
   "cell_type": "markdown",
   "id": "c472ffbd",
   "metadata": {},
   "source": [
    "## Feature engineering\n",
    "\n",
    "In the next section we will do some basic feature engineering and correlation analyis on our dataset to see if anything interesting jumps out at us. "
   ]
  },
  {
   "cell_type": "markdown",
   "id": "4ed68d9a",
   "metadata": {},
   "source": [
    "**Time to Merge**\n",
    "\n",
    "We will derive a new feature called `time_to_merge` which will be the difference between the `created_at` and `merged_at` fields. "
   ]
  },
  {
   "cell_type": "code",
   "execution_count": 10,
   "id": "d67035e7",
   "metadata": {
    "execution": {
     "iopub.execute_input": "2023-02-03T12:58:33.147407Z",
     "iopub.status.busy": "2023-02-03T12:58:33.147086Z",
     "iopub.status.idle": "2023-02-03T12:58:33.151728Z",
     "shell.execute_reply": "2023-02-03T12:58:33.151083Z"
    }
   },
   "outputs": [],
   "source": [
    "# derive time_to_merege\n",
    "pr_df[\"time_to_merge\"] = pr_df[\"merged_at\"] - pr_df[\"created_at\"]\n",
    "pr_df[\"time_to_merge\"] = pr_df[\"time_to_merge\"].astype(\"float\")\n",
    "# NOTE: we cant fill NA with 0 because that would imply the PR got merged instantaneously"
   ]
  },
  {
   "cell_type": "code",
   "execution_count": 11,
   "id": "fddf9750-49f5-4997-8280-e94e1e778ad9",
   "metadata": {
    "execution": {
     "iopub.execute_input": "2023-02-03T12:58:33.154692Z",
     "iopub.status.busy": "2023-02-03T12:58:33.154197Z",
     "iopub.status.idle": "2023-02-03T12:58:33.159887Z",
     "shell.execute_reply": "2023-02-03T12:58:33.159249Z"
    }
   },
   "outputs": [
    {
     "data": {
      "text/plain": [
       "0     242379.0\n",
       "1       8554.0\n",
       "2     502425.0\n",
       "3      87972.0\n",
       "4      88801.0\n",
       "5      63413.0\n",
       "6       3394.0\n",
       "7          NaN\n",
       "8          NaN\n",
       "9        390.0\n",
       "10        93.0\n",
       "11      1355.0\n",
       "12         NaN\n",
       "13       229.0\n",
       "14       309.0\n",
       "15      5860.0\n",
       "16     24070.0\n",
       "17    240653.0\n",
       "18      5822.0\n",
       "19         NaN\n",
       "20      9962.0\n",
       "21    324073.0\n",
       "22      2077.0\n",
       "23      7678.0\n",
       "24      3819.0\n",
       "25         NaN\n",
       "26         NaN\n",
       "27         NaN\n",
       "28    101246.0\n",
       "29     65665.0\n",
       "30      2713.0\n",
       "31    937820.0\n",
       "Name: time_to_merge, dtype: float64"
      ]
     },
     "execution_count": 11,
     "metadata": {},
     "output_type": "execute_result"
    }
   ],
   "source": [
    "pr_df[\"time_to_merge\"]"
   ]
  },
  {
   "cell_type": "markdown",
   "id": "939d196e",
   "metadata": {},
   "source": [
    "Let's look at the distribution of the time to merge column. This can help us determine what the setup for ML problems such as [#236](https://github.com/aicoe-aiops/ocp-ci-analysis/issues/236) could be like. That is, should the time to merge problem be framed as a regression or classification problem.\n",
    "\n",
    "First, lets try to determine what the granularity of the output values should be, in case of a regression setup. That is, should the model predict time to merge in number of seconds, number of hours, number of days, or some other chunk of time."
   ]
  },
  {
   "cell_type": "code",
   "execution_count": 12,
   "id": "b8cc628b",
   "metadata": {
    "execution": {
     "iopub.execute_input": "2023-02-03T12:58:33.163260Z",
     "iopub.status.busy": "2023-02-03T12:58:33.162848Z",
     "iopub.status.idle": "2023-02-03T12:58:33.169717Z",
     "shell.execute_reply": "2023-02-03T12:58:33.169097Z"
    },
    "tags": []
   },
   "outputs": [
    {
     "data": {
      "text/plain": [
       "1.0     0.68\n",
       "2.0     0.12\n",
       "3.0     0.08\n",
       "6.0     0.04\n",
       "4.0     0.04\n",
       "11.0    0.04\n",
       "Name: time_to_merge, dtype: float64"
      ]
     },
     "execution_count": 12,
     "metadata": {},
     "output_type": "execute_result"
    }
   ],
   "source": [
    "# what does the distribution of values look like if we choose days as the granularity\n",
    "ttm_days = np.ceil(pr_df.time_to_merge / (60 * 60 * 24))\n",
    "\n",
    "# value counts - to how many PRs have value 1, 2, 3, etc. for days to merge\n",
    "vc = ttm_days.value_counts()\n",
    "\n",
    "# normalized value counts (i.e. percent of PRs instead of raw number)\n",
    "nvc = vc / vc.sum()\n",
    "nvc"
   ]
  },
  {
   "cell_type": "code",
   "execution_count": 13,
   "id": "192aeb22",
   "metadata": {
    "execution": {
     "iopub.execute_input": "2023-02-03T12:58:33.173538Z",
     "iopub.status.busy": "2023-02-03T12:58:33.172970Z",
     "iopub.status.idle": "2023-02-03T12:58:33.179599Z",
     "shell.execute_reply": "2023-02-03T12:58:33.178976Z"
    },
    "tags": []
   },
   "outputs": [
    {
     "data": {
      "text/plain": [
       "1.0     0.56\n",
       "23.0    0.08\n",
       "9.0     0.08\n",
       "47.0    0.04\n",
       "6.0     0.04\n",
       "3.0     0.04\n",
       "31.0    0.04\n",
       "10.0    0.04\n",
       "7.0     0.04\n",
       "87.0    0.04\n",
       "Name: time_to_merge, dtype: float64"
      ]
     },
     "execution_count": 13,
     "metadata": {},
     "output_type": "execute_result"
    }
   ],
   "source": [
    "# what if we chose some intermediate value e.g. 3 hours as the granularity?\n",
    "ttm_3hours = np.ceil(pr_df.time_to_merge / (60 * 60 * 3))\n",
    "\n",
    "# value counts - to how many PRs have value 1, 2, 3, etc. for num. 3-hours to merge\n",
    "vc = ttm_3hours.value_counts()\n",
    "\n",
    "# normalized value counts (i.e. percent of PRs instead of raw number)\n",
    "nvc = vc / vc.sum()\n",
    "nvc"
   ]
  },
  {
   "cell_type": "code",
   "execution_count": 14,
   "id": "44e09f11",
   "metadata": {
    "execution": {
     "iopub.execute_input": "2023-02-03T12:58:33.182318Z",
     "iopub.status.busy": "2023-02-03T12:58:33.181976Z",
     "iopub.status.idle": "2023-02-03T12:58:33.188909Z",
     "shell.execute_reply": "2023-02-03T12:58:33.188233Z"
    },
    "tags": []
   },
   "outputs": [
    {
     "data": {
      "text/plain": [
       "1.0      0.32\n",
       "3.0      0.12\n",
       "2.0      0.12\n",
       "25.0     0.08\n",
       "68.0     0.04\n",
       "140.0    0.04\n",
       "18.0     0.04\n",
       "7.0      0.04\n",
       "67.0     0.04\n",
       "91.0     0.04\n",
       "29.0     0.04\n",
       "19.0     0.04\n",
       "261.0    0.04\n",
       "Name: time_to_merge, dtype: float64"
      ]
     },
     "execution_count": 14,
     "metadata": {},
     "output_type": "execute_result"
    }
   ],
   "source": [
    "# what if we chose hours as the granularity?\n",
    "ttm_hours = np.ceil(pr_df.time_to_merge / (60 * 60))\n",
    "\n",
    "# value counts - to how many PRs have value 1, 2, 3, etc. for hours to merge\n",
    "vc = ttm_hours.value_counts()\n",
    "\n",
    "# normalized value counts (i.e. percent of PRs instead of raw number)\n",
    "nvc = vc / vc.sum()\n",
    "nvc"
   ]
  },
  {
   "cell_type": "markdown",
   "id": "fb8e316b",
   "metadata": {},
   "source": [
    "Now, lets try to determine, if we were to set this up as a classification problem, what the output classes should be. In the following cell, we'll try to split the time-to-merge values into 10 equally populated buckets."
   ]
  },
  {
   "cell_type": "code",
   "execution_count": 15,
   "id": "0ca35bc5",
   "metadata": {
    "execution": {
     "iopub.execute_input": "2023-02-03T12:58:33.192066Z",
     "iopub.status.busy": "2023-02-03T12:58:33.191850Z",
     "iopub.status.idle": "2023-02-03T12:58:33.198601Z",
     "shell.execute_reply": "2023-02-03T12:58:33.198005Z"
    }
   },
   "outputs": [
    {
     "data": {
      "text/plain": [
       "0.0     0.025833\n",
       "0.1     0.094833\n",
       "0.2     0.536833\n",
       "0.3     0.966389\n",
       "0.4     1.623556\n",
       "0.5     2.376111\n",
       "0.6    11.057556\n",
       "0.7    23.197389\n",
       "0.8    35.868722\n",
       "0.9    80.943167\n",
       "Name: time_to_merge, dtype: float64"
      ]
     },
     "execution_count": 15,
     "metadata": {},
     "output_type": "execute_result"
    }
   ],
   "source": [
    "# lets look at what the 10th, 20th, 30th etc percentiles are, to see what the bin boundaries (in terms of hours)\n",
    "# would be if we were to split the data in 10 equally populated bins\n",
    "n_buckets = 10\n",
    "\n",
    "quantiles = pr_df.time_to_merge.quantile(q=np.arange(0, 1 + 1e-100, 1 / n_buckets))\n",
    "quantiles / 3600"
   ]
  },
  {
   "cell_type": "code",
   "execution_count": 16,
   "id": "7b36d5d4-ec27-4a59-b63f-515830da1ae9",
   "metadata": {
    "execution": {
     "iopub.execute_input": "2023-02-03T12:58:33.201220Z",
     "iopub.status.busy": "2023-02-03T12:58:33.200875Z",
     "iopub.status.idle": "2023-02-03T12:58:33.203764Z",
     "shell.execute_reply": "2023-02-03T12:58:33.203137Z"
    }
   },
   "outputs": [],
   "source": [
    "intervals = quantiles"
   ]
  },
  {
   "cell_type": "code",
   "execution_count": 17,
   "id": "acc2bfd4",
   "metadata": {
    "execution": {
     "iopub.execute_input": "2023-02-03T12:58:33.206521Z",
     "iopub.status.busy": "2023-02-03T12:58:33.206174Z",
     "iopub.status.idle": "2023-02-03T12:58:33.211631Z",
     "shell.execute_reply": "2023-02-03T12:58:33.210988Z"
    }
   },
   "outputs": [
    {
     "data": {
      "text/plain": [
       "0.0          NaN\n",
       "0.1     0.069000\n",
       "0.2     0.442000\n",
       "0.3     0.429556\n",
       "0.4     0.657167\n",
       "0.5     0.752556\n",
       "0.6     8.681444\n",
       "0.7    12.139833\n",
       "0.8    12.671333\n",
       "0.9    45.074444\n",
       "Name: time_to_merge, dtype: float64"
      ]
     },
     "execution_count": 17,
     "metadata": {},
     "output_type": "execute_result"
    }
   ],
   "source": [
    "# gaps between the buckets (i.e. size of each bucket) in hours\n",
    "(quantiles - quantiles.shift()) / 3600"
   ]
  },
  {
   "cell_type": "markdown",
   "id": "7111b3d8",
   "metadata": {},
   "source": [
    "If we want to frame our ML problem as a classification problem, we can use the above buckets to define the classes."
   ]
  },
  {
   "cell_type": "markdown",
   "id": "21dc2dcf",
   "metadata": {},
   "source": [
    "**Body**\n",
    "\n",
    "Here, we will derive a feature called `body_size` which will simply be the number of words in the body of the PR. We can use this numerical value to describe the body of the PR."
   ]
  },
  {
   "cell_type": "code",
   "execution_count": 18,
   "id": "212f8a44",
   "metadata": {
    "execution": {
     "iopub.execute_input": "2023-02-03T12:58:33.214502Z",
     "iopub.status.busy": "2023-02-03T12:58:33.214158Z",
     "iopub.status.idle": "2023-02-03T12:58:33.218260Z",
     "shell.execute_reply": "2023-02-03T12:58:33.217617Z"
    }
   },
   "outputs": [],
   "source": [
    "# derive body_size\n",
    "pr_df[\"body_size\"] = pr_df[\"body\"].fillna(\"\").apply(lambda x: len(x.split()))"
   ]
  },
  {
   "cell_type": "code",
   "execution_count": 19,
   "id": "c62d9484",
   "metadata": {
    "execution": {
     "iopub.execute_input": "2023-02-03T12:58:33.221118Z",
     "iopub.status.busy": "2023-02-03T12:58:33.220598Z",
     "iopub.status.idle": "2023-02-03T12:58:33.225025Z",
     "shell.execute_reply": "2023-02-03T12:58:33.224533Z"
    }
   },
   "outputs": [
    {
     "data": {
      "text/plain": [
       "0       1\n",
       "1      22\n",
       "2      25\n",
       "3      18\n",
       "4      12\n",
       "5      41\n",
       "6       1\n",
       "7       1\n",
       "8       2\n",
       "9      53\n",
       "10      2\n",
       "11      3\n",
       "12     12\n",
       "13      6\n",
       "14     10\n",
       "15      2\n",
       "16     39\n",
       "17    124\n",
       "18      9\n",
       "19     15\n",
       "20     24\n",
       "21    153\n",
       "22      9\n",
       "23     26\n",
       "24     31\n",
       "25     19\n",
       "26      0\n",
       "27      7\n",
       "28     13\n",
       "29     47\n",
       "30     22\n",
       "31      2\n",
       "Name: body_size, dtype: int64"
      ]
     },
     "execution_count": 19,
     "metadata": {},
     "output_type": "execute_result"
    }
   ],
   "source": [
    "pr_df[\"body_size\"]"
   ]
  },
  {
   "cell_type": "markdown",
   "id": "9916fd09",
   "metadata": {},
   "source": [
    "**Size**\n",
    "\n",
    "We can attempt to convert the categorical size label generated by GitHub, which summarizes the size of the changes made to the code base, to a numerical value. "
   ]
  },
  {
   "cell_type": "code",
   "execution_count": 20,
   "id": "cbc553ee-3e0b-45ed-83f6-02ae860bef85",
   "metadata": {
    "execution": {
     "iopub.execute_input": "2023-02-03T12:58:33.230387Z",
     "iopub.status.busy": "2023-02-03T12:58:33.229771Z",
     "iopub.status.idle": "2023-02-03T12:58:33.233843Z",
     "shell.execute_reply": "2023-02-03T12:58:33.233358Z"
    }
   },
   "outputs": [
    {
     "data": {
      "text/plain": [
       "{'L', 'M', 'S', 'XL', 'XS', 'XXL'}"
      ]
     },
     "execution_count": 20,
     "metadata": {},
     "output_type": "execute_result"
    }
   ],
   "source": [
    "set(pr_df['size'])"
   ]
  },
  {
   "cell_type": "code",
   "execution_count": 21,
   "id": "709b4cf9",
   "metadata": {
    "execution": {
     "iopub.execute_input": "2023-02-03T12:58:33.236554Z",
     "iopub.status.busy": "2023-02-03T12:58:33.236148Z",
     "iopub.status.idle": "2023-02-03T12:58:33.240704Z",
     "shell.execute_reply": "2023-02-03T12:58:33.240227Z"
    }
   },
   "outputs": [],
   "source": [
    "convert_size = {\"size\": {\"NaN\": 0, \"XS\": 0, \"S\": 1, \"M\": 2, \"L\": 3, \"XL\": 4, \"XXL\": 5}}\n",
    "pr_df = pr_df.replace(convert_size)"
   ]
  },
  {
   "cell_type": "markdown",
   "id": "0b803d48",
   "metadata": {},
   "source": [
    "**Title**\n",
    "\n",
    "Lets try to see if the PR title text can be used to extract any useful information regarding the PR."
   ]
  },
  {
   "cell_type": "code",
   "execution_count": 22,
   "id": "020f050a",
   "metadata": {
    "execution": {
     "iopub.execute_input": "2023-02-03T12:58:33.243384Z",
     "iopub.status.busy": "2023-02-03T12:58:33.242973Z",
     "iopub.status.idle": "2023-02-03T12:58:33.249561Z",
     "shell.execute_reply": "2023-02-03T12:58:33.249079Z"
    }
   },
   "outputs": [
    {
     "data": {
      "text/plain": [
       "0              adding branding to action pre publishing\n",
       "1                         formatted inference messaging\n",
       "2                      improve docs and error messaging\n",
       "3                              refactored documentation\n",
       "4                                 documentation updates\n",
       "5                          update inference output text\n",
       "6                               update inference yaml  \n",
       "7           testing  on pr  functionality  do not merge\n",
       "8                       add  with  mode  functionality \n",
       "9                      fix how inference was callingprs\n",
       "10                         fixed size condition for prs\n",
       "11                                 update entrypoint sh\n",
       "12                                 update entrypoint sh\n",
       "13                                 update entrypoint sh\n",
       "14                                      test train mode\n",
       "15    add training and inference modes in entrypoint sh\n",
       "16                  minor updates  fix number api calls\n",
       "17                         github api rate optimization\n",
       "18                                update inference yaml\n",
       "19           update inference yaml to use action inputs\n",
       "20                 added github api rate limit handling\n",
       "21    changed data download from srcopsmetrics to py...\n",
       "22                                    update action yml\n",
       "23                                  cleanup action test\n",
       "24                                         basic action\n",
       "25                        test pr trigger from upstream\n",
       "26                           sample pr to test workflow\n",
       "27                                update inference yaml\n",
       "28                          pr inference comment test 1\n",
       "29                             add inference for new pr\n",
       "30    clean feature engineering and choose best mode...\n",
       "31               add inference notebook to the workflow\n",
       "Name: title, dtype: object"
      ]
     },
     "execution_count": 22,
     "metadata": {},
     "output_type": "execute_result"
    }
   ],
   "source": [
    "# first lets preprocess the text available in the titles\n",
    "\n",
    "# convert to lowercase\n",
    "preproc_titles = pr_df[\"title\"].str.lower()\n",
    "\n",
    "# remove punctuations and symbols like : ; , # ( ) [ ] etc\n",
    "preproc_titles = preproc_titles.str.replace(r'[`#-.?!,:;\\/()\\[\\]\"\\']', \" \", regex=True)\n",
    "\n",
    "# remove hash-like strings i.e. 25+ char long strings containing 0-9 or a-f\n",
    "preproc_titles = preproc_titles.str.replace(r\"[0-9a-f]{25,}\", \" \", regex=True)\n",
    "\n",
    "preproc_titles"
   ]
  },
  {
   "cell_type": "code",
   "execution_count": 23,
   "id": "2ecc397e",
   "metadata": {
    "execution": {
     "iopub.execute_input": "2023-02-03T12:58:33.252074Z",
     "iopub.status.busy": "2023-02-03T12:58:33.251666Z",
     "iopub.status.idle": "2023-02-03T12:58:33.256583Z",
     "shell.execute_reply": "2023-02-03T12:58:33.256104Z"
    }
   },
   "outputs": [],
   "source": [
    "# what are the most commonly appearing words in the titles\n",
    "\n",
    "# combin all titles and split into words\n",
    "words = preproc_titles.str.cat(sep=\" \").split()\n",
    "\n",
    "# remove stopwords and numbers (e.g. bugzilla ids)\n",
    "words = [w for w in words if w not in set(STOPWORDS) and not w.isnumeric()]\n",
    "\n",
    "# word frequencies\n",
    "unique_words, counts = np.unique(words, return_counts=True)\n",
    "vc = pd.Series(counts, index=unique_words).sort_values(ascending=False)"
   ]
  },
  {
   "cell_type": "markdown",
   "id": "c52f211c",
   "metadata": {},
   "source": [
    "From the above graph, we can see that titles often contain some keywords that can hint towards the type of changes being made in the PR. We will create a feature which is a vector indicating how many times each word appeared in the title. This way, even if a less prominent word is more correlated with time_to_merge, we will be able to capture that relationship."
   ]
  },
  {
   "cell_type": "code",
   "execution_count": 24,
   "id": "65279268",
   "metadata": {
    "execution": {
     "iopub.execute_input": "2023-02-03T12:58:33.259188Z",
     "iopub.status.busy": "2023-02-03T12:58:33.258778Z",
     "iopub.status.idle": "2023-02-03T12:58:33.294237Z",
     "shell.execute_reply": "2023-02-03T12:58:33.293689Z"
    }
   },
   "outputs": [
    {
     "name": "stderr",
     "output_type": "stream",
     "text": [
      "100%|██████████| 70/70 [00:00<00:00, 2382.47it/s]\n"
     ]
    }
   ],
   "source": [
    "# add word count columns\n",
    "for word in tqdm(unique_words):\n",
    "    pr_df[f\"title_wordcount_{word}\"] = preproc_titles.apply(\n",
    "        lambda x: x.split().count(word)\n",
    "    )"
   ]
  },
  {
   "cell_type": "code",
   "execution_count": 25,
   "id": "41cf9f16",
   "metadata": {
    "execution": {
     "iopub.execute_input": "2023-02-03T12:58:33.297410Z",
     "iopub.status.busy": "2023-02-03T12:58:33.296795Z",
     "iopub.status.idle": "2023-02-03T12:58:33.303890Z",
     "shell.execute_reply": "2023-02-03T12:58:33.303360Z"
    }
   },
   "outputs": [],
   "source": [
    "# collapse the high dim vector into one column\n",
    "wordcount_columns = [c for c in pr_df.columns if \"wordcount\" in c]\n",
    "pr_df[\"title_word_counts_vec\"] = pr_df[wordcount_columns].apply(\n",
    "    lambda x: x.tolist(), axis=1\n",
    ")\n",
    "\n",
    "# drop the individual wordcount columns\n",
    "pr_df = pr_df.drop(columns=wordcount_columns)"
   ]
  },
  {
   "cell_type": "markdown",
   "id": "06f46edc",
   "metadata": {},
   "source": [
    "**Created At**\n",
    "\n",
    "This column can give us information on when the PR was created. Using the `created_at` field, we can derive other features like `time_of_day`, `day_of_week`, `day_of_month`, `month_in_year` each of which can be categorical features that can be useful to our analysis."
   ]
  },
  {
   "cell_type": "code",
   "execution_count": 26,
   "id": "b6db783b",
   "metadata": {
    "execution": {
     "iopub.execute_input": "2023-02-03T12:58:33.307018Z",
     "iopub.status.busy": "2023-02-03T12:58:33.306380Z",
     "iopub.status.idle": "2023-02-03T12:58:33.314149Z",
     "shell.execute_reply": "2023-02-03T12:58:33.313606Z"
    }
   },
   "outputs": [],
   "source": [
    "# convert to datetime object\n",
    "pr_df[\"created_at_datetime\"] = (\n",
    "    pr_df[\"created_at\"].fillna(\"\").apply(lambda x: datetime.datetime.fromtimestamp(x))\n",
    ")\n",
    "# get day as categorical variable\n",
    "pr_df[\"created_at_day\"] = pr_df[\"created_at_datetime\"].apply(lambda x: x.day)\n",
    "\n",
    "# get month as categorical variable\n",
    "pr_df[\"created_at_month\"] = pr_df[\"created_at_datetime\"].apply(lambda x: x.month)\n",
    "\n",
    "# get weekday as categorical variable\n",
    "pr_df[\"created_at_weekday\"] = pr_df[\"created_at_datetime\"].apply(lambda x: x.weekday())\n",
    "\n",
    "# get hour of day as categorical variable\n",
    "pr_df[\"created_at_hour\"] = pr_df[\"created_at_datetime\"].apply(lambda x: x.hour)"
   ]
  },
  {
   "cell_type": "code",
   "execution_count": 27,
   "id": "f6cb1704",
   "metadata": {
    "execution": {
     "iopub.execute_input": "2023-02-03T12:58:33.317098Z",
     "iopub.status.busy": "2023-02-03T12:58:33.316453Z",
     "iopub.status.idle": "2023-02-03T12:58:33.332222Z",
     "shell.execute_reply": "2023-02-03T12:58:33.331717Z"
    }
   },
   "outputs": [
    {
     "data": {
      "text/html": [
       "<div>\n",
       "<style scoped>\n",
       "    .dataframe tbody tr th:only-of-type {\n",
       "        vertical-align: middle;\n",
       "    }\n",
       "\n",
       "    .dataframe tbody tr th {\n",
       "        vertical-align: top;\n",
       "    }\n",
       "\n",
       "    .dataframe thead th {\n",
       "        text-align: right;\n",
       "    }\n",
       "</style>\n",
       "<table border=\"1\" class=\"dataframe\">\n",
       "  <thead>\n",
       "    <tr style=\"text-align: right;\">\n",
       "      <th></th>\n",
       "      <th>title</th>\n",
       "      <th>body</th>\n",
       "      <th>size</th>\n",
       "      <th>created_by</th>\n",
       "      <th>created_at</th>\n",
       "      <th>closed_at</th>\n",
       "      <th>closed_by</th>\n",
       "      <th>merged_at</th>\n",
       "      <th>merged_by</th>\n",
       "      <th>commits_number</th>\n",
       "      <th>...</th>\n",
       "      <th>first_review_at</th>\n",
       "      <th>first_approve_at</th>\n",
       "      <th>time_to_merge</th>\n",
       "      <th>body_size</th>\n",
       "      <th>title_word_counts_vec</th>\n",
       "      <th>created_at_datetime</th>\n",
       "      <th>created_at_day</th>\n",
       "      <th>created_at_month</th>\n",
       "      <th>created_at_weekday</th>\n",
       "      <th>created_at_hour</th>\n",
       "    </tr>\n",
       "  </thead>\n",
       "  <tbody>\n",
       "    <tr>\n",
       "      <th>0</th>\n",
       "      <td>adding branding to action pre-publishing</td>\n",
       "      <td>SSIA</td>\n",
       "      <td>0</td>\n",
       "      <td>oindrillac</td>\n",
       "      <td>1674847161</td>\n",
       "      <td>1675089540</td>\n",
       "      <td>oindrillac</td>\n",
       "      <td>1.675090e+09</td>\n",
       "      <td>oindrillac</td>\n",
       "      <td>1</td>\n",
       "      <td>...</td>\n",
       "      <td>1.674850e+09</td>\n",
       "      <td>1.674850e+09</td>\n",
       "      <td>242379.0</td>\n",
       "      <td>1</td>\n",
       "      <td>[1, 0, 0, 1, 0, 0, 0, 1, 0, 0, 0, 0, 0, 0, 0, ...</td>\n",
       "      <td>2023-01-27 19:19:21</td>\n",
       "      <td>27</td>\n",
       "      <td>1</td>\n",
       "      <td>4</td>\n",
       "      <td>19</td>\n",
       "    </tr>\n",
       "    <tr>\n",
       "      <th>1</th>\n",
       "      <td>formatted inference messaging</td>\n",
       "      <td>Formatted inference output. Modified messaging...</td>\n",
       "      <td>2</td>\n",
       "      <td>oindrillac</td>\n",
       "      <td>1674836929</td>\n",
       "      <td>1674845483</td>\n",
       "      <td>oindrillac</td>\n",
       "      <td>1.674845e+09</td>\n",
       "      <td>oindrillac</td>\n",
       "      <td>1</td>\n",
       "      <td>...</td>\n",
       "      <td>1.674839e+09</td>\n",
       "      <td>1.674839e+09</td>\n",
       "      <td>8554.0</td>\n",
       "      <td>22</td>\n",
       "      <td>[0, 0, 0, 0, 0, 0, 0, 0, 0, 0, 0, 0, 0, 0, 0, ...</td>\n",
       "      <td>2023-01-27 16:28:49</td>\n",
       "      <td>27</td>\n",
       "      <td>1</td>\n",
       "      <td>4</td>\n",
       "      <td>16</td>\n",
       "    </tr>\n",
       "  </tbody>\n",
       "</table>\n",
       "<p>2 rows × 26 columns</p>\n",
       "</div>"
      ],
      "text/plain": [
       "                                      title  \\\n",
       "0  adding branding to action pre-publishing   \n",
       "1             formatted inference messaging   \n",
       "\n",
       "                                                body  size  created_by  \\\n",
       "0                                               SSIA     0  oindrillac   \n",
       "1  Formatted inference output. Modified messaging...     2  oindrillac   \n",
       "\n",
       "   created_at   closed_at   closed_by     merged_at   merged_by  \\\n",
       "0  1674847161  1675089540  oindrillac  1.675090e+09  oindrillac   \n",
       "1  1674836929  1674845483  oindrillac  1.674845e+09  oindrillac   \n",
       "\n",
       "   commits_number  ...  first_review_at first_approve_at time_to_merge  \\\n",
       "0               1  ...     1.674850e+09     1.674850e+09      242379.0   \n",
       "1               1  ...     1.674839e+09     1.674839e+09        8554.0   \n",
       "\n",
       "  body_size                              title_word_counts_vec  \\\n",
       "0         1  [1, 0, 0, 1, 0, 0, 0, 1, 0, 0, 0, 0, 0, 0, 0, ...   \n",
       "1        22  [0, 0, 0, 0, 0, 0, 0, 0, 0, 0, 0, 0, 0, 0, 0, ...   \n",
       "\n",
       "  created_at_datetime  created_at_day  created_at_month  created_at_weekday  \\\n",
       "0 2023-01-27 19:19:21              27                 1                   4   \n",
       "1 2023-01-27 16:28:49              27                 1                   4   \n",
       "\n",
       "   created_at_hour  \n",
       "0               19  \n",
       "1               16  \n",
       "\n",
       "[2 rows x 26 columns]"
      ]
     },
     "execution_count": 27,
     "metadata": {},
     "output_type": "execute_result"
    }
   ],
   "source": [
    "pr_df.head(2)"
   ]
  },
  {
   "cell_type": "markdown",
   "id": "772ea2a9",
   "metadata": {},
   "source": [
    "**Changed Files Number**  \n",
    "Changed files is a numberical variable which captures the numer of files that were modified in the PR."
   ]
  },
  {
   "cell_type": "code",
   "execution_count": 28,
   "id": "b5687644",
   "metadata": {
    "execution": {
     "iopub.execute_input": "2023-02-03T12:58:33.335061Z",
     "iopub.status.busy": "2023-02-03T12:58:33.334539Z",
     "iopub.status.idle": "2023-02-03T12:58:33.340325Z",
     "shell.execute_reply": "2023-02-03T12:58:33.339684Z"
    }
   },
   "outputs": [
    {
     "data": {
      "text/plain": [
       "1     15\n",
       "2     10\n",
       "4      4\n",
       "7      1\n",
       "5      1\n",
       "16     1\n",
       "Name: changed_files_number, dtype: int64"
      ]
     },
     "execution_count": 28,
     "metadata": {},
     "output_type": "execute_result"
    }
   ],
   "source": [
    "# convert changed_files_number to int\n",
    "pr_df[\"changed_files_number\"] = pr_df[\"changed_files_number\"].astype(\"int\")\n",
    "\n",
    "pr_df.changed_files_number.value_counts()"
   ]
  },
  {
   "cell_type": "markdown",
   "id": "2ec4a803",
   "metadata": {},
   "source": [
    "`changed_files_number` has more variability than the `commits_number`. We can incorporate this as a numerical feature."
   ]
  },
  {
   "cell_type": "markdown",
   "id": "360ea47c",
   "metadata": {},
   "source": [
    "**Changed_files**\n",
    "\n",
    "`changed_files` is a list of the paths and filenames for every file changed by this PR. From `changed_files`, we know, for each PR, which file types were changed which can be encoded as a frequency vector. Also we know which directory the change is made in, so that can be encoded as a categorical variable."
   ]
  },
  {
   "cell_type": "code",
   "execution_count": 29,
   "id": "ea080575",
   "metadata": {
    "execution": {
     "iopub.execute_input": "2023-02-03T12:58:33.343911Z",
     "iopub.status.busy": "2023-02-03T12:58:33.343416Z",
     "iopub.status.idle": "2023-02-03T12:58:33.351508Z",
     "shell.execute_reply": "2023-02-03T12:58:33.350874Z"
    }
   },
   "outputs": [
    {
     "data": {
      "text/plain": [
       "0                                          [action.yml]\n",
       "1                            [04_model_inference.ipynb]\n",
       "2                 [04_model_inference.ipynb, README.md]\n",
       "3                                           [README.md]\n",
       "4                                           [README.md]\n",
       "5     [03_model_training.ipynb, 04_model_inference.i...\n",
       "6        [.github/workflows/inference.yaml, action.yml]\n",
       "7                                       [test_file.txt]\n",
       "8        [.github/workflows/inference.yaml, action.yml]\n",
       "9                            [04_model_inference.ipynb]\n",
       "10                                      [process_pr.py]\n",
       "11                                      [entrypoint.sh]\n",
       "12                                      [entrypoint.sh]\n",
       "13                                      [entrypoint.sh]\n",
       "14    [.github/workflows/inference.yaml, entrypoint.sh]\n",
       "15    [.github/workflows/inference.yaml, entrypoint.sh]\n",
       "16    [01_data_collection.py, 02_notebook_executed.i...\n",
       "17    [.github/workflows/run-in-container.yaml, 01_d...\n",
       "18       [.github/workflows/inference.yaml, action.yml]\n",
       "19                   [.github/workflows/inference.yaml]\n",
       "20    [01_data_collection.py, 02_notebook_executed.i...\n",
       "21    [.github/workflows/run-in-container.yaml, 01_d...\n",
       "22                                         [action.yml]\n",
       "23    [.github/workflows/inference.yaml, Dockerfile,...\n",
       "24    [Containerfile, action.yml, entrypoint.sh, tes...\n",
       "25                   [.github/workflows/inference.yaml]\n",
       "26                                          [README.md]\n",
       "27                   [.github/workflows/inference.yaml]\n",
       "28    [.github/workflows/inference.yaml, 04_model_in...\n",
       "29         [04_model_inference.ipynb, requirements.txt]\n",
       "30    [02_feature_engineering.ipynb, 03_model_traini...\n",
       "31    [.github/workflows/install-from-config.yaml, ....\n",
       "Name: changed_files, dtype: object"
      ]
     },
     "execution_count": 29,
     "metadata": {},
     "output_type": "execute_result"
    }
   ],
   "source": [
    "pr_df.changed_files"
   ]
  },
  {
   "cell_type": "code",
   "execution_count": 30,
   "id": "ba70b93f",
   "metadata": {
    "execution": {
     "iopub.execute_input": "2023-02-03T12:58:33.354586Z",
     "iopub.status.busy": "2023-02-03T12:58:33.354368Z",
     "iopub.status.idle": "2023-02-03T12:58:33.359291Z",
     "shell.execute_reply": "2023-02-03T12:58:33.358456Z"
    }
   },
   "outputs": [],
   "source": [
    "def filetype(filepath):\n",
    "\n",
    "    # if standard file extension, return file extension\n",
    "    if pathlib.Path(filepath).suffix:\n",
    "        return pathlib.Path(filepath).suffix\n",
    "\n",
    "    else:\n",
    "        # if single file at the root of repo\n",
    "        if \"/\" not in filepath:\n",
    "            # if a file like README/Dockerfile etc\n",
    "            if \".\" not in filepath:\n",
    "                return filepath\n",
    "        # if file not at root\n",
    "        else:\n",
    "            # get file name\n",
    "            file = filepath.rsplit(\"/\", 1)[1]\n",
    "            if \".\" not in file:\n",
    "                return file\n",
    "            elif \".\" in file:\n",
    "                return \".\" + file.rsplit(\".\", 1)[1]"
   ]
  },
  {
   "cell_type": "code",
   "execution_count": 31,
   "id": "2e00c415",
   "metadata": {
    "execution": {
     "iopub.execute_input": "2023-02-03T12:58:33.363286Z",
     "iopub.status.busy": "2023-02-03T12:58:33.363067Z",
     "iopub.status.idle": "2023-02-03T12:58:33.367730Z",
     "shell.execute_reply": "2023-02-03T12:58:33.366955Z"
    }
   },
   "outputs": [],
   "source": [
    "# get list of all file types that were modified across all openshift origin PRs\n",
    "changed_files = list(pr_df[\"changed_files\"])"
   ]
  },
  {
   "cell_type": "code",
   "execution_count": 32,
   "id": "36a1dcda",
   "metadata": {
    "execution": {
     "iopub.execute_input": "2023-02-03T12:58:33.370757Z",
     "iopub.status.busy": "2023-02-03T12:58:33.370411Z",
     "iopub.status.idle": "2023-02-03T12:58:33.375432Z",
     "shell.execute_reply": "2023-02-03T12:58:33.374703Z"
    }
   },
   "outputs": [],
   "source": [
    "all_changed_files = [filetype(filepath) for pr in changed_files for filepath in pr]"
   ]
  },
  {
   "cell_type": "code",
   "execution_count": 33,
   "id": "d7de1e91",
   "metadata": {
    "execution": {
     "iopub.execute_input": "2023-02-03T12:58:33.378438Z",
     "iopub.status.busy": "2023-02-03T12:58:33.378086Z",
     "iopub.status.idle": "2023-02-03T12:58:33.382880Z",
     "shell.execute_reply": "2023-02-03T12:58:33.381465Z"
    }
   },
   "outputs": [],
   "source": [
    "count = Counter(all_changed_files)"
   ]
  },
  {
   "cell_type": "code",
   "execution_count": 34,
   "id": "17e5fd80",
   "metadata": {
    "execution": {
     "iopub.execute_input": "2023-02-03T12:58:33.386233Z",
     "iopub.status.busy": "2023-02-03T12:58:33.385903Z",
     "iopub.status.idle": "2023-02-03T12:58:33.390066Z",
     "shell.execute_reply": "2023-02-03T12:58:33.389497Z"
    }
   },
   "outputs": [],
   "source": [
    "# save 100 most commonly occuring file extensions across PRs\n",
    "top_fileextensions_freq = count.most_common(100)\n",
    "top_fileextensions = [ext[0] for ext in top_fileextensions_freq]"
   ]
  },
  {
   "cell_type": "code",
   "execution_count": 35,
   "id": "25a14da8",
   "metadata": {
    "execution": {
     "iopub.execute_input": "2023-02-03T12:58:33.393252Z",
     "iopub.status.busy": "2023-02-03T12:58:33.392856Z",
     "iopub.status.idle": "2023-02-03T12:58:33.398810Z",
     "shell.execute_reply": "2023-02-03T12:58:33.398218Z"
    }
   },
   "outputs": [
    {
     "data": {
      "text/plain": [
       "['.ipynb',\n",
       " '.yaml',\n",
       " '.py',\n",
       " '.yml',\n",
       " '.sh',\n",
       " '.md',\n",
       " '.txt',\n",
       " 'LICENSE',\n",
       " 'Dockerfile',\n",
       " 'Containerfile']"
      ]
     },
     "execution_count": 35,
     "metadata": {},
     "output_type": "execute_result"
    }
   ],
   "source": [
    "top_fileextensions"
   ]
  },
  {
   "cell_type": "code",
   "execution_count": 36,
   "id": "ecd11700",
   "metadata": {
    "execution": {
     "iopub.execute_input": "2023-02-03T12:58:33.401996Z",
     "iopub.status.busy": "2023-02-03T12:58:33.401495Z",
     "iopub.status.idle": "2023-02-03T12:58:33.406250Z",
     "shell.execute_reply": "2023-02-03T12:58:33.405612Z"
    }
   },
   "outputs": [],
   "source": [
    "def file_type_freq(list_of_filepaths):\n",
    "    \"\"\"\n",
    "    For a given PR's list of changed files,\n",
    "    return a changed files frequency vector\n",
    "    ( a vector which holds the frequency of\n",
    "    changed files of the type  for every\n",
    "    file type in top_fileextensions )\n",
    "    \"\"\"\n",
    "\n",
    "    file_extensions = [filetype(f) for f in list_of_filepaths]\n",
    "    ext_dict = {key: 0 for key in top_fileextensions}\n",
    "    for f in file_extensions:\n",
    "        if f in ext_dict:\n",
    "            ext_dict[f] += 1\n",
    "\n",
    "    return list(ext_dict.values())"
   ]
  },
  {
   "cell_type": "code",
   "execution_count": 37,
   "id": "cc0b7906",
   "metadata": {
    "execution": {
     "iopub.execute_input": "2023-02-03T12:58:33.408888Z",
     "iopub.status.busy": "2023-02-03T12:58:33.408660Z",
     "iopub.status.idle": "2023-02-03T12:58:33.414196Z",
     "shell.execute_reply": "2023-02-03T12:58:33.413597Z"
    }
   },
   "outputs": [],
   "source": [
    "pr_df[\"changed_file_type_vec\"] = pr_df[\"changed_files\"].apply(\n",
    "    lambda x: file_type_freq(x)\n",
    ")"
   ]
  },
  {
   "cell_type": "code",
   "execution_count": 38,
   "id": "4fe7bb1d",
   "metadata": {
    "execution": {
     "iopub.execute_input": "2023-02-03T12:58:33.416958Z",
     "iopub.status.busy": "2023-02-03T12:58:33.416533Z",
     "iopub.status.idle": "2023-02-03T12:58:33.433127Z",
     "shell.execute_reply": "2023-02-03T12:58:33.432478Z"
    }
   },
   "outputs": [
    {
     "data": {
      "text/html": [
       "<div>\n",
       "<style scoped>\n",
       "    .dataframe tbody tr th:only-of-type {\n",
       "        vertical-align: middle;\n",
       "    }\n",
       "\n",
       "    .dataframe tbody tr th {\n",
       "        vertical-align: top;\n",
       "    }\n",
       "\n",
       "    .dataframe thead th {\n",
       "        text-align: right;\n",
       "    }\n",
       "</style>\n",
       "<table border=\"1\" class=\"dataframe\">\n",
       "  <thead>\n",
       "    <tr style=\"text-align: right;\">\n",
       "      <th></th>\n",
       "      <th>title</th>\n",
       "      <th>body</th>\n",
       "      <th>size</th>\n",
       "      <th>created_by</th>\n",
       "      <th>created_at</th>\n",
       "      <th>closed_at</th>\n",
       "      <th>closed_by</th>\n",
       "      <th>merged_at</th>\n",
       "      <th>merged_by</th>\n",
       "      <th>commits_number</th>\n",
       "      <th>...</th>\n",
       "      <th>first_approve_at</th>\n",
       "      <th>time_to_merge</th>\n",
       "      <th>body_size</th>\n",
       "      <th>title_word_counts_vec</th>\n",
       "      <th>created_at_datetime</th>\n",
       "      <th>created_at_day</th>\n",
       "      <th>created_at_month</th>\n",
       "      <th>created_at_weekday</th>\n",
       "      <th>created_at_hour</th>\n",
       "      <th>changed_file_type_vec</th>\n",
       "    </tr>\n",
       "  </thead>\n",
       "  <tbody>\n",
       "    <tr>\n",
       "      <th>0</th>\n",
       "      <td>adding branding to action pre-publishing</td>\n",
       "      <td>SSIA</td>\n",
       "      <td>0</td>\n",
       "      <td>oindrillac</td>\n",
       "      <td>1674847161</td>\n",
       "      <td>1675089540</td>\n",
       "      <td>oindrillac</td>\n",
       "      <td>1.675090e+09</td>\n",
       "      <td>oindrillac</td>\n",
       "      <td>1</td>\n",
       "      <td>...</td>\n",
       "      <td>1.674850e+09</td>\n",
       "      <td>242379.0</td>\n",
       "      <td>1</td>\n",
       "      <td>[1, 0, 0, 1, 0, 0, 0, 1, 0, 0, 0, 0, 0, 0, 0, ...</td>\n",
       "      <td>2023-01-27 19:19:21</td>\n",
       "      <td>27</td>\n",
       "      <td>1</td>\n",
       "      <td>4</td>\n",
       "      <td>19</td>\n",
       "      <td>[0, 0, 0, 1, 0, 0, 0, 0, 0, 0]</td>\n",
       "    </tr>\n",
       "    <tr>\n",
       "      <th>1</th>\n",
       "      <td>formatted inference messaging</td>\n",
       "      <td>Formatted inference output. Modified messaging...</td>\n",
       "      <td>2</td>\n",
       "      <td>oindrillac</td>\n",
       "      <td>1674836929</td>\n",
       "      <td>1674845483</td>\n",
       "      <td>oindrillac</td>\n",
       "      <td>1.674845e+09</td>\n",
       "      <td>oindrillac</td>\n",
       "      <td>1</td>\n",
       "      <td>...</td>\n",
       "      <td>1.674839e+09</td>\n",
       "      <td>8554.0</td>\n",
       "      <td>22</td>\n",
       "      <td>[0, 0, 0, 0, 0, 0, 0, 0, 0, 0, 0, 0, 0, 0, 0, ...</td>\n",
       "      <td>2023-01-27 16:28:49</td>\n",
       "      <td>27</td>\n",
       "      <td>1</td>\n",
       "      <td>4</td>\n",
       "      <td>16</td>\n",
       "      <td>[1, 0, 0, 0, 0, 0, 0, 0, 0, 0]</td>\n",
       "    </tr>\n",
       "  </tbody>\n",
       "</table>\n",
       "<p>2 rows × 27 columns</p>\n",
       "</div>"
      ],
      "text/plain": [
       "                                      title  \\\n",
       "0  adding branding to action pre-publishing   \n",
       "1             formatted inference messaging   \n",
       "\n",
       "                                                body  size  created_by  \\\n",
       "0                                               SSIA     0  oindrillac   \n",
       "1  Formatted inference output. Modified messaging...     2  oindrillac   \n",
       "\n",
       "   created_at   closed_at   closed_by     merged_at   merged_by  \\\n",
       "0  1674847161  1675089540  oindrillac  1.675090e+09  oindrillac   \n",
       "1  1674836929  1674845483  oindrillac  1.674845e+09  oindrillac   \n",
       "\n",
       "   commits_number  ...  first_approve_at time_to_merge body_size  \\\n",
       "0               1  ...      1.674850e+09      242379.0         1   \n",
       "1               1  ...      1.674839e+09        8554.0        22   \n",
       "\n",
       "                               title_word_counts_vec created_at_datetime  \\\n",
       "0  [1, 0, 0, 1, 0, 0, 0, 1, 0, 0, 0, 0, 0, 0, 0, ... 2023-01-27 19:19:21   \n",
       "1  [0, 0, 0, 0, 0, 0, 0, 0, 0, 0, 0, 0, 0, 0, 0, ... 2023-01-27 16:28:49   \n",
       "\n",
       "  created_at_day  created_at_month  created_at_weekday  created_at_hour  \\\n",
       "0             27                 1                   4               19   \n",
       "1             27                 1                   4               16   \n",
       "\n",
       "            changed_file_type_vec  \n",
       "0  [0, 0, 0, 1, 0, 0, 0, 0, 0, 0]  \n",
       "1  [1, 0, 0, 0, 0, 0, 0, 0, 0, 0]  \n",
       "\n",
       "[2 rows x 27 columns]"
      ]
     },
     "execution_count": 38,
     "metadata": {},
     "output_type": "execute_result"
    }
   ],
   "source": [
    "pr_df.head(2)"
   ]
  },
  {
   "cell_type": "markdown",
   "id": "8102f95e-6175-4b46-99c1-66175f20325c",
   "metadata": {},
   "source": [
    "## Create PR trends dashboard"
   ]
  },
  {
   "cell_type": "markdown",
   "id": "5e502b7f-49c4-4024-aebc-3c9720a94209",
   "metadata": {},
   "source": [
    "## Infer dataframe columns as Features"
   ]
  },
  {
   "cell_type": "markdown",
   "id": "70443afd",
   "metadata": {},
   "source": [
    "We can see above that some PRs have 0 for all directory fields since the directory structure of the repo has changed over time and we are interested in only the latest directory structure."
   ]
  },
  {
   "cell_type": "code",
   "execution_count": 39,
   "id": "64e7a822",
   "metadata": {
    "execution": {
     "iopub.execute_input": "2023-02-03T12:58:33.436063Z",
     "iopub.status.busy": "2023-02-03T12:58:33.435847Z",
     "iopub.status.idle": "2023-02-03T12:58:33.440066Z",
     "shell.execute_reply": "2023-02-03T12:58:33.439425Z"
    }
   },
   "outputs": [],
   "source": [
    "# subset DataFrame to use as features\n",
    "feature_df = pr_df[\n",
    "    [\n",
    "        \"time_to_merge\",\n",
    "        \"changed_files_number\",\n",
    "        \"body_size\",\n",
    "        \"size\",\n",
    "        \"title_word_counts_vec\",\n",
    "        \"created_at_day\",\n",
    "        \"created_at_month\",\n",
    "        \"created_at_weekday\",\n",
    "        \"created_at_hour\",\n",
    "        \"commits_number\",\n",
    "        \"changed_file_type_vec\",\n",
    "    ]\n",
    "]"
   ]
  },
  {
   "cell_type": "markdown",
   "id": "0b08a241",
   "metadata": {},
   "source": [
    "### Add PR TTM Class Column \n",
    "\n",
    "Lets split up the time to merge values into 10 discrete bins (as discussed above) to use as our prediction classes."
   ]
  },
  {
   "cell_type": "code",
   "execution_count": 40,
   "id": "b1a5adc0-e8e2-4159-af36-a6fdc938de17",
   "metadata": {
    "execution": {
     "iopub.execute_input": "2023-02-03T12:58:33.442835Z",
     "iopub.status.busy": "2023-02-03T12:58:33.442620Z",
     "iopub.status.idle": "2023-02-03T12:58:33.447567Z",
     "shell.execute_reply": "2023-02-03T12:58:33.446928Z"
    }
   },
   "outputs": [
    {
     "data": {
      "text/plain": [
       "0.0        93.0\n",
       "0.1       341.4\n",
       "0.2      1932.6\n",
       "0.3      3479.0\n",
       "0.4      5844.8\n",
       "0.5      8554.0\n",
       "0.6     39807.2\n",
       "0.7     83510.6\n",
       "0.8    129127.4\n",
       "0.9    291395.4\n",
       "Name: time_to_merge, dtype: float64"
      ]
     },
     "execution_count": 40,
     "metadata": {},
     "output_type": "execute_result"
    }
   ],
   "source": [
    "intervals"
   ]
  },
  {
   "cell_type": "code",
   "execution_count": 41,
   "id": "ec16152d-0fb3-4775-913a-9e476382d713",
   "metadata": {
    "execution": {
     "iopub.execute_input": "2023-02-03T12:58:33.450781Z",
     "iopub.status.busy": "2023-02-03T12:58:33.450567Z",
     "iopub.status.idle": "2023-02-03T12:58:33.640181Z",
     "shell.execute_reply": "2023-02-03T12:58:33.639482Z"
    }
   },
   "outputs": [
    {
     "name": "stderr",
     "output_type": "stream",
     "text": [
      "/tmp/ipykernel_141/2436122750.py:9: SettingWithCopyWarning: \n",
      "A value is trying to be set on a copy of a slice from a DataFrame.\n",
      "Try using .loc[row_indexer,col_indexer] = value instead\n",
      "\n",
      "See the caveats in the documentation: https://pandas.pydata.org/pandas-docs/stable/user_guide/indexing.html#returning-a-view-versus-a-copy\n",
      "  feature_df[\"ttm_class\"] = (feature_df[\"time_to_merge\"]).apply(get_ttm_class)\n"
     ]
    },
    {
     "data": {
      "text/html": [
       "<div>\n",
       "<style scoped>\n",
       "    .dataframe tbody tr th:only-of-type {\n",
       "        vertical-align: middle;\n",
       "    }\n",
       "\n",
       "    .dataframe tbody tr th {\n",
       "        vertical-align: top;\n",
       "    }\n",
       "\n",
       "    .dataframe thead th {\n",
       "        text-align: right;\n",
       "    }\n",
       "</style>\n",
       "<table border=\"1\" class=\"dataframe\">\n",
       "  <thead>\n",
       "    <tr style=\"text-align: right;\">\n",
       "      <th></th>\n",
       "      <th>time_to_merge</th>\n",
       "      <th>changed_files_number</th>\n",
       "      <th>body_size</th>\n",
       "      <th>size</th>\n",
       "      <th>title_word_counts_vec</th>\n",
       "      <th>created_at_day</th>\n",
       "      <th>created_at_month</th>\n",
       "      <th>created_at_weekday</th>\n",
       "      <th>created_at_hour</th>\n",
       "      <th>commits_number</th>\n",
       "      <th>changed_file_type_vec</th>\n",
       "      <th>ttm_class</th>\n",
       "    </tr>\n",
       "  </thead>\n",
       "  <tbody>\n",
       "    <tr>\n",
       "      <th>0</th>\n",
       "      <td>242379.0</td>\n",
       "      <td>1</td>\n",
       "      <td>1</td>\n",
       "      <td>0</td>\n",
       "      <td>[1, 0, 0, 1, 0, 0, 0, 1, 0, 0, 0, 0, 0, 0, 0, ...</td>\n",
       "      <td>27</td>\n",
       "      <td>1</td>\n",
       "      <td>4</td>\n",
       "      <td>19</td>\n",
       "      <td>1</td>\n",
       "      <td>[0, 0, 0, 1, 0, 0, 0, 0, 0, 0]</td>\n",
       "      <td>8</td>\n",
       "    </tr>\n",
       "    <tr>\n",
       "      <th>1</th>\n",
       "      <td>8554.0</td>\n",
       "      <td>1</td>\n",
       "      <td>22</td>\n",
       "      <td>2</td>\n",
       "      <td>[0, 0, 0, 0, 0, 0, 0, 0, 0, 0, 0, 0, 0, 0, 0, ...</td>\n",
       "      <td>27</td>\n",
       "      <td>1</td>\n",
       "      <td>4</td>\n",
       "      <td>16</td>\n",
       "      <td>1</td>\n",
       "      <td>[1, 0, 0, 0, 0, 0, 0, 0, 0, 0]</td>\n",
       "      <td>5</td>\n",
       "    </tr>\n",
       "    <tr>\n",
       "      <th>2</th>\n",
       "      <td>502425.0</td>\n",
       "      <td>2</td>\n",
       "      <td>25</td>\n",
       "      <td>3</td>\n",
       "      <td>[0, 0, 0, 0, 0, 0, 0, 0, 0, 0, 0, 0, 0, 0, 0, ...</td>\n",
       "      <td>12</td>\n",
       "      <td>1</td>\n",
       "      <td>3</td>\n",
       "      <td>19</td>\n",
       "      <td>1</td>\n",
       "      <td>[1, 0, 0, 0, 0, 1, 0, 0, 0, 0]</td>\n",
       "      <td>9</td>\n",
       "    </tr>\n",
       "    <tr>\n",
       "      <th>3</th>\n",
       "      <td>87972.0</td>\n",
       "      <td>1</td>\n",
       "      <td>18</td>\n",
       "      <td>2</td>\n",
       "      <td>[0, 0, 0, 0, 0, 0, 0, 0, 0, 0, 0, 0, 0, 0, 0, ...</td>\n",
       "      <td>10</td>\n",
       "      <td>1</td>\n",
       "      <td>1</td>\n",
       "      <td>19</td>\n",
       "      <td>2</td>\n",
       "      <td>[0, 0, 0, 0, 0, 1, 0, 0, 0, 0]</td>\n",
       "      <td>7</td>\n",
       "    </tr>\n",
       "    <tr>\n",
       "      <th>4</th>\n",
       "      <td>88801.0</td>\n",
       "      <td>1</td>\n",
       "      <td>12</td>\n",
       "      <td>2</td>\n",
       "      <td>[0, 0, 0, 0, 0, 0, 0, 0, 0, 0, 0, 0, 0, 0, 0, ...</td>\n",
       "      <td>8</td>\n",
       "      <td>12</td>\n",
       "      <td>3</td>\n",
       "      <td>19</td>\n",
       "      <td>12</td>\n",
       "      <td>[0, 0, 0, 0, 0, 1, 0, 0, 0, 0]</td>\n",
       "      <td>7</td>\n",
       "    </tr>\n",
       "  </tbody>\n",
       "</table>\n",
       "</div>"
      ],
      "text/plain": [
       "   time_to_merge  changed_files_number  body_size  size  \\\n",
       "0       242379.0                     1          1     0   \n",
       "1         8554.0                     1         22     2   \n",
       "2       502425.0                     2         25     3   \n",
       "3        87972.0                     1         18     2   \n",
       "4        88801.0                     1         12     2   \n",
       "\n",
       "                               title_word_counts_vec  created_at_day  \\\n",
       "0  [1, 0, 0, 1, 0, 0, 0, 1, 0, 0, 0, 0, 0, 0, 0, ...              27   \n",
       "1  [0, 0, 0, 0, 0, 0, 0, 0, 0, 0, 0, 0, 0, 0, 0, ...              27   \n",
       "2  [0, 0, 0, 0, 0, 0, 0, 0, 0, 0, 0, 0, 0, 0, 0, ...              12   \n",
       "3  [0, 0, 0, 0, 0, 0, 0, 0, 0, 0, 0, 0, 0, 0, 0, ...              10   \n",
       "4  [0, 0, 0, 0, 0, 0, 0, 0, 0, 0, 0, 0, 0, 0, 0, ...               8   \n",
       "\n",
       "   created_at_month  created_at_weekday  created_at_hour  commits_number  \\\n",
       "0                 1                   4               19               1   \n",
       "1                 1                   4               16               1   \n",
       "2                 1                   3               19               1   \n",
       "3                 1                   1               19               2   \n",
       "4                12                   3               19              12   \n",
       "\n",
       "            changed_file_type_vec  ttm_class  \n",
       "0  [0, 0, 0, 1, 0, 0, 0, 0, 0, 0]          8  \n",
       "1  [1, 0, 0, 0, 0, 0, 0, 0, 0, 0]          5  \n",
       "2  [1, 0, 0, 0, 0, 1, 0, 0, 0, 0]          9  \n",
       "3  [0, 0, 0, 0, 0, 1, 0, 0, 0, 0]          7  \n",
       "4  [0, 0, 0, 0, 0, 1, 0, 0, 0, 0]          7  "
      ]
     },
     "execution_count": 41,
     "metadata": {},
     "output_type": "execute_result"
    }
   ],
   "source": [
    "def get_ttm_class(ttm):\n",
    "\n",
    "    for rownum, (indx, val) in enumerate(intervals.iteritems()):\n",
    "        if ttm < val:\n",
    "            return rownum - 1\n",
    "    return 9\n",
    "\n",
    "\n",
    "feature_df[\"ttm_class\"] = (feature_df[\"time_to_merge\"]).apply(get_ttm_class)\n",
    "feature_df.head()"
   ]
  },
  {
   "cell_type": "markdown",
   "id": "04749f45",
   "metadata": {},
   "source": [
    "## Evaluating Feature Importances\n",
    "\n",
    "### Categorical Features\n",
    "\n",
    "First, lets try to determine what categorical featuers are powerful influencers for time to merge of a PR"
   ]
  },
  {
   "cell_type": "code",
   "execution_count": 42,
   "id": "e353c92b",
   "metadata": {
    "execution": {
     "iopub.execute_input": "2023-02-03T12:58:33.644080Z",
     "iopub.status.busy": "2023-02-03T12:58:33.643848Z",
     "iopub.status.idle": "2023-02-03T12:58:33.647426Z",
     "shell.execute_reply": "2023-02-03T12:58:33.646791Z"
    }
   },
   "outputs": [],
   "source": [
    "# feature selection helper function\n",
    "def select_features(x, y, func):\n",
    "    fs = SelectKBest(score_func=func, k=\"all\")\n",
    "    fs.fit(x, y)\n",
    "    x_fs = fs.transform(x)\n",
    "    return x_fs, fs\n",
    "\n",
    "\n",
    "selected_features = []"
   ]
  },
  {
   "cell_type": "code",
   "execution_count": 43,
   "id": "986b3424-0401-4c7a-8f28-a860b87e14ef",
   "metadata": {
    "execution": {
     "iopub.execute_input": "2023-02-03T12:58:33.650341Z",
     "iopub.status.busy": "2023-02-03T12:58:33.649997Z",
     "iopub.status.idle": "2023-02-03T12:58:33.653207Z",
     "shell.execute_reply": "2023-02-03T12:58:33.652537Z"
    }
   },
   "outputs": [],
   "source": [
    "cat_features = [\n",
    "    \"size\",\n",
    "    \"created_at_day\",\n",
    "    \"created_at_month\",\n",
    "    \"created_at_weekday\",\n",
    "    \"created_at_hour\",\n",
    "    \"ttm_class\",\n",
    "]"
   ]
  },
  {
   "cell_type": "code",
   "execution_count": 44,
   "id": "3e1d24a4",
   "metadata": {
    "execution": {
     "iopub.execute_input": "2023-02-03T12:58:33.655831Z",
     "iopub.status.busy": "2023-02-03T12:58:33.655617Z",
     "iopub.status.idle": "2023-02-03T12:58:33.664758Z",
     "shell.execute_reply": "2023-02-03T12:58:33.664207Z"
    }
   },
   "outputs": [
    {
     "data": {
      "text/html": [
       "<div>\n",
       "<style scoped>\n",
       "    .dataframe tbody tr th:only-of-type {\n",
       "        vertical-align: middle;\n",
       "    }\n",
       "\n",
       "    .dataframe tbody tr th {\n",
       "        vertical-align: top;\n",
       "    }\n",
       "\n",
       "    .dataframe thead th {\n",
       "        text-align: right;\n",
       "    }\n",
       "</style>\n",
       "<table border=\"1\" class=\"dataframe\">\n",
       "  <thead>\n",
       "    <tr style=\"text-align: right;\">\n",
       "      <th></th>\n",
       "      <th>size</th>\n",
       "      <th>created_at_day</th>\n",
       "      <th>created_at_month</th>\n",
       "      <th>created_at_weekday</th>\n",
       "      <th>created_at_hour</th>\n",
       "      <th>ttm_class</th>\n",
       "    </tr>\n",
       "  </thead>\n",
       "  <tbody>\n",
       "    <tr>\n",
       "      <th>0</th>\n",
       "      <td>0</td>\n",
       "      <td>27</td>\n",
       "      <td>1</td>\n",
       "      <td>4</td>\n",
       "      <td>19</td>\n",
       "      <td>8</td>\n",
       "    </tr>\n",
       "    <tr>\n",
       "      <th>1</th>\n",
       "      <td>2</td>\n",
       "      <td>27</td>\n",
       "      <td>1</td>\n",
       "      <td>4</td>\n",
       "      <td>16</td>\n",
       "      <td>5</td>\n",
       "    </tr>\n",
       "    <tr>\n",
       "      <th>2</th>\n",
       "      <td>3</td>\n",
       "      <td>12</td>\n",
       "      <td>1</td>\n",
       "      <td>3</td>\n",
       "      <td>19</td>\n",
       "      <td>9</td>\n",
       "    </tr>\n",
       "    <tr>\n",
       "      <th>3</th>\n",
       "      <td>2</td>\n",
       "      <td>10</td>\n",
       "      <td>1</td>\n",
       "      <td>1</td>\n",
       "      <td>19</td>\n",
       "      <td>7</td>\n",
       "    </tr>\n",
       "    <tr>\n",
       "      <th>4</th>\n",
       "      <td>2</td>\n",
       "      <td>8</td>\n",
       "      <td>12</td>\n",
       "      <td>3</td>\n",
       "      <td>19</td>\n",
       "      <td>7</td>\n",
       "    </tr>\n",
       "  </tbody>\n",
       "</table>\n",
       "</div>"
      ],
      "text/plain": [
       "   size  created_at_day  created_at_month  created_at_weekday  \\\n",
       "0     0              27                 1                   4   \n",
       "1     2              27                 1                   4   \n",
       "2     3              12                 1                   3   \n",
       "3     2              10                 1                   1   \n",
       "4     2               8                12                   3   \n",
       "\n",
       "   created_at_hour  ttm_class  \n",
       "0               19          8  \n",
       "1               16          5  \n",
       "2               19          9  \n",
       "3               19          7  \n",
       "4               19          7  "
      ]
     },
     "execution_count": 44,
     "metadata": {},
     "output_type": "execute_result"
    }
   ],
   "source": [
    "cat_df = feature_df[cat_features]\n",
    "\n",
    "cat_df.head()"
   ]
  },
  {
   "cell_type": "code",
   "execution_count": 45,
   "id": "278e3073",
   "metadata": {
    "execution": {
     "iopub.execute_input": "2023-02-03T12:58:33.667789Z",
     "iopub.status.busy": "2023-02-03T12:58:33.667383Z",
     "iopub.status.idle": "2023-02-03T12:58:33.672220Z",
     "shell.execute_reply": "2023-02-03T12:58:33.671501Z"
    }
   },
   "outputs": [],
   "source": [
    "# split into input (x) and output (y) variables\n",
    "X_inp = cat_df.drop(columns=[\"ttm_class\"])\n",
    "y = cat_df[\"ttm_class\"]"
   ]
  },
  {
   "cell_type": "code",
   "execution_count": 46,
   "id": "2df4fb8d",
   "metadata": {
    "execution": {
     "iopub.execute_input": "2023-02-03T12:58:33.675394Z",
     "iopub.status.busy": "2023-02-03T12:58:33.674887Z",
     "iopub.status.idle": "2023-02-03T12:58:33.841614Z",
     "shell.execute_reply": "2023-02-03T12:58:33.840826Z"
    }
   },
   "outputs": [],
   "source": [
    "# rank using mutual_info_classif\n",
    "X_fs, fs = select_features(X_inp, y, mutual_info_classif)"
   ]
  },
  {
   "cell_type": "code",
   "execution_count": 47,
   "id": "418becb1",
   "metadata": {
    "execution": {
     "iopub.execute_input": "2023-02-03T12:58:33.845382Z",
     "iopub.status.busy": "2023-02-03T12:58:33.844902Z",
     "iopub.status.idle": "2023-02-03T12:58:33.850373Z",
     "shell.execute_reply": "2023-02-03T12:58:33.849742Z"
    }
   },
   "outputs": [
    {
     "name": "stdout",
     "output_type": "stream",
     "text": [
      "Feature size: 0.064722\n",
      "Feature created_at_day: 0.484949\n",
      "Feature created_at_month: 0.146212\n",
      "Feature created_at_weekday: 0.248731\n",
      "Feature created_at_hour: 0.000000\n"
     ]
    }
   ],
   "source": [
    "for i in range(len(fs.scores_)):\n",
    "    print(\"Feature %s: %f\" % (X_inp.columns[i], fs.scores_[i]))"
   ]
  },
  {
   "cell_type": "code",
   "execution_count": 48,
   "id": "b08ea157",
   "metadata": {
    "execution": {
     "iopub.execute_input": "2023-02-03T12:58:33.853163Z",
     "iopub.status.busy": "2023-02-03T12:58:33.852942Z",
     "iopub.status.idle": "2023-02-03T12:58:33.983882Z",
     "shell.execute_reply": "2023-02-03T12:58:33.983315Z"
    }
   },
   "outputs": [
    {
     "data": {
      "image/png": "[encoded data removed]",
      "text/plain": [
       "<Figure size 432x288 with 1 Axes>"
      ]
     },
     "metadata": {
      "needs_background": "light"
     },
     "output_type": "display_data"
    }
   ],
   "source": [
    "# visualize scores of all features\n",
    "sns.barplot(x=X_inp.columns, y=fs.scores_)\n",
    "plt.title(\"Feature importance scores for Mutual Information Statistic\")\n",
    "plt.xticks(rotation=60)\n",
    "plt.xlabel(\"Features\")\n",
    "plt.ylabel(\"Scores\")\n",
    "plt.show()"
   ]
  },
  {
   "cell_type": "code",
   "execution_count": 49,
   "id": "176c1d98",
   "metadata": {
    "execution": {
     "iopub.execute_input": "2023-02-03T12:58:33.986943Z",
     "iopub.status.busy": "2023-02-03T12:58:33.986505Z",
     "iopub.status.idle": "2023-02-03T12:58:33.989635Z",
     "shell.execute_reply": "2023-02-03T12:58:33.989127Z"
    }
   },
   "outputs": [],
   "source": [
    "# Lets get a list of the top 10 feature indices based on Mutual Info Stat feature scores\n",
    "top_mis = fs.scores_.argsort()[-10:][::-1]"
   ]
  },
  {
   "cell_type": "code",
   "execution_count": 50,
   "id": "c33dc4f2",
   "metadata": {
    "execution": {
     "iopub.execute_input": "2023-02-03T12:58:33.992319Z",
     "iopub.status.busy": "2023-02-03T12:58:33.991902Z",
     "iopub.status.idle": "2023-02-03T12:58:33.998133Z",
     "shell.execute_reply": "2023-02-03T12:58:33.997635Z"
    }
   },
   "outputs": [],
   "source": [
    "# rank using chi_sq\n",
    "X_fs, fs = select_features(X_inp, y, chi2)"
   ]
  },
  {
   "cell_type": "code",
   "execution_count": 51,
   "id": "313c6906",
   "metadata": {
    "execution": {
     "iopub.execute_input": "2023-02-03T12:58:34.000766Z",
     "iopub.status.busy": "2023-02-03T12:58:34.000351Z",
     "iopub.status.idle": "2023-02-03T12:58:34.004001Z",
     "shell.execute_reply": "2023-02-03T12:58:34.003502Z"
    }
   },
   "outputs": [
    {
     "name": "stdout",
     "output_type": "stream",
     "text": [
      "Feature size: 20.316190\n",
      "Feature created_at_day: 96.026446\n",
      "Feature created_at_month: 8.225657\n",
      "Feature created_at_weekday: 5.428692\n",
      "Feature created_at_hour: 3.360000\n"
     ]
    }
   ],
   "source": [
    "for i in range(len(fs.scores_)):\n",
    "    print(\"Feature %s: %f\" % (X_inp.columns[i], fs.scores_[i]))"
   ]
  },
  {
   "cell_type": "code",
   "execution_count": 52,
   "id": "460daed6",
   "metadata": {
    "execution": {
     "iopub.execute_input": "2023-02-03T12:58:34.006681Z",
     "iopub.status.busy": "2023-02-03T12:58:34.006271Z",
     "iopub.status.idle": "2023-02-03T12:58:34.115987Z",
     "shell.execute_reply": "2023-02-03T12:58:34.115432Z"
    }
   },
   "outputs": [
    {
     "data": {
      "image/png": "[encoded data removed]",
      "text/plain": [
       "<Figure size 432x288 with 1 Axes>"
      ]
     },
     "metadata": {
      "needs_background": "light"
     },
     "output_type": "display_data"
    }
   ],
   "source": [
    "# visualize scores of all features\n",
    "sns.barplot(x=X_inp.columns, y=fs.scores_)\n",
    "plt.title(\"Feature importance scores for Chi Squared\")\n",
    "plt.xticks(rotation=60)\n",
    "plt.xlabel(\"Features\")\n",
    "plt.ylabel(\"Scores\")\n",
    "plt.show()"
   ]
  },
  {
   "cell_type": "code",
   "execution_count": 53,
   "id": "9874b4b4",
   "metadata": {
    "execution": {
     "iopub.execute_input": "2023-02-03T12:58:34.118992Z",
     "iopub.status.busy": "2023-02-03T12:58:34.118553Z",
     "iopub.status.idle": "2023-02-03T12:58:34.121680Z",
     "shell.execute_reply": "2023-02-03T12:58:34.121157Z"
    }
   },
   "outputs": [],
   "source": [
    "# Lets get a list of the top 10 feature indices based on Chi Sq feature scores\n",
    "top_chi2 = fs.scores_.argsort()[-10:][::-1]"
   ]
  },
  {
   "cell_type": "markdown",
   "id": "5861b291",
   "metadata": {},
   "source": [
    "Let's get a Union of the top 10 features derived from features based on both scores of both Mutual Info Statistic and Chi Squared"
   ]
  },
  {
   "cell_type": "code",
   "execution_count": 54,
   "id": "fae59295",
   "metadata": {
    "execution": {
     "iopub.execute_input": "2023-02-03T12:58:34.124537Z",
     "iopub.status.busy": "2023-02-03T12:58:34.124123Z",
     "iopub.status.idle": "2023-02-03T12:58:34.129071Z",
     "shell.execute_reply": "2023-02-03T12:58:34.128419Z"
    }
   },
   "outputs": [
    {
     "name": "stdout",
     "output_type": "stream",
     "text": [
      "5\n"
     ]
    },
    {
     "data": {
      "text/plain": [
       "{0, 1, 2, 3, 4}"
      ]
     },
     "execution_count": 54,
     "metadata": {},
     "output_type": "execute_result"
    }
   ],
   "source": [
    "union = set(top_mis).union(set(top_chi2))\n",
    "print(len(union))\n",
    "union"
   ]
  },
  {
   "cell_type": "code",
   "execution_count": 55,
   "id": "4778b695-9ec8-4d9f-a1dd-26d749b43a95",
   "metadata": {
    "execution": {
     "iopub.execute_input": "2023-02-03T12:58:34.132216Z",
     "iopub.status.busy": "2023-02-03T12:58:34.131642Z",
     "iopub.status.idle": "2023-02-03T12:58:34.137817Z",
     "shell.execute_reply": "2023-02-03T12:58:34.137246Z"
    }
   },
   "outputs": [
    {
     "data": {
      "text/plain": [
       "['size',\n",
       " 'created_at_day',\n",
       " 'created_at_month',\n",
       " 'created_at_weekday',\n",
       " 'created_at_hour']"
      ]
     },
     "execution_count": 55,
     "metadata": {},
     "output_type": "execute_result"
    }
   ],
   "source": [
    "selected_cat_features = [cat_features[i] for i in union]\n",
    "selected_cat_features"
   ]
  },
  {
   "cell_type": "code",
   "execution_count": 56,
   "id": "5b0ce173",
   "metadata": {
    "execution": {
     "iopub.execute_input": "2023-02-03T12:58:34.140867Z",
     "iopub.status.busy": "2023-02-03T12:58:34.140397Z",
     "iopub.status.idle": "2023-02-03T12:58:34.144390Z",
     "shell.execute_reply": "2023-02-03T12:58:34.143698Z"
    }
   },
   "outputs": [],
   "source": [
    "# update list of features to keep for training\n",
    "selected_features += selected_cat_features"
   ]
  },
  {
   "cell_type": "markdown",
   "id": "33f4387d",
   "metadata": {},
   "source": [
    "### Numerical Features\n",
    "\n",
    "Now, lets try to determine what numerical featuers are powerful influencers for time to merge of a PR"
   ]
  },
  {
   "cell_type": "code",
   "execution_count": 57,
   "id": "29683916-4ef7-474a-80ac-11a5d210b6fa",
   "metadata": {
    "execution": {
     "iopub.execute_input": "2023-02-03T12:58:34.147435Z",
     "iopub.status.busy": "2023-02-03T12:58:34.146839Z",
     "iopub.status.idle": "2023-02-03T12:58:34.149858Z",
     "shell.execute_reply": "2023-02-03T12:58:34.149359Z"
    }
   },
   "outputs": [],
   "source": [
    "numerical_features = [\n",
    "    \"changed_files_number\",\n",
    "    \"body_size\",\n",
    "    \"commits_number\",\n",
    "    \"ttm_class\",\n",
    "]"
   ]
  },
  {
   "cell_type": "code",
   "execution_count": 58,
   "id": "b0d608dd",
   "metadata": {
    "execution": {
     "iopub.execute_input": "2023-02-03T12:58:34.152562Z",
     "iopub.status.busy": "2023-02-03T12:58:34.151965Z",
     "iopub.status.idle": "2023-02-03T12:58:34.159493Z",
     "shell.execute_reply": "2023-02-03T12:58:34.158999Z"
    }
   },
   "outputs": [
    {
     "data": {
      "text/html": [
       "<div>\n",
       "<style scoped>\n",
       "    .dataframe tbody tr th:only-of-type {\n",
       "        vertical-align: middle;\n",
       "    }\n",
       "\n",
       "    .dataframe tbody tr th {\n",
       "        vertical-align: top;\n",
       "    }\n",
       "\n",
       "    .dataframe thead th {\n",
       "        text-align: right;\n",
       "    }\n",
       "</style>\n",
       "<table border=\"1\" class=\"dataframe\">\n",
       "  <thead>\n",
       "    <tr style=\"text-align: right;\">\n",
       "      <th></th>\n",
       "      <th>changed_files_number</th>\n",
       "      <th>body_size</th>\n",
       "      <th>commits_number</th>\n",
       "      <th>ttm_class</th>\n",
       "    </tr>\n",
       "  </thead>\n",
       "  <tbody>\n",
       "    <tr>\n",
       "      <th>0</th>\n",
       "      <td>1</td>\n",
       "      <td>1</td>\n",
       "      <td>1</td>\n",
       "      <td>8</td>\n",
       "    </tr>\n",
       "    <tr>\n",
       "      <th>1</th>\n",
       "      <td>1</td>\n",
       "      <td>22</td>\n",
       "      <td>1</td>\n",
       "      <td>5</td>\n",
       "    </tr>\n",
       "    <tr>\n",
       "      <th>2</th>\n",
       "      <td>2</td>\n",
       "      <td>25</td>\n",
       "      <td>1</td>\n",
       "      <td>9</td>\n",
       "    </tr>\n",
       "    <tr>\n",
       "      <th>3</th>\n",
       "      <td>1</td>\n",
       "      <td>18</td>\n",
       "      <td>2</td>\n",
       "      <td>7</td>\n",
       "    </tr>\n",
       "    <tr>\n",
       "      <th>4</th>\n",
       "      <td>1</td>\n",
       "      <td>12</td>\n",
       "      <td>12</td>\n",
       "      <td>7</td>\n",
       "    </tr>\n",
       "  </tbody>\n",
       "</table>\n",
       "</div>"
      ],
      "text/plain": [
       "   changed_files_number  body_size  commits_number  ttm_class\n",
       "0                     1          1               1          8\n",
       "1                     1         22               1          5\n",
       "2                     2         25               1          9\n",
       "3                     1         18               2          7\n",
       "4                     1         12              12          7"
      ]
     },
     "execution_count": 58,
     "metadata": {},
     "output_type": "execute_result"
    }
   ],
   "source": [
    "numerical_df = feature_df[numerical_features]\n",
    "numerical_df.head()"
   ]
  },
  {
   "cell_type": "code",
   "execution_count": 59,
   "id": "9ff2919e",
   "metadata": {
    "execution": {
     "iopub.execute_input": "2023-02-03T12:58:34.162145Z",
     "iopub.status.busy": "2023-02-03T12:58:34.161630Z",
     "iopub.status.idle": "2023-02-03T12:58:34.165428Z",
     "shell.execute_reply": "2023-02-03T12:58:34.164787Z"
    }
   },
   "outputs": [],
   "source": [
    "# split into input features and target\n",
    "X_inp = numerical_df.drop(columns=[\"ttm_class\"])\n",
    "y = numerical_df[\"ttm_class\"]"
   ]
  },
  {
   "cell_type": "code",
   "execution_count": 60,
   "id": "cc733746",
   "metadata": {
    "execution": {
     "iopub.execute_input": "2023-02-03T12:58:34.168122Z",
     "iopub.status.busy": "2023-02-03T12:58:34.167784Z",
     "iopub.status.idle": "2023-02-03T12:58:34.285220Z",
     "shell.execute_reply": "2023-02-03T12:58:34.284629Z"
    },
    "tags": []
   },
   "outputs": [
    {
     "data": {
      "image/png": "[encoded data removed]",
      "text/plain": [
       "<Figure size 432x288 with 1 Axes>"
      ]
     },
     "metadata": {
      "needs_background": "light"
     },
     "output_type": "display_data"
    }
   ],
   "source": [
    "# create k best feature selector object based on mutual information\n",
    "numerical_feats_mi, k_best_selector_mi = select_features(\n",
    "    X_inp,\n",
    "    y,\n",
    "    partial(\n",
    "        mutual_info_classif,\n",
    "        discrete_features=False,\n",
    "        random_state=42,\n",
    "        n_neighbors=3,\n",
    "    ),\n",
    ")\n",
    "\n",
    "# visualize the MI scores of all features\n",
    "sns.barplot(x=X_inp.columns, y=k_best_selector_mi.scores_)\n",
    "plt.title(\"Feature importance based on Mutual Information\")\n",
    "plt.xticks(rotation=60)\n",
    "plt.xlabel(\"Features\")\n",
    "plt.ylabel(\"Scores\")\n",
    "plt.show()"
   ]
  },
  {
   "cell_type": "code",
   "execution_count": 61,
   "id": "7bdf2192",
   "metadata": {
    "execution": {
     "iopub.execute_input": "2023-02-03T12:58:34.288349Z",
     "iopub.status.busy": "2023-02-03T12:58:34.287683Z",
     "iopub.status.idle": "2023-02-03T12:58:34.433020Z",
     "shell.execute_reply": "2023-02-03T12:58:34.432398Z"
    }
   },
   "outputs": [
    {
     "data": {
      "image/png": "[encoded data removed]",
      "text/plain": [
       "<Figure size 432x288 with 2 Axes>"
      ]
     },
     "metadata": {
      "needs_background": "light"
     },
     "output_type": "display_data"
    }
   ],
   "source": [
    "# create k best feature selector object based on anova f statistic\n",
    "numerical_feats_f, k_best_selector_f = select_features(\n",
    "    X_inp,\n",
    "    y,\n",
    "    f_classif,\n",
    ")\n",
    "\n",
    "# visualize the f stat scores and pvalues of all features\n",
    "fig, axes = plt.subplots(2, 1, sharex=True)\n",
    "fig.suptitle(\"Feature importance based on ANOVA F stat\")\n",
    "sns.barplot(x=X_inp.columns, y=k_best_selector_f.scores_, ax=axes[0])\n",
    "sns.barplot(x=X_inp.columns, y=k_best_selector_f.pvalues_, ax=axes[1])\n",
    "plt.xticks(rotation=60)\n",
    "plt.xlabel(\"Features\")\n",
    "axes[0].set_ylabel(\"Scores\")\n",
    "axes[1].set_ylabel(\"p-values\")\n",
    "plt.show()"
   ]
  },
  {
   "cell_type": "code",
   "execution_count": 62,
   "id": "6134ddb1-994f-42ee-8a68-7111540b6481",
   "metadata": {
    "execution": {
     "iopub.execute_input": "2023-02-03T12:58:34.436183Z",
     "iopub.status.busy": "2023-02-03T12:58:34.435692Z",
     "iopub.status.idle": "2023-02-03T12:58:34.442435Z",
     "shell.execute_reply": "2023-02-03T12:58:34.441787Z"
    }
   },
   "outputs": [
    {
     "data": {
      "text/plain": [
       "{0, 1, 2}"
      ]
     },
     "execution_count": 62,
     "metadata": {},
     "output_type": "execute_result"
    }
   ],
   "source": [
    "top_mi = k_best_selector_mi.scores_.argsort()[-3:][::-1]\n",
    "top_anova = k_best_selector_f.scores_.argsort()[-3:][::-1]\n",
    "union = set(top_mi).union(set(top_anova))\n",
    "union"
   ]
  },
  {
   "cell_type": "code",
   "execution_count": 63,
   "id": "2d5a9368-bfaf-4348-b140-13e6d725f59c",
   "metadata": {
    "execution": {
     "iopub.execute_input": "2023-02-03T12:58:34.445087Z",
     "iopub.status.busy": "2023-02-03T12:58:34.444850Z",
     "iopub.status.idle": "2023-02-03T12:58:34.449287Z",
     "shell.execute_reply": "2023-02-03T12:58:34.448689Z"
    }
   },
   "outputs": [
    {
     "data": {
      "text/plain": [
       "['changed_files_number', 'body_size', 'commits_number']"
      ]
     },
     "execution_count": 63,
     "metadata": {},
     "output_type": "execute_result"
    }
   ],
   "source": [
    "selected_num_features = [numerical_features[i] for i in union]\n",
    "selected_num_features"
   ]
  },
  {
   "cell_type": "code",
   "execution_count": 64,
   "id": "cc984a01",
   "metadata": {
    "execution": {
     "iopub.execute_input": "2023-02-03T12:58:34.452178Z",
     "iopub.status.busy": "2023-02-03T12:58:34.451638Z",
     "iopub.status.idle": "2023-02-03T12:58:34.454723Z",
     "shell.execute_reply": "2023-02-03T12:58:34.454079Z"
    }
   },
   "outputs": [],
   "source": [
    "# update list of features to keep for training\n",
    "selected_features += selected_num_features"
   ]
  },
  {
   "cell_type": "markdown",
   "id": "11a86b36",
   "metadata": {},
   "source": [
    "### Count Vector Type Features\n",
    "\n",
    "Finally, lets determine the most important features from the count vector type columns."
   ]
  },
  {
   "cell_type": "code",
   "execution_count": 65,
   "id": "f07d0334",
   "metadata": {
    "execution": {
     "iopub.execute_input": "2023-02-03T12:58:34.457609Z",
     "iopub.status.busy": "2023-02-03T12:58:34.456991Z",
     "iopub.status.idle": "2023-02-03T12:58:34.461483Z",
     "shell.execute_reply": "2023-02-03T12:58:34.461000Z"
    },
    "scrolled": true
   },
   "outputs": [],
   "source": [
    "# explode the list column so that there is 1 column representing frequency of each file type\n",
    "filetype_df = pd.DataFrame(feature_df.changed_file_type_vec.to_list())\n",
    "filetype_df.index = feature_df.index\n",
    "filetype_df.columns = [f\"filetype_{f}\" for f in top_fileextensions]"
   ]
  },
  {
   "cell_type": "code",
   "execution_count": 66,
   "id": "35f93d4e",
   "metadata": {
    "execution": {
     "iopub.execute_input": "2023-02-03T12:58:34.464199Z",
     "iopub.status.busy": "2023-02-03T12:58:34.463593Z",
     "iopub.status.idle": "2023-02-03T12:58:34.472021Z",
     "shell.execute_reply": "2023-02-03T12:58:34.471529Z"
    }
   },
   "outputs": [
    {
     "data": {
      "text/plain": [
       "filetype_.md              0.362915\n",
       "filetype_.txt             0.324655\n",
       "filetype_.yaml            0.245993\n",
       "filetype_LICENSE          0.196347\n",
       "filetype_.ipynb           0.137848\n",
       "filetype_.py              0.128369\n",
       "filetype_Dockerfile      -0.084149\n",
       "filetype_Containerfile   -0.140248\n",
       "filetype_.yml            -0.177084\n",
       "filetype_.sh             -0.413197\n",
       "dtype: float64"
      ]
     },
     "execution_count": 66,
     "metadata": {},
     "output_type": "execute_result"
    }
   ],
   "source": [
    "# compute correlation with ttm\n",
    "corr = filetype_df.corrwith(feature_df[\"ttm_class\"])\n",
    "corr.sort_values(ascending=False)"
   ]
  },
  {
   "cell_type": "code",
   "execution_count": 67,
   "id": "d5ae2981",
   "metadata": {
    "execution": {
     "iopub.execute_input": "2023-02-03T12:58:34.474807Z",
     "iopub.status.busy": "2023-02-03T12:58:34.474275Z",
     "iopub.status.idle": "2023-02-03T12:58:34.479775Z",
     "shell.execute_reply": "2023-02-03T12:58:34.479139Z"
    }
   },
   "outputs": [
    {
     "data": {
      "text/plain": [
       "filetype_.ipynb           0.137848\n",
       "filetype_.yaml            0.245993\n",
       "filetype_.py              0.128369\n",
       "filetype_.yml            -0.177084\n",
       "filetype_.sh             -0.413197\n",
       "filetype_.md              0.362915\n",
       "filetype_.txt             0.324655\n",
       "filetype_LICENSE          0.196347\n",
       "filetype_Dockerfile      -0.084149\n",
       "filetype_Containerfile   -0.140248\n",
       "dtype: float64"
      ]
     },
     "execution_count": 67,
     "metadata": {},
     "output_type": "execute_result"
    }
   ],
   "source": [
    "corr[corr.abs() > 0.01]"
   ]
  },
  {
   "cell_type": "code",
   "execution_count": 68,
   "id": "9d5e19bd",
   "metadata": {
    "execution": {
     "iopub.execute_input": "2023-02-03T12:58:34.483216Z",
     "iopub.status.busy": "2023-02-03T12:58:34.482701Z",
     "iopub.status.idle": "2023-02-03T12:58:34.487300Z",
     "shell.execute_reply": "2023-02-03T12:58:34.486660Z"
    }
   },
   "outputs": [],
   "source": [
    "# update list of features to keep for training\n",
    "# take everything that has more than 0.01 correlation magnitude\n",
    "filetype_keep_cols = corr[corr.abs() > 0.01].index.tolist()\n",
    "selected_features += filetype_keep_cols\n",
    "\n",
    "# only keep the relevant columns now\n",
    "filetype_df = filetype_df[filetype_keep_cols]"
   ]
  },
  {
   "cell_type": "code",
   "execution_count": 69,
   "id": "2eab2fb8-ee9e-4a4e-9d2e-7629f9c56cb9",
   "metadata": {
    "execution": {
     "iopub.execute_input": "2023-02-03T12:58:34.490036Z",
     "iopub.status.busy": "2023-02-03T12:58:34.489690Z",
     "iopub.status.idle": "2023-02-03T12:58:34.494108Z",
     "shell.execute_reply": "2023-02-03T12:58:34.493485Z"
    }
   },
   "outputs": [
    {
     "data": {
      "text/plain": [
       "['.ipynb',\n",
       " '.yaml',\n",
       " '.py',\n",
       " '.yml',\n",
       " '.sh',\n",
       " '.md',\n",
       " '.txt',\n",
       " 'LICENSE',\n",
       " 'Dockerfile',\n",
       " 'Containerfile']"
      ]
     },
     "execution_count": 69,
     "metadata": {},
     "output_type": "execute_result"
    }
   ],
   "source": [
    "filetype_keep_cols = [i[9:] for i in filetype_keep_cols]\n",
    "filetype_keep_cols"
   ]
  },
  {
   "cell_type": "code",
   "execution_count": 70,
   "id": "2b2da9ab-de61-44f5-91f1-a897e8f7a962",
   "metadata": {
    "execution": {
     "iopub.execute_input": "2023-02-03T12:58:34.497353Z",
     "iopub.status.busy": "2023-02-03T12:58:34.497008Z",
     "iopub.status.idle": "2023-02-03T12:58:34.500529Z",
     "shell.execute_reply": "2023-02-03T12:58:34.499896Z"
    }
   },
   "outputs": [],
   "source": [
    "filetype_keep_cols_df = pd.DataFrame(filetype_keep_cols, columns=[\"filetype\"])"
   ]
  },
  {
   "cell_type": "code",
   "execution_count": 71,
   "id": "773682ad-cda8-42ec-9275-dc611004d913",
   "metadata": {
    "execution": {
     "iopub.execute_input": "2023-02-03T12:58:34.503207Z",
     "iopub.status.busy": "2023-02-03T12:58:34.502863Z",
     "iopub.status.idle": "2023-02-03T12:58:34.508751Z",
     "shell.execute_reply": "2023-02-03T12:58:34.508126Z"
    }
   },
   "outputs": [
    {
     "data": {
      "text/html": [
       "<div>\n",
       "<style scoped>\n",
       "    .dataframe tbody tr th:only-of-type {\n",
       "        vertical-align: middle;\n",
       "    }\n",
       "\n",
       "    .dataframe tbody tr th {\n",
       "        vertical-align: top;\n",
       "    }\n",
       "\n",
       "    .dataframe thead th {\n",
       "        text-align: right;\n",
       "    }\n",
       "</style>\n",
       "<table border=\"1\" class=\"dataframe\">\n",
       "  <thead>\n",
       "    <tr style=\"text-align: right;\">\n",
       "      <th></th>\n",
       "      <th>filetype</th>\n",
       "    </tr>\n",
       "  </thead>\n",
       "  <tbody>\n",
       "    <tr>\n",
       "      <th>0</th>\n",
       "      <td>.ipynb</td>\n",
       "    </tr>\n",
       "    <tr>\n",
       "      <th>1</th>\n",
       "      <td>.yaml</td>\n",
       "    </tr>\n",
       "    <tr>\n",
       "      <th>2</th>\n",
       "      <td>.py</td>\n",
       "    </tr>\n",
       "    <tr>\n",
       "      <th>3</th>\n",
       "      <td>.yml</td>\n",
       "    </tr>\n",
       "    <tr>\n",
       "      <th>4</th>\n",
       "      <td>.sh</td>\n",
       "    </tr>\n",
       "    <tr>\n",
       "      <th>5</th>\n",
       "      <td>.md</td>\n",
       "    </tr>\n",
       "    <tr>\n",
       "      <th>6</th>\n",
       "      <td>.txt</td>\n",
       "    </tr>\n",
       "    <tr>\n",
       "      <th>7</th>\n",
       "      <td>LICENSE</td>\n",
       "    </tr>\n",
       "    <tr>\n",
       "      <th>8</th>\n",
       "      <td>Dockerfile</td>\n",
       "    </tr>\n",
       "    <tr>\n",
       "      <th>9</th>\n",
       "      <td>Containerfile</td>\n",
       "    </tr>\n",
       "  </tbody>\n",
       "</table>\n",
       "</div>"
      ],
      "text/plain": [
       "        filetype\n",
       "0         .ipynb\n",
       "1          .yaml\n",
       "2            .py\n",
       "3           .yml\n",
       "4            .sh\n",
       "5            .md\n",
       "6           .txt\n",
       "7        LICENSE\n",
       "8     Dockerfile\n",
       "9  Containerfile"
      ]
     },
     "execution_count": 71,
     "metadata": {},
     "output_type": "execute_result"
    }
   ],
   "source": [
    "filetype_keep_cols_df"
   ]
  },
  {
   "cell_type": "code",
   "execution_count": 72,
   "id": "7333e449-4e2a-42aa-b728-3f36d205ed1f",
   "metadata": {
    "execution": {
     "iopub.execute_input": "2023-02-03T12:58:34.512065Z",
     "iopub.status.busy": "2023-02-03T12:58:34.511719Z",
     "iopub.status.idle": "2023-02-03T12:58:35.505968Z",
     "shell.execute_reply": "2023-02-03T12:58:35.505154Z"
    }
   },
   "outputs": [
    {
     "data": {
      "text/plain": [
       "{'ResponseMetadata': {'RequestId': '876ac92725dd8f5e',\n",
       "  'HostId': 'aN6BmtGL+MqdmBDL0ZMA102SFN74yXDJd',\n",
       "  'HTTPStatusCode': 200,\n",
       "  'HTTPHeaders': {'x-amz-request-id': '876ac92725dd8f5e',\n",
       "   'x-amz-id-2': 'aN6BmtGL+MqdmBDL0ZMA102SFN74yXDJd',\n",
       "   'etag': '\"0062049ac0c429cdbae723cbced6bc94\"',\n",
       "   'x-amz-version-id': '4_z578ffb122f12ad158d570212_f117e80948174c1a3_d20230203_m125834_c000_v0001082_t0029_u01675429114638',\n",
       "   'cache-control': 'max-age=0, no-cache, no-store',\n",
       "   'content-length': '0',\n",
       "   'date': 'Fri, 03 Feb 2023 12:58:34 GMT'},\n",
       "  'RetryAttempts': 0},\n",
       " 'ETag': '\"0062049ac0c429cdbae723cbced6bc94\"',\n",
       " 'VersionId': '4_z578ffb122f12ad158d570212_f117e80948174c1a3_d20230203_m125834_c000_v0001082_t0029_u01675429114638'}"
      ]
     },
     "execution_count": 72,
     "metadata": {},
     "output_type": "execute_result"
    }
   ],
   "source": [
    "FILETYPE_FEATURES_FILENAME = os.path.join(ORG + REPO + \"FILETYPE.parquet\")\n",
    "FILETYPE_FEATURES_KEY = os.path.join(s3_input_data_path, ORG, REPO, \"features\")\n",
    "cc.upload_to_ceph(\n",
    "    filetype_keep_cols_df, FILETYPE_FEATURES_KEY, FILETYPE_FEATURES_FILENAME\n",
    ")"
   ]
  },
  {
   "cell_type": "code",
   "execution_count": 73,
   "id": "618842b5",
   "metadata": {
    "execution": {
     "iopub.execute_input": "2023-02-03T12:58:35.509810Z",
     "iopub.status.busy": "2023-02-03T12:58:35.509182Z",
     "iopub.status.idle": "2023-02-03T12:58:35.518047Z",
     "shell.execute_reply": "2023-02-03T12:58:35.517335Z"
    }
   },
   "outputs": [],
   "source": [
    "# explode the list column so that there is 1 column representing frequency of each word\n",
    "title_wordcount_df = pd.DataFrame(feature_df.title_word_counts_vec.to_list())\n",
    "\n",
    "title_wordcount_df.index = feature_df.index\n",
    "title_wordcount_df.columns = [f\"title_wordcount_{w}\" for w in unique_words]"
   ]
  },
  {
   "cell_type": "code",
   "execution_count": 74,
   "id": "457f28ed",
   "metadata": {
    "execution": {
     "iopub.execute_input": "2023-02-03T12:58:35.522170Z",
     "iopub.status.busy": "2023-02-03T12:58:35.521508Z",
     "iopub.status.idle": "2023-02-03T12:58:35.542787Z",
     "shell.execute_reply": "2023-02-03T12:58:35.542098Z"
    },
    "scrolled": true
   },
   "outputs": [
    {
     "data": {
      "text/plain": [
       "title_wordcount_pr               0.336032\n",
       "title_wordcount_functionality    0.282267\n",
       "title_wordcount_workflow         0.282267\n",
       "title_wordcount_srcopsmetrics    0.196347\n",
       "title_wordcount_sample           0.196347\n",
       "                                   ...   \n",
       "title_wordcount_prs             -0.308546\n",
       "title_wordcount_condition       -0.308546\n",
       "title_wordcount_train           -0.308546\n",
       "title_wordcount_size            -0.308546\n",
       "title_wordcount_fixed           -0.308546\n",
       "Length: 70, dtype: float64"
      ]
     },
     "execution_count": 74,
     "metadata": {},
     "output_type": "execute_result"
    }
   ],
   "source": [
    "# compute correlation with ttm\n",
    "corr = title_wordcount_df.corrwith(feature_df[\"ttm_class\"])\n",
    "corr = corr.dropna()\n",
    "corr.sort_values(ascending=False)"
   ]
  },
  {
   "cell_type": "code",
   "execution_count": 75,
   "id": "0f1495a6",
   "metadata": {
    "execution": {
     "iopub.execute_input": "2023-02-03T12:58:35.546122Z",
     "iopub.status.busy": "2023-02-03T12:58:35.545764Z",
     "iopub.status.idle": "2023-02-03T12:58:35.552200Z",
     "shell.execute_reply": "2023-02-03T12:58:35.551464Z"
    }
   },
   "outputs": [
    {
     "data": {
      "text/plain": [
       "title_wordcount_action          -0.040324\n",
       "title_wordcount_add              0.177084\n",
       "title_wordcount_adding           0.140248\n",
       "title_wordcount_api              0.147570\n",
       "title_wordcount_basic           -0.140248\n",
       "title_wordcount_best            -0.196347\n",
       "title_wordcount_branding         0.140248\n",
       "title_wordcount_callingprs      -0.252447\n",
       "title_wordcount_changed          0.196347\n",
       "title_wordcount_choose          -0.196347\n",
       "title_wordcount_clean           -0.196347\n",
       "title_wordcount_cleanup         -0.084149\n",
       "title_wordcount_comment          0.084149\n",
       "title_wordcount_condition       -0.308546\n",
       "title_wordcount_data             0.196347\n",
       "title_wordcount_docs             0.196347\n",
       "title_wordcount_documentation    0.120972\n",
       "title_wordcount_download         0.196347\n",
       "title_wordcount_engineering     -0.196347\n",
       "title_wordcount_entrypoint      -0.236113\n",
       "title_wordcount_error            0.196347\n",
       "title_wordcount_feature         -0.196347\n",
       "title_wordcount_fix             -0.201619\n",
       "title_wordcount_fixed           -0.308546\n",
       "title_wordcount_functionality    0.282267\n",
       "title_wordcount_github           0.080648\n",
       "title_wordcount_improve          0.196347\n",
       "title_wordcount_inputs           0.196347\n",
       "title_wordcount_merge            0.196347\n",
       "title_wordcount_messaging        0.120972\n",
       "title_wordcount_mode            -0.080648\n",
       "title_wordcount_model           -0.196347\n",
       "title_wordcount_modes           -0.084149\n",
       "title_wordcount_notebook         0.196347\n",
       "title_wordcount_notebook3       -0.196347\n",
       "title_wordcount_optimization     0.140248\n",
       "title_wordcount_pr               0.336032\n",
       "title_wordcount_pre              0.140248\n",
       "title_wordcount_prs             -0.308546\n",
       "title_wordcount_publishing       0.140248\n",
       "title_wordcount_pygithub         0.196347\n",
       "title_wordcount_rate             0.080648\n",
       "title_wordcount_refactored       0.084149\n",
       "title_wordcount_sample           0.196347\n",
       "title_wordcount_sh              -0.236113\n",
       "title_wordcount_size            -0.308546\n",
       "title_wordcount_srcopsmetrics    0.196347\n",
       "title_wordcount_test             0.040324\n",
       "title_wordcount_testing          0.196347\n",
       "title_wordcount_train           -0.308546\n",
       "title_wordcount_training        -0.084149\n",
       "title_wordcount_trigger          0.196347\n",
       "title_wordcount_update          -0.184532\n",
       "title_wordcount_updates          0.040324\n",
       "title_wordcount_upstream         0.196347\n",
       "title_wordcount_use              0.196347\n",
       "title_wordcount_workflow         0.282267\n",
       "title_wordcount_yml             -0.196347\n",
       "dtype: float64"
      ]
     },
     "execution_count": 75,
     "metadata": {},
     "output_type": "execute_result"
    }
   ],
   "source": [
    "corr[corr.abs() > 0.04]"
   ]
  },
  {
   "cell_type": "code",
   "execution_count": 76,
   "id": "624b3504",
   "metadata": {
    "execution": {
     "iopub.execute_input": "2023-02-03T12:58:35.556258Z",
     "iopub.status.busy": "2023-02-03T12:58:35.555908Z",
     "iopub.status.idle": "2023-02-03T12:58:35.560292Z",
     "shell.execute_reply": "2023-02-03T12:58:35.559651Z"
    }
   },
   "outputs": [],
   "source": [
    "# update list of features to keep for training\n",
    "# take everything that has more than 0.01 correlation magnitude\n",
    "title_word_keep_cols = corr[corr.abs() > 0.04].index.tolist()\n",
    "selected_features += title_word_keep_cols\n",
    "\n",
    "title_wordcount_df = title_wordcount_df[title_word_keep_cols]"
   ]
  },
  {
   "cell_type": "code",
   "execution_count": 77,
   "id": "45cd6a78-361c-444f-8065-4127f2e29313",
   "metadata": {
    "execution": {
     "iopub.execute_input": "2023-02-03T12:58:35.563205Z",
     "iopub.status.busy": "2023-02-03T12:58:35.562863Z",
     "iopub.status.idle": "2023-02-03T12:58:35.567301Z",
     "shell.execute_reply": "2023-02-03T12:58:35.566831Z"
    }
   },
   "outputs": [
    {
     "data": {
      "text/plain": [
       "['action',\n",
       " 'add',\n",
       " 'adding',\n",
       " 'api',\n",
       " 'basic',\n",
       " 'best',\n",
       " 'branding',\n",
       " 'callingprs',\n",
       " 'changed',\n",
       " 'choose',\n",
       " 'clean',\n",
       " 'cleanup',\n",
       " 'comment',\n",
       " 'condition',\n",
       " 'data',\n",
       " 'docs',\n",
       " 'documentation',\n",
       " 'download',\n",
       " 'engineering',\n",
       " 'entrypoint',\n",
       " 'error',\n",
       " 'feature',\n",
       " 'fix',\n",
       " 'fixed',\n",
       " 'functionality',\n",
       " 'github',\n",
       " 'improve',\n",
       " 'inputs',\n",
       " 'merge',\n",
       " 'messaging',\n",
       " 'mode',\n",
       " 'model',\n",
       " 'modes',\n",
       " 'notebook',\n",
       " 'notebook3',\n",
       " 'optimization',\n",
       " 'pr',\n",
       " 'pre',\n",
       " 'prs',\n",
       " 'publishing',\n",
       " 'pygithub',\n",
       " 'rate',\n",
       " 'refactored',\n",
       " 'sample',\n",
       " 'sh',\n",
       " 'size',\n",
       " 'srcopsmetrics',\n",
       " 'test',\n",
       " 'testing',\n",
       " 'train',\n",
       " 'training',\n",
       " 'trigger',\n",
       " 'update',\n",
       " 'updates',\n",
       " 'upstream',\n",
       " 'use',\n",
       " 'workflow',\n",
       " 'yml']"
      ]
     },
     "execution_count": 77,
     "metadata": {},
     "output_type": "execute_result"
    }
   ],
   "source": [
    "title_word_keep_cols = [i[16:] for i in title_word_keep_cols]\n",
    "title_word_keep_cols"
   ]
  },
  {
   "cell_type": "code",
   "execution_count": 78,
   "id": "8b937135-f983-4d6c-961e-f9c7158d108c",
   "metadata": {
    "execution": {
     "iopub.execute_input": "2023-02-03T12:58:35.570255Z",
     "iopub.status.busy": "2023-02-03T12:58:35.569911Z",
     "iopub.status.idle": "2023-02-03T12:58:35.573343Z",
     "shell.execute_reply": "2023-02-03T12:58:35.572704Z"
    }
   },
   "outputs": [],
   "source": [
    "title_word_keep_cols_df = pd.DataFrame(title_word_keep_cols, columns=[\"title\"])"
   ]
  },
  {
   "cell_type": "code",
   "execution_count": 79,
   "id": "63f382a4-5826-4d65-aa9f-5f3b56f1aad9",
   "metadata": {
    "execution": {
     "iopub.execute_input": "2023-02-03T12:58:35.576149Z",
     "iopub.status.busy": "2023-02-03T12:58:35.575806Z",
     "iopub.status.idle": "2023-02-03T12:58:35.582971Z",
     "shell.execute_reply": "2023-02-03T12:58:35.582332Z"
    }
   },
   "outputs": [
    {
     "data": {
      "text/html": [
       "<div>\n",
       "<style scoped>\n",
       "    .dataframe tbody tr th:only-of-type {\n",
       "        vertical-align: middle;\n",
       "    }\n",
       "\n",
       "    .dataframe tbody tr th {\n",
       "        vertical-align: top;\n",
       "    }\n",
       "\n",
       "    .dataframe thead th {\n",
       "        text-align: right;\n",
       "    }\n",
       "</style>\n",
       "<table border=\"1\" class=\"dataframe\">\n",
       "  <thead>\n",
       "    <tr style=\"text-align: right;\">\n",
       "      <th></th>\n",
       "      <th>title</th>\n",
       "    </tr>\n",
       "  </thead>\n",
       "  <tbody>\n",
       "    <tr>\n",
       "      <th>0</th>\n",
       "      <td>action</td>\n",
       "    </tr>\n",
       "    <tr>\n",
       "      <th>1</th>\n",
       "      <td>add</td>\n",
       "    </tr>\n",
       "    <tr>\n",
       "      <th>2</th>\n",
       "      <td>adding</td>\n",
       "    </tr>\n",
       "    <tr>\n",
       "      <th>3</th>\n",
       "      <td>api</td>\n",
       "    </tr>\n",
       "    <tr>\n",
       "      <th>4</th>\n",
       "      <td>basic</td>\n",
       "    </tr>\n",
       "    <tr>\n",
       "      <th>5</th>\n",
       "      <td>best</td>\n",
       "    </tr>\n",
       "    <tr>\n",
       "      <th>6</th>\n",
       "      <td>branding</td>\n",
       "    </tr>\n",
       "    <tr>\n",
       "      <th>7</th>\n",
       "      <td>callingprs</td>\n",
       "    </tr>\n",
       "    <tr>\n",
       "      <th>8</th>\n",
       "      <td>changed</td>\n",
       "    </tr>\n",
       "    <tr>\n",
       "      <th>9</th>\n",
       "      <td>choose</td>\n",
       "    </tr>\n",
       "    <tr>\n",
       "      <th>10</th>\n",
       "      <td>clean</td>\n",
       "    </tr>\n",
       "    <tr>\n",
       "      <th>11</th>\n",
       "      <td>cleanup</td>\n",
       "    </tr>\n",
       "    <tr>\n",
       "      <th>12</th>\n",
       "      <td>comment</td>\n",
       "    </tr>\n",
       "    <tr>\n",
       "      <th>13</th>\n",
       "      <td>condition</td>\n",
       "    </tr>\n",
       "    <tr>\n",
       "      <th>14</th>\n",
       "      <td>data</td>\n",
       "    </tr>\n",
       "    <tr>\n",
       "      <th>15</th>\n",
       "      <td>docs</td>\n",
       "    </tr>\n",
       "    <tr>\n",
       "      <th>16</th>\n",
       "      <td>documentation</td>\n",
       "    </tr>\n",
       "    <tr>\n",
       "      <th>17</th>\n",
       "      <td>download</td>\n",
       "    </tr>\n",
       "    <tr>\n",
       "      <th>18</th>\n",
       "      <td>engineering</td>\n",
       "    </tr>\n",
       "    <tr>\n",
       "      <th>19</th>\n",
       "      <td>entrypoint</td>\n",
       "    </tr>\n",
       "    <tr>\n",
       "      <th>20</th>\n",
       "      <td>error</td>\n",
       "    </tr>\n",
       "    <tr>\n",
       "      <th>21</th>\n",
       "      <td>feature</td>\n",
       "    </tr>\n",
       "    <tr>\n",
       "      <th>22</th>\n",
       "      <td>fix</td>\n",
       "    </tr>\n",
       "    <tr>\n",
       "      <th>23</th>\n",
       "      <td>fixed</td>\n",
       "    </tr>\n",
       "    <tr>\n",
       "      <th>24</th>\n",
       "      <td>functionality</td>\n",
       "    </tr>\n",
       "    <tr>\n",
       "      <th>25</th>\n",
       "      <td>github</td>\n",
       "    </tr>\n",
       "    <tr>\n",
       "      <th>26</th>\n",
       "      <td>improve</td>\n",
       "    </tr>\n",
       "    <tr>\n",
       "      <th>27</th>\n",
       "      <td>inputs</td>\n",
       "    </tr>\n",
       "    <tr>\n",
       "      <th>28</th>\n",
       "      <td>merge</td>\n",
       "    </tr>\n",
       "    <tr>\n",
       "      <th>29</th>\n",
       "      <td>messaging</td>\n",
       "    </tr>\n",
       "    <tr>\n",
       "      <th>30</th>\n",
       "      <td>mode</td>\n",
       "    </tr>\n",
       "    <tr>\n",
       "      <th>31</th>\n",
       "      <td>model</td>\n",
       "    </tr>\n",
       "    <tr>\n",
       "      <th>32</th>\n",
       "      <td>modes</td>\n",
       "    </tr>\n",
       "    <tr>\n",
       "      <th>33</th>\n",
       "      <td>notebook</td>\n",
       "    </tr>\n",
       "    <tr>\n",
       "      <th>34</th>\n",
       "      <td>notebook3</td>\n",
       "    </tr>\n",
       "    <tr>\n",
       "      <th>35</th>\n",
       "      <td>optimization</td>\n",
       "    </tr>\n",
       "    <tr>\n",
       "      <th>36</th>\n",
       "      <td>pr</td>\n",
       "    </tr>\n",
       "    <tr>\n",
       "      <th>37</th>\n",
       "      <td>pre</td>\n",
       "    </tr>\n",
       "    <tr>\n",
       "      <th>38</th>\n",
       "      <td>prs</td>\n",
       "    </tr>\n",
       "    <tr>\n",
       "      <th>39</th>\n",
       "      <td>publishing</td>\n",
       "    </tr>\n",
       "    <tr>\n",
       "      <th>40</th>\n",
       "      <td>pygithub</td>\n",
       "    </tr>\n",
       "    <tr>\n",
       "      <th>41</th>\n",
       "      <td>rate</td>\n",
       "    </tr>\n",
       "    <tr>\n",
       "      <th>42</th>\n",
       "      <td>refactored</td>\n",
       "    </tr>\n",
       "    <tr>\n",
       "      <th>43</th>\n",
       "      <td>sample</td>\n",
       "    </tr>\n",
       "    <tr>\n",
       "      <th>44</th>\n",
       "      <td>sh</td>\n",
       "    </tr>\n",
       "    <tr>\n",
       "      <th>45</th>\n",
       "      <td>size</td>\n",
       "    </tr>\n",
       "    <tr>\n",
       "      <th>46</th>\n",
       "      <td>srcopsmetrics</td>\n",
       "    </tr>\n",
       "    <tr>\n",
       "      <th>47</th>\n",
       "      <td>test</td>\n",
       "    </tr>\n",
       "    <tr>\n",
       "      <th>48</th>\n",
       "      <td>testing</td>\n",
       "    </tr>\n",
       "    <tr>\n",
       "      <th>49</th>\n",
       "      <td>train</td>\n",
       "    </tr>\n",
       "    <tr>\n",
       "      <th>50</th>\n",
       "      <td>training</td>\n",
       "    </tr>\n",
       "    <tr>\n",
       "      <th>51</th>\n",
       "      <td>trigger</td>\n",
       "    </tr>\n",
       "    <tr>\n",
       "      <th>52</th>\n",
       "      <td>update</td>\n",
       "    </tr>\n",
       "    <tr>\n",
       "      <th>53</th>\n",
       "      <td>updates</td>\n",
       "    </tr>\n",
       "    <tr>\n",
       "      <th>54</th>\n",
       "      <td>upstream</td>\n",
       "    </tr>\n",
       "    <tr>\n",
       "      <th>55</th>\n",
       "      <td>use</td>\n",
       "    </tr>\n",
       "    <tr>\n",
       "      <th>56</th>\n",
       "      <td>workflow</td>\n",
       "    </tr>\n",
       "    <tr>\n",
       "      <th>57</th>\n",
       "      <td>yml</td>\n",
       "    </tr>\n",
       "  </tbody>\n",
       "</table>\n",
       "</div>"
      ],
      "text/plain": [
       "            title\n",
       "0          action\n",
       "1             add\n",
       "2          adding\n",
       "3             api\n",
       "4           basic\n",
       "5            best\n",
       "6        branding\n",
       "7      callingprs\n",
       "8         changed\n",
       "9          choose\n",
       "10          clean\n",
       "11        cleanup\n",
       "12        comment\n",
       "13      condition\n",
       "14           data\n",
       "15           docs\n",
       "16  documentation\n",
       "17       download\n",
       "18    engineering\n",
       "19     entrypoint\n",
       "20          error\n",
       "21        feature\n",
       "22            fix\n",
       "23          fixed\n",
       "24  functionality\n",
       "25         github\n",
       "26        improve\n",
       "27         inputs\n",
       "28          merge\n",
       "29      messaging\n",
       "30           mode\n",
       "31          model\n",
       "32          modes\n",
       "33       notebook\n",
       "34      notebook3\n",
       "35   optimization\n",
       "36             pr\n",
       "37            pre\n",
       "38            prs\n",
       "39     publishing\n",
       "40       pygithub\n",
       "41           rate\n",
       "42     refactored\n",
       "43         sample\n",
       "44             sh\n",
       "45           size\n",
       "46  srcopsmetrics\n",
       "47           test\n",
       "48        testing\n",
       "49          train\n",
       "50       training\n",
       "51        trigger\n",
       "52         update\n",
       "53        updates\n",
       "54       upstream\n",
       "55            use\n",
       "56       workflow\n",
       "57            yml"
      ]
     },
     "execution_count": 79,
     "metadata": {},
     "output_type": "execute_result"
    }
   ],
   "source": [
    "title_word_keep_cols_df"
   ]
  },
  {
   "cell_type": "code",
   "execution_count": 80,
   "id": "2c67ed79-0555-4f0d-9557-3e6d335baeac",
   "metadata": {
    "execution": {
     "iopub.execute_input": "2023-02-03T12:58:35.586338Z",
     "iopub.status.busy": "2023-02-03T12:58:35.585838Z",
     "iopub.status.idle": "2023-02-03T12:58:36.775690Z",
     "shell.execute_reply": "2023-02-03T12:58:36.774867Z"
    }
   },
   "outputs": [
    {
     "data": {
      "text/plain": [
       "{'ResponseMetadata': {'RequestId': '6f2ced38426ef2c2',\n",
       "  'HostId': 'aN65m5WL4MsBmRDJYZCw1SGSLN9Qy6zJF',\n",
       "  'HTTPStatusCode': 200,\n",
       "  'HTTPHeaders': {'x-amz-request-id': '6f2ced38426ef2c2',\n",
       "   'x-amz-id-2': 'aN65m5WL4MsBmRDJYZCw1SGSLN9Qy6zJF',\n",
       "   'etag': '\"c7264f9d7df19f349ae1c62b600415af\"',\n",
       "   'x-amz-version-id': '4_z578ffb122f12ad158d570212_f117e205eef95c147_d20230203_m125835_c000_v0001060_t0052_u01675429115705',\n",
       "   'cache-control': 'max-age=0, no-cache, no-store',\n",
       "   'content-length': '0',\n",
       "   'date': 'Fri, 03 Feb 2023 12:58:35 GMT'},\n",
       "  'RetryAttempts': 0},\n",
       " 'ETag': '\"c7264f9d7df19f349ae1c62b600415af\"',\n",
       " 'VersionId': '4_z578ffb122f12ad158d570212_f117e205eef95c147_d20230203_m125835_c000_v0001060_t0052_u01675429115705'}"
      ]
     },
     "execution_count": 80,
     "metadata": {},
     "output_type": "execute_result"
    }
   ],
   "source": [
    "TITLE_FEATURES_FILENAME = os.path.join(ORG + REPO + \"titlewords.parquet\")\n",
    "TITLE_FEATURES_KEY = os.path.join(s3_input_data_path, ORG, REPO, \"features\")\n",
    "cc.upload_to_ceph(title_word_keep_cols_df, TITLE_FEATURES_KEY, TITLE_FEATURES_FILENAME)"
   ]
  },
  {
   "cell_type": "markdown",
   "id": "105e4b18",
   "metadata": {},
   "source": [
    "Using various feature importance scores such as chi-squared, mutual information statistic, correlation values, we have selected the most relevant features amongst all of our features. "
   ]
  },
  {
   "cell_type": "code",
   "execution_count": 81,
   "id": "4cdafdae",
   "metadata": {
    "execution": {
     "iopub.execute_input": "2023-02-03T12:58:36.779274Z",
     "iopub.status.busy": "2023-02-03T12:58:36.778814Z",
     "iopub.status.idle": "2023-02-03T12:58:36.783732Z",
     "shell.execute_reply": "2023-02-03T12:58:36.783241Z"
    },
    "tags": []
   },
   "outputs": [
    {
     "data": {
      "text/plain": [
       "['size',\n",
       " 'created_at_day',\n",
       " 'created_at_month',\n",
       " 'created_at_weekday',\n",
       " 'created_at_hour',\n",
       " 'changed_files_number',\n",
       " 'body_size',\n",
       " 'commits_number',\n",
       " 'filetype_.ipynb',\n",
       " 'filetype_.yaml',\n",
       " 'filetype_.py',\n",
       " 'filetype_.yml',\n",
       " 'filetype_.sh',\n",
       " 'filetype_.md',\n",
       " 'filetype_.txt',\n",
       " 'filetype_LICENSE',\n",
       " 'filetype_Dockerfile',\n",
       " 'filetype_Containerfile',\n",
       " 'title_wordcount_action',\n",
       " 'title_wordcount_add',\n",
       " 'title_wordcount_adding',\n",
       " 'title_wordcount_api',\n",
       " 'title_wordcount_basic',\n",
       " 'title_wordcount_best',\n",
       " 'title_wordcount_branding',\n",
       " 'title_wordcount_callingprs',\n",
       " 'title_wordcount_changed',\n",
       " 'title_wordcount_choose',\n",
       " 'title_wordcount_clean',\n",
       " 'title_wordcount_cleanup',\n",
       " 'title_wordcount_comment',\n",
       " 'title_wordcount_condition',\n",
       " 'title_wordcount_data',\n",
       " 'title_wordcount_docs',\n",
       " 'title_wordcount_documentation',\n",
       " 'title_wordcount_download',\n",
       " 'title_wordcount_engineering',\n",
       " 'title_wordcount_entrypoint',\n",
       " 'title_wordcount_error',\n",
       " 'title_wordcount_feature',\n",
       " 'title_wordcount_fix',\n",
       " 'title_wordcount_fixed',\n",
       " 'title_wordcount_functionality',\n",
       " 'title_wordcount_github',\n",
       " 'title_wordcount_improve',\n",
       " 'title_wordcount_inputs',\n",
       " 'title_wordcount_merge',\n",
       " 'title_wordcount_messaging',\n",
       " 'title_wordcount_mode',\n",
       " 'title_wordcount_model',\n",
       " 'title_wordcount_modes',\n",
       " 'title_wordcount_notebook',\n",
       " 'title_wordcount_notebook3',\n",
       " 'title_wordcount_optimization',\n",
       " 'title_wordcount_pr',\n",
       " 'title_wordcount_pre',\n",
       " 'title_wordcount_prs',\n",
       " 'title_wordcount_publishing',\n",
       " 'title_wordcount_pygithub',\n",
       " 'title_wordcount_rate',\n",
       " 'title_wordcount_refactored',\n",
       " 'title_wordcount_sample',\n",
       " 'title_wordcount_sh',\n",
       " 'title_wordcount_size',\n",
       " 'title_wordcount_srcopsmetrics',\n",
       " 'title_wordcount_test',\n",
       " 'title_wordcount_testing',\n",
       " 'title_wordcount_train',\n",
       " 'title_wordcount_training',\n",
       " 'title_wordcount_trigger',\n",
       " 'title_wordcount_update',\n",
       " 'title_wordcount_updates',\n",
       " 'title_wordcount_upstream',\n",
       " 'title_wordcount_use',\n",
       " 'title_wordcount_workflow',\n",
       " 'title_wordcount_yml']"
      ]
     },
     "execution_count": 81,
     "metadata": {},
     "output_type": "execute_result"
    }
   ],
   "source": [
    "selected_features"
   ]
  },
  {
   "cell_type": "markdown",
   "id": "ddda4924",
   "metadata": {},
   "source": [
    "## Save Feature Engineered Dataset"
   ]
  },
  {
   "cell_type": "code",
   "execution_count": 82,
   "id": "894941f7-9815-44af-867a-9e206502cd7a",
   "metadata": {
    "execution": {
     "iopub.execute_input": "2023-02-03T12:58:36.786640Z",
     "iopub.status.busy": "2023-02-03T12:58:36.786105Z",
     "iopub.status.idle": "2023-02-03T12:58:36.803141Z",
     "shell.execute_reply": "2023-02-03T12:58:36.802587Z"
    }
   },
   "outputs": [
    {
     "data": {
      "text/html": [
       "<div>\n",
       "<style scoped>\n",
       "    .dataframe tbody tr th:only-of-type {\n",
       "        vertical-align: middle;\n",
       "    }\n",
       "\n",
       "    .dataframe tbody tr th {\n",
       "        vertical-align: top;\n",
       "    }\n",
       "\n",
       "    .dataframe thead th {\n",
       "        text-align: right;\n",
       "    }\n",
       "</style>\n",
       "<table border=\"1\" class=\"dataframe\">\n",
       "  <thead>\n",
       "    <tr style=\"text-align: right;\">\n",
       "      <th></th>\n",
       "      <th>size</th>\n",
       "      <th>created_at_day</th>\n",
       "      <th>created_at_month</th>\n",
       "      <th>created_at_weekday</th>\n",
       "      <th>created_at_hour</th>\n",
       "      <th>changed_files_number</th>\n",
       "      <th>body_size</th>\n",
       "      <th>commits_number</th>\n",
       "      <th>filetype_.ipynb</th>\n",
       "      <th>filetype_.yaml</th>\n",
       "      <th>...</th>\n",
       "      <th>title_wordcount_training</th>\n",
       "      <th>title_wordcount_trigger</th>\n",
       "      <th>title_wordcount_update</th>\n",
       "      <th>title_wordcount_updates</th>\n",
       "      <th>title_wordcount_upstream</th>\n",
       "      <th>title_wordcount_use</th>\n",
       "      <th>title_wordcount_workflow</th>\n",
       "      <th>title_wordcount_yml</th>\n",
       "      <th>ttm_class</th>\n",
       "      <th>time_to_merge</th>\n",
       "    </tr>\n",
       "  </thead>\n",
       "  <tbody>\n",
       "    <tr>\n",
       "      <th>0</th>\n",
       "      <td>0</td>\n",
       "      <td>27</td>\n",
       "      <td>1</td>\n",
       "      <td>4</td>\n",
       "      <td>19</td>\n",
       "      <td>1</td>\n",
       "      <td>1</td>\n",
       "      <td>1</td>\n",
       "      <td>0</td>\n",
       "      <td>0</td>\n",
       "      <td>...</td>\n",
       "      <td>0</td>\n",
       "      <td>0</td>\n",
       "      <td>0</td>\n",
       "      <td>0</td>\n",
       "      <td>0</td>\n",
       "      <td>0</td>\n",
       "      <td>0</td>\n",
       "      <td>0</td>\n",
       "      <td>8</td>\n",
       "      <td>242379.0</td>\n",
       "    </tr>\n",
       "    <tr>\n",
       "      <th>1</th>\n",
       "      <td>2</td>\n",
       "      <td>27</td>\n",
       "      <td>1</td>\n",
       "      <td>4</td>\n",
       "      <td>16</td>\n",
       "      <td>1</td>\n",
       "      <td>22</td>\n",
       "      <td>1</td>\n",
       "      <td>1</td>\n",
       "      <td>0</td>\n",
       "      <td>...</td>\n",
       "      <td>0</td>\n",
       "      <td>0</td>\n",
       "      <td>0</td>\n",
       "      <td>0</td>\n",
       "      <td>0</td>\n",
       "      <td>0</td>\n",
       "      <td>0</td>\n",
       "      <td>0</td>\n",
       "      <td>5</td>\n",
       "      <td>8554.0</td>\n",
       "    </tr>\n",
       "    <tr>\n",
       "      <th>2</th>\n",
       "      <td>3</td>\n",
       "      <td>12</td>\n",
       "      <td>1</td>\n",
       "      <td>3</td>\n",
       "      <td>19</td>\n",
       "      <td>2</td>\n",
       "      <td>25</td>\n",
       "      <td>1</td>\n",
       "      <td>1</td>\n",
       "      <td>0</td>\n",
       "      <td>...</td>\n",
       "      <td>0</td>\n",
       "      <td>0</td>\n",
       "      <td>0</td>\n",
       "      <td>0</td>\n",
       "      <td>0</td>\n",
       "      <td>0</td>\n",
       "      <td>0</td>\n",
       "      <td>0</td>\n",
       "      <td>9</td>\n",
       "      <td>502425.0</td>\n",
       "    </tr>\n",
       "    <tr>\n",
       "      <th>3</th>\n",
       "      <td>2</td>\n",
       "      <td>10</td>\n",
       "      <td>1</td>\n",
       "      <td>1</td>\n",
       "      <td>19</td>\n",
       "      <td>1</td>\n",
       "      <td>18</td>\n",
       "      <td>2</td>\n",
       "      <td>0</td>\n",
       "      <td>0</td>\n",
       "      <td>...</td>\n",
       "      <td>0</td>\n",
       "      <td>0</td>\n",
       "      <td>0</td>\n",
       "      <td>0</td>\n",
       "      <td>0</td>\n",
       "      <td>0</td>\n",
       "      <td>0</td>\n",
       "      <td>0</td>\n",
       "      <td>7</td>\n",
       "      <td>87972.0</td>\n",
       "    </tr>\n",
       "    <tr>\n",
       "      <th>4</th>\n",
       "      <td>2</td>\n",
       "      <td>8</td>\n",
       "      <td>12</td>\n",
       "      <td>3</td>\n",
       "      <td>19</td>\n",
       "      <td>1</td>\n",
       "      <td>12</td>\n",
       "      <td>12</td>\n",
       "      <td>0</td>\n",
       "      <td>0</td>\n",
       "      <td>...</td>\n",
       "      <td>0</td>\n",
       "      <td>0</td>\n",
       "      <td>0</td>\n",
       "      <td>1</td>\n",
       "      <td>0</td>\n",
       "      <td>0</td>\n",
       "      <td>0</td>\n",
       "      <td>0</td>\n",
       "      <td>7</td>\n",
       "      <td>88801.0</td>\n",
       "    </tr>\n",
       "  </tbody>\n",
       "</table>\n",
       "<p>5 rows × 78 columns</p>\n",
       "</div>"
      ],
      "text/plain": [
       "   size  created_at_day  created_at_month  created_at_weekday  \\\n",
       "0     0              27                 1                   4   \n",
       "1     2              27                 1                   4   \n",
       "2     3              12                 1                   3   \n",
       "3     2              10                 1                   1   \n",
       "4     2               8                12                   3   \n",
       "\n",
       "   created_at_hour  changed_files_number  body_size  commits_number  \\\n",
       "0               19                     1          1               1   \n",
       "1               16                     1         22               1   \n",
       "2               19                     2         25               1   \n",
       "3               19                     1         18               2   \n",
       "4               19                     1         12              12   \n",
       "\n",
       "   filetype_.ipynb  filetype_.yaml  ...  title_wordcount_training  \\\n",
       "0                0               0  ...                         0   \n",
       "1                1               0  ...                         0   \n",
       "2                1               0  ...                         0   \n",
       "3                0               0  ...                         0   \n",
       "4                0               0  ...                         0   \n",
       "\n",
       "   title_wordcount_trigger  title_wordcount_update  title_wordcount_updates  \\\n",
       "0                        0                       0                        0   \n",
       "1                        0                       0                        0   \n",
       "2                        0                       0                        0   \n",
       "3                        0                       0                        0   \n",
       "4                        0                       0                        1   \n",
       "\n",
       "   title_wordcount_upstream  title_wordcount_use  title_wordcount_workflow  \\\n",
       "0                         0                    0                         0   \n",
       "1                         0                    0                         0   \n",
       "2                         0                    0                         0   \n",
       "3                         0                    0                         0   \n",
       "4                         0                    0                         0   \n",
       "\n",
       "   title_wordcount_yml  ttm_class  time_to_merge  \n",
       "0                    0          8       242379.0  \n",
       "1                    0          5         8554.0  \n",
       "2                    0          9       502425.0  \n",
       "3                    0          7        87972.0  \n",
       "4                    0          7        88801.0  \n",
       "\n",
       "[5 rows x 78 columns]"
      ]
     },
     "execution_count": 82,
     "metadata": {},
     "output_type": "execute_result"
    }
   ],
   "source": [
    "# join all types of features\n",
    "ttm_dataset = pd.concat(\n",
    "    [feature_df, filetype_df, title_wordcount_df], axis=1, ignore_index=False\n",
    ")\n",
    "\n",
    "# keep only the selected features and the prediction label\n",
    "ttm_dataset = ttm_dataset[selected_features + [\"ttm_class\", \"time_to_merge\"]]\n",
    "\n",
    "ttm_dataset.head()"
   ]
  },
  {
   "cell_type": "code",
   "execution_count": 83,
   "id": "4fd9e422-eaf1-4c80-9375-5d71ac985171",
   "metadata": {
    "execution": {
     "iopub.execute_input": "2023-02-03T12:58:36.806251Z",
     "iopub.status.busy": "2023-02-03T12:58:36.805719Z",
     "iopub.status.idle": "2023-02-03T12:58:36.818790Z",
     "shell.execute_reply": "2023-02-03T12:58:36.818107Z"
    }
   },
   "outputs": [
    {
     "name": "stdout",
     "output_type": "stream",
     "text": [
      "<class 'pandas.core.frame.DataFrame'>\n",
      "RangeIndex: 32 entries, 0 to 31\n",
      "Data columns (total 78 columns):\n",
      " #   Column                         Non-Null Count  Dtype  \n",
      "---  ------                         --------------  -----  \n",
      " 0   size                           32 non-null     int64  \n",
      " 1   created_at_day                 32 non-null     int64  \n",
      " 2   created_at_month               32 non-null     int64  \n",
      " 3   created_at_weekday             32 non-null     int64  \n",
      " 4   created_at_hour                32 non-null     int64  \n",
      " 5   changed_files_number           32 non-null     int64  \n",
      " 6   body_size                      32 non-null     int64  \n",
      " 7   commits_number                 32 non-null     int64  \n",
      " 8   filetype_.ipynb                32 non-null     int64  \n",
      " 9   filetype_.yaml                 32 non-null     int64  \n",
      " 10  filetype_.py                   32 non-null     int64  \n",
      " 11  filetype_.yml                  32 non-null     int64  \n",
      " 12  filetype_.sh                   32 non-null     int64  \n",
      " 13  filetype_.md                   32 non-null     int64  \n",
      " 14  filetype_.txt                  32 non-null     int64  \n",
      " 15  filetype_LICENSE               32 non-null     int64  \n",
      " 16  filetype_Dockerfile            32 non-null     int64  \n",
      " 17  filetype_Containerfile         32 non-null     int64  \n",
      " 18  title_wordcount_action         32 non-null     int64  \n",
      " 19  title_wordcount_add            32 non-null     int64  \n",
      " 20  title_wordcount_adding         32 non-null     int64  \n",
      " 21  title_wordcount_api            32 non-null     int64  \n",
      " 22  title_wordcount_basic          32 non-null     int64  \n",
      " 23  title_wordcount_best           32 non-null     int64  \n",
      " 24  title_wordcount_branding       32 non-null     int64  \n",
      " 25  title_wordcount_callingprs     32 non-null     int64  \n",
      " 26  title_wordcount_changed        32 non-null     int64  \n",
      " 27  title_wordcount_choose         32 non-null     int64  \n",
      " 28  title_wordcount_clean          32 non-null     int64  \n",
      " 29  title_wordcount_cleanup        32 non-null     int64  \n",
      " 30  title_wordcount_comment        32 non-null     int64  \n",
      " 31  title_wordcount_condition      32 non-null     int64  \n",
      " 32  title_wordcount_data           32 non-null     int64  \n",
      " 33  title_wordcount_docs           32 non-null     int64  \n",
      " 34  title_wordcount_documentation  32 non-null     int64  \n",
      " 35  title_wordcount_download       32 non-null     int64  \n",
      " 36  title_wordcount_engineering    32 non-null     int64  \n",
      " 37  title_wordcount_entrypoint     32 non-null     int64  \n",
      " 38  title_wordcount_error          32 non-null     int64  \n",
      " 39  title_wordcount_feature        32 non-null     int64  \n",
      " 40  title_wordcount_fix            32 non-null     int64  \n",
      " 41  title_wordcount_fixed          32 non-null     int64  \n",
      " 42  title_wordcount_functionality  32 non-null     int64  \n",
      " 43  title_wordcount_github         32 non-null     int64  \n",
      " 44  title_wordcount_improve        32 non-null     int64  \n",
      " 45  title_wordcount_inputs         32 non-null     int64  \n",
      " 46  title_wordcount_merge          32 non-null     int64  \n",
      " 47  title_wordcount_messaging      32 non-null     int64  \n",
      " 48  title_wordcount_mode           32 non-null     int64  \n",
      " 49  title_wordcount_model          32 non-null     int64  \n",
      " 50  title_wordcount_modes          32 non-null     int64  \n",
      " 51  title_wordcount_notebook       32 non-null     int64  \n",
      " 52  title_wordcount_notebook3      32 non-null     int64  \n",
      " 53  title_wordcount_optimization   32 non-null     int64  \n",
      " 54  title_wordcount_pr             32 non-null     int64  \n",
      " 55  title_wordcount_pre            32 non-null     int64  \n",
      " 56  title_wordcount_prs            32 non-null     int64  \n",
      " 57  title_wordcount_publishing     32 non-null     int64  \n",
      " 58  title_wordcount_pygithub       32 non-null     int64  \n",
      " 59  title_wordcount_rate           32 non-null     int64  \n",
      " 60  title_wordcount_refactored     32 non-null     int64  \n",
      " 61  title_wordcount_sample         32 non-null     int64  \n",
      " 62  title_wordcount_sh             32 non-null     int64  \n",
      " 63  title_wordcount_size           32 non-null     int64  \n",
      " 64  title_wordcount_srcopsmetrics  32 non-null     int64  \n",
      " 65  title_wordcount_test           32 non-null     int64  \n",
      " 66  title_wordcount_testing        32 non-null     int64  \n",
      " 67  title_wordcount_train          32 non-null     int64  \n",
      " 68  title_wordcount_training       32 non-null     int64  \n",
      " 69  title_wordcount_trigger        32 non-null     int64  \n",
      " 70  title_wordcount_update         32 non-null     int64  \n",
      " 71  title_wordcount_updates        32 non-null     int64  \n",
      " 72  title_wordcount_upstream       32 non-null     int64  \n",
      " 73  title_wordcount_use            32 non-null     int64  \n",
      " 74  title_wordcount_workflow       32 non-null     int64  \n",
      " 75  title_wordcount_yml            32 non-null     int64  \n",
      " 76  ttm_class                      32 non-null     int64  \n",
      " 77  time_to_merge                  25 non-null     float64\n",
      "dtypes: float64(1), int64(77)\n",
      "memory usage: 19.6 KB\n"
     ]
    }
   ],
   "source": [
    "ttm_dataset.info()"
   ]
  },
  {
   "cell_type": "markdown",
   "id": "4a949795",
   "metadata": {},
   "source": [
    "## Save results to Ceph or locally\n",
    "\n",
    "Using the helper function to save the data frame in a parquet format on the Ceph bucket if we are running in automation, and locally if not."
   ]
  },
  {
   "cell_type": "code",
   "execution_count": 84,
   "id": "ecd03940-1b27-4472-ae97-469a4ad8a25a",
   "metadata": {
    "execution": {
     "iopub.execute_input": "2023-02-03T12:58:36.822158Z",
     "iopub.status.busy": "2023-02-03T12:58:36.821618Z",
     "iopub.status.idle": "2023-02-03T12:58:36.825948Z",
     "shell.execute_reply": "2023-02-03T12:58:36.825365Z"
    }
   },
   "outputs": [],
   "source": [
    "TTM_DATASET_PATH = os.path.join(s3_input_data_path, ORG, REPO)"
   ]
  },
  {
   "cell_type": "code",
   "execution_count": 85,
   "id": "adfdfb1b",
   "metadata": {
    "execution": {
     "iopub.execute_input": "2023-02-03T12:58:36.828977Z",
     "iopub.status.busy": "2023-02-03T12:58:36.828391Z",
     "iopub.status.idle": "2023-02-03T12:58:38.142558Z",
     "shell.execute_reply": "2023-02-03T12:58:38.141785Z"
    }
   },
   "outputs": [],
   "source": [
    "## Sanity check to see if the dataset is the same\n",
    "\n",
    "try:\n",
    "    cc.upload_to_ceph(\n",
    "        ttm_dataset,\n",
    "        TTM_DATASET_PATH,\n",
    "        \"ttm_feature_engineered_dataset.parquet\",\n",
    "    )\n",
    "except ValueError as ve:\n",
    "    print(ve)\n",
    "    print(\"Files already uploaded to S3\")"
   ]
  },
  {
   "cell_type": "markdown",
   "id": "165910c8",
   "metadata": {},
   "source": [
    "# Conclusion\n",
    "\n",
    "This notebook walked through how to access saved raw Pull Requests data from the previous data collection notebook and we engineered some possible features which can be used to predict time to merge of a PR. \n",
    "\n",
    "The features we engineered are as following:\n",
    "\n",
    "- time_to_merge: time taken to merge a PR in seconds, this is feature we will try to predict\n",
    "- changed_files_number: integer indicating the number of files changed, this is an available column\n",
    "- body_size: integer indicating the number of words in the body of the PR, derived from body\n",
    "- size: integer corresponding to a categorical label generated by GitHub which summarizes the size of the changes made to the code base \n",
    "- title_word_counts_vec: vector or list indicating how many times each word appeared in the title\n",
    "- created_at_day: categorical variable indicating the day of month the PR has been created, derived from created_at\n",
    "- created_at_month: categorical variable indicating the month of the year that the PR has been created, derived from created_at\n",
    "- created_at_weekday: categorical variable indicating the day of the week the PR has been created, derived from created_at\n",
    "- created_at_hour: categorical variable indicating the hour of the day the PR has been created, derived from created_at\n",
    "- commits_number: integer indicating the number of commits in the PR\n",
    "- changed_file_type_vec:  vector or list consisting of number of files changed for the top 100 most frequently occurring data types, derived from changed_files\n",
    "\n",
    "\n",
    "# Next Step\n",
    "\n",
    "In the next [notebook](./03_model_training.ipynb), we will train a classifier to predict time to merge of a PR using the features."
   ]
  }
 ],
 "metadata": {
  "kernelspec": {
   "display_name": "Python 3 (ipykernel)",
   "language": "python",
   "name": "python3"
  },
  "language_info": {
   "codemirror_mode": {
    "name": "ipython",
    "version": 3
   },
   "file_extension": ".py",
   "mimetype": "text/x-python",
   "name": "python",
   "nbconvert_exporter": "python",
   "pygments_lexer": "ipython3",
   "version": "3.8.8"
  }
 },
 "nbformat": 4,
 "nbformat_minor": 5
}
